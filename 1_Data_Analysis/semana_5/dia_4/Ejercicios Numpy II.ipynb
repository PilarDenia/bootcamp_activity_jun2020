{
 "cells": [
  {
   "cell_type": "markdown",
   "metadata": {},
   "source": [
    "![imagen](../../imagenes/ejercicios.png)"
   ]
  },
  {
   "cell_type": "markdown",
   "metadata": {},
   "source": [
    "## Ejercicio 1\n",
    "Importa `numpy` y obtén la documentación acerca de la función `concatenate`"
   ]
  },
  {
   "cell_type": "code",
   "execution_count": 3,
   "metadata": {
    "tags": []
   },
   "outputs": [
    {
     "output_type": "stream",
     "name": "stdout",
     "text": "\n    concatenate((a1, a2, ...), axis=0, out=None)\n\n    Join a sequence of arrays along an existing axis.\n\n    Parameters\n    ----------\n    a1, a2, ... : sequence of array_like\n        The arrays must have the same shape, except in the dimension\n        corresponding to `axis` (the first, by default).\n    axis : int, optional\n        The axis along which the arrays will be joined.  If axis is None,\n        arrays are flattened before use.  Default is 0.\n    out : ndarray, optional\n        If provided, the destination to place the result. The shape must be\n        correct, matching that of what concatenate would have returned if no\n        out argument were specified.\n\n    Returns\n    -------\n    res : ndarray\n        The concatenated array.\n\n    See Also\n    --------\n    ma.concatenate : Concatenate function that preserves input masks.\n    array_split : Split an array into multiple sub-arrays of equal or\n                  near-equal size.\n    split : Split array into a list of multiple sub-arrays of equal size.\n    hsplit : Split array into multiple sub-arrays horizontally (column wise)\n    vsplit : Split array into multiple sub-arrays vertically (row wise)\n    dsplit : Split array into multiple sub-arrays along the 3rd axis (depth).\n    stack : Stack a sequence of arrays along a new axis.\n    hstack : Stack arrays in sequence horizontally (column wise)\n    vstack : Stack arrays in sequence vertically (row wise)\n    dstack : Stack arrays in sequence depth wise (along third dimension)\n    block : Assemble arrays from blocks.\n\n    Notes\n    -----\n    When one or more of the arrays to be concatenated is a MaskedArray,\n    this function will return a MaskedArray object instead of an ndarray,\n    but the input masks are *not* preserved. In cases where a MaskedArray\n    is expected as input, use the ma.concatenate function from the masked\n    array module instead.\n\n    Examples\n    --------\n    >>> a = np.array([[1, 2], [3, 4]])\n    >>> b = np.array([[5, 6]])\n    >>> np.concatenate((a, b), axis=0)\n    array([[1, 2],\n           [3, 4],\n           [5, 6]])\n    >>> np.concatenate((a, b.T), axis=1)\n    array([[1, 2, 5],\n           [3, 4, 6]])\n    >>> np.concatenate((a, b), axis=None)\n    array([1, 2, 3, 4, 5, 6])\n\n    This function will not preserve masking of MaskedArray inputs.\n\n    >>> a = np.ma.arange(3)\n    >>> a[1] = np.ma.masked\n    >>> b = np.arange(2, 5)\n    >>> a\n    masked_array(data=[0, --, 2],\n                 mask=[False,  True, False],\n           fill_value=999999)\n    >>> b\n    array([2, 3, 4])\n    >>> np.concatenate([a, b])\n    masked_array(data=[0, 1, 2, 2, 3, 4],\n                 mask=False,\n           fill_value=999999)\n    >>> np.ma.concatenate([a, b])\n    masked_array(data=[0, --, 2, 2, 3, 4],\n                 mask=[False,  True, False, False, False, False],\n           fill_value=999999)\n\n    \n"
    }
   ],
   "source": [
    "import numpy as np \n",
    "print(np.concatenate.__doc__)"
   ]
  },
  {
   "cell_type": "markdown",
   "metadata": {},
   "source": [
    "## Ejercicio 2\n",
    "Crea un array unidimensional que vaya del 0 al 9. Llámalo `my_array`. \n",
    "1. Multiplica cada uno de los elementos de `my_array` por 10, en un nuevo array\n",
    "2. Accede al primer elemento del array\n",
    "3. Accede al último elemento del array\n",
    "4. Imprime por pantalla los numeros del 1 al 7"
   ]
  },
  {
   "cell_type": "code",
   "execution_count": 11,
   "metadata": {},
   "outputs": [
    {
     "output_type": "execute_result",
     "data": {
      "text/plain": "array([ 0, 10, 20, 30, 40, 50, 60, 70, 80, 90])"
     },
     "metadata": {},
     "execution_count": 11
    }
   ],
   "source": [
    "my_array = np.arange(10)\n",
    "my_array * 10"
   ]
  },
  {
   "cell_type": "code",
   "execution_count": 12,
   "metadata": {},
   "outputs": [
    {
     "output_type": "execute_result",
     "data": {
      "text/plain": "0"
     },
     "metadata": {},
     "execution_count": 12
    }
   ],
   "source": [
    "my_array[0]"
   ]
  },
  {
   "cell_type": "code",
   "execution_count": 14,
   "metadata": {},
   "outputs": [
    {
     "output_type": "execute_result",
     "data": {
      "text/plain": "9"
     },
     "metadata": {},
     "execution_count": 14
    }
   ],
   "source": [
    "my_array[-1]"
   ]
  },
  {
   "cell_type": "code",
   "execution_count": 15,
   "metadata": {},
   "outputs": [
    {
     "output_type": "execute_result",
     "data": {
      "text/plain": "array([1, 2, 3, 4, 5, 6, 7])"
     },
     "metadata": {},
     "execution_count": 15
    }
   ],
   "source": [
    "#Imprime por pantalla los numeros del 1 al 7\n",
    "my_array[1:8]"
   ]
  },
  {
   "cell_type": "markdown",
   "metadata": {},
   "source": [
    "## Ejercicio 3\n",
    "Crea un array manualmente de tres filas por tres columnas. Llámalo `my_matrix`"
   ]
  },
  {
   "cell_type": "code",
   "execution_count": 19,
   "metadata": {},
   "outputs": [
    {
     "output_type": "execute_result",
     "data": {
      "text/plain": "array([[1, 2, 3],\n       [3, 4, 5],\n       [5, 6, 7]])"
     },
     "metadata": {},
     "execution_count": 19
    }
   ],
   "source": [
    "my_matrix = np.array([[1,2,3],[3,4,5],[5,6,7]])\n",
    "my_matrix"
   ]
  },
  {
   "cell_type": "markdown",
   "metadata": {},
   "source": [
    "## Ejercicio 4\n",
    "Obtén la siguiente secuencia:\n",
    "\n",
    "```Python\n",
    "[ 1,  4,  7, 10, 13, 16, 19, 22, 25, 28, 31, 34, 37, 40, 43, 46, 49]\n",
    "```\n"
   ]
  },
  {
   "cell_type": "code",
   "execution_count": 21,
   "metadata": {},
   "outputs": [
    {
     "output_type": "execute_result",
     "data": {
      "text/plain": "array([ 1,  4,  7, 10, 13, 16, 19, 22, 25, 28, 31, 34, 37, 40, 43, 46, 49])"
     },
     "metadata": {},
     "execution_count": 21
    }
   ],
   "source": [
    "np.arange(1,50,3)"
   ]
  },
  {
   "cell_type": "markdown",
   "metadata": {},
   "source": [
    "## Ejercicio 5\n",
    "Obtén la siguiente secuencia\n",
    "\n",
    "```Python\n",
    "[4., 3.75, 3.5 , 3.25, 3.  , 2.75, 2.5 , 2.25, 2., 1.75, 1.5 ,1.25]\n",
    "```"
   ]
  },
  {
   "cell_type": "code",
   "execution_count": 22,
   "metadata": {},
   "outputs": [
    {
     "output_type": "execute_result",
     "data": {
      "text/plain": "array([4.  , 3.75, 3.5 , 3.25, 3.  , 2.75, 2.5 , 2.25, 2.  , 1.75, 1.5 ,\n       1.25])"
     },
     "metadata": {},
     "execution_count": 22
    }
   ],
   "source": [
    "np.arange(4,1,-0.25)"
   ]
  },
  {
   "cell_type": "markdown",
   "metadata": {},
   "source": [
    "## Ejercicio 6\n",
    "Lee la imagen \"numpy.png\""
   ]
  },
  {
   "cell_type": "code",
   "execution_count": 29,
   "metadata": {
    "tags": []
   },
   "outputs": [
    {
     "output_type": "stream",
     "name": "stdout",
     "text": "[[[0 0 0 0]\n  [0 0 0 0]\n  [0 0 0 0]\n  ...\n  [0 0 0 0]\n  [0 0 0 0]\n  [0 0 0 0]]\n\n [[0 0 0 0]\n  [0 0 0 0]\n  [0 0 0 0]\n  ...\n  [0 0 0 0]\n  [0 0 0 0]\n  [0 0 0 0]]\n\n [[0 0 0 0]\n  [0 0 0 0]\n  [0 0 0 0]\n  ...\n  [0 0 0 0]\n  [0 0 0 0]\n  [0 0 0 0]]\n\n ...\n\n [[0 0 0 0]\n  [0 0 0 0]\n  [0 0 0 0]\n  ...\n  [0 0 0 0]\n  [0 0 0 0]\n  [0 0 0 0]]\n\n [[0 0 0 0]\n  [0 0 0 0]\n  [0 0 0 0]\n  ...\n  [0 0 0 0]\n  [0 0 0 0]\n  [0 0 0 0]]\n\n [[0 0 0 0]\n  [0 0 0 0]\n  [0 0 0 0]\n  ...\n  [0 0 0 0]\n  [0 0 0 0]\n  [0 0 0 0]]]\n<class 'imageio.core.util.Array'>\n(306, 765, 4)\n"
    },
    {
     "output_type": "execute_result",
     "data": {
      "text/plain": "<matplotlib.image.AxesImage at 0x1a4321a8248>"
     },
     "metadata": {},
     "execution_count": 29
    },
    {
     "output_type": "display_data",
     "data": {
      "text/plain": "<Figure size 432x288 with 1 Axes>",
      "image/svg+xml": "<?xml version=\"1.0\" encoding=\"utf-8\" standalone=\"no\"?>\r\n<!DOCTYPE svg PUBLIC \"-//W3C//DTD SVG 1.1//EN\"\r\n  \"http://www.w3.org/Graphics/SVG/1.1/DTD/svg11.dtd\">\r\n<!-- Created with matplotlib (https://matplotlib.org/) -->\r\n<svg height=\"168.57852pt\" version=\"1.1\" viewBox=\"0 0 375.2875 168.57852\" width=\"375.2875pt\" xmlns=\"http://www.w3.org/2000/svg\" xmlns:xlink=\"http://www.w3.org/1999/xlink\">\r\n <defs>\r\n  <style type=\"text/css\">\r\n*{stroke-linecap:butt;stroke-linejoin:round;}\r\n  </style>\r\n </defs>\r\n <g id=\"figure_1\">\r\n  <g id=\"patch_1\">\r\n   <path d=\"M 0 168.57852 \r\nL 375.2875 168.57852 \r\nL 375.2875 0 \r\nL 0 0 \r\nz\r\n\" style=\"fill:none;\"/>\r\n  </g>\r\n  <g id=\"axes_1\">\r\n   <g id=\"patch_2\">\r\n    <path d=\"M 33.2875 144.700395 \r\nL 368.0875 144.700395 \r\nL 368.0875 10.780395 \r\nL 33.2875 10.780395 \r\nz\r\n\" style=\"fill:#ffffff;\"/>\r\n   </g>\r\n   <g clip-path=\"url(#pd87e3cf851)\">\r\n    <image height=\"134\" id=\"imagefbeabcf02d\" transform=\"scale(1 -1)translate(0 -134)\" width=\"335\" x=\"33.2875\" xlink:href=\"data:image/png;base64,\r\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\" y=\"-10.700395\"/>\r\n   </g>\r\n   <g id=\"matplotlib.axis_1\">\r\n    <g id=\"xtick_1\">\r\n     <g id=\"line2d_1\">\r\n      <defs>\r\n       <path d=\"M 0 0 \r\nL 0 3.5 \r\n\" id=\"m1f6f6894ec\" style=\"stroke:#000000;stroke-width:0.8;\"/>\r\n      </defs>\r\n      <g>\r\n       <use style=\"stroke:#000000;stroke-width:0.8;\" x=\"33.506324\" xlink:href=\"#m1f6f6894ec\" y=\"144.700395\"/>\r\n      </g>\r\n     </g>\r\n     <g id=\"text_1\">\r\n      <!-- 0 -->\r\n      <defs>\r\n       <path d=\"M 31.78125 66.40625 \r\nQ 24.171875 66.40625 20.328125 58.90625 \r\nQ 16.5 51.421875 16.5 36.375 \r\nQ 16.5 21.390625 20.328125 13.890625 \r\nQ 24.171875 6.390625 31.78125 6.390625 \r\nQ 39.453125 6.390625 43.28125 13.890625 \r\nQ 47.125 21.390625 47.125 36.375 \r\nQ 47.125 51.421875 43.28125 58.90625 \r\nQ 39.453125 66.40625 31.78125 66.40625 \r\nz\r\nM 31.78125 74.21875 \r\nQ 44.046875 74.21875 50.515625 64.515625 \r\nQ 56.984375 54.828125 56.984375 36.375 \r\nQ 56.984375 17.96875 50.515625 8.265625 \r\nQ 44.046875 -1.421875 31.78125 -1.421875 \r\nQ 19.53125 -1.421875 13.0625 8.265625 \r\nQ 6.59375 17.96875 6.59375 36.375 \r\nQ 6.59375 54.828125 13.0625 64.515625 \r\nQ 19.53125 74.21875 31.78125 74.21875 \r\nz\r\n\" id=\"DejaVuSans-48\"/>\r\n      </defs>\r\n      <g transform=\"translate(30.325074 159.298833)scale(0.1 -0.1)\">\r\n       <use xlink:href=\"#DejaVuSans-48\"/>\r\n      </g>\r\n     </g>\r\n    </g>\r\n    <g id=\"xtick_2\">\r\n     <g id=\"line2d_2\">\r\n      <g>\r\n       <use style=\"stroke:#000000;stroke-width:0.8;\" x=\"77.271029\" xlink:href=\"#m1f6f6894ec\" y=\"144.700395\"/>\r\n      </g>\r\n     </g>\r\n     <g id=\"text_2\">\r\n      <!-- 100 -->\r\n      <defs>\r\n       <path d=\"M 12.40625 8.296875 \r\nL 28.515625 8.296875 \r\nL 28.515625 63.921875 \r\nL 10.984375 60.40625 \r\nL 10.984375 69.390625 \r\nL 28.421875 72.90625 \r\nL 38.28125 72.90625 \r\nL 38.28125 8.296875 \r\nL 54.390625 8.296875 \r\nL 54.390625 0 \r\nL 12.40625 0 \r\nz\r\n\" id=\"DejaVuSans-49\"/>\r\n      </defs>\r\n      <g transform=\"translate(67.727279 159.298833)scale(0.1 -0.1)\">\r\n       <use xlink:href=\"#DejaVuSans-49\"/>\r\n       <use x=\"63.623047\" xlink:href=\"#DejaVuSans-48\"/>\r\n       <use x=\"127.246094\" xlink:href=\"#DejaVuSans-48\"/>\r\n      </g>\r\n     </g>\r\n    </g>\r\n    <g id=\"xtick_3\">\r\n     <g id=\"line2d_3\">\r\n      <g>\r\n       <use style=\"stroke:#000000;stroke-width:0.8;\" x=\"121.035735\" xlink:href=\"#m1f6f6894ec\" y=\"144.700395\"/>\r\n      </g>\r\n     </g>\r\n     <g id=\"text_3\">\r\n      <!-- 200 -->\r\n      <defs>\r\n       <path d=\"M 19.1875 8.296875 \r\nL 53.609375 8.296875 \r\nL 53.609375 0 \r\nL 7.328125 0 \r\nL 7.328125 8.296875 \r\nQ 12.9375 14.109375 22.625 23.890625 \r\nQ 32.328125 33.6875 34.8125 36.53125 \r\nQ 39.546875 41.84375 41.421875 45.53125 \r\nQ 43.3125 49.21875 43.3125 52.78125 \r\nQ 43.3125 58.59375 39.234375 62.25 \r\nQ 35.15625 65.921875 28.609375 65.921875 \r\nQ 23.96875 65.921875 18.8125 64.3125 \r\nQ 13.671875 62.703125 7.8125 59.421875 \r\nL 7.8125 69.390625 \r\nQ 13.765625 71.78125 18.9375 73 \r\nQ 24.125 74.21875 28.421875 74.21875 \r\nQ 39.75 74.21875 46.484375 68.546875 \r\nQ 53.21875 62.890625 53.21875 53.421875 \r\nQ 53.21875 48.921875 51.53125 44.890625 \r\nQ 49.859375 40.875 45.40625 35.40625 \r\nQ 44.1875 33.984375 37.640625 27.21875 \r\nQ 31.109375 20.453125 19.1875 8.296875 \r\nz\r\n\" id=\"DejaVuSans-50\"/>\r\n      </defs>\r\n      <g transform=\"translate(111.491985 159.298833)scale(0.1 -0.1)\">\r\n       <use xlink:href=\"#DejaVuSans-50\"/>\r\n       <use x=\"63.623047\" xlink:href=\"#DejaVuSans-48\"/>\r\n       <use x=\"127.246094\" xlink:href=\"#DejaVuSans-48\"/>\r\n      </g>\r\n     </g>\r\n    </g>\r\n    <g id=\"xtick_4\">\r\n     <g id=\"line2d_4\">\r\n      <g>\r\n       <use style=\"stroke:#000000;stroke-width:0.8;\" x=\"164.800441\" xlink:href=\"#m1f6f6894ec\" y=\"144.700395\"/>\r\n      </g>\r\n     </g>\r\n     <g id=\"text_4\">\r\n      <!-- 300 -->\r\n      <defs>\r\n       <path d=\"M 40.578125 39.3125 \r\nQ 47.65625 37.796875 51.625 33 \r\nQ 55.609375 28.21875 55.609375 21.1875 \r\nQ 55.609375 10.40625 48.1875 4.484375 \r\nQ 40.765625 -1.421875 27.09375 -1.421875 \r\nQ 22.515625 -1.421875 17.65625 -0.515625 \r\nQ 12.796875 0.390625 7.625 2.203125 \r\nL 7.625 11.71875 \r\nQ 11.71875 9.328125 16.59375 8.109375 \r\nQ 21.484375 6.890625 26.8125 6.890625 \r\nQ 36.078125 6.890625 40.9375 10.546875 \r\nQ 45.796875 14.203125 45.796875 21.1875 \r\nQ 45.796875 27.640625 41.28125 31.265625 \r\nQ 36.765625 34.90625 28.71875 34.90625 \r\nL 20.21875 34.90625 \r\nL 20.21875 43.015625 \r\nL 29.109375 43.015625 \r\nQ 36.375 43.015625 40.234375 45.921875 \r\nQ 44.09375 48.828125 44.09375 54.296875 \r\nQ 44.09375 59.90625 40.109375 62.90625 \r\nQ 36.140625 65.921875 28.71875 65.921875 \r\nQ 24.65625 65.921875 20.015625 65.03125 \r\nQ 15.375 64.15625 9.8125 62.3125 \r\nL 9.8125 71.09375 \r\nQ 15.4375 72.65625 20.34375 73.4375 \r\nQ 25.25 74.21875 29.59375 74.21875 \r\nQ 40.828125 74.21875 47.359375 69.109375 \r\nQ 53.90625 64.015625 53.90625 55.328125 \r\nQ 53.90625 49.265625 50.4375 45.09375 \r\nQ 46.96875 40.921875 40.578125 39.3125 \r\nz\r\n\" id=\"DejaVuSans-51\"/>\r\n      </defs>\r\n      <g transform=\"translate(155.256691 159.298833)scale(0.1 -0.1)\">\r\n       <use xlink:href=\"#DejaVuSans-51\"/>\r\n       <use x=\"63.623047\" xlink:href=\"#DejaVuSans-48\"/>\r\n       <use x=\"127.246094\" xlink:href=\"#DejaVuSans-48\"/>\r\n      </g>\r\n     </g>\r\n    </g>\r\n    <g id=\"xtick_5\">\r\n     <g id=\"line2d_5\">\r\n      <g>\r\n       <use style=\"stroke:#000000;stroke-width:0.8;\" x=\"208.565147\" xlink:href=\"#m1f6f6894ec\" y=\"144.700395\"/>\r\n      </g>\r\n     </g>\r\n     <g id=\"text_5\">\r\n      <!-- 400 -->\r\n      <defs>\r\n       <path d=\"M 37.796875 64.3125 \r\nL 12.890625 25.390625 \r\nL 37.796875 25.390625 \r\nz\r\nM 35.203125 72.90625 \r\nL 47.609375 72.90625 \r\nL 47.609375 25.390625 \r\nL 58.015625 25.390625 \r\nL 58.015625 17.1875 \r\nL 47.609375 17.1875 \r\nL 47.609375 0 \r\nL 37.796875 0 \r\nL 37.796875 17.1875 \r\nL 4.890625 17.1875 \r\nL 4.890625 26.703125 \r\nz\r\n\" id=\"DejaVuSans-52\"/>\r\n      </defs>\r\n      <g transform=\"translate(199.021397 159.298833)scale(0.1 -0.1)\">\r\n       <use xlink:href=\"#DejaVuSans-52\"/>\r\n       <use x=\"63.623047\" xlink:href=\"#DejaVuSans-48\"/>\r\n       <use x=\"127.246094\" xlink:href=\"#DejaVuSans-48\"/>\r\n      </g>\r\n     </g>\r\n    </g>\r\n    <g id=\"xtick_6\">\r\n     <g id=\"line2d_6\">\r\n      <g>\r\n       <use style=\"stroke:#000000;stroke-width:0.8;\" x=\"252.329853\" xlink:href=\"#m1f6f6894ec\" y=\"144.700395\"/>\r\n      </g>\r\n     </g>\r\n     <g id=\"text_6\">\r\n      <!-- 500 -->\r\n      <defs>\r\n       <path d=\"M 10.796875 72.90625 \r\nL 49.515625 72.90625 \r\nL 49.515625 64.59375 \r\nL 19.828125 64.59375 \r\nL 19.828125 46.734375 \r\nQ 21.96875 47.46875 24.109375 47.828125 \r\nQ 26.265625 48.1875 28.421875 48.1875 \r\nQ 40.625 48.1875 47.75 41.5 \r\nQ 54.890625 34.8125 54.890625 23.390625 \r\nQ 54.890625 11.625 47.5625 5.09375 \r\nQ 40.234375 -1.421875 26.90625 -1.421875 \r\nQ 22.3125 -1.421875 17.546875 -0.640625 \r\nQ 12.796875 0.140625 7.71875 1.703125 \r\nL 7.71875 11.625 \r\nQ 12.109375 9.234375 16.796875 8.0625 \r\nQ 21.484375 6.890625 26.703125 6.890625 \r\nQ 35.15625 6.890625 40.078125 11.328125 \r\nQ 45.015625 15.765625 45.015625 23.390625 \r\nQ 45.015625 31 40.078125 35.4375 \r\nQ 35.15625 39.890625 26.703125 39.890625 \r\nQ 22.75 39.890625 18.8125 39.015625 \r\nQ 14.890625 38.140625 10.796875 36.28125 \r\nz\r\n\" id=\"DejaVuSans-53\"/>\r\n      </defs>\r\n      <g transform=\"translate(242.786103 159.298833)scale(0.1 -0.1)\">\r\n       <use xlink:href=\"#DejaVuSans-53\"/>\r\n       <use x=\"63.623047\" xlink:href=\"#DejaVuSans-48\"/>\r\n       <use x=\"127.246094\" xlink:href=\"#DejaVuSans-48\"/>\r\n      </g>\r\n     </g>\r\n    </g>\r\n    <g id=\"xtick_7\">\r\n     <g id=\"line2d_7\">\r\n      <g>\r\n       <use style=\"stroke:#000000;stroke-width:0.8;\" x=\"296.094559\" xlink:href=\"#m1f6f6894ec\" y=\"144.700395\"/>\r\n      </g>\r\n     </g>\r\n     <g id=\"text_7\">\r\n      <!-- 600 -->\r\n      <defs>\r\n       <path d=\"M 33.015625 40.375 \r\nQ 26.375 40.375 22.484375 35.828125 \r\nQ 18.609375 31.296875 18.609375 23.390625 \r\nQ 18.609375 15.53125 22.484375 10.953125 \r\nQ 26.375 6.390625 33.015625 6.390625 \r\nQ 39.65625 6.390625 43.53125 10.953125 \r\nQ 47.40625 15.53125 47.40625 23.390625 \r\nQ 47.40625 31.296875 43.53125 35.828125 \r\nQ 39.65625 40.375 33.015625 40.375 \r\nz\r\nM 52.59375 71.296875 \r\nL 52.59375 62.3125 \r\nQ 48.875 64.0625 45.09375 64.984375 \r\nQ 41.3125 65.921875 37.59375 65.921875 \r\nQ 27.828125 65.921875 22.671875 59.328125 \r\nQ 17.53125 52.734375 16.796875 39.40625 \r\nQ 19.671875 43.65625 24.015625 45.921875 \r\nQ 28.375 48.1875 33.59375 48.1875 \r\nQ 44.578125 48.1875 50.953125 41.515625 \r\nQ 57.328125 34.859375 57.328125 23.390625 \r\nQ 57.328125 12.15625 50.6875 5.359375 \r\nQ 44.046875 -1.421875 33.015625 -1.421875 \r\nQ 20.359375 -1.421875 13.671875 8.265625 \r\nQ 6.984375 17.96875 6.984375 36.375 \r\nQ 6.984375 53.65625 15.1875 63.9375 \r\nQ 23.390625 74.21875 37.203125 74.21875 \r\nQ 40.921875 74.21875 44.703125 73.484375 \r\nQ 48.484375 72.75 52.59375 71.296875 \r\nz\r\n\" id=\"DejaVuSans-54\"/>\r\n      </defs>\r\n      <g transform=\"translate(286.550809 159.298833)scale(0.1 -0.1)\">\r\n       <use xlink:href=\"#DejaVuSans-54\"/>\r\n       <use x=\"63.623047\" xlink:href=\"#DejaVuSans-48\"/>\r\n       <use x=\"127.246094\" xlink:href=\"#DejaVuSans-48\"/>\r\n      </g>\r\n     </g>\r\n    </g>\r\n    <g id=\"xtick_8\">\r\n     <g id=\"line2d_8\">\r\n      <g>\r\n       <use style=\"stroke:#000000;stroke-width:0.8;\" x=\"339.859265\" xlink:href=\"#m1f6f6894ec\" y=\"144.700395\"/>\r\n      </g>\r\n     </g>\r\n     <g id=\"text_8\">\r\n      <!-- 700 -->\r\n      <defs>\r\n       <path d=\"M 8.203125 72.90625 \r\nL 55.078125 72.90625 \r\nL 55.078125 68.703125 \r\nL 28.609375 0 \r\nL 18.3125 0 \r\nL 43.21875 64.59375 \r\nL 8.203125 64.59375 \r\nz\r\n\" id=\"DejaVuSans-55\"/>\r\n      </defs>\r\n      <g transform=\"translate(330.315515 159.298833)scale(0.1 -0.1)\">\r\n       <use xlink:href=\"#DejaVuSans-55\"/>\r\n       <use x=\"63.623047\" xlink:href=\"#DejaVuSans-48\"/>\r\n       <use x=\"127.246094\" xlink:href=\"#DejaVuSans-48\"/>\r\n      </g>\r\n     </g>\r\n    </g>\r\n   </g>\r\n   <g id=\"matplotlib.axis_2\">\r\n    <g id=\"ytick_1\">\r\n     <g id=\"line2d_9\">\r\n      <defs>\r\n       <path d=\"M 0 0 \r\nL -3.5 0 \r\n\" id=\"m5e04f5ac15\" style=\"stroke:#000000;stroke-width:0.8;\"/>\r\n      </defs>\r\n      <g>\r\n       <use style=\"stroke:#000000;stroke-width:0.8;\" x=\"33.2875\" xlink:href=\"#m5e04f5ac15\" y=\"10.999219\"/>\r\n      </g>\r\n     </g>\r\n     <g id=\"text_9\">\r\n      <!-- 0 -->\r\n      <g transform=\"translate(19.925 14.798438)scale(0.1 -0.1)\">\r\n       <use xlink:href=\"#DejaVuSans-48\"/>\r\n      </g>\r\n     </g>\r\n    </g>\r\n    <g id=\"ytick_2\">\r\n     <g id=\"line2d_10\">\r\n      <g>\r\n       <use style=\"stroke:#000000;stroke-width:0.8;\" x=\"33.2875\" xlink:href=\"#m5e04f5ac15\" y=\"54.763925\"/>\r\n      </g>\r\n     </g>\r\n     <g id=\"text_10\">\r\n      <!-- 100 -->\r\n      <g transform=\"translate(7.2 58.563143)scale(0.1 -0.1)\">\r\n       <use xlink:href=\"#DejaVuSans-49\"/>\r\n       <use x=\"63.623047\" xlink:href=\"#DejaVuSans-48\"/>\r\n       <use x=\"127.246094\" xlink:href=\"#DejaVuSans-48\"/>\r\n      </g>\r\n     </g>\r\n    </g>\r\n    <g id=\"ytick_3\">\r\n     <g id=\"line2d_11\">\r\n      <g>\r\n       <use style=\"stroke:#000000;stroke-width:0.8;\" x=\"33.2875\" xlink:href=\"#m5e04f5ac15\" y=\"98.528631\"/>\r\n      </g>\r\n     </g>\r\n     <g id=\"text_11\">\r\n      <!-- 200 -->\r\n      <g transform=\"translate(7.2 102.327849)scale(0.1 -0.1)\">\r\n       <use xlink:href=\"#DejaVuSans-50\"/>\r\n       <use x=\"63.623047\" xlink:href=\"#DejaVuSans-48\"/>\r\n       <use x=\"127.246094\" xlink:href=\"#DejaVuSans-48\"/>\r\n      </g>\r\n     </g>\r\n    </g>\r\n    <g id=\"ytick_4\">\r\n     <g id=\"line2d_12\">\r\n      <g>\r\n       <use style=\"stroke:#000000;stroke-width:0.8;\" x=\"33.2875\" xlink:href=\"#m5e04f5ac15\" y=\"142.293336\"/>\r\n      </g>\r\n     </g>\r\n     <g id=\"text_12\">\r\n      <!-- 300 -->\r\n      <g transform=\"translate(7.2 146.092555)scale(0.1 -0.1)\">\r\n       <use xlink:href=\"#DejaVuSans-51\"/>\r\n       <use x=\"63.623047\" xlink:href=\"#DejaVuSans-48\"/>\r\n       <use x=\"127.246094\" xlink:href=\"#DejaVuSans-48\"/>\r\n      </g>\r\n     </g>\r\n    </g>\r\n   </g>\r\n   <g id=\"patch_3\">\r\n    <path d=\"M 33.2875 144.700395 \r\nL 33.2875 10.780395 \r\n\" style=\"fill:none;stroke:#000000;stroke-linecap:square;stroke-linejoin:miter;stroke-width:0.8;\"/>\r\n   </g>\r\n   <g id=\"patch_4\">\r\n    <path d=\"M 368.0875 144.700395 \r\nL 368.0875 10.780395 \r\n\" style=\"fill:none;stroke:#000000;stroke-linecap:square;stroke-linejoin:miter;stroke-width:0.8;\"/>\r\n   </g>\r\n   <g id=\"patch_5\">\r\n    <path d=\"M 33.2875 144.700395 \r\nL 368.0875 144.700395 \r\n\" style=\"fill:none;stroke:#000000;stroke-linecap:square;stroke-linejoin:miter;stroke-width:0.8;\"/>\r\n   </g>\r\n   <g id=\"patch_6\">\r\n    <path d=\"M 33.2875 10.780395 \r\nL 368.0875 10.780395 \r\n\" style=\"fill:none;stroke:#000000;stroke-linecap:square;stroke-linejoin:miter;stroke-width:0.8;\"/>\r\n   </g>\r\n  </g>\r\n </g>\r\n <defs>\r\n  <clipPath id=\"pd87e3cf851\">\r\n   <rect height=\"133.92\" width=\"334.8\" x=\"33.2875\" y=\"10.780395\"/>\r\n  </clipPath>\r\n </defs>\r\n</svg>\r\n",
      "image/png": "[encoded data removed]"
     },
     "metadata": {
      "needs_background": "light"
     }
    }
   ],
   "source": [
    "from skimage.io import imread\n",
    "#import matplotlib.pyplot as plt \n",
    "\n",
    "image = imread(\"../../imagenes/numpy.png\")\n",
    "\n",
    "print(image)\n",
    "#print(type(image))\n",
    "#print(image.shape)\n",
    "\n",
    "#plt.imshow(image)"
   ]
  },
  {
   "cell_type": "markdown",
   "metadata": {},
   "source": [
    "## Ejercicio 7\n",
    "Crea un array de 4x1. A continuación convierte el array a un 2x2"
   ]
  },
  {
   "cell_type": "code",
   "execution_count": 33,
   "metadata": {},
   "outputs": [
    {
     "output_type": "execute_result",
     "data": {
      "text/plain": "array([[1],\n       [1],\n       [1],\n       [1]])"
     },
     "metadata": {},
     "execution_count": 33
    }
   ],
   "source": [
    "arr = np.ones(shape=(4,1), dtype=int)\n",
    "arr"
   ]
  },
  {
   "cell_type": "code",
   "execution_count": 34,
   "metadata": {},
   "outputs": [
    {
     "output_type": "execute_result",
     "data": {
      "text/plain": "array([[1, 1],\n       [1, 1]])"
     },
     "metadata": {},
     "execution_count": 34
    }
   ],
   "source": [
    "arr.reshape(2,2)"
   ]
  },
  {
   "cell_type": "markdown",
   "metadata": {},
   "source": [
    "## Ejercicio 8\n",
    "Crea una secuencia aleatoria. La secuencia se tiene que componer de 4 matrices de 5x3. Serían 3 dimensiones diferentes."
   ]
  },
  {
   "cell_type": "code",
   "execution_count": 40,
   "metadata": {},
   "outputs": [],
   "source": [
    "import random as rd "
   ]
  },
  {
   "cell_type": "code",
   "execution_count": 61,
   "metadata": {},
   "outputs": [],
   "source": [
    "np.random.seed(None)"
   ]
  },
  {
   "cell_type": "code",
   "execution_count": 62,
   "metadata": {},
   "outputs": [],
   "source": [
    "np.random.seed(10)"
   ]
  },
  {
   "cell_type": "code",
   "execution_count": 63,
   "metadata": {},
   "outputs": [
    {
     "output_type": "execute_result",
     "data": {
      "text/plain": "array([[[10, 16, 65],\n        [29, 90, 94],\n        [30,  9, 74],\n        [ 1, 41, 37],\n        [17, 12, 55]],\n\n       [[89, 63, 34],\n        [73, 79, 50],\n        [52, 55, 78],\n        [70, 14, 26],\n        [14, 93, 87]],\n\n       [[31, 31, 90],\n        [13, 66, 32],\n        [58, 37, 28],\n        [19, 94, 78],\n        [23, 24, 95]],\n\n       [[12, 29, 75],\n        [89, 10, 16],\n        [19, 81, 72],\n        [89, 12, 18],\n        [47,  8, 76]]])"
     },
     "metadata": {},
     "execution_count": 63
    }
   ],
   "source": [
    "np.array(np.random.randint(1, 100, (4,5,3)))"
   ]
  },
  {
   "cell_type": "markdown",
   "metadata": {},
   "source": [
    "## Ejercicio 9\n",
    "Crea una matriz de 10x1, toda ella compuesta por `False`. Después transformalo en un 2x5"
   ]
  },
  {
   "cell_type": "code",
   "execution_count": 65,
   "metadata": {},
   "outputs": [
    {
     "output_type": "execute_result",
     "data": {
      "text/plain": "array([[False, False, False, False, False],\n       [False, False, False, False, False]])"
     },
     "metadata": {},
     "execution_count": 65
    }
   ],
   "source": [
    "np.full((10,1), False).reshape(2,5)"
   ]
  },
  {
   "cell_type": "markdown",
   "metadata": {},
   "source": [
    "## Ejercicio 10\n",
    "Dado el siguiente array\n",
    "\n",
    "```Python\n",
    "x =np.random.randint(10, 20, size = (5,2,6))\n",
    "```\n",
    "\n",
    "1. ¿Cuántos elementos tiene el array?\n",
    "2. ¿Cuántas dimensiones?\n",
    "3. ¿Cuántos elementos tiene cada dimensión?"
   ]
  },
  {
   "cell_type": "code",
   "execution_count": 67,
   "metadata": {},
   "outputs": [
    {
     "output_type": "execute_result",
     "data": {
      "text/plain": "array([[[14, 16, 16, 10, 12, 13],\n        [13, 12, 16, 10, 15, 11]],\n\n       [[13, 16, 15, 15, 11, 18],\n        [10, 15, 19, 18, 15, 17]],\n\n       [[18, 15, 18, 19, 19, 11],\n        [15, 19, 11, 14, 17, 17]],\n\n       [[17, 19, 17, 16, 10, 13],\n        [19, 14, 14, 16, 18, 14]],\n\n       [[19, 12, 11, 11, 16, 13],\n        [14, 15, 14, 10, 12, 18]]])"
     },
     "metadata": {},
     "execution_count": 67
    }
   ],
   "source": [
    "x =np.random.randint(10, 20, size = (5,2,6))\n",
    "x"
   ]
  },
  {
   "cell_type": "code",
   "execution_count": 69,
   "metadata": {},
   "outputs": [
    {
     "output_type": "execute_result",
     "data": {
      "text/plain": "60"
     },
     "metadata": {},
     "execution_count": 69
    }
   ],
   "source": [
    "x.size "
   ]
  },
  {
   "cell_type": "code",
   "execution_count": 71,
   "metadata": {},
   "outputs": [
    {
     "output_type": "execute_result",
     "data": {
      "text/plain": "3"
     },
     "metadata": {},
     "execution_count": 71
    }
   ],
   "source": [
    "x.ndim"
   ]
  },
  {
   "cell_type": "code",
   "execution_count": 73,
   "metadata": {},
   "outputs": [
    {
     "output_type": "execute_result",
     "data": {
      "text/plain": "12"
     },
     "metadata": {},
     "execution_count": 73
    }
   ],
   "source": [
    "x[0].size"
   ]
  },
  {
   "cell_type": "code",
   "execution_count": 75,
   "metadata": {},
   "outputs": [
    {
     "output_type": "execute_result",
     "data": {
      "text/plain": "(5, 2, 6)"
     },
     "metadata": {},
     "execution_count": 75
    }
   ],
   "source": [
    "x.shape"
   ]
  }
 ],
 "metadata": {
  "kernelspec": {
   "display_name": "Python 3",
   "language": "python",
   "name": "python3"
  },
  "language_info": {
   "codemirror_mode": {
    "name": "ipython",
    "version": 3
   },
   "file_extension": ".py",
   "mimetype": "text/x-python",
   "name": "python",
   "nbconvert_exporter": "python",
   "pygments_lexer": "ipython3",
   "version": "3.7.6"
  }
 },
 "nbformat": 4,
 "nbformat_minor": 4
}