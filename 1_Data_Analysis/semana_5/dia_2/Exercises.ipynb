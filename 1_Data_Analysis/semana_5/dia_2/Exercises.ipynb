{
 "cells": [
  {
   "cell_type": "markdown",
   "metadata": {},
   "source": [
    "## Bootcamp Data Science - The Brige. Febrero 2020. Precurso. "
   ]
  },
  {
   "cell_type": "markdown",
   "metadata": {},
   "source": [
    "## Repaso\n",
    "\n",
    "1. Variables y tipos:\n",
    "    - Creación de variables\n",
    "    - String\n",
    "    - Enteros\n",
    "    - Booleanos\n",
    "    - None (Ningún tipo)\n",
    "2. Operadores lógicos:\n",
    "    - Suma\n",
    "    - Resta\n",
    "    - División\n",
    "    - División absoluta\n",
    "    - Exponente\n",
    "    - Multiplicación\n",
    "    - And, or, not\n",
    "3. Listas, Tuplas y Set (Conjuntos):\n",
    "    - Acceso a dato por posiciones\n",
    "    - Tamaño de lista \n",
    "    - Listas dentro de listas\n",
    "    - Añadir datos a la listas\n",
    "    - Eliminar datos de listas\n",
    "4. Bucles:\n",
    "    - For\n",
    "    - range\n",
    "    - enumerate\n",
    "    - break\n",
    "    - while\n",
    "5. Funciones:\n",
    "    - Función con parámetros\n",
    "    - Funciones dentro de Funciones\n",
    "    - Funciones recursivas\n",
    "    - Return\n",
    "6. Input \n"
   ]
  },
  {
   "cell_type": "markdown",
   "metadata": {},
   "source": [
    "## Ejercicios:\n",
    "\n",
    "### Apartado 1:\n",
    "\n",
    "1. Crea una variable llamada 'numero_bridge' que tenga como valor 15. Tipo entero.\n",
    "2. Crea una variable llamada 'nombre_calle' que sea un string y sea 'Recoletos'\n",
    "3. Crea una variable llamada 'gusto_personal' que sea True si eres más de playa y False si eres más de montaña.\n",
    "4. Crea una variable llamada 'nada' de la siguiente forma: 'nada = None'. None no representa ningún valor. Ha de tenerse en cuenta que si se hace 'if (nada):', 'nada' actúa como un valor booleano False. Para más información, observar el primer ejemplo de abajo.\n",
    "5. Crea una variable que llamada 'lista_direccion' que sea una lista y que contenga 2 valores. El primer valor debe ser la variable 'numero_bridge' y el segundo valor de la lista debe ser la variable 'nombre_calle'\n",
    "6. Crea una variable llamada 'horas_sueno' que almacene, en forma de String, las horas que has dormido hoy. Ejemplo: horas_sueno = \"8\" \n",
    "6. Crea una lista llamada 'lista_informacion' que tenga cada una de las variables creadas anteriormente en el orden en el que se han expuesto en el ejercicio.\n",
    "\n",
    "IMPORTANTE: A partir de este momento y para todos estos ejercicios, solo se van a utilizar los datos almacenados en 'lista_informacion'. Debe contener 6 elementos. "
   ]
  },
  {
   "cell_type": "code",
   "execution_count": 1,
   "metadata": {},
   "outputs": [],
   "source": [
    "numero_bridge = 15\n",
    "nombre_calle = \"Recoletos\"\n",
    "gusto_personal = False\n",
    "nada = None\n",
    "lista_direccion = [numero_bridge, nombre_calle]\n",
    "horas_sueno = \"7\"\n",
    "lista_informacion = [numero_bridge, nombre_calle, gusto_personal, nada, lista_direccion, horas_sueno]"
   ]
  },
  {
   "cell_type": "code",
   "execution_count": 2,
   "metadata": {},
   "outputs": [
    {
     "output_type": "execute_result",
     "data": {
      "text/plain": "6"
     },
     "metadata": {},
     "execution_count": 2
    }
   ],
   "source": [
    "len(lista_informacion)"
   ]
  },
  {
   "cell_type": "markdown",
   "metadata": {},
   "source": [
    "#### Borrar variables. Del\n",
    "Ejecuta esta celda de jupyter para borrar todas las variables que has tenido que crear antes. El contenido de 'lista_informacion' no cambiará. De esta forma, nos aseguraremos de que solo uses la información de 'lista_informacion'. "
   ]
  },
  {
   "cell_type": "code",
   "execution_count": 3,
   "metadata": {},
   "outputs": [],
   "source": [
    "del numero_bridge, nombre_calle, gusto_personal, nada, lista_direccion, horas_sueno"
   ]
  },
  {
   "cell_type": "markdown",
   "metadata": {},
   "source": [
    "### Apartado 2\n",
    "\n",
    "### Ejercicios con 'lista_informacion'. Recuerda no usar las variables excepto 'lista_informacion'. Leer cada punto hasta el final antes de hacer la tarea. \n",
    "\n",
    "1. Mostrar por pantalla, sin uso de funciones ni bucles: \n",
    "    - La concatenación del número de The Bridge, dos puntos y el nombre de la calle. \n",
    "    - La suma del número de The Bridge y las horas que has dormido hoy. \n",
    "    - La concatenación del número de The Bridge, el nombre de la calle, tu gusto personal y las horas de sueño. Cada uno debe estar separado por lo siguiente: \" : \".\n",
    "    - Accediendo a la lista de la quinta posición de 'lista_informacion' muestra por pantalla la suma de lo siguiente (si la quinta posición de tu 'lista_informacion' no es una lista, pregunta a los profesores):\n",
    "        - La concatenación de los dos elementos. \n",
    "        - La multiplicación del tamaño de la lista de la quinta posición de 'lista_informacion' y el tamaño del número de caracteres que tiene el nombre de la calle.\n",
    "\n",
    "2. Dentro de funciones con el nombre que decidáis, con un argumento de entrada llamado 'lista' siendo este la 'lista_informacion' cuando se invoque a la función. Cuando sea 'recorre' se refiere a bucle 'for'. Cada punto representa una función y celda de Jupyter diferente:\n",
    "\n",
    "    - Mostrar por pantalla \"Me gusta la tranquilidad\" si te gusta más la montaña y \"Me gusta ver las carnes al aire libre\" si te gusta más la playa.\n",
    "    - Mostrar por pantalla \"Hoy estoy cansado\" si has dormido menos de 7 horas y \"Hoy me como el mundo\" si has dormido más de 7 horas. \n",
    "    - Recorrer 'lista' para mostrar todos los elementos que contiene. \n",
    "    - Recorrer 'lista' para mostrar todos los elementos que contiene concatenado con el string \"--> OK\"\n",
    "    - Recorrer 'lista' para mostrar todos los elementos que contiene excepto el primero\n",
    "    - Recorrer 'lista' para mostrar todos los elementos que contiene excepto el último. \n",
    "    - Recorrer 'lista' para mostrar todos los elementos que contiene excepto el número de la calle y las horas que has dormido.\n",
    "    - Recorrer 'lista' para mostrar todos los elementos que contiene excepto el primer elemento de la lista de la quinta posición. \n",
    "    - Recorrer 'lista' para mostrar todos los elementos que contiene excepto el que contiene la información sobre si os gusta la montaña o playa SI os gusta la montaña.\n",
    "    - Recorrer 'lista' para mostrar el último elemento.\n",
    "    - Crear una variable llamada 'zona' y darle el valor de None. Recorrer 'lista' y actualizar 'zona' a True si y solo si has dormido más de 7 horas, te gusta la playa y la suma de las horas que has dormido más el número de The Bridge es menor a 24. Para cualquier otro caso, 'zona' será False. Retornar el valor de 'zona'. Esta función se llamará 'funcion_zona'.\n",
    "    - Dentro de una función llamada 'funcion_comprobacion' que recibe solo un parámetro llamado 'valor_zona' que será el valor que devuelve la función 'funcion_zona' cuando sea invocado, mostrar el valor de 'valor_zona' si es True.\n",
    "\n",
    "\n",
    "3. Hacer un programa que pregunte si le gusta la montaña al usuario y, si es que no, llame a la función funcion_zona. \n",
    "\n",
    "4. Hacer una función que guarde en una variable el valor de 'nada' y lo devuelva por pantalla. Concatenar su valor con el número de the bridge y mostrarlo por pantalla. Ahora, mostrar por pantalla un booleano True si el tamaño de la palabra concatenada es 6. Sino, será False. La función debe retornar el valor True o False. El nombre de la función será 'f_s'.\n",
    "\n",
    "5. Crear una lista 'lista_aux' con 7 elementos (los que queráis). Crear una función 'funcion_usa_f_s' que reciba por parámetros dos argumento 'f_s' y 'lista'.  Si el valor de 'f_s' es True, entonces borrar el un elemento de 'lista'. Si 'lista' tiene algún elemento, entonces repetir el proceso hasta que no tenga elementos. La entrada 'lista' ha de ser 'lista_aux' y 'f_s' será la función 'f_s' del punto anterior.\n",
    "\n",
    "6. Crear una función 'numeros_pares' que tenga un parámetro de entrada 'arg1' (Entero). La función debe mostrar por pantalla y retornar una lista de números de tamaño 'arg1' siendo números pares.\n",
    "\n",
    "7. Crear una función que tenga una variable de entrada 'arg1' (que será la lista de números pares del apartado anterior) y que elimine elementos de la lista (uno a uno) si 'arg1' tiene un tamaño divisible entre 2 y, si no lo tiene, añada, solo una vez, el valor de la función 'f_s'."
   ]
  },
  {
   "cell_type": "code",
   "execution_count": 4,
   "metadata": {},
   "outputs": [
    {
     "output_type": "execute_result",
     "data": {
      "text/plain": "[15, 'Recoletos', False, None, [15, 'Recoletos'], '7']"
     },
     "metadata": {},
     "execution_count": 4
    }
   ],
   "source": [
    "lista_informacion"
   ]
  },
  {
   "cell_type": "code",
   "execution_count": 5,
   "metadata": {
    "tags": []
   },
   "outputs": [
    {
     "output_type": "stream",
     "name": "stdout",
     "text": "1.1\n15: Recoletos\n\n1.2\n22\n22\n22\n\n1.3\n15 : Recoletos : False : 7\n15 : Recoletos : False : 7\n15 : Recoletos : False : 7\n\n1.4\n15Recoletos\n18\n"
    }
   ],
   "source": [
    "# Apartado 1\n",
    "# 1.1 La concatenación del número de The Bridge, dos puntos y el nombre de la calle. \n",
    "print(\"1.1\")\n",
    "print(str(lista_informacion[0]) + \": \" + lista_informacion[1])\n",
    "\n",
    "# 1.2 La suma del número de The Bridge y las horas que has dormido hoy.\n",
    "print(\"\\n1.2\")\n",
    "print(lista_informacion[0] + int(lista_informacion[5]))\n",
    "print(lista_informacion[0] + int(lista_informacion[-1]))\n",
    "print(lista_informacion[0] + int(lista_informacion[len(lista_informacion) - 1]))\n",
    "\n",
    "\n",
    "# 1.3 La concatenación del número de The Bridge, el nombre de la calle, tu gusto personal y las horas de sueño.\n",
    "# Cada uno debe estar separado por lo siguiente: \" : \"\n",
    "print(\"\\n1.3\")\n",
    "print(lista_informacion[0], \":\", lista_informacion[1], \":\", lista_informacion[2], \":\", lista_informacion[5])\n",
    "print(str(lista_informacion[0]) + \" : \" + lista_informacion[1] + \" : \" + str(lista_informacion[2]) + \" : \" + lista_informacion[5])\n",
    "\n",
    "lista_strings = [str(lista_informacion[0]), lista_informacion[1], str(lista_informacion[2]), lista_informacion[5]]\n",
    "print(\" : \".join(lista_strings))\n",
    "\n",
    "# 1.4 La concatenación de los dos elementos.\n",
    "print(\"\\n1.4\")\n",
    "print(str(lista_informacion[4][0]) + lista_informacion[4][1])\n",
    "# La multiplicación del tamaño de la lista de la quinta posición de 'lista_informacion'\n",
    "# y el tamaño del número de caracteres que tiene el nombre de la calle\n",
    "print(len(lista_informacion[4]) * len(lista_informacion[1]))"
   ]
  },
  {
   "cell_type": "code",
   "execution_count": 6,
   "metadata": {},
   "outputs": [
    {
     "output_type": "execute_result",
     "data": {
      "text/plain": "[15, 'Recoletos', False, None, [15, 'Recoletos'], '7']"
     },
     "metadata": {},
     "execution_count": 6
    }
   ],
   "source": [
    "lista_informacion"
   ]
  },
  {
   "cell_type": "code",
   "execution_count": 7,
   "metadata": {},
   "outputs": [
    {
     "output_type": "execute_result",
     "data": {
      "text/plain": "'Me gusta la tranquilidad'"
     },
     "metadata": {},
     "execution_count": 7
    }
   ],
   "source": [
    "# Apartado 2\n",
    "# Mostrar por pantalla \"Me gusta la tranquilidad\" si te gusta más la montaña\n",
    "# y \"Me gusta ver las carnes al aire libre\" si te gusta más la playa\n",
    "\n",
    "def tranquilidad(lista):\n",
    "    if lista_informacion[2] == True:\n",
    "        return \"Me gusta ver las carnes al aire libre\"\n",
    "    else:\n",
    "        return \"Me gusta la tranquilidad\"\n",
    "\n",
    "tranquilidad(lista_informacion)"
   ]
  },
  {
   "cell_type": "code",
   "execution_count": 8,
   "metadata": {},
   "outputs": [
    {
     "output_type": "execute_result",
     "data": {
      "text/plain": "'He dormido bien'"
     },
     "metadata": {},
     "execution_count": 8
    }
   ],
   "source": [
    "# Mostrar por pantalla \"Hoy estoy cansado\" si has dormido menos de 7 horas y \"Hoy me como el mundo\" si has dormido más de 7 horas. \n",
    "\n",
    "def cansancio(lista):\n",
    "    if int(lista[5]) < 7:\n",
    "        return \"Hoy estoy cansado\"\n",
    "    elif int(lista[5]) == 7:\n",
    "        return \"He dormido bien\"\n",
    "    else:\n",
    "        return \"Hoy me como el mundo\"\n",
    "    \n",
    "cansancio(lista_informacion)"
   ]
  },
  {
   "cell_type": "code",
   "execution_count": 9,
   "metadata": {
    "tags": []
   },
   "outputs": [
    {
     "output_type": "stream",
     "name": "stdout",
     "text": "15\nRecoletos\nFalse\nNone\n[15, 'Recoletos']\n7\n"
    }
   ],
   "source": [
    "# Recorrer 'lista' para mostrar todos los elementos que contiene.\n",
    "def recorrer(lista):\n",
    "    for i in lista:\n",
    "        print(i)\n",
    "recorrer(lista_informacion)"
   ]
  },
  {
   "cell_type": "code",
   "execution_count": 10,
   "metadata": {},
   "outputs": [],
   "source": [
    "# Para el autorellenado de codigo\n",
    "%config IPCompleter.greedy=True"
   ]
  },
  {
   "cell_type": "code",
   "execution_count": 11,
   "metadata": {
    "tags": []
   },
   "outputs": [
    {
     "output_type": "stream",
     "name": "stdout",
     "text": "15--> OK\nRecoletos--> OK\nFalse--> OK\nNone--> OK\n[15, 'Recoletos']--> OK\n7--> OK\n"
    }
   ],
   "source": [
    "# Recorrer 'lista' para mostrar todos los elementos que contiene concatenado con el string \"--> OK\"\n",
    "def concatenar_ok(lista):\n",
    "    for i in lista:\n",
    "        print(str(i) + \"--> OK\")\n",
    "concatenar_ok(lista_informacion)"
   ]
  },
  {
   "cell_type": "code",
   "execution_count": 12,
   "metadata": {
    "tags": []
   },
   "outputs": [
    {
     "output_type": "stream",
     "name": "stdout",
     "text": "Recoletos\nFalse\nNone\n[15, 'Recoletos']\n7\n"
    }
   ],
   "source": [
    "# Recorrer 'lista' para mostrar todos los elementos que contiene excepto el primero\n",
    "def excepto_primero(lista):\n",
    "    \n",
    "    for i in lista:\n",
    "        if lista.index(i) == 0:\n",
    "            continue\n",
    "        print(i)\n",
    "        \n",
    "excepto_primero(lista_informacion)"
   ]
  },
  {
   "cell_type": "code",
   "execution_count": 13,
   "metadata": {
    "tags": []
   },
   "outputs": [
    {
     "output_type": "stream",
     "name": "stdout",
     "text": "Recoletos\nFalse\nNone\n[15, 'Recoletos']\n7\n['Recoletos', False, None, [15, 'Recoletos'], '7']\n"
    }
   ],
   "source": [
    "def excepto_primero_v2(lista):\n",
    "    \n",
    "    for i in range(len(lista)):\n",
    "        if i == 0:\n",
    "            continue\n",
    "        print(lista[i])\n",
    "        \n",
    "excepto_primero_v2(lista_informacion)\n",
    "print(lista_informacion[1:])"
   ]
  },
  {
   "cell_type": "code",
   "execution_count": 14,
   "metadata": {
    "tags": []
   },
   "outputs": [
    {
     "output_type": "stream",
     "name": "stdout",
     "text": "15\nRecoletos\nFalse\nNone\n[15, 'Recoletos']\n"
    }
   ],
   "source": [
    "# Recorrer 'lista' para mostrar todos los elementos que contiene excepto el último. \n",
    "def excepto_ultimo(lista):\n",
    "    \n",
    "    for i in range(len(lista)):\n",
    "        \n",
    "        if i == len(lista)-1:\n",
    "            continue\n",
    "        print(lista[i])\n",
    "        \n",
    "excepto_ultimo(lista_informacion)"
   ]
  },
  {
   "cell_type": "code",
   "execution_count": 15,
   "metadata": {
    "tags": []
   },
   "outputs": [
    {
     "output_type": "stream",
     "name": "stdout",
     "text": "Recoletos\nFalse\nNone\n[15, 'Recoletos']\n"
    }
   ],
   "source": [
    "# Recorrer 'lista' para mostrar todos los elementos que contiene excepto el número de la calle y las horas que has dormido.\n",
    "def excepto_calle_dormir(lista):\n",
    "    \n",
    "    for i in range(len(lista)):\n",
    "        \n",
    "        if i in [0,5]:\n",
    "            continue\n",
    "            \n",
    "        print(lista[i])\n",
    "        \n",
    "excepto_calle_dormir(lista_informacion)"
   ]
  },
  {
   "cell_type": "code",
   "execution_count": 16,
   "metadata": {
    "tags": []
   },
   "outputs": [
    {
     "output_type": "stream",
     "name": "stdout",
     "text": "15\nRecoletos\nFalse\nNone\nRecoletos\n7\n"
    }
   ],
   "source": [
    "# Recorrer 'lista' para mostrar todos los elementos que contiene excepto el primer elemento de la lista de la quinta posición. \n",
    "def excepto_quinto_elem(lista):\n",
    "    \n",
    "    for i in range(len(lista)):\n",
    "        \n",
    "        if i == 4:\n",
    "            print(lista[i][1])\n",
    "        else:\n",
    "            print(lista[i])\n",
    "        \n",
    "excepto_quinto_elem(lista_informacion)"
   ]
  },
  {
   "cell_type": "code",
   "execution_count": 17,
   "metadata": {
    "tags": []
   },
   "outputs": [
    {
     "output_type": "stream",
     "name": "stdout",
     "text": "15\nRecoletos\nNone\n[15, 'Recoletos']\n7\n"
    }
   ],
   "source": [
    "# Recorrer 'lista' para mostrar todos los elementos que contiene excepto el que contiene\n",
    "# la información sobre si os gusta la montaña o playa SI os gusta la montaña\n",
    "def excepto_montania(lista):\n",
    "    \n",
    "    for i in range(len(lista)):\n",
    "        \n",
    "        if i == 2 and lista[i] == False:\n",
    "            continue\n",
    "        \n",
    "        print(lista[i])\n",
    "        \n",
    "excepto_montania(lista_informacion)"
   ]
  },
  {
   "cell_type": "code",
   "execution_count": 18,
   "metadata": {
    "tags": []
   },
   "outputs": [
    {
     "output_type": "stream",
     "name": "stdout",
     "text": "15\nRecoletos\nFalse\nNone\n[15, 'Recoletos']\n"
    }
   ],
   "source": [
    "# Recorrer 'lista' para mostrar el último elemento.\n",
    "def ultimo_elem(lista):\n",
    "    \n",
    "    for i in range(len(lista)):\n",
    "        \n",
    "        if i == 5:\n",
    "            continue\n",
    "        \n",
    "        print(lista[i])\n",
    "        \n",
    "ultimo_elem(lista_informacion)"
   ]
  },
  {
   "cell_type": "code",
   "execution_count": 19,
   "metadata": {},
   "outputs": [
    {
     "output_type": "execute_result",
     "data": {
      "text/plain": "False"
     },
     "metadata": {},
     "execution_count": 19
    }
   ],
   "source": [
    "# Crear una variable llamada 'zona' y darle el valor de None. Recorrer 'lista' y actualizar 'zona' a True\n",
    "# si y solo si has dormido más de 7 horas, te gusta la playa y la suma de las horas que has dormido más\n",
    "# el número de The Bridge es menor a 24. Para cualquier otro caso, 'zona' será False. Retornar el valor de 'zona'.\n",
    "# Esta función se llamará 'funcion_zona'.\n",
    "\n",
    "def funcion_zona(lista):\n",
    "    zona = None\n",
    "    \n",
    "    for i in lista:\n",
    "        \n",
    "        if int(lista[5]) > 7 and lista[2] == True and (int(lista[5]) + lista[0]) < 24:\n",
    "            zona = True\n",
    "            \n",
    "        else:\n",
    "            zona = False\n",
    "            \n",
    "    return zona\n",
    "            \n",
    "funcion_zona(lista_informacion)     "
   ]
  },
  {
   "cell_type": "code",
   "execution_count": 20,
   "metadata": {
    "tags": []
   },
   "outputs": [
    {
     "output_type": "stream",
     "name": "stdout",
     "text": "None\n"
    }
   ],
   "source": [
    "# Dentro de una función llamada 'funcion_comprobacion' que recibe solo un parámetro llamado 'valor_zona'\n",
    "# que será el valor que devuelve la función 'funcion_zona' cuando sea invocado, mostrar el valor de 'valor_zona' si es True.\n",
    "\n",
    "def funcion_comprobacion(valor_zona):\n",
    "    if valor_zona == True:\n",
    "        print(valor_zona)\n",
    "\n",
    "return_zona = funcion_zona(lista_informacion) \n",
    "funcion_comprobacion(return_zona)\n",
    "print(funcion_comprobacion(return_zona))"
   ]
  },
  {
   "cell_type": "code",
   "execution_count": 21,
   "metadata": {},
   "outputs": [],
   "source": [
    "#Hacer un programa que pregunte si le gusta la montaña al usuario y, si es que no, llame a la función funcion_zona.\n",
    "\n",
    "def fc_montanya(lista):\n",
    "    user_input = input(\"¿Le gusta la montaña\")\n",
    "    if user_input.lower() == \"no\":\n",
    "        print(funcion_zona(lista))"
   ]
  },
  {
   "cell_type": "code",
   "execution_count": 22,
   "metadata": {
    "tags": []
   },
   "outputs": [],
   "source": [
    "fc_montanya(lista_informacion)"
   ]
  },
  {
   "cell_type": "code",
   "execution_count": 77,
   "metadata": {},
   "outputs": [
    {
     "output_type": "execute_result",
     "data": {
      "text/plain": "[15, 'Recoletos', False, None, [15, 'Recoletos'], '7']"
     },
     "metadata": {},
     "execution_count": 77
    }
   ],
   "source": [
    "lista_informacion"
   ]
  },
  {
   "cell_type": "code",
   "execution_count": 23,
   "metadata": {
    "tags": []
   },
   "outputs": [
    {
     "output_type": "stream",
     "name": "stdout",
     "text": "None\n15\nNone15\nTrue\n"
    },
    {
     "output_type": "execute_result",
     "data": {
      "text/plain": "True"
     },
     "metadata": {},
     "execution_count": 23
    }
   ],
   "source": [
    "#Hacer una función que guarde en una variable el valor de 'nada' y lo devuelva por pantalla. Concatenar su valor con el número de the bridge y mostrarlo por pantalla. Ahora, mostrar por pantalla un booleano True si el tamaño de la palabra concatenada es 6. Sino, será False. La función debe retornar el valor True o False. El nombre de la función será 'f_s'.\n",
    "\n",
    "def f_s(lista):\n",
    "    out = []\n",
    "    concatenada = \"\"\n",
    "    for ele in lista:\n",
    "        if (ele == None):\n",
    "            print(ele)\n",
    "            out.append(str(ele))\n",
    "        elif type(ele) == list:\n",
    "            print(ele[0])\n",
    "            out.append(str(ele[0]))\n",
    "            concatenada = concatenada.join(out)\n",
    "            print (concatenada)\n",
    "        \n",
    "    if (len(concatenada) == 6):\n",
    "        print(True)\n",
    "        return True\n",
    "    else:\n",
    "        print(False)\n",
    "        return False\n",
    "\n",
    "f_s(lista_informacion)"
   ]
  },
  {
   "cell_type": "code",
   "execution_count": 24,
   "metadata": {},
   "outputs": [],
   "source": [
    "#Crear una lista 'lista_aux' con 7 elementos (los que queráis). Crear una función 'funcion_usa_f_s' que reciba por parámetros dos argumento 'f_s' y 'lista'. Si el valor de 'f_s' es True, entonces borrar el un elemento de 'lista'. Si 'lista' tiene algún elemento, entonces repetir el proceso hasta que no tenga elementos. La entrada 'lista' ha de ser 'lista_aux' y 'f_s' será la función 'f_s' del punto anterior.Crear una lista 'lista_aux' con 7 elementos (los que queráis). \n",
    "\n",
    "lista_aux = [1,2,3,4,5,6,7]"
   ]
  },
  {
   "cell_type": "code",
   "execution_count": 25,
   "metadata": {},
   "outputs": [
    {
     "output_type": "error",
     "ename": "SyntaxError",
     "evalue": "invalid syntax (<ipython-input-25-dd350c95197b>, line 2)",
     "traceback": [
      "\u001b[1;36m  File \u001b[1;32m\"<ipython-input-25-dd350c95197b>\"\u001b[1;36m, line \u001b[1;32m2\u001b[0m\n\u001b[1;33m    out = f_s(lista_informacion):\u001b[0m\n\u001b[1;37m                                ^\u001b[0m\n\u001b[1;31mSyntaxError\u001b[0m\u001b[1;31m:\u001b[0m invalid syntax\n"
     ]
    }
   ],
   "source": [
    "def fc_usa_f_s(f_s,lista):\n",
    "    out = f_s(lista_informacion):\n",
    "    if (out):\n",
    "        list.pop(-1)"
   ]
  },
  {
   "cell_type": "code",
   "execution_count": null,
   "metadata": {},
   "outputs": [],
   "source": []
  },
  {
   "cell_type": "code",
   "execution_count": 26,
   "metadata": {},
   "outputs": [],
   "source": [
    "# Crear una función 'numeros_pares' que tenga un parámetro de entrada 'arg1' (Entero). La función debe mostrar por pantalla y retornar una lista de números de tamaño 'arg1' siendo números pares.\n",
    "\n",
    "def numeros_pares(num):\n",
    "    new_list = []\n",
    "    for i in range(num*2):\n",
    "        if (i%2 == 0):\n",
    "            new_list.append(i)\n",
    "    return new_list"
   ]
  },
  {
   "cell_type": "code",
   "execution_count": 27,
   "metadata": {},
   "outputs": [
    {
     "output_type": "execute_result",
     "data": {
      "text/plain": "[0, 2, 4, 6, 8]"
     },
     "metadata": {},
     "execution_count": 27
    }
   ],
   "source": [
    "numeros_pares(5)"
   ]
  },
  {
   "cell_type": "code",
   "execution_count": 28,
   "metadata": {},
   "outputs": [
    {
     "output_type": "execute_result",
     "data": {
      "text/plain": "[0, 2, 4, 6, 8, True]"
     },
     "metadata": {},
     "execution_count": 28
    }
   ],
   "source": [
    "#Crear una función que tenga una variable de entrada 'arg1' (que será la lista de números pares del apartado anterior) y que elimine elementos de la lista (uno a uno) si 'arg1' tiene un tamaño divisible entre 2 y, si no lo tiene, añada, solo una vez, el valor de la función 'f_s'.\n",
    "\n",
    "def fc_ap_7(arg1):\n",
    "    arg =arg1.copy()\n",
    "    if len(arg1)% 2 == 0:\n",
    "        for i in arg1:\n",
    "            arg.remove(i)\n",
    "    else:\n",
    "        arg.append(True)\n",
    "    \n",
    "    return arg\n",
    "\n",
    "fc_ap_7(numeros_pares(5))"
   ]
  },
  {
   "cell_type": "code",
   "execution_count": 29,
   "metadata": {},
   "outputs": [
    {
     "output_type": "execute_result",
     "data": {
      "text/plain": "[]"
     },
     "metadata": {},
     "execution_count": 29
    }
   ],
   "source": [
    "fc_ap_7(numeros_pares(6))"
   ]
  },
  {
   "cell_type": "markdown",
   "metadata": {},
   "source": [
    "### Apartado 3\n",
    "\n",
    "Para este apartado se utilizará la lista 'lista_información. A esa lista, ha de añadirse UTILIZANDO el método 'append':\n",
    "\n",
    "- Un booleano que sea True si utilizas gafas. False para lo contrario. \n",
    "- Un entero que represente tu edad. \n",
    "- Un float que represente el dinero que te has gastado en tu última compra.\n",
    "- Un string que represente el nombre de uno de tus tí@s. Si no tienes, el nombre de uno de tus herman@s. Si no tienes, alguno de tus abuel@s. Si no tienes, el nombre de tu mejor amigo. Y, si no tienes, el nombre de tu psicólog@.\n",
    "- Una lista que tenga como tamaño 5. Cada una de las posiciones debe representar los números que más te gusten en el rango [[0-100]] dividido entre 10. Es decir, si eliges el 11, el número sería el 1.1. Si eliges el 100, sería el 10.  \n",
    "\n",
    "Por último, han de eliminarse las variables 'none' y 'lista_direccion' de dos formas:\n",
    "\n",
    "- 'nada' con el método 'remove' de una lista. \n",
    "- 'lista_direccion' con el método 'pop' con el que se puede eliminar el elemento de una lista a través de una posición. Para más información, hemos puesto un ejemplo más abajo.\n",
    "\n",
    "\n"
   ]
  },
  {
   "cell_type": "code",
   "execution_count": 30,
   "metadata": {},
   "outputs": [],
   "source": [
    "lista_informacion.append(True)\n",
    "lista_informacion.append(46)\n",
    "lista_informacion.append(1.20)\n",
    "lista_informacion.append(\"Paco\")\n",
    "lista_informacion.append([3/10,7/10,11/10,23/10,57/10])"
   ]
  },
  {
   "cell_type": "code",
   "execution_count": 31,
   "metadata": {},
   "outputs": [
    {
     "output_type": "execute_result",
     "data": {
      "text/plain": "[15,\n 'Recoletos',\n False,\n None,\n [15, 'Recoletos'],\n '7',\n True,\n 46,\n 1.2,\n 'Paco',\n [0.3, 0.7, 1.1, 2.3, 5.7]]"
     },
     "metadata": {},
     "execution_count": 31
    }
   ],
   "source": [
    "lista_informacion"
   ]
  },
  {
   "cell_type": "code",
   "execution_count": 32,
   "metadata": {},
   "outputs": [
    {
     "output_type": "execute_result",
     "data": {
      "text/plain": "[15,\n 'Recoletos',\n False,\n [15, 'Recoletos'],\n '7',\n True,\n 46,\n 1.2,\n 'Paco',\n [0.3, 0.7, 1.1, 2.3, 5.7]]"
     },
     "metadata": {},
     "execution_count": 32
    }
   ],
   "source": [
    "lista_informacion.remove(None)\n",
    "lista_informacion"
   ]
  },
  {
   "cell_type": "code",
   "execution_count": 33,
   "metadata": {},
   "outputs": [
    {
     "output_type": "execute_result",
     "data": {
      "text/plain": "[15, 'Recoletos', False, '7', True, 46, 1.2, 'Paco', [0.3, 0.7, 1.1, 2.3, 5.7]]"
     },
     "metadata": {},
     "execution_count": 33
    }
   ],
   "source": [
    "for i,elem in enumerate(lista_informacion):\n",
    "    if type(elem) == list:\n",
    "        if elem[0]==15:\n",
    "            lista_informacion.pop(i)\n",
    "            break\n",
    "\n",
    "lista_informacion"
   ]
  },
  {
   "cell_type": "markdown",
   "metadata": {},
   "source": [
    "### Apartado 4. Creación de funciones con return preparatorio. \n",
    "\n",
    "A partir de ahora solo se utilizará la 'lista_informacion' actualizada. La 'lista_informacion' debe contener 9 posiciones. Si no contiene 9, pregunta a los profesores.\n",
    "\n",
    "Crear una nueva celda por cada apartado: \n",
    "\n",
    "- Función 'nb' que reciba por parámetro 'lista' y que retorne el número de The Bridge.\n",
    "- Función 'nc' que reciba por parámetro 'lista' y que retorne el nombre de la calle de The Bridge.\n",
    "- Función 'gp' que reciba por parámetro 'lista' y que retorne tu gusto personal.\n",
    "- Función 'hs' que reciba por parámetro 'lista' y que retorne las horas de sueño.\n",
    "- Función 'ul' que reciba por parámetro 'lista' y que retorne la última posicón de 'lista'.\n",
    "\n",
    "A partir de este momento, si se requiere utilizar uno de estos valores, se accederá a ellos a partir de las funciones anteriormente creadas, no directamente desde la lista."
   ]
  },
  {
   "cell_type": "code",
   "execution_count": 34,
   "metadata": {},
   "outputs": [
    {
     "output_type": "execute_result",
     "data": {
      "text/plain": "9"
     },
     "metadata": {},
     "execution_count": 34
    }
   ],
   "source": [
    "len(lista_informacion)"
   ]
  },
  {
   "cell_type": "code",
   "execution_count": 35,
   "metadata": {},
   "outputs": [
    {
     "output_type": "execute_result",
     "data": {
      "text/plain": "[15, 'Recoletos', False, '7', True, 46, 1.2, 'Paco', [0.3, 0.7, 1.1, 2.3, 5.7]]"
     },
     "metadata": {},
     "execution_count": 35
    }
   ],
   "source": [
    "lista_informacion"
   ]
  },
  {
   "cell_type": "code",
   "execution_count": 36,
   "metadata": {
    "tags": []
   },
   "outputs": [
    {
     "output_type": "execute_result",
     "data": {
      "text/plain": "15"
     },
     "metadata": {},
     "execution_count": 36
    }
   ],
   "source": [
    "#Función 'nb' que reciba por parámetro 'lista' y que retorne el número de The Bridge.\n",
    "\n",
    "def nb(list):\n",
    "    for ele in list:\n",
    "        if ele == 15:\n",
    "            return ele\n",
    "            \n",
    "\n",
    "nb(lista_informacion)"
   ]
  },
  {
   "cell_type": "code",
   "execution_count": 37,
   "metadata": {},
   "outputs": [
    {
     "output_type": "execute_result",
     "data": {
      "text/plain": "'Recoletos'"
     },
     "metadata": {},
     "execution_count": 37
    }
   ],
   "source": [
    "#Función 'nc' que reciba por parámetro 'lista' y que retorne el nombre de la calle de The Bridge.\n",
    "def nc(lista):\n",
    "    for ele in lista:\n",
    "        if type(ele) == str and ele.upper() == \"Recoletos\".upper():\n",
    "            return ele\n",
    "\n",
    "nc(lista_informacion)"
   ]
  },
  {
   "cell_type": "code",
   "execution_count": 38,
   "metadata": {},
   "outputs": [
    {
     "output_type": "execute_result",
     "data": {
      "text/plain": "False"
     },
     "metadata": {},
     "execution_count": 38
    }
   ],
   "source": [
    "#Función 'gp' que reciba por parámetro 'lista' y que retorne tu gusto personal.\n",
    "\n",
    "def gp(lista):\n",
    "    for ele in lista:\n",
    "        if type(ele) == bool:\n",
    "            return ele\n",
    "\n",
    "gp(lista_informacion)"
   ]
  },
  {
   "cell_type": "code",
   "execution_count": 40,
   "metadata": {},
   "outputs": [
    {
     "output_type": "execute_result",
     "data": {
      "text/plain": "[15, 'Recoletos', False, '7', True, 46, 1.2, 'Paco', [0.3, 0.7, 1.1, 2.3, 5.7]]"
     },
     "metadata": {},
     "execution_count": 40
    }
   ],
   "source": [
    "#Función 'hs' que reciba por parámetro 'lista' y que retorne las horas de sueño.\n",
    "lista_informacion"
   ]
  },
  {
   "cell_type": "code",
   "execution_count": 46,
   "metadata": {
    "tags": []
   },
   "outputs": [
    {
     "output_type": "execute_result",
     "data": {
      "text/plain": "'7'"
     },
     "metadata": {},
     "execution_count": 46
    }
   ],
   "source": [
    "horas = [0,1,2,3]\n",
    "\n",
    "def hs(lista):\n",
    "    for i in lista:\n",
    "        if type(i) == str:\n",
    "            if i in (\"012345678910112131415161718192021222322\"):\n",
    "                return (i)\n",
    "           \n",
    "\n",
    "hs(lista_informacion)"
   ]
  },
  {
   "cell_type": "code",
   "execution_count": 68,
   "metadata": {},
   "outputs": [
    {
     "output_type": "execute_result",
     "data": {
      "text/plain": "[0.3, 0.7, 1.1, 2.3, 5.7]"
     },
     "metadata": {},
     "execution_count": 68
    }
   ],
   "source": [
    "#Función 'ul' que reciba por parámetro 'lista' y que retorne la última posicón de 'lista'.\n",
    "\n",
    "def ul(lista):\n",
    "\n",
    "    return lista[-1]\n",
    "\n",
    "ul(lista_informacion)"
   ]
  },
  {
   "cell_type": "code",
   "execution_count": null,
   "metadata": {},
   "outputs": [],
   "source": []
  },
  {
   "cell_type": "markdown",
   "metadata": {},
   "source": [
    "### Apartado 5. Break en bucles for.\n",
    "\n",
    "Crear una nueva celda por cada apartado: \n",
    "\n",
    "- Función 'string_mayor_5' que reciba por parámetro 'lista' ('lista_informacion'). Se debe recorrer 'lista' transformando cada elemento en string y, si el tamaño del string es mayor a 5, el bucle debe parar. La función ha de devolver el primer elemento con string mayor a 5.\n",
    "\n",
    "- Función 'lista_consecutivos' que recibe por parámetro 'limite'. Debe retornar una lista con números que empiece en el 0 y acabe en el número 'límite'. 'limite' será 18 cuando la función sea invocada. \n",
    "\n",
    "- Función 'posicion_15' que reciba un parámetro 'funcion_lista_consecutivos' y 'lista' y deberá devolver el elemento de la lista que devuelve la función 'lista_consecutivos' que represente la posicion 15. Es dentro de la función 'posicion_15' donde hay que llamar a 'funcion_lista_consecutivos' con el parámetro 'lista' como parámetro de entrada de 'lista_consecutivos'. El argumento 'límite' será 18 cuando 'lista_consecutivos' sea invocada.\n",
    "\n",
    "Ejemplo: \n",
    "x = posicion_15(funcion_lista_consecutivos=lista_consecutivos, lista=lista_informacion)"
   ]
  },
  {
   "cell_type": "code",
   "execution_count": 53,
   "metadata": {},
   "outputs": [
    {
     "output_type": "execute_result",
     "data": {
      "text/plain": "[15, 'Recoletos', False, '7', True, 46, 1.2, 'Paco', [0.3, 0.7, 1.1, 2.3, 5.7]]"
     },
     "metadata": {},
     "execution_count": 53
    }
   ],
   "source": [
    "lista_informacion"
   ]
  },
  {
   "cell_type": "code",
   "execution_count": 56,
   "metadata": {},
   "outputs": [
    {
     "output_type": "execute_result",
     "data": {
      "text/plain": "'Recoletos'"
     },
     "metadata": {},
     "execution_count": 56
    }
   ],
   "source": [
    "#Función 'string_mayor_5' que reciba por parámetro 'lista' ('lista_informacion'). Se debe recorrer 'lista' transformando cada elemento en string y, si el tamaño del string es mayor a 5, el bucle debe parar. La función ha de devolver el primer elemento con string mayor a 5.\n",
    "\n",
    "def string_mayor_5(lista):\n",
    "    for ele in lista:\n",
    "        ele = str(ele)\n",
    "        if len(ele) > 5:\n",
    "            return ele\n",
    "\n",
    "string_mayor_5(lista_informacion)"
   ]
  },
  {
   "cell_type": "code",
   "execution_count": 58,
   "metadata": {},
   "outputs": [
    {
     "output_type": "execute_result",
     "data": {
      "text/plain": "[0, 1, 2, 3, 4, 5, 6, 7, 8, 9, 10, 11, 12, 13, 14, 15, 16, 17, 18]"
     },
     "metadata": {},
     "execution_count": 58
    }
   ],
   "source": [
    "#Función 'lista_consecutivos' que recibe por parámetro 'limite'. Debe retornar una lista con números que empiece en el 0 y acabe en el número 'límite'. 'limite' será 18 cuando la función sea invocada.\n",
    "\n",
    "def lista_consecutivos(limite):\n",
    "    return [x for x in range(limite+1)]\n",
    "\n",
    "lista_consecutivos(18)"
   ]
  },
  {
   "cell_type": "code",
   "execution_count": 60,
   "metadata": {},
   "outputs": [],
   "source": [
    "#Función 'posicion_15' que reciba un parámetro 'funcion_lista_consecutivos' y 'lista' y deberá devolver el elemento de la lista que devuelve la función 'lista_consecutivos' que represente la posicion 15. Es dentro de la función 'posicion_15' donde hay que llamar a 'funcion_lista_consecutivos' con el parámetro 'lista' como parámetro de entrada de 'lista_consecutivos'. El argumento 'límite' será 18 cuando 'lista_consecutivos' sea invocada.\n",
    "\n"
   ]
  },
  {
   "cell_type": "code",
   "execution_count": null,
   "metadata": {},
   "outputs": [],
   "source": []
  },
  {
   "cell_type": "markdown",
   "metadata": {},
   "source": [
    "### Apartado 6. Bucle while.\n",
    "\n",
    "Crear una nueva celda por cada apartado: \n",
    "\n",
    "- Crear una función reciba por parámetro 'lista' que muestre todos los elementos que tiene usando un bucle while. Llamar a la función con 'lista_informacion'.\n",
    "- Realizar todos los apartados del apartado 2.2 cuyo enunciado aparece la palabra 'recorrer' excepto el que se utiliza la 'lista_direccion' borrada en el apartado 3. \n",
    "- Realizar el apartado 5 con bucle while en vez de bucle for. \n",
    "- Realizar una función que realice la función de fibonacci con un while.\n",
    "\n",
    "\n",
    "\n"
   ]
  },
  {
   "cell_type": "code",
   "execution_count": 63,
   "metadata": {
    "tags": []
   },
   "outputs": [
    {
     "output_type": "stream",
     "name": "stdout",
     "text": "15\nRecoletos\nFalse\n7\nTrue\n46\n1.2\nPaco\n[0.3, 0.7, 1.1, 2.3, 5.7]\n"
    }
   ],
   "source": [
    "# Crear una función reciba por parámetro 'lista' que muestre todos los elementos que tiene usando un bucle while. Llamar a la función con 'lista_informacion'.\n",
    "\n",
    "def show_while(lista):\n",
    "    i = 0\n",
    "    while(i < len(lista)):\n",
    "        print(lista[i])\n",
    "        i += 1\n",
    "show_while(lista_informacion)"
   ]
  },
  {
   "cell_type": "code",
   "execution_count": 64,
   "metadata": {},
   "outputs": [],
   "source": [
    " #Realizar todos los apartados del apartado 2.2 cuyo enunciado aparece la palabra 'recorrer' excepto el que se utiliza la 'lista_direccion' borrada en el apartado 3."
   ]
  },
  {
   "cell_type": "code",
   "execution_count": null,
   "metadata": {},
   "outputs": [],
   "source": []
  },
  {
   "cell_type": "code",
   "execution_count": 67,
   "metadata": {},
   "outputs": [
    {
     "output_type": "execute_result",
     "data": {
      "text/plain": "'Recoletos'"
     },
     "metadata": {},
     "execution_count": 67
    }
   ],
   "source": [
    "#Realizar el apartado 5 con bucle while en vez de bucle for.\n",
    "\n",
    "def string_mayor_5_while(lista):\n",
    "    i = 0\n",
    "    while(i < len(lista)):\n",
    "        lista[i] = str(lista[i])\n",
    "        if len(lista[i]) > 5:\n",
    "            return lista[i]\n",
    "        i += 1\n",
    "\n",
    "string_mayor_5_while(lista_informacion)"
   ]
  },
  {
   "cell_type": "code",
   "execution_count": null,
   "metadata": {},
   "outputs": [],
   "source": [
    "def lista_consecutivos(limite):\n",
    "    i = 0\n",
    "    out = []\n",
    "    while(i < limite+1):\n",
    "        lista[i]\n",
    "\n",
    "    return [x for x in range(limite+1)]\n",
    "\n",
    "lista_consecutivos(18)"
   ]
  },
  {
   "cell_type": "markdown",
   "metadata": {},
   "source": [
    "### Apartado 7. Importación de módulos.\n",
    "\n",
    "Un módulo representa un fichero de extensión '.py' que contiene código python. Importando un módulo, podemos acceder a todas las variable, funciones y clases no privadas que contiene. \n",
    "\n",
    "En la propia carpeta del día de hoy, hay un fichero llamado 'nombre_modulo.py'. Vamos a importarlo y usar alguna de sus variables y funciones. "
   ]
  },
  {
   "cell_type": "code",
   "execution_count": null,
   "metadata": {},
   "outputs": [],
   "source": []
  },
  {
   "cell_type": "markdown",
   "metadata": {},
   "source": [
    "### Apartado 8: Ejercicios\n",
    "\n",
    "- Programa una calculadora que pregunte por pantalla dos números y dos operadores. Se debe realizar primero una operación y luego otra. Trata de definir el mayor número de funciones posibles. \n",
    "- Programa, definiendo funciones, el juego 'piedra, papel o tijera'. \n",
    "- Haz un programa que, a partir de las cadenas \"|\" y \"_\", muestre por pantalla un tablero de ajedrez 8x8. \n",
    "- Haz un programa utilizando 'while' que genere una baraja de cartas de 4 palos distintos. La baraja ha de tener 40 cartas. "
   ]
  },
  {
   "cell_type": "code",
   "execution_count": null,
   "metadata": {},
   "outputs": [],
   "source": []
  }
 ],
 "metadata": {
  "file_extension": ".py",
  "kernelspec": {
   "display_name": "Python 3",
   "language": "python",
   "name": "python3"
  },
  "language_info": {
   "codemirror_mode": {
    "name": "ipython",
    "version": 3
   },
   "file_extension": ".py",
   "mimetype": "text/x-python",
   "name": "python",
   "nbconvert_exporter": "python",
   "pygments_lexer": "ipython3",
   "version": "3.7.6"
  },
  "mimetype": "text/x-python",
  "name": "python",
  "npconvert_exporter": "python",
  "pygments_lexer": "ipython3",
  "version": 3
 },
 "nbformat": 4,
 "nbformat_minor": 4
}