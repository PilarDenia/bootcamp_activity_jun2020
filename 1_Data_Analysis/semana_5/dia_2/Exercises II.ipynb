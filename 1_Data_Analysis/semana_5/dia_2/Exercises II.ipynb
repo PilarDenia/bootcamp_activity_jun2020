{
 "cells": [
  {
   "cell_type": "markdown",
   "metadata": {},
   "source": [
    "### Apartado 3\n",
    "\n",
    "Para este apartado se utilizará la lista 'lista_información. A esa lista, ha de añadirse UTILIZANDO el método 'append':\n",
    "\n",
    "- Un booleano que sea True si utilizas gafas. False para lo contrario. \n",
    "- Un entero que represente tu edad. \n",
    "- Un float que represente el dinero que te has gastado en tu última compra.\n",
    "- Un string que represente el nombre de uno de tus tí@s. Si no tienes, el nombre de uno de tus herman@s. Si no tienes, alguno de tus abuel@s. Si no tienes, el nombre de tu mejor amigo. Y, si no tienes, el nombre de tu psicólog@.\n",
    "- Una lista que tenga como tamaño 5. Cada una de las posiciones debe representar los números que más te gusten en el rango [[0-100]] dividido entre 10. Es decir, si eliges el 11, el número sería el 1.1. Si eliges el 100, sería el 10.  \n",
    "\n",
    "Por último, han de eliminarse las variables 'none' y 'lista_direccion' de dos formas:\n",
    "\n",
    "- 'nada' con el método 'remove' de una lista. \n",
    "- 'lista_direccion' con el método 'pop' con el que se puede eliminar el elemento de una lista a través de una posición. Para más información, hemos puesto un ejemplo más abajo.\n"
   ]
  },
  {
   "cell_type": "code",
   "execution_count": 4,
   "metadata": {},
   "outputs": [],
   "source": [
    "numero_bridge = 15\n",
    "nombre_calle = \"Recoletos\"\n",
    "gusto_personal = False\n",
    "nada = None\n",
    "lista_direccion = [numero_bridge, nombre_calle]\n",
    "horas_sueno = \"7\"\n",
    "lista_informacion = [numero_bridge, nombre_calle, gusto_personal, nada, lista_direccion, horas_sueno]\n",
    "\n",
    "del numero_bridge, nombre_calle, gusto_personal, nada, lista_direccion, horas_sueno"
   ]
  },
  {
   "cell_type": "code",
   "execution_count": 5,
   "metadata": {},
   "outputs": [
    {
     "name": "stdout",
     "output_type": "stream",
     "text": [
      "[15, 'Recoletos', False, None, [15, 'Recoletos'], '7', True]\n",
      "[15, 'Recoletos', False, None, [15, 'Recoletos'], '7', True, 29]\n",
      "[15, 'Recoletos', False, None, [15, 'Recoletos'], '7', True, 29, 1.2]\n",
      "[15, 'Recoletos', False, None, [15, 'Recoletos'], '7', True, 29, 1.2, 'Paco']\n",
      "[15, 'Recoletos', False, None, [15, 'Recoletos'], '7', True, 29, 1.2, 'Paco', [0.1, 0.2, 0.3, 0.4, 0.5]]\n",
      "[15, 'Recoletos', False, [15, 'Recoletos'], '7', True, 29, 1.2, 'Paco', [0.1, 0.2, 0.3, 0.4, 0.5]]\n",
      "[15, 'Recoletos', False, '7', True, 29, 1.2, 'Paco', [0.1, 0.2, 0.3, 0.4, 0.5]]\n"
     ]
    }
   ],
   "source": [
    "# Un booleano que sea True si utilizas gafas. False para lo contrario. \n",
    "lista_informacion.append(True)\n",
    "print(lista_informacion)\n",
    "\n",
    "# Un entero que represente tu edad. \n",
    "lista_informacion.append(29)\n",
    "print(lista_informacion)\n",
    "\n",
    "# Un float que represente el dinero que te has gastado en tu última compra.\n",
    "lista_informacion.append(1.2)\n",
    "print(lista_informacion)\n",
    "\n",
    "# Un string que represente el nombre de uno de tus tí@s. Si no tienes, el nombre de uno de tus herman@s. Si no tienes, alguno de tus abuel@s. Si no tienes, el nombre de tu mejor amigo. Y, si no tienes, el nombre de tu psicólog@.\n",
    "lista_informacion.append(\"Paco\")\n",
    "print(lista_informacion)\n",
    "\n",
    "# Una lista que tenga como tamaño 5. Cada una de las posiciones debe representar los números que más te gusten en el rango [[0-100]] dividido entre 10. Es decir, si eliges el 11, el número sería el 1.1. Si eliges el 100, sería el 10.\n",
    "import numpy as np\n",
    "x = np.array([1,2,3,4,5])/10\n",
    "\n",
    "lista_informacion.append(list(x))\n",
    "print(lista_informacion)\n",
    "\n",
    "# 'nada' con el método 'remove' de una lista. \n",
    "lista_informacion.remove(None)\n",
    "print(lista_informacion)\n",
    "\n",
    "# 'lista_direccion' con el método 'pop' con el que se puede eliminar el elemento de una lista a través de una posición. Para más información, hemos puesto un ejemplo más abajo.\n",
    "lista_informacion.pop(3)\n",
    "# lista_informacion.remove([15, 'Recoletos'])\n",
    "print(lista_informacion)"
   ]
  },
  {
   "cell_type": "markdown",
   "metadata": {},
   "source": [
    "### Apartado 4. Creación de funciones con return preparatorio. \n",
    "\n",
    "A partir de ahora solo se utilizará la 'lista_informacion' actualizada. La 'lista_informacion' debe contener 9 posiciones. Si no contiene 9, pregunta a los profesores.\n",
    "\n",
    "Crear una nueva celda por cada apartado: \n",
    "\n",
    "- Función 'nb' que reciba por parámetro 'lista' y que retorne el número de The Bridge.\n",
    "- Función 'nc' que reciba por parámetro 'lista' y que retorne el nombre de la calle de The Bridge.\n",
    "- Función 'gp' que reciba por parámetro 'lista' y que retorne tu gusto personal.\n",
    "- Función 'hs' que reciba por parámetro 'lista' y que retorne las horas de sueño.\n",
    "- Función 'ul' que reciba por parámetro 'lista' y que retorne la última posicón de 'lista'.\n",
    "\n",
    "A partir de este momento, si se requiere utilizar uno de estos valores, se accederá a ellos a partir de las funciones anteriormente creadas, no directamente desde la lista."
   ]
  },
  {
   "cell_type": "code",
   "execution_count": 10,
   "metadata": {},
   "outputs": [
    {
     "name": "stdout",
     "output_type": "stream",
     "text": [
      "[15, 'Recoletos', False, '7', True, 29, 1.2, 'Paco', [0.1, 0.2, 0.3, 0.4, 0.5]]\n"
     ]
    }
   ],
   "source": [
    "len(lista_informacion)\n",
    "print(lista_informacion)"
   ]
  },
  {
   "cell_type": "code",
   "execution_count": 7,
   "metadata": {},
   "outputs": [
    {
     "name": "stdout",
     "output_type": "stream",
     "text": [
      "15\n"
     ]
    }
   ],
   "source": [
    "# Función 'nb' que reciba por parámetro 'lista' y que retorne el número de The Bridge.\n",
    "def nb(lista):\n",
    "    return lista[0]\n",
    "\n",
    "print(nb(lista_informacion))"
   ]
  },
  {
   "cell_type": "code",
   "execution_count": 8,
   "metadata": {},
   "outputs": [
    {
     "name": "stdout",
     "output_type": "stream",
     "text": [
      "Recoletos\n"
     ]
    }
   ],
   "source": [
    "# Función 'nc' que reciba por parámetro 'lista' y que retorne el nombre de la calle de The Bridge.\n",
    "def nc(lista):\n",
    "    return lista[1]\n",
    "\n",
    "print(nc(lista_informacion))"
   ]
  },
  {
   "cell_type": "code",
   "execution_count": 9,
   "metadata": {},
   "outputs": [
    {
     "name": "stdout",
     "output_type": "stream",
     "text": [
      "False\n"
     ]
    }
   ],
   "source": [
    "# Función 'gp' que reciba por parámetro 'lista' y que retorne tu gusto personal.\n",
    "def gp(lista):\n",
    "    return lista[2]\n",
    "\n",
    "print(gp(lista_informacion))"
   ]
  },
  {
   "cell_type": "code",
   "execution_count": 12,
   "metadata": {},
   "outputs": [
    {
     "name": "stdout",
     "output_type": "stream",
     "text": [
      "7\n"
     ]
    }
   ],
   "source": [
    "# Función 'hs' que reciba por parámetro 'lista' y que retorne las horas de sueño.\n",
    "def hs(lista):\n",
    "    return lista[3]\n",
    "\n",
    "print(hs(lista_informacion))"
   ]
  },
  {
   "cell_type": "code",
   "execution_count": 13,
   "metadata": {},
   "outputs": [
    {
     "name": "stdout",
     "output_type": "stream",
     "text": [
      "[0.1, 0.2, 0.3, 0.4, 0.5]\n"
     ]
    }
   ],
   "source": [
    "# Función 'ul' que reciba por parámetro 'lista' y que retorne la última posicón de 'lista'.\n",
    "def ul(lista):\n",
    "    return lista[-1]\n",
    "\n",
    "print(ul(lista_informacion))"
   ]
  }
 ],
 "metadata": {
  "kernelspec": {
   "display_name": "Python 3",
   "language": "python",
   "name": "python3"
  },
  "language_info": {
   "codemirror_mode": {
    "name": "ipython",
    "version": 3
   },
   "file_extension": ".py",
   "mimetype": "text/x-python",
   "name": "python",
   "nbconvert_exporter": "python",
   "pygments_lexer": "ipython3",
   "version": "3.7.6"
  }
 },
 "nbformat": 4,
 "nbformat_minor": 4
}
