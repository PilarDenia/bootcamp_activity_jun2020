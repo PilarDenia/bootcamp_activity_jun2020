{
 "cells": [
  {
   "cell_type": "markdown",
   "metadata": {},
   "source": [
    "![imagen](../../imagenes/numpy.png)\n",
    "\n",
    "# Numpy y matrices\n",
    "\n",
    "#### Autor: [Daniel Ortiz López](https://www.linkedin.com/in/daniel-ortiz-l%C3%B3pez/)\n",
    "\n",
    "En este Notebook descubrirás la que es probablemente **la librería más utilizada en Python**, `numpy`, la cual nos va a permitir trabajar con una gran variedad de datos en memoria como colecciones de documentos, imágenes, audios o medidas numéricas.\n",
    "\n",
    "1. [Listas y matrices](#1.-Listas-y-matrices)\n",
    "2. [Numpy](#2.-Numpy)\n",
    "3. [Creacion de arrays](#3.-Creacion-de-arrays)\n",
    "4. [Atributos del array](#4.-Atributos-del-array)\n",
    "5. [Indexado](#5.-Indexado)\n",
    "6. [Slicing y subarrays](#6.-Slicing-y-subarrays)\n",
    "7. [Reshape](#7.-Reshape)\n",
    "8. [Tipos de los datos](#8.-Tipos-de-los-datos)\n",
    "9. [Concatenado](#9.-Concatenado)\n",
    "10. [Sustitucion](#10.-Sustitucion)"
   ]
  },
  {
   "cell_type": "markdown",
   "metadata": {},
   "source": [
    "## 1. Listas y matrices\n",
    "Ya conocemos muy bien cómo funcionan las listas, aunque en este apartado profundizaremos un poco más en sus funcionalidades, acceso y dimensiones. **Las listas en Python son muy versátiles, lo que nos dan una gran flexibilidad a la hora de modelizar nuestros datos**. Además este apartado no servirá para refrescar conceptos con vistas a **comparar listas de Python con los arrays de Numpy**.\n",
    "\n",
    "Declaramos una lista sencilla"
   ]
  },
  {
   "cell_type": "code",
   "execution_count": 1,
   "metadata": {},
   "outputs": [],
   "source": [
    "import numpy as np"
   ]
  },
  {
   "cell_type": "markdown",
   "metadata": {},
   "source": [
    "Recordamos cómo accediamos a los elementos"
   ]
  },
  {
   "cell_type": "code",
   "execution_count": null,
   "metadata": {},
   "outputs": [],
   "source": []
  },
  {
   "cell_type": "markdown",
   "metadata": {},
   "source": [
    "¿Y si necesitamos una lista con múltiples dimensiones? ¡También podemos!"
   ]
  },
  {
   "cell_type": "code",
   "execution_count": null,
   "metadata": {},
   "outputs": [],
   "source": []
  },
  {
   "cell_type": "markdown",
   "metadata": {},
   "source": [
    "De esta forma estamos declarando una matriz de 3 filas x 3 columnas. ¿Cómo accedemos a sus elementos?"
   ]
  },
  {
   "cell_type": "code",
   "execution_count": null,
   "metadata": {},
   "outputs": [],
   "source": []
  },
  {
   "cell_type": "markdown",
   "metadata": {},
   "source": [
    "En los ejemplos de arriba hemos accedido a los elementos de la matriz directamente con sus índices, pero si no sabemos cómo de grande es la matriz, habrá que iterarla mediante bucles."
   ]
  },
  {
   "cell_type": "code",
   "execution_count": null,
   "metadata": {},
   "outputs": [],
   "source": []
  },
  {
   "cell_type": "markdown",
   "metadata": {},
   "source": [
    "Bien, hasta aquí todo correcto, **¿pero y si queremos multiplicar nuestra matriz por un escalar?** Es decir, simplemente aplicarle una operación a cada elemento de la matriz. Veamos cómo se hace."
   ]
  },
  {
   "cell_type": "code",
   "execution_count": 2,
   "metadata": {},
   "outputs": [],
   "source": [
    "my_matrix = [[1,2,3],[4,5,6],[7,8,9]]\n",
    "\n",
    "\n"
   ]
  },
  {
   "cell_type": "markdown",
   "metadata": {},
   "source": [
    "¡Conseguido! Aunque un poco aparatoso para ser una operación tan sencilla como multiplicar una matriz por 10. ¿Y si queremos hacer una matriz traspuesta? ¿Y si tenemos dos matrices de las mismas dimensiones y queremos multiplicar elemento a elemento? Se complica todavía más la cosa y tendremos que acudir a los bucles para solucionarlo cuando realmente hay una librería que lo hace por nosotros :)\n",
    "\n",
    "Recuerda que gran parte de la potencia de Python reside en sus librerías, ya que ahorra muchísimo tiempo el no tener que implementar ciertas funciones en nuestro código ya que esas y muchas más vienen ya desarrolladas en paquetes más que probados como `numpy`."
   ]
  },
  {
   "cell_type": "markdown",
   "metadata": {},
   "source": [
    "## 2. Numpy\n",
    "Esta librería va un paso más allá que las listas y permite realizar operaciones entre arrays, listas o matrices de una manera óptima. Características de `numpy`:\n",
    "\n",
    "* **Librería**: Es una librería de Python por lo que tendrás que importarla mediante `import numpy as np`. Por costumbre se suele poner el alias `np`.\n",
    "\n",
    "* **Listas y matrices**: Si nunca has trabajado con estos formatos de datos, no te puedes imaginar la cantidad de cosas que puedes hacer. Formatos de datos como por ejemplo las imágenes no dejan de ser matrices de números, que interpretados de la manera adecuada, representan píxeles con sus posiciones y sus colores.\n",
    "\n",
    "* **Rendimiento**: no es un tema *core* en Data Science ya que para realizar tus análisis explotatorios o ejecutar tus modelos, lo vas a poder hacer igual sin preocuparte de este factor. Ahora bien, la cosa se complica cuando productivizamos productos de datos y el SLA (Service Learning Agreement) es exigente. Aquí entra en juego `numpy` ya que es una librería muy rápida.\n",
    "\n",
    "\n",
    "**¿Qué podemos tratar con `numpy`?**\n",
    "* **Imágenes**: las imágenes se pueden tratar como arrays de pixels, los cuales tienen unos valores dependiendo del color.\n",
    "* **Audio**: también se pueden manejar mediante arrays unidimensionales.\n",
    "* **Texto**: lo podemos representar también en un formato numérico.\n",
    "\n",
    "Podrás encontrar toda la [documentación de `numpy` en su página oficial](https://numpy.org/doc/)."
   ]
  },
  {
   "cell_type": "code",
   "execution_count": 8,
   "metadata": {},
   "outputs": [
    {
     "output_type": "execute_result",
     "data": {
      "text/plain": "'1.18.1'"
     },
     "metadata": {},
     "execution_count": 8
    }
   ],
   "source": [
    "import numpy as np    \n",
    "np.__version__"
   ]
  },
  {
   "cell_type": "code",
   "execution_count": null,
   "metadata": {
    "tags": [
     "outputPrepend"
    ]
   },
   "outputs": [],
   "source": [
    "help(np.random)"
   ]
  },
  {
   "cell_type": "code",
   "execution_count": 5,
   "metadata": {},
   "outputs": [
    {
     "output_type": "stream",
     "text": "\u001b[1;31mType:\u001b[0m        module\n\u001b[1;31mString form:\u001b[0m <module 'numpy' from 'C:\\\\Users\\\\pilar\\\\Anaconda3\\\\lib\\\\site-packages\\\\numpy\\\\__init__.py'>\n\u001b[1;31mFile:\u001b[0m        c:\\users\\pilar\\anaconda3\\lib\\site-packages\\numpy\\__init__.py\n\u001b[1;31mDocstring:\u001b[0m  \nNumPy\n=====\n\nProvides\n  1. An array object of arbitrary homogeneous items\n  2. Fast mathematical operations over arrays\n  3. Linear Algebra, Fourier Transforms, Random Number Generation\n\nHow to use the documentation\n----------------------------\nDocumentation is available in two forms: docstrings provided\nwith the code, and a loose standing reference guide, available from\n`the NumPy homepage <https://www.scipy.org>`_.\n\nWe recommend exploring the docstrings using\n`IPython <https://ipython.org>`_, an advanced Python shell with\nTAB-completion and introspection capabilities.  See below for further\ninstructions.\n\nThe docstring examples assume that `numpy` has been imported as `np`::\n\n  >>> import numpy as np\n\nCode snippets are indicated by three greater-than signs::\n\n  >>> x = 42\n  >>> x = x + 1\n\nUse the built-in ``help`` function to view a function's docstring::\n\n  >>> help(np.sort)\n  ... # doctest: +SKIP\n\nFor some objects, ``np.info(obj)`` may provide additional help.  This is\nparticularly true if you see the line \"Help on ufunc object:\" at the top\nof the help() page.  Ufuncs are implemented in C, not Python, for speed.\nThe native Python help() does not know how to view their help, but our\nnp.info() function does.\n\nTo search for documents containing a keyword, do::\n\n  >>> np.lookfor('keyword')\n  ... # doctest: +SKIP\n\nGeneral-purpose documents like a glossary and help on the basic concepts\nof numpy are available under the ``doc`` sub-module::\n\n  >>> from numpy import doc\n  >>> help(doc)\n  ... # doctest: +SKIP\n\nAvailable subpackages\n---------------------\ndoc\n    Topical documentation on broadcasting, indexing, etc.\nlib\n    Basic functions used by several sub-packages.\nrandom\n    Core Random Tools\nlinalg\n    Core Linear Algebra Tools\nfft\n    Core FFT routines\npolynomial\n    Polynomial tools\ntesting\n    NumPy testing tools\nf2py\n    Fortran to Python Interface Generator.\ndistutils\n    Enhancements to distutils with support for\n    Fortran compilers support and more.\n\nUtilities\n---------\ntest\n    Run numpy unittests\nshow_config\n    Show numpy build configuration\ndual\n    Overwrite certain functions with high-performance Scipy tools\nmatlib\n    Make everything matrices.\n__version__\n    NumPy version string\n\nViewing documentation using IPython\n-----------------------------------\nStart IPython with the NumPy profile (``ipython -p numpy``), which will\nimport `numpy` under the alias `np`.  Then, use the ``cpaste`` command to\npaste examples into the shell.  To see which functions are available in\n`numpy`, type ``np.<TAB>`` (where ``<TAB>`` refers to the TAB key), or use\n``np.*cos*?<ENTER>`` (where ``<ENTER>`` refers to the ENTER key) to narrow\ndown the list.  To view the docstring for a function, use\n``np.cos?<ENTER>`` (to view the docstring) and ``np.cos??<ENTER>`` (to view\nthe source code).\n\nCopies vs. in-place operation\n-----------------------------\nMost of the functions in `numpy` return a copy of the array argument\n(e.g., `np.sort`).  In-place versions of these functions are often\navailable as array methods, i.e. ``x = np.array([1,2,3]); x.sort()``.\nExceptions to this rule are documented.\n"
    }
   ],
   "source": [
    "np?"
   ]
  },
  {
   "cell_type": "code",
   "execution_count": null,
   "metadata": {},
   "outputs": [],
   "source": []
  },
  {
   "cell_type": "markdown",
   "metadata": {},
   "source": [
    "Se verá más en detalle en posteriores apartados, pero algunos ejemplos de cosas que podemos hacer con `numpy` son:"
   ]
  },
  {
   "cell_type": "code",
   "execution_count": 10,
   "metadata": {},
   "outputs": [
    {
     "output_type": "execute_result",
     "data": {
      "text/plain": "array([10, 20, 30, 40, 50, 60, 70, 80, 90])"
     },
     "metadata": {},
     "execution_count": 10
    }
   ],
   "source": [
    "array = np.array([1,2,3,4,5,6,7,8,9])\n",
    "array * 10"
   ]
  },
  {
   "cell_type": "code",
   "execution_count": 16,
   "metadata": {
    "tags": []
   },
   "outputs": [
    {
     "output_type": "stream",
     "name": "stdout",
     "text": "<class 'imageio.core.util.Array'>\n(306, 765, 4)\n"
    },
    {
     "output_type": "execute_result",
     "data": {
      "text/plain": "<matplotlib.image.AxesImage at 0x22113a17fc8>"
     },
     "metadata": {},
     "execution_count": 16
    },
    {
     "output_type": "display_data",
     "data": {
      "text/plain": "<Figure size 432x288 with 1 Axes>",
      "image/svg+xml": "<?xml version=\"1.0\" encoding=\"utf-8\" standalone=\"no\"?>\r\n<!DOCTYPE svg PUBLIC \"-//W3C//DTD SVG 1.1//EN\"\r\n  \"http://www.w3.org/Graphics/SVG/1.1/DTD/svg11.dtd\">\r\n<!-- Created with matplotlib (https://matplotlib.org/) -->\r\n<svg height=\"168.57852pt\" version=\"1.1\" viewBox=\"0 0 375.2875 168.57852\" width=\"375.2875pt\" xmlns=\"http://www.w3.org/2000/svg\" xmlns:xlink=\"http://www.w3.org/1999/xlink\">\r\n <defs>\r\n  <style type=\"text/css\">\r\n*{stroke-linecap:butt;stroke-linejoin:round;}\r\n  </style>\r\n </defs>\r\n <g id=\"figure_1\">\r\n  <g id=\"patch_1\">\r\n   <path d=\"M 0 168.57852 \r\nL 375.2875 168.57852 \r\nL 375.2875 0 \r\nL 0 0 \r\nz\r\n\" style=\"fill:none;\"/>\r\n  </g>\r\n  <g id=\"axes_1\">\r\n   <g id=\"patch_2\">\r\n    <path d=\"M 33.2875 144.700395 \r\nL 368.0875 144.700395 \r\nL 368.0875 10.780395 \r\nL 33.2875 10.780395 \r\nz\r\n\" style=\"fill:#ffffff;\"/>\r\n   </g>\r\n   <g clip-path=\"url(#p59d4fa29af)\">\r\n    <image height=\"134\" id=\"imagecf638016b6\" transform=\"scale(1 -1)translate(0 -134)\" width=\"335\" x=\"33.2875\" xlink:href=\"data:image/png;base64,\r\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\" y=\"-10.700395\"/>\r\n   </g>\r\n   <g id=\"matplotlib.axis_1\">\r\n    <g id=\"xtick_1\">\r\n     <g id=\"line2d_1\">\r\n      <defs>\r\n       <path d=\"M 0 0 \r\nL 0 3.5 \r\n\" id=\"m46f935680a\" style=\"stroke:#000000;stroke-width:0.8;\"/>\r\n      </defs>\r\n      <g>\r\n       <use style=\"stroke:#000000;stroke-width:0.8;\" x=\"33.506324\" xlink:href=\"#m46f935680a\" y=\"144.700395\"/>\r\n      </g>\r\n     </g>\r\n     <g id=\"text_1\">\r\n      <!-- 0 -->\r\n      <defs>\r\n       <path d=\"M 31.78125 66.40625 \r\nQ 24.171875 66.40625 20.328125 58.90625 \r\nQ 16.5 51.421875 16.5 36.375 \r\nQ 16.5 21.390625 20.328125 13.890625 \r\nQ 24.171875 6.390625 31.78125 6.390625 \r\nQ 39.453125 6.390625 43.28125 13.890625 \r\nQ 47.125 21.390625 47.125 36.375 \r\nQ 47.125 51.421875 43.28125 58.90625 \r\nQ 39.453125 66.40625 31.78125 66.40625 \r\nz\r\nM 31.78125 74.21875 \r\nQ 44.046875 74.21875 50.515625 64.515625 \r\nQ 56.984375 54.828125 56.984375 36.375 \r\nQ 56.984375 17.96875 50.515625 8.265625 \r\nQ 44.046875 -1.421875 31.78125 -1.421875 \r\nQ 19.53125 -1.421875 13.0625 8.265625 \r\nQ 6.59375 17.96875 6.59375 36.375 \r\nQ 6.59375 54.828125 13.0625 64.515625 \r\nQ 19.53125 74.21875 31.78125 74.21875 \r\nz\r\n\" id=\"DejaVuSans-48\"/>\r\n      </defs>\r\n      <g transform=\"translate(30.325074 159.298833)scale(0.1 -0.1)\">\r\n       <use xlink:href=\"#DejaVuSans-48\"/>\r\n      </g>\r\n     </g>\r\n    </g>\r\n    <g id=\"xtick_2\">\r\n     <g id=\"line2d_2\">\r\n      <g>\r\n       <use style=\"stroke:#000000;stroke-width:0.8;\" x=\"77.271029\" xlink:href=\"#m46f935680a\" y=\"144.700395\"/>\r\n      </g>\r\n     </g>\r\n     <g id=\"text_2\">\r\n      <!-- 100 -->\r\n      <defs>\r\n       <path d=\"M 12.40625 8.296875 \r\nL 28.515625 8.296875 \r\nL 28.515625 63.921875 \r\nL 10.984375 60.40625 \r\nL 10.984375 69.390625 \r\nL 28.421875 72.90625 \r\nL 38.28125 72.90625 \r\nL 38.28125 8.296875 \r\nL 54.390625 8.296875 \r\nL 54.390625 0 \r\nL 12.40625 0 \r\nz\r\n\" id=\"DejaVuSans-49\"/>\r\n      </defs>\r\n      <g transform=\"translate(67.727279 159.298833)scale(0.1 -0.1)\">\r\n       <use xlink:href=\"#DejaVuSans-49\"/>\r\n       <use x=\"63.623047\" xlink:href=\"#DejaVuSans-48\"/>\r\n       <use x=\"127.246094\" xlink:href=\"#DejaVuSans-48\"/>\r\n      </g>\r\n     </g>\r\n    </g>\r\n    <g id=\"xtick_3\">\r\n     <g id=\"line2d_3\">\r\n      <g>\r\n       <use style=\"stroke:#000000;stroke-width:0.8;\" x=\"121.035735\" xlink:href=\"#m46f935680a\" y=\"144.700395\"/>\r\n      </g>\r\n     </g>\r\n     <g id=\"text_3\">\r\n      <!-- 200 -->\r\n      <defs>\r\n       <path d=\"M 19.1875 8.296875 \r\nL 53.609375 8.296875 \r\nL 53.609375 0 \r\nL 7.328125 0 \r\nL 7.328125 8.296875 \r\nQ 12.9375 14.109375 22.625 23.890625 \r\nQ 32.328125 33.6875 34.8125 36.53125 \r\nQ 39.546875 41.84375 41.421875 45.53125 \r\nQ 43.3125 49.21875 43.3125 52.78125 \r\nQ 43.3125 58.59375 39.234375 62.25 \r\nQ 35.15625 65.921875 28.609375 65.921875 \r\nQ 23.96875 65.921875 18.8125 64.3125 \r\nQ 13.671875 62.703125 7.8125 59.421875 \r\nL 7.8125 69.390625 \r\nQ 13.765625 71.78125 18.9375 73 \r\nQ 24.125 74.21875 28.421875 74.21875 \r\nQ 39.75 74.21875 46.484375 68.546875 \r\nQ 53.21875 62.890625 53.21875 53.421875 \r\nQ 53.21875 48.921875 51.53125 44.890625 \r\nQ 49.859375 40.875 45.40625 35.40625 \r\nQ 44.1875 33.984375 37.640625 27.21875 \r\nQ 31.109375 20.453125 19.1875 8.296875 \r\nz\r\n\" id=\"DejaVuSans-50\"/>\r\n      </defs>\r\n      <g transform=\"translate(111.491985 159.298833)scale(0.1 -0.1)\">\r\n       <use xlink:href=\"#DejaVuSans-50\"/>\r\n       <use x=\"63.623047\" xlink:href=\"#DejaVuSans-48\"/>\r\n       <use x=\"127.246094\" xlink:href=\"#DejaVuSans-48\"/>\r\n      </g>\r\n     </g>\r\n    </g>\r\n    <g id=\"xtick_4\">\r\n     <g id=\"line2d_4\">\r\n      <g>\r\n       <use style=\"stroke:#000000;stroke-width:0.8;\" x=\"164.800441\" xlink:href=\"#m46f935680a\" y=\"144.700395\"/>\r\n      </g>\r\n     </g>\r\n     <g id=\"text_4\">\r\n      <!-- 300 -->\r\n      <defs>\r\n       <path d=\"M 40.578125 39.3125 \r\nQ 47.65625 37.796875 51.625 33 \r\nQ 55.609375 28.21875 55.609375 21.1875 \r\nQ 55.609375 10.40625 48.1875 4.484375 \r\nQ 40.765625 -1.421875 27.09375 -1.421875 \r\nQ 22.515625 -1.421875 17.65625 -0.515625 \r\nQ 12.796875 0.390625 7.625 2.203125 \r\nL 7.625 11.71875 \r\nQ 11.71875 9.328125 16.59375 8.109375 \r\nQ 21.484375 6.890625 26.8125 6.890625 \r\nQ 36.078125 6.890625 40.9375 10.546875 \r\nQ 45.796875 14.203125 45.796875 21.1875 \r\nQ 45.796875 27.640625 41.28125 31.265625 \r\nQ 36.765625 34.90625 28.71875 34.90625 \r\nL 20.21875 34.90625 \r\nL 20.21875 43.015625 \r\nL 29.109375 43.015625 \r\nQ 36.375 43.015625 40.234375 45.921875 \r\nQ 44.09375 48.828125 44.09375 54.296875 \r\nQ 44.09375 59.90625 40.109375 62.90625 \r\nQ 36.140625 65.921875 28.71875 65.921875 \r\nQ 24.65625 65.921875 20.015625 65.03125 \r\nQ 15.375 64.15625 9.8125 62.3125 \r\nL 9.8125 71.09375 \r\nQ 15.4375 72.65625 20.34375 73.4375 \r\nQ 25.25 74.21875 29.59375 74.21875 \r\nQ 40.828125 74.21875 47.359375 69.109375 \r\nQ 53.90625 64.015625 53.90625 55.328125 \r\nQ 53.90625 49.265625 50.4375 45.09375 \r\nQ 46.96875 40.921875 40.578125 39.3125 \r\nz\r\n\" id=\"DejaVuSans-51\"/>\r\n      </defs>\r\n      <g transform=\"translate(155.256691 159.298833)scale(0.1 -0.1)\">\r\n       <use xlink:href=\"#DejaVuSans-51\"/>\r\n       <use x=\"63.623047\" xlink:href=\"#DejaVuSans-48\"/>\r\n       <use x=\"127.246094\" xlink:href=\"#DejaVuSans-48\"/>\r\n      </g>\r\n     </g>\r\n    </g>\r\n    <g id=\"xtick_5\">\r\n     <g id=\"line2d_5\">\r\n      <g>\r\n       <use style=\"stroke:#000000;stroke-width:0.8;\" x=\"208.565147\" xlink:href=\"#m46f935680a\" y=\"144.700395\"/>\r\n      </g>\r\n     </g>\r\n     <g id=\"text_5\">\r\n      <!-- 400 -->\r\n      <defs>\r\n       <path d=\"M 37.796875 64.3125 \r\nL 12.890625 25.390625 \r\nL 37.796875 25.390625 \r\nz\r\nM 35.203125 72.90625 \r\nL 47.609375 72.90625 \r\nL 47.609375 25.390625 \r\nL 58.015625 25.390625 \r\nL 58.015625 17.1875 \r\nL 47.609375 17.1875 \r\nL 47.609375 0 \r\nL 37.796875 0 \r\nL 37.796875 17.1875 \r\nL 4.890625 17.1875 \r\nL 4.890625 26.703125 \r\nz\r\n\" id=\"DejaVuSans-52\"/>\r\n      </defs>\r\n      <g transform=\"translate(199.021397 159.298833)scale(0.1 -0.1)\">\r\n       <use xlink:href=\"#DejaVuSans-52\"/>\r\n       <use x=\"63.623047\" xlink:href=\"#DejaVuSans-48\"/>\r\n       <use x=\"127.246094\" xlink:href=\"#DejaVuSans-48\"/>\r\n      </g>\r\n     </g>\r\n    </g>\r\n    <g id=\"xtick_6\">\r\n     <g id=\"line2d_6\">\r\n      <g>\r\n       <use style=\"stroke:#000000;stroke-width:0.8;\" x=\"252.329853\" xlink:href=\"#m46f935680a\" y=\"144.700395\"/>\r\n      </g>\r\n     </g>\r\n     <g id=\"text_6\">\r\n      <!-- 500 -->\r\n      <defs>\r\n       <path d=\"M 10.796875 72.90625 \r\nL 49.515625 72.90625 \r\nL 49.515625 64.59375 \r\nL 19.828125 64.59375 \r\nL 19.828125 46.734375 \r\nQ 21.96875 47.46875 24.109375 47.828125 \r\nQ 26.265625 48.1875 28.421875 48.1875 \r\nQ 40.625 48.1875 47.75 41.5 \r\nQ 54.890625 34.8125 54.890625 23.390625 \r\nQ 54.890625 11.625 47.5625 5.09375 \r\nQ 40.234375 -1.421875 26.90625 -1.421875 \r\nQ 22.3125 -1.421875 17.546875 -0.640625 \r\nQ 12.796875 0.140625 7.71875 1.703125 \r\nL 7.71875 11.625 \r\nQ 12.109375 9.234375 16.796875 8.0625 \r\nQ 21.484375 6.890625 26.703125 6.890625 \r\nQ 35.15625 6.890625 40.078125 11.328125 \r\nQ 45.015625 15.765625 45.015625 23.390625 \r\nQ 45.015625 31 40.078125 35.4375 \r\nQ 35.15625 39.890625 26.703125 39.890625 \r\nQ 22.75 39.890625 18.8125 39.015625 \r\nQ 14.890625 38.140625 10.796875 36.28125 \r\nz\r\n\" id=\"DejaVuSans-53\"/>\r\n      </defs>\r\n      <g transform=\"translate(242.786103 159.298833)scale(0.1 -0.1)\">\r\n       <use xlink:href=\"#DejaVuSans-53\"/>\r\n       <use x=\"63.623047\" xlink:href=\"#DejaVuSans-48\"/>\r\n       <use x=\"127.246094\" xlink:href=\"#DejaVuSans-48\"/>\r\n      </g>\r\n     </g>\r\n    </g>\r\n    <g id=\"xtick_7\">\r\n     <g id=\"line2d_7\">\r\n      <g>\r\n       <use style=\"stroke:#000000;stroke-width:0.8;\" x=\"296.094559\" xlink:href=\"#m46f935680a\" y=\"144.700395\"/>\r\n      </g>\r\n     </g>\r\n     <g id=\"text_7\">\r\n      <!-- 600 -->\r\n      <defs>\r\n       <path d=\"M 33.015625 40.375 \r\nQ 26.375 40.375 22.484375 35.828125 \r\nQ 18.609375 31.296875 18.609375 23.390625 \r\nQ 18.609375 15.53125 22.484375 10.953125 \r\nQ 26.375 6.390625 33.015625 6.390625 \r\nQ 39.65625 6.390625 43.53125 10.953125 \r\nQ 47.40625 15.53125 47.40625 23.390625 \r\nQ 47.40625 31.296875 43.53125 35.828125 \r\nQ 39.65625 40.375 33.015625 40.375 \r\nz\r\nM 52.59375 71.296875 \r\nL 52.59375 62.3125 \r\nQ 48.875 64.0625 45.09375 64.984375 \r\nQ 41.3125 65.921875 37.59375 65.921875 \r\nQ 27.828125 65.921875 22.671875 59.328125 \r\nQ 17.53125 52.734375 16.796875 39.40625 \r\nQ 19.671875 43.65625 24.015625 45.921875 \r\nQ 28.375 48.1875 33.59375 48.1875 \r\nQ 44.578125 48.1875 50.953125 41.515625 \r\nQ 57.328125 34.859375 57.328125 23.390625 \r\nQ 57.328125 12.15625 50.6875 5.359375 \r\nQ 44.046875 -1.421875 33.015625 -1.421875 \r\nQ 20.359375 -1.421875 13.671875 8.265625 \r\nQ 6.984375 17.96875 6.984375 36.375 \r\nQ 6.984375 53.65625 15.1875 63.9375 \r\nQ 23.390625 74.21875 37.203125 74.21875 \r\nQ 40.921875 74.21875 44.703125 73.484375 \r\nQ 48.484375 72.75 52.59375 71.296875 \r\nz\r\n\" id=\"DejaVuSans-54\"/>\r\n      </defs>\r\n      <g transform=\"translate(286.550809 159.298833)scale(0.1 -0.1)\">\r\n       <use xlink:href=\"#DejaVuSans-54\"/>\r\n       <use x=\"63.623047\" xlink:href=\"#DejaVuSans-48\"/>\r\n       <use x=\"127.246094\" xlink:href=\"#DejaVuSans-48\"/>\r\n      </g>\r\n     </g>\r\n    </g>\r\n    <g id=\"xtick_8\">\r\n     <g id=\"line2d_8\">\r\n      <g>\r\n       <use style=\"stroke:#000000;stroke-width:0.8;\" x=\"339.859265\" xlink:href=\"#m46f935680a\" y=\"144.700395\"/>\r\n      </g>\r\n     </g>\r\n     <g id=\"text_8\">\r\n      <!-- 700 -->\r\n      <defs>\r\n       <path d=\"M 8.203125 72.90625 \r\nL 55.078125 72.90625 \r\nL 55.078125 68.703125 \r\nL 28.609375 0 \r\nL 18.3125 0 \r\nL 43.21875 64.59375 \r\nL 8.203125 64.59375 \r\nz\r\n\" id=\"DejaVuSans-55\"/>\r\n      </defs>\r\n      <g transform=\"translate(330.315515 159.298833)scale(0.1 -0.1)\">\r\n       <use xlink:href=\"#DejaVuSans-55\"/>\r\n       <use x=\"63.623047\" xlink:href=\"#DejaVuSans-48\"/>\r\n       <use x=\"127.246094\" xlink:href=\"#DejaVuSans-48\"/>\r\n      </g>\r\n     </g>\r\n    </g>\r\n   </g>\r\n   <g id=\"matplotlib.axis_2\">\r\n    <g id=\"ytick_1\">\r\n     <g id=\"line2d_9\">\r\n      <defs>\r\n       <path d=\"M 0 0 \r\nL -3.5 0 \r\n\" id=\"m9295813fe6\" style=\"stroke:#000000;stroke-width:0.8;\"/>\r\n      </defs>\r\n      <g>\r\n       <use style=\"stroke:#000000;stroke-width:0.8;\" x=\"33.2875\" xlink:href=\"#m9295813fe6\" y=\"10.999219\"/>\r\n      </g>\r\n     </g>\r\n     <g id=\"text_9\">\r\n      <!-- 0 -->\r\n      <g transform=\"translate(19.925 14.798438)scale(0.1 -0.1)\">\r\n       <use xlink:href=\"#DejaVuSans-48\"/>\r\n      </g>\r\n     </g>\r\n    </g>\r\n    <g id=\"ytick_2\">\r\n     <g id=\"line2d_10\">\r\n      <g>\r\n       <use style=\"stroke:#000000;stroke-width:0.8;\" x=\"33.2875\" xlink:href=\"#m9295813fe6\" y=\"54.763925\"/>\r\n      </g>\r\n     </g>\r\n     <g id=\"text_10\">\r\n      <!-- 100 -->\r\n      <g transform=\"translate(7.2 58.563143)scale(0.1 -0.1)\">\r\n       <use xlink:href=\"#DejaVuSans-49\"/>\r\n       <use x=\"63.623047\" xlink:href=\"#DejaVuSans-48\"/>\r\n       <use x=\"127.246094\" xlink:href=\"#DejaVuSans-48\"/>\r\n      </g>\r\n     </g>\r\n    </g>\r\n    <g id=\"ytick_3\">\r\n     <g id=\"line2d_11\">\r\n      <g>\r\n       <use style=\"stroke:#000000;stroke-width:0.8;\" x=\"33.2875\" xlink:href=\"#m9295813fe6\" y=\"98.528631\"/>\r\n      </g>\r\n     </g>\r\n     <g id=\"text_11\">\r\n      <!-- 200 -->\r\n      <g transform=\"translate(7.2 102.327849)scale(0.1 -0.1)\">\r\n       <use xlink:href=\"#DejaVuSans-50\"/>\r\n       <use x=\"63.623047\" xlink:href=\"#DejaVuSans-48\"/>\r\n       <use x=\"127.246094\" xlink:href=\"#DejaVuSans-48\"/>\r\n      </g>\r\n     </g>\r\n    </g>\r\n    <g id=\"ytick_4\">\r\n     <g id=\"line2d_12\">\r\n      <g>\r\n       <use style=\"stroke:#000000;stroke-width:0.8;\" x=\"33.2875\" xlink:href=\"#m9295813fe6\" y=\"142.293336\"/>\r\n      </g>\r\n     </g>\r\n     <g id=\"text_12\">\r\n      <!-- 300 -->\r\n      <g transform=\"translate(7.2 146.092555)scale(0.1 -0.1)\">\r\n       <use xlink:href=\"#DejaVuSans-51\"/>\r\n       <use x=\"63.623047\" xlink:href=\"#DejaVuSans-48\"/>\r\n       <use x=\"127.246094\" xlink:href=\"#DejaVuSans-48\"/>\r\n      </g>\r\n     </g>\r\n    </g>\r\n   </g>\r\n   <g id=\"patch_3\">\r\n    <path d=\"M 33.2875 144.700395 \r\nL 33.2875 10.780395 \r\n\" style=\"fill:none;stroke:#000000;stroke-linecap:square;stroke-linejoin:miter;stroke-width:0.8;\"/>\r\n   </g>\r\n   <g id=\"patch_4\">\r\n    <path d=\"M 368.0875 144.700395 \r\nL 368.0875 10.780395 \r\n\" style=\"fill:none;stroke:#000000;stroke-linecap:square;stroke-linejoin:miter;stroke-width:0.8;\"/>\r\n   </g>\r\n   <g id=\"patch_5\">\r\n    <path d=\"M 33.2875 144.700395 \r\nL 368.0875 144.700395 \r\n\" style=\"fill:none;stroke:#000000;stroke-linecap:square;stroke-linejoin:miter;stroke-width:0.8;\"/>\r\n   </g>\r\n   <g id=\"patch_6\">\r\n    <path d=\"M 33.2875 10.780395 \r\nL 368.0875 10.780395 \r\n\" style=\"fill:none;stroke:#000000;stroke-linecap:square;stroke-linejoin:miter;stroke-width:0.8;\"/>\r\n   </g>\r\n  </g>\r\n </g>\r\n <defs>\r\n  <clipPath id=\"p59d4fa29af\">\r\n   <rect height=\"133.92\" width=\"334.8\" x=\"33.2875\" y=\"10.780395\"/>\r\n  </clipPath>\r\n </defs>\r\n</svg>\r\n",
      "image/png": "[encoded data removed]"
     },
     "metadata": {
      "needs_background": "light"
     }
    }
   ],
   "source": [
    "from skimage.io import imread\n",
    "import matplotlib.pyplot as plt \n",
    "\n",
    "image = imread(\"../../imagenes/numpy.png\")\n",
    "\n",
    "print(type(image))\n",
    "print(image.shape)\n",
    "\n",
    "plt.imshow(image)"
   ]
  },
  {
   "cell_type": "code",
   "execution_count": 14,
   "metadata": {},
   "outputs": [
    {
     "output_type": "execute_result",
     "data": {
      "text/plain": "Array([[[255, 255, 255],\n        [255, 255, 255],\n        [255, 255, 255],\n        ...,\n        [255, 255, 255],\n        [255, 255, 255],\n        [255, 255, 255]],\n\n       [[255, 255, 255],\n        [255, 255, 255],\n        [255, 255, 255],\n        ...,\n        [255, 255, 255],\n        [255, 255, 255],\n        [255, 255, 255]],\n\n       [[255, 255, 255],\n        [255, 255, 255],\n        [255, 255, 255],\n        ...,\n        [255, 255, 255],\n        [255, 255, 255],\n        [255, 255, 255]],\n\n       ...,\n\n       [[255, 255, 255],\n        [255, 255, 255],\n        [255, 255, 255],\n        ...,\n        [255, 255, 255],\n        [255, 255, 255],\n        [255, 255, 255]],\n\n       [[255, 255, 255],\n        [255, 255, 255],\n        [255, 255, 255],\n        ...,\n        [255, 255, 255],\n        [255, 255, 255],\n        [255, 255, 255]],\n\n       [[255, 255, 255],\n        [255, 255, 255],\n        [255, 255, 255],\n        ...,\n        [255, 255, 255],\n        [255, 255, 255],\n        [255, 255, 255]]], dtype=uint8)"
     },
     "metadata": {},
     "execution_count": 14
    }
   ],
   "source": [
    "image"
   ]
  },
  {
   "cell_type": "markdown",
   "metadata": {},
   "source": [
    "## 3. Creacion de arrays\n",
    "Lo primero, importamos la librería de `numpy`"
   ]
  },
  {
   "cell_type": "code",
   "execution_count": 20,
   "metadata": {},
   "outputs": [],
   "source": [
    "import numpy as np "
   ]
  },
  {
   "cell_type": "markdown",
   "metadata": {},
   "source": [
    "**Vectores**\n",
    "\n",
    "Ya podemos crear nuestro primer vector. Que se trata de un array de 1D"
   ]
  },
  {
   "cell_type": "code",
   "execution_count": 21,
   "metadata": {},
   "outputs": [
    {
     "output_type": "execute_result",
     "data": {
      "text/plain": "array([1, 2, 3, 4, 5])"
     },
     "metadata": {},
     "execution_count": 21
    }
   ],
   "source": [
    "array = np.array([1,2,3,4,5])\n",
    "array"
   ]
  },
  {
   "cell_type": "code",
   "execution_count": 23,
   "metadata": {},
   "outputs": [
    {
     "output_type": "execute_result",
     "data": {
      "text/plain": "1"
     },
     "metadata": {},
     "execution_count": 23
    }
   ],
   "source": [
    "array[0]"
   ]
  },
  {
   "cell_type": "code",
   "execution_count": 25,
   "metadata": {},
   "outputs": [
    {
     "output_type": "execute_result",
     "data": {
      "text/plain": "2"
     },
     "metadata": {},
     "execution_count": 25
    }
   ],
   "source": [
    "array[1]"
   ]
  },
  {
   "cell_type": "markdown",
   "metadata": {},
   "source": [
    "El acceso a sus elementos es igual que en las listas"
   ]
  },
  {
   "cell_type": "code",
   "execution_count": 28,
   "metadata": {},
   "outputs": [
    {
     "output_type": "execute_result",
     "data": {
      "text/plain": "4"
     },
     "metadata": {},
     "execution_count": 28
    }
   ],
   "source": [
    "array[-2]"
   ]
  },
  {
   "cell_type": "markdown",
   "metadata": {},
   "source": [
    "**Fíjate en el tipo**. Ya no son listas, aunque lo parecen. Incluso los tipos de los datos ya no son los que conocemos, sino que `numpy` aporta nuevos tipos de datos. Lo veremos más adelante."
   ]
  },
  {
   "cell_type": "code",
   "execution_count": 31,
   "metadata": {},
   "outputs": [
    {
     "output_type": "execute_result",
     "data": {
      "text/plain": "numpy.ndarray"
     },
     "metadata": {},
     "execution_count": 31
    }
   ],
   "source": [
    "type(array)"
   ]
  },
  {
   "cell_type": "code",
   "execution_count": 33,
   "metadata": {},
   "outputs": [
    {
     "output_type": "execute_result",
     "data": {
      "text/plain": "numpy.int32"
     },
     "metadata": {},
     "execution_count": 33
    }
   ],
   "source": [
    "type(array[0])"
   ]
  },
  {
   "cell_type": "code",
   "execution_count": 34,
   "metadata": {},
   "outputs": [
    {
     "output_type": "execute_result",
     "data": {
      "text/plain": "dtype('int32')"
     },
     "metadata": {},
     "execution_count": 34
    }
   ],
   "source": [
    "array.dtype"
   ]
  },
  {
   "cell_type": "markdown",
   "metadata": {},
   "source": [
    "**Matrices**\n",
    "\n",
    "Vamos a crear ahora un **array multidimensional**"
   ]
  },
  {
   "cell_type": "code",
   "execution_count": 38,
   "metadata": {},
   "outputs": [
    {
     "output_type": "execute_result",
     "data": {
      "text/plain": "array([[1, 2, 3],\n       [2, 3, 4],\n       [3, 4, 5]])"
     },
     "metadata": {},
     "execution_count": 38
    }
   ],
   "source": [
    "multi_array = np.array([[1,2,3],[2,3,4],[3,4,5]]) \n",
    "multi_array"
   ]
  },
  {
   "cell_type": "markdown",
   "metadata": {},
   "source": [
    "Otra ventaja de usar `numpy` en vez de listas es que el `print` lo realiza en formato matriz, lo que nos permite ver los datos mucho mejor que si lo imprimiese en una sola línea.\n",
    "\n",
    "**Secuencias**\n",
    "\n",
    "¿Recuerdas `range()`? Lo usábamos en listas para crear secuencias, estableciendo el punto de inicio, de parada, y el salto entre elementos. En `numpy` hay algo parecido denominado `arange`. [Te dejo el enlace a la documentación](https://numpy.org/doc/stable/reference/generated/numpy.arange.html)."
   ]
  },
  {
   "cell_type": "code",
   "execution_count": 42,
   "metadata": {},
   "outputs": [
    {
     "output_type": "execute_result",
     "data": {
      "text/plain": "array([0, 1, 2, 3, 4, 5, 6, 7, 8, 9])"
     },
     "metadata": {},
     "execution_count": 42
    }
   ],
   "source": [
    "np.arange(10)"
   ]
  },
  {
   "cell_type": "code",
   "execution_count": 45,
   "metadata": {},
   "outputs": [
    {
     "output_type": "execute_result",
     "data": {
      "text/plain": "array([0, 2, 4, 6, 8])"
     },
     "metadata": {},
     "execution_count": 45
    }
   ],
   "source": [
    "#Del 0 al 10, cada dos\n",
    "np.arange(0,10,2)"
   ]
  },
  {
   "cell_type": "code",
   "execution_count": 47,
   "metadata": {},
   "outputs": [
    {
     "output_type": "execute_result",
     "data": {
      "text/plain": "array([0. , 0.5, 1. , 1.5, 2. , 2.5, 3. , 3.5, 4. , 4.5, 5. , 5.5, 6. ,\n       6.5, 7. , 7.5, 8. , 8.5, 9. , 9.5])"
     },
     "metadata": {},
     "execution_count": 47
    }
   ],
   "source": [
    "# Array de 0 a 10, con saltos de 0'5\n",
    "np.arange(0,10, 0.5)"
   ]
  },
  {
   "cell_type": "code",
   "execution_count": 51,
   "metadata": {},
   "outputs": [
    {
     "output_type": "execute_result",
     "data": {
      "text/plain": "array([0., 2., 4., 6., 8.])"
     },
     "metadata": {},
     "execution_count": 51
    }
   ],
   "source": [
    "# Especificando en tipo de dato. En la 4ª posición de los inputs\n",
    "np.arange(0,10, 2, np.float64)"
   ]
  },
  {
   "cell_type": "markdown",
   "metadata": {},
   "source": [
    "**Random**\n",
    "\n",
    "Otra opción es usar el paquete `random` de `numpy`. **Muy útil cuando tenemos que crear secuencias aleatorias**, y lo mejor de todo es que tiene una gran cantidad de opciones para configurar. [Consulta la documentación para más detalle](https://docs.scipy.org/doc/numpy-1.14.0/reference/routines.random.html)."
   ]
  },
  {
   "cell_type": "code",
   "execution_count": 56,
   "metadata": {},
   "outputs": [
    {
     "output_type": "execute_result",
     "data": {
      "text/plain": "array([0.62093867, 0.73089831, 0.90812369, 0.20288878, 0.51924941,\n       0.04167225, 0.35001831, 0.47181253, 0.98447478, 0.87924244])"
     },
     "metadata": {},
     "execution_count": 56
    }
   ],
   "source": [
    "np.random.rand(10) "
   ]
  },
  {
   "cell_type": "code",
   "execution_count": 58,
   "metadata": {},
   "outputs": [
    {
     "output_type": "execute_result",
     "data": {
      "text/plain": "array([[3, 1, 3, 4],\n       [2, 3, 0, 2],\n       [2, 0, 3, 1]])"
     },
     "metadata": {},
     "execution_count": 58
    }
   ],
   "source": [
    "# Si quiero una matriz de números aleatorios\n",
    "np.random.randint(5,size=(3,4))"
   ]
  },
  {
   "cell_type": "code",
   "execution_count": 61,
   "metadata": {},
   "outputs": [
    {
     "output_type": "execute_result",
     "data": {
      "text/plain": "array([7, 7, 9, 9, 6, 5, 6, 8, 7, 6])"
     },
     "metadata": {},
     "execution_count": 61
    }
   ],
   "source": [
    "#Matriz unidimensional\n",
    "np.random.randint(5,10, size=(10))"
   ]
  },
  {
   "cell_type": "markdown",
   "metadata": {},
   "source": [
    "**Seed**\n",
    "\n",
    "Como habrás podido comprobar, cada ejecución de una secuencia aleatoria es diferente. **Fijando una semilla, todas las secuencias aleatorias que ejecutes (si tienen los mismos argumentos), tendrán siempre el mismo output**. Se usa mucho cuando queremos replicar resultados, o compartirlos con otros compañeros. Los resultados que obtengas en este Notebook no serán los mismos que obtenga el compañero, en caso de haber un factor aleatorio, por lo que no vamos a poder comparar los Notebooks... A no ser que ambos fijéis la misma semilla.\n",
    "\n",
    "**¿Qué valor ponemos en seed? El que queramos** mientras en el resto de Notebooks donde queramos replicar estos resultados, tengan la misma semilla."
   ]
  },
  {
   "cell_type": "code",
   "execution_count": 68,
   "metadata": {
    "tags": []
   },
   "outputs": [
    {
     "output_type": "stream",
     "name": "stdout",
     "text": "[0.19151945 0.62210877 0.43772774 0.78535858 0.77997581 0.27259261\n 0.27646426 0.80187218 0.95813935 0.87593263]\n\n[0.48932698 0.05933244 0.36620243 0.51886544 0.59822501 0.43061449\n 0.17863405 0.2852539  0.07143863 0.18471334]\n\n[0.82110393 0.43481484 0.96301117 0.42229673 0.79252674 0.86074734\n 0.66981749 0.11847579 0.05544339 0.80772206]\n"
    }
   ],
   "source": [
    "np.random.seed(1234)\n",
    "print(np.random.rand(10))\n",
    "print(\"\")\n",
    "np.random.seed(5678)\n",
    "print(np.random.rand(10))\n",
    "print(\"\")\n",
    "np.random.seed(None)\n",
    "print(np.random.rand(10))"
   ]
  },
  {
   "cell_type": "markdown",
   "metadata": {},
   "source": [
    "**Matrices con valores**\n",
    "[Hay diferentes maneras de crear arrays o matrices](https://numpy.org/doc/stable/reference/routines.array-creation.html), pero en ocasiones necesitamos tener predefinidas matrices con un único valor. Veamos algunos ejemplos."
   ]
  },
  {
   "cell_type": "code",
   "execution_count": 71,
   "metadata": {},
   "outputs": [
    {
     "output_type": "execute_result",
     "data": {
      "text/plain": "array([[1., 0., 0.],\n       [0., 1., 0.],\n       [0., 0., 1.]])"
     },
     "metadata": {},
     "execution_count": 71
    }
   ],
   "source": [
    "#Matriz identidad. Matriz de todo '0' y un una digonal de '1'\n",
    "np.identity(3) "
   ]
  },
  {
   "cell_type": "code",
   "execution_count": 73,
   "metadata": {},
   "outputs": [
    {
     "output_type": "execute_result",
     "data": {
      "text/plain": "array([[0., 0., 0.],\n       [0., 0., 0.],\n       [0., 0., 0.]])"
     },
     "metadata": {},
     "execution_count": 73
    }
   ],
   "source": [
    "#Matriz de '0' ceros\n",
    "np.zeros((3,3))"
   ]
  },
  {
   "cell_type": "code",
   "execution_count": 78,
   "metadata": {},
   "outputs": [
    {
     "output_type": "execute_result",
     "data": {
      "text/plain": "array([[1., 1., 1.],\n       [1., 1., 1.],\n       [1., 1., 1.]])"
     },
     "metadata": {},
     "execution_count": 78
    }
   ],
   "source": [
    "#Matriz de '1' unos\n",
    "np.ones(shape=(3,3))"
   ]
  },
  {
   "cell_type": "code",
   "execution_count": 79,
   "metadata": {},
   "outputs": [
    {
     "output_type": "execute_result",
     "data": {
      "text/plain": "array([[100., 100., 100.],\n       [100., 100., 100.],\n       [100., 100., 100.]])"
     },
     "metadata": {},
     "execution_count": 79
    }
   ],
   "source": [
    "#Matriz de '100' otros valores constantes\n",
    "np.full(shape=(3,3), fill_value= 100, dtype=float)"
   ]
  },
  {
   "cell_type": "markdown",
   "metadata": {},
   "source": [
    "<table align=\"left\">\n",
    " <tr><td width=\"80\"><img src=\"../../imagenes/ejercicio.png\" style=\"width:auto;height:auto\"></td>\n",
    "     <td style=\"text-align:left\">\n",
    "         <h3>Ejercicio creación de arrays en numpy</h3>\n",
    "\n",
    "      \n",
    "<ol>\n",
    "    <li>Crea un array con 3 deportes que te gusten</li>\n",
    "    <li>Accede al primer elemento y al último</li>\n",
    "    <li>Comprueba los tipos de los datos</li>\n",
    "    <li>Crea una secuencia de numeros del 10 al 0, con saltos de -0.5</li>\n",
    "    <li>Crea una matriz de 5x2 con numeros enteros aleatorios comprendidos entre el 10 y el 20</li>\n",
    "</ol>\n",
    "         \n",
    " </td></tr>\n",
    "</table>"
   ]
  },
  {
   "cell_type": "code",
   "execution_count": 82,
   "metadata": {},
   "outputs": [
    {
     "output_type": "execute_result",
     "data": {
      "text/plain": "array(['natación', 'sky', 'escalada'], dtype='<U8')"
     },
     "metadata": {},
     "execution_count": 82
    }
   ],
   "source": [
    "sports = np.array([\"natación\", \"sky\", \"escalada\"])\n",
    "sports"
   ]
  },
  {
   "cell_type": "code",
   "execution_count": 85,
   "metadata": {},
   "outputs": [
    {
     "output_type": "execute_result",
     "data": {
      "text/plain": "('natación', 'escalada')"
     },
     "metadata": {},
     "execution_count": 85
    }
   ],
   "source": [
    "sports[0], sports[-1]"
   ]
  },
  {
   "cell_type": "code",
   "execution_count": 87,
   "metadata": {},
   "outputs": [
    {
     "output_type": "execute_result",
     "data": {
      "text/plain": "dtype('<U8')"
     },
     "metadata": {},
     "execution_count": 87
    }
   ],
   "source": [
    "sports.dtype"
   ]
  },
  {
   "cell_type": "code",
   "execution_count": 95,
   "metadata": {},
   "outputs": [
    {
     "output_type": "execute_result",
     "data": {
      "text/plain": "array([10. ,  9.5,  9. ,  8.5,  8. ,  7.5,  7. ,  6.5,  6. ,  5.5,  5. ,\n        4.5,  4. ,  3.5,  3. ,  2.5,  2. ,  1.5,  1. ,  0.5,  0. ])"
     },
     "metadata": {},
     "execution_count": 95
    }
   ],
   "source": [
    "#Crea una secuencia de numeros del 10 al 0, con saltos de -0.5\n",
    "secuence = np.arange(10,-0.5,-0.5)\n",
    "secuence"
   ]
  },
  {
   "cell_type": "code",
   "execution_count": 96,
   "metadata": {},
   "outputs": [
    {
     "output_type": "execute_result",
     "data": {
      "text/plain": "array([[17, 20],\n       [14, 17],\n       [16, 12],\n       [18, 14],\n       [14, 14]])"
     },
     "metadata": {},
     "execution_count": 96
    }
   ],
   "source": [
    "#Crea una matriz de 5x2 con numeros enteros aleatorios comprendidos entre el 10 y el 20\n",
    "\n",
    "matrix = np.random.randint(10,21, (5,2))\n",
    "matrix"
   ]
  },
  {
   "cell_type": "markdown",
   "metadata": {},
   "source": [
    "## 4. Atributos del array"
   ]
  },
  {
   "cell_type": "markdown",
   "metadata": {},
   "source": [
    "Hay ciertos atributos que debemos conocer:\n",
    "* `ndim`: es el numero de dimensiones. Número de niveles que tiene el array de `numpy`.\n",
    "* `shape`: tamaño de cada una de las dimensiones. Devuelve el resultado en formato `tupla`\n",
    "* `size`: cantidad de elementos del array."
   ]
  },
  {
   "cell_type": "code",
   "execution_count": 99,
   "metadata": {},
   "outputs": [
    {
     "output_type": "execute_result",
     "data": {
      "text/plain": "array([[1, 2, 3],\n       [2, 3, 4],\n       [3, 4, 5]])"
     },
     "metadata": {},
     "execution_count": 99
    }
   ],
   "source": [
    "multi_array"
   ]
  },
  {
   "cell_type": "code",
   "execution_count": 98,
   "metadata": {},
   "outputs": [
    {
     "output_type": "execute_result",
     "data": {
      "text/plain": "2"
     },
     "metadata": {},
     "execution_count": 98
    }
   ],
   "source": [
    "multi_array.ndim "
   ]
  },
  {
   "cell_type": "code",
   "execution_count": 102,
   "metadata": {},
   "outputs": [
    {
     "output_type": "execute_result",
     "data": {
      "text/plain": "(3, 3)"
     },
     "metadata": {},
     "execution_count": 102
    }
   ],
   "source": [
    "multi_array.shape #Fila, columna"
   ]
  },
  {
   "cell_type": "code",
   "execution_count": 103,
   "metadata": {},
   "outputs": [
    {
     "output_type": "execute_result",
     "data": {
      "text/plain": "9"
     },
     "metadata": {},
     "execution_count": 103
    }
   ],
   "source": [
    "multi_array.size #Número de elementos"
   ]
  },
  {
   "cell_type": "code",
   "execution_count": 111,
   "metadata": {},
   "outputs": [
    {
     "output_type": "execute_result",
     "data": {
      "text/plain": "array([[[ 1, 10],\n        [ 2, 20],\n        [ 3, 30]],\n\n       [[ 4, 40],\n        [ 5, 50],\n        [ 6, 60]],\n\n       [[ 7, 70],\n        [ 8, 80],\n        [ 9, 90]]])"
     },
     "metadata": {},
     "execution_count": 111
    }
   ],
   "source": [
    "multi_array_3 = np.array([[[1,10],[2,20],[3,30]], \n",
    "                          [[4,40],[5,50],[6,60]],\n",
    "                          [[7,70],[8,80],[9,90]]])\n",
    "multi_array_3"
   ]
  },
  {
   "cell_type": "code",
   "execution_count": 115,
   "metadata": {
    "tags": []
   },
   "outputs": [
    {
     "output_type": "stream",
     "name": "stdout",
     "text": "ndim : 3\nshape : (3, 3, 2)\nsize : 18\n"
    }
   ],
   "source": [
    "print(\"ndim :\",multi_array_3.ndim)\n",
    "print(\"shape :\",multi_array_3.shape)\n",
    "print(\"size :\",multi_array_3.size)"
   ]
  },
  {
   "cell_type": "markdown",
   "metadata": {},
   "source": [
    "Otros atributos interesantes son:\n",
    "* `itemsize`: tamaño en bytes de los items del array\n",
    "* `nbytes`: tamaño en bytes de todo el array"
   ]
  },
  {
   "cell_type": "code",
   "execution_count": 119,
   "metadata": {
    "tags": []
   },
   "outputs": [
    {
     "output_type": "stream",
     "name": "stdout",
     "text": "4\n20\n"
    }
   ],
   "source": [
    "array = np.array([1,2,3,4,5])\n",
    "print(array.itemsize) #Tamaño en 'byte' de los elemento, siempre cogenel de mayor tamaño para no perder información\n",
    "print(array.nbytes) #Tamaño en 'byte' del array"
   ]
  },
  {
   "cell_type": "code",
   "execution_count": 121,
   "metadata": {
    "tags": []
   },
   "outputs": [
    {
     "output_type": "stream",
     "name": "stdout",
     "text": "8\n40\n"
    }
   ],
   "source": [
    "array = np.array([1,2,3,4,5], dtype= np.float64) #Forzamos que el tipo de dato sea 'float64'. Necesita más memoria\n",
    "\n",
    "print(array.itemsize) #Tamaño en 'byte' de los elemento, siempre cogenel de mayor tamaño para no perder información\n",
    "print(array.nbytes) #Tamaño en 'byte' del array"
   ]
  },
  {
   "cell_type": "markdown",
   "metadata": {},
   "source": [
    "Vemos que aumentando el tamaño de los elementos, el array es el doble de pesado. Profundizaremos más adelante en los tipos."
   ]
  },
  {
   "cell_type": "markdown",
   "metadata": {},
   "source": [
    "## 5. Indexado\n",
    "¿Cómo accedemos a los elementos del array?\n",
    "\n",
    "Declaremos primero varios arrays"
   ]
  },
  {
   "cell_type": "code",
   "execution_count": 123,
   "metadata": {},
   "outputs": [],
   "source": [
    "#Array unidimensional\n",
    "array01 = np.array([1,2,3,4,5])\n",
    "array02 = multi_array\n",
    "array03 = multi_array_3"
   ]
  },
  {
   "cell_type": "markdown",
   "metadata": {},
   "source": [
    "Probamos primero con el primer array"
   ]
  },
  {
   "cell_type": "code",
   "execution_count": 131,
   "metadata": {},
   "outputs": [
    {
     "output_type": "execute_result",
     "data": {
      "text/plain": "array([1, 2, 3, 4, 5])"
     },
     "metadata": {},
     "execution_count": 131
    }
   ],
   "source": [
    "array01"
   ]
  },
  {
   "cell_type": "code",
   "execution_count": 135,
   "metadata": {},
   "outputs": [
    {
     "output_type": "execute_result",
     "data": {
      "text/plain": "2"
     },
     "metadata": {},
     "execution_count": 135
    }
   ],
   "source": [
    "array01[1]"
   ]
  },
  {
   "cell_type": "code",
   "execution_count": 137,
   "metadata": {},
   "outputs": [
    {
     "output_type": "execute_result",
     "data": {
      "text/plain": "array([3, 4, 5])"
     },
     "metadata": {},
     "execution_count": 137
    }
   ],
   "source": [
    "array01[2:5]"
   ]
  },
  {
   "cell_type": "code",
   "execution_count": 149,
   "metadata": {
    "tags": []
   },
   "outputs": [
    {
     "output_type": "stream",
     "name": "stdout",
     "text": "<class 'numpy.int32'>\n"
    },
    {
     "output_type": "execute_result",
     "data": {
      "text/plain": "2"
     },
     "metadata": {},
     "execution_count": 149
    }
   ],
   "source": []
  },
  {
   "cell_type": "code",
   "execution_count": 150,
   "metadata": {
    "tags": []
   },
   "outputs": [
    {
     "output_type": "stream",
     "name": "stdout",
     "text": "<class 'numpy.int32'>\n"
    },
    {
     "output_type": "execute_result",
     "data": {
      "text/plain": "2"
     },
     "metadata": {},
     "execution_count": 150
    }
   ],
   "source": [
    "print(type(array02[0,1]))\n",
    "array02[0,1]"
   ]
  },
  {
   "cell_type": "markdown",
   "metadata": {},
   "source": [
    "Vamos ahora con el de dos dimensiones"
   ]
  },
  {
   "cell_type": "code",
   "execution_count": 174,
   "metadata": {},
   "outputs": [
    {
     "output_type": "execute_result",
     "data": {
      "text/plain": "array([[1, 2, 3],\n       [2, 3, 4],\n       [3, 4, 5]])"
     },
     "metadata": {},
     "execution_count": 174
    }
   ],
   "source": [
    "array02"
   ]
  },
  {
   "cell_type": "code",
   "execution_count": 175,
   "metadata": {
    "tags": []
   },
   "outputs": [
    {
     "output_type": "stream",
     "name": "stdout",
     "text": "<class 'numpy.ndarray'>\n"
    },
    {
     "output_type": "execute_result",
     "data": {
      "text/plain": "array([1, 2, 3])"
     },
     "metadata": {},
     "execution_count": 175
    }
   ],
   "source": [
    "print(type(array02[0]))\n",
    "\n",
    "array02[0]"
   ]
  },
  {
   "cell_type": "code",
   "execution_count": 177,
   "metadata": {
    "tags": []
   },
   "outputs": [
    {
     "output_type": "stream",
     "name": "stdout",
     "text": "<class 'numpy.int32'>\n"
    },
    {
     "output_type": "execute_result",
     "data": {
      "text/plain": "2"
     },
     "metadata": {},
     "execution_count": 177
    }
   ],
   "source": [
    "print(type(array02[0][1]))\n",
    "\n",
    "array02[0][1]"
   ]
  },
  {
   "cell_type": "code",
   "execution_count": null,
   "metadata": {},
   "outputs": [],
   "source": []
  },
  {
   "cell_type": "markdown",
   "metadata": {},
   "source": [
    "Y ahora con el de 3"
   ]
  },
  {
   "cell_type": "code",
   "execution_count": 153,
   "metadata": {},
   "outputs": [
    {
     "output_type": "execute_result",
     "data": {
      "text/plain": "array([[[ 1, 10],\n        [ 2, 20],\n        [ 3, 30]],\n\n       [[ 4, 40],\n        [ 5, 50],\n        [ 6, 60]],\n\n       [[ 7, 70],\n        [ 8, 80],\n        [ 9, 90]]])"
     },
     "metadata": {},
     "execution_count": 153
    }
   ],
   "source": [
    "array03"
   ]
  },
  {
   "cell_type": "code",
   "execution_count": 155,
   "metadata": {},
   "outputs": [
    {
     "output_type": "execute_result",
     "data": {
      "text/plain": "array([[ 1, 10],\n       [ 2, 20],\n       [ 3, 30]])"
     },
     "metadata": {},
     "execution_count": 155
    }
   ],
   "source": [
    "array03[0]"
   ]
  },
  {
   "cell_type": "code",
   "execution_count": 157,
   "metadata": {},
   "outputs": [
    {
     "output_type": "execute_result",
     "data": {
      "text/plain": "30"
     },
     "metadata": {},
     "execution_count": 157
    }
   ],
   "source": [
    "array03[0][-1][-1]"
   ]
  },
  {
   "cell_type": "code",
   "execution_count": 178,
   "metadata": {},
   "outputs": [
    {
     "output_type": "execute_result",
     "data": {
      "text/plain": "30"
     },
     "metadata": {},
     "execution_count": 178
    }
   ],
   "source": [
    "array03[0,-1,-1]"
   ]
  },
  {
   "cell_type": "code",
   "execution_count": 180,
   "metadata": {},
   "outputs": [
    {
     "output_type": "execute_result",
     "data": {
      "text/plain": "array([5, 4, 3, 2, 1, 0])"
     },
     "metadata": {},
     "execution_count": 180
    }
   ],
   "source": [
    "#Desde el 5º hasta el 1º\n",
    "x[5::-1]"
   ]
  },
  {
   "cell_type": "markdown",
   "metadata": {},
   "source": [
    "## 6. Slicing y subarrays\n",
    "Ya hemos visto que podemos acceder a los elementos individuales del array usamos la sintaxis con corchetes, pero si necesitamos acceder a un conjunto de valores, tendremos que usar `:`. El slicing sigue la siguiente sintaxis:\n",
    "```Python\n",
    "x[start:stop:step]\n",
    "```\n",
    "Por defecto, si no ponemos alguno de estos argumentos, `start = 0`, `stop = tamaño de la dimensión` y `step = 1`.\n",
    "\n",
    "Recuerda, al igual que en listas, el `start` está incluido, mientras que el stop no.\n",
    "\n",
    "Veamos primero un ejemplo para una dimensión"
   ]
  },
  {
   "cell_type": "code",
   "execution_count": 161,
   "metadata": {},
   "outputs": [
    {
     "output_type": "execute_result",
     "data": {
      "text/plain": "array([0, 1, 2, 3, 4, 5, 6, 7, 8, 9])"
     },
     "metadata": {},
     "execution_count": 161
    }
   ],
   "source": [
    "x = np.arange(10)\n",
    "x"
   ]
  },
  {
   "cell_type": "code",
   "execution_count": 163,
   "metadata": {},
   "outputs": [
    {
     "output_type": "execute_result",
     "data": {
      "text/plain": "array([0, 1, 2, 3, 4])"
     },
     "metadata": {},
     "execution_count": 163
    }
   ],
   "source": [
    "#Del primer a elemento al 5º\n",
    "x[0:5]"
   ]
  },
  {
   "cell_type": "code",
   "execution_count": 172,
   "metadata": {},
   "outputs": [
    {
     "output_type": "execute_result",
     "data": {
      "text/plain": "array([0, 2, 4])"
     },
     "metadata": {},
     "execution_count": 172
    }
   ],
   "source": [
    "#Del primer a elemento al 5, con saltos de 2\n",
    "x[0:5:2]"
   ]
  },
  {
   "cell_type": "code",
   "execution_count": 183,
   "metadata": {},
   "outputs": [
    {
     "output_type": "execute_result",
     "data": {
      "text/plain": "array([5, 6, 7, 8, 9])"
     },
     "metadata": {},
     "execution_count": 183
    }
   ],
   "source": [
    "#Desde el 5º al final\n",
    "x[5:]"
   ]
  },
  {
   "cell_type": "code",
   "execution_count": 185,
   "metadata": {},
   "outputs": [
    {
     "output_type": "execute_result",
     "data": {
      "text/plain": "array([5, 4, 3, 2, 1, 0])"
     },
     "metadata": {},
     "execution_count": 185
    }
   ],
   "source": [
    "#Desde el 5º hasta el 1º\n",
    "x[5::-1]"
   ]
  },
  {
   "cell_type": "code",
   "execution_count": 187,
   "metadata": {},
   "outputs": [
    {
     "output_type": "execute_result",
     "data": {
      "text/plain": "array([8, 9])"
     },
     "metadata": {},
     "execution_count": 187
    }
   ],
   "source": [
    "#Los 2 últimos elementos\n",
    "x[-2:]"
   ]
  },
  {
   "cell_type": "markdown",
   "metadata": {},
   "source": [
    "<table align=\"left\">\n",
    " <tr><td width=\"80\"><img src=\"../../imagenes/ejercicio.png\" style=\"width:auto;height:auto\"></td>\n",
    "     <td style=\"text-align:left\">\n",
    "         <h3>Ejercicio slicing</h3>\n",
    "\n",
    "      \n",
    "<ol>\n",
    "    <li>Todos los elementos, pero de dos en dos</li>\n",
    "    <li>Todos los elementos, pero de dos en dos, a partir del segundo item</li>\n",
    "    <li>Todo, pero invertido</li>\n",
    "    <li>Obtén los últimos dos items, pero invertidos</li>\n",
    "    <li>Todo, excepto los ultimos dos items, invertido.</li>\n",
    "</ol>\n",
    "         \n",
    " </td></tr>\n",
    "</table>"
   ]
  },
  {
   "cell_type": "code",
   "execution_count": 188,
   "metadata": {},
   "outputs": [
    {
     "output_type": "execute_result",
     "data": {
      "text/plain": "array([0, 1, 2, 3, 4, 5, 6, 7, 8, 9])"
     },
     "metadata": {},
     "execution_count": 188
    }
   ],
   "source": [
    "x"
   ]
  },
  {
   "cell_type": "code",
   "execution_count": 190,
   "metadata": {},
   "outputs": [
    {
     "output_type": "execute_result",
     "data": {
      "text/plain": "array([0, 2, 4, 6, 8])"
     },
     "metadata": {},
     "execution_count": 190
    }
   ],
   "source": [
    "# Todos los elementos, pero de dos en dos\n",
    "x[::2]"
   ]
  },
  {
   "cell_type": "code",
   "execution_count": 192,
   "metadata": {},
   "outputs": [
    {
     "output_type": "execute_result",
     "data": {
      "text/plain": "array([1, 3, 5, 7, 9])"
     },
     "metadata": {},
     "execution_count": 192
    }
   ],
   "source": [
    "#Todos los elementos, pero de dos en dos, a partir del segundo item\n",
    "x[1::2]"
   ]
  },
  {
   "cell_type": "code",
   "execution_count": 194,
   "metadata": {},
   "outputs": [
    {
     "output_type": "execute_result",
     "data": {
      "text/plain": "array([9, 8, 7, 6, 5, 4, 3, 2, 1, 0])"
     },
     "metadata": {},
     "execution_count": 194
    }
   ],
   "source": [
    "# Todo, pero invertido\n",
    "x[::-1]"
   ]
  },
  {
   "cell_type": "code",
   "execution_count": 197,
   "metadata": {},
   "outputs": [
    {
     "output_type": "execute_result",
     "data": {
      "text/plain": "array([9, 8])"
     },
     "metadata": {},
     "execution_count": 197
    }
   ],
   "source": [
    "# Obtén los últimos dos items, pero invertidos\n",
    "x[:-3:-1]"
   ]
  },
  {
   "cell_type": "code",
   "execution_count": 199,
   "metadata": {},
   "outputs": [
    {
     "output_type": "execute_result",
     "data": {
      "text/plain": "array([7, 6, 5, 4, 3, 2, 1, 0])"
     },
     "metadata": {},
     "execution_count": 199
    }
   ],
   "source": [
    "#Todo, excepto los ultimos dos items, invertido.\n",
    "x[-3::-1]"
   ]
  },
  {
   "cell_type": "markdown",
   "metadata": {},
   "source": [
    "Veamos ahora unos ejemplos multidimensionales. Funciona igual, lo unico que ahora cada dimension irá separado por comas"
   ]
  },
  {
   "cell_type": "code",
   "execution_count": 208,
   "metadata": {},
   "outputs": [
    {
     "output_type": "execute_result",
     "data": {
      "text/plain": "array([[ 1,  2,  3,  4,  5],\n       [ 6,  7,  8,  9, 10],\n       [11, 12, 13, 14, 15]])"
     },
     "metadata": {},
     "execution_count": 208
    }
   ],
   "source": [
    "multi_array =  np.array([[1,2,3,4,5],[6,7,8,9,10],[11,12,13,14,15]])\n",
    "multi_array"
   ]
  },
  {
   "cell_type": "code",
   "execution_count": 212,
   "metadata": {},
   "outputs": [
    {
     "output_type": "execute_result",
     "data": {
      "text/plain": "array([[1, 2, 3],\n       [6, 7, 8]])"
     },
     "metadata": {},
     "execution_count": 212
    }
   ],
   "source": [
    "#Las dos primeras filas, las 3 primeras columnas\n",
    "multi_array[:2,:3]"
   ]
  },
  {
   "cell_type": "code",
   "execution_count": 214,
   "metadata": {},
   "outputs": [
    {
     "output_type": "execute_result",
     "data": {
      "text/plain": "array([[ 1,  3,  5],\n       [ 6,  8, 10],\n       [11, 13, 15]])"
     },
     "metadata": {},
     "execution_count": 214
    }
   ],
   "source": [
    "#Todas las filas, cada dos columnas\n",
    "multi_array[:,::2]"
   ]
  },
  {
   "cell_type": "code",
   "execution_count": 216,
   "metadata": {},
   "outputs": [
    {
     "output_type": "execute_result",
     "data": {
      "text/plain": "array([[11, 12, 13, 14, 15],\n       [ 6,  7,  8,  9, 10],\n       [ 1,  2,  3,  4,  5]])"
     },
     "metadata": {},
     "execution_count": 216
    }
   ],
   "source": [
    "#Invertir las filas\n",
    "multi_array[::-1,::]"
   ]
  },
  {
   "cell_type": "code",
   "execution_count": 217,
   "metadata": {},
   "outputs": [
    {
     "output_type": "execute_result",
     "data": {
      "text/plain": "array([[ 5,  4,  3,  2,  1],\n       [10,  9,  8,  7,  6],\n       [15, 14, 13, 12, 11]])"
     },
     "metadata": {},
     "execution_count": 217
    }
   ],
   "source": [
    "#Invertir las columnas\n",
    "multi_array[::,::-1]"
   ]
  },
  {
   "cell_type": "markdown",
   "metadata": {},
   "source": [
    "Otra forma de quedarnos con subarrays, o de filtrarlos, es mediante una máscara de booleanos. La máscara tiene las mismas dimensiones que el array, y donde haya un `True`, se quedará con ese valor, pero donde haya un `False`, lo ignorará."
   ]
  },
  {
   "cell_type": "code",
   "execution_count": 219,
   "metadata": {},
   "outputs": [
    {
     "output_type": "execute_result",
     "data": {
      "text/plain": "array([2, 4, 5, 3, 7, 2])"
     },
     "metadata": {},
     "execution_count": 219
    }
   ],
   "source": [
    "x = np.array([2,4,5,3,7,2])\n",
    "x"
   ]
  },
  {
   "cell_type": "code",
   "execution_count": 226,
   "metadata": {},
   "outputs": [
    {
     "output_type": "execute_result",
     "data": {
      "text/plain": "array([ True, False, False, False, False,  True])"
     },
     "metadata": {},
     "execution_count": 226
    }
   ],
   "source": [
    "mask = np.array(x==2)\n",
    "mask"
   ]
  },
  {
   "cell_type": "code",
   "execution_count": 227,
   "metadata": {},
   "outputs": [
    {
     "output_type": "execute_result",
     "data": {
      "text/plain": "array([ True, False, False, False, False,  True])"
     },
     "metadata": {},
     "execution_count": 227
    }
   ],
   "source": [
    "mask = (x == 2)\n",
    "mask"
   ]
  },
  {
   "cell_type": "code",
   "execution_count": 223,
   "metadata": {},
   "outputs": [
    {
     "output_type": "execute_result",
     "data": {
      "text/plain": "array([2, 2])"
     },
     "metadata": {},
     "execution_count": 223
    }
   ],
   "source": [
    "x[mask]"
   ]
  },
  {
   "cell_type": "markdown",
   "metadata": {},
   "source": [
    "## 7. Reshape\n",
    "Con el reshape podremos **cambiar las dimensiones de los arrays**, siempre y cuando en numero de elementos sea posible. Por ejemplo, si tenemos 4 elementos, no podremos hacer una matriz de 3x3.\n",
    "\n",
    "Éste método se puede utilizar en una infinidad de casos, pero lo más habitual sería, partiendo de un array de una dimensión, convirtiéndolo en multidimensión."
   ]
  },
  {
   "cell_type": "code",
   "execution_count": 228,
   "metadata": {},
   "outputs": [
    {
     "output_type": "execute_result",
     "data": {
      "text/plain": "array([0, 1, 2, 3, 4, 5, 6, 7, 8])"
     },
     "metadata": {},
     "execution_count": 228
    }
   ],
   "source": [
    "x = np.arange(9)\n",
    "x"
   ]
  },
  {
   "cell_type": "code",
   "execution_count": 229,
   "metadata": {},
   "outputs": [
    {
     "output_type": "execute_result",
     "data": {
      "text/plain": "array([[0, 1, 2],\n       [3, 4, 5],\n       [6, 7, 8]])"
     },
     "metadata": {},
     "execution_count": 229
    }
   ],
   "source": [
    "x.reshape(3,3)"
   ]
  },
  {
   "cell_type": "code",
   "execution_count": 231,
   "metadata": {},
   "outputs": [
    {
     "output_type": "execute_result",
     "data": {
      "text/plain": "array([[[ 0,  1,  2,  3,  4],\n        [ 5,  6,  7,  8,  9],\n        [10, 11, 12, 13, 14]],\n\n       [[15, 16, 17, 18, 19],\n        [20, 21, 22, 23, 24],\n        [25, 26, 27, 28, 29]]])"
     },
     "metadata": {},
     "execution_count": 231
    }
   ],
   "source": [
    "x = np.arange(30)\n",
    "x.reshape(2,3,5)"
   ]
  },
  {
   "cell_type": "markdown",
   "metadata": {},
   "source": [
    "<table align=\"left\">\n",
    " <tr><td width=\"80\"><img src=\"../../imagenes/error.png\" style=\"width:auto;height:auto\"></td>\n",
    "     <td style=\"text-align:left\">\n",
    "         <h3>ERRORES con reshape</h3>\n",
    "         \n",
    " </td></tr>\n",
    "</table>"
   ]
  },
  {
   "cell_type": "code",
   "execution_count": 234,
   "metadata": {},
   "outputs": [
    {
     "output_type": "error",
     "ename": "ValueError",
     "evalue": "cannot reshape array of size 3 into shape (3,4)",
     "traceback": [
      "\u001b[1;31m---------------------------------------------------------------------------\u001b[0m",
      "\u001b[1;31mValueError\u001b[0m                                Traceback (most recent call last)",
      "\u001b[1;32m<ipython-input-234-7b0777166de2>\u001b[0m in \u001b[0;36m<module>\u001b[1;34m\u001b[0m\n\u001b[0;32m      1\u001b[0m \u001b[0mx\u001b[0m \u001b[1;33m=\u001b[0m \u001b[0mnp\u001b[0m\u001b[1;33m.\u001b[0m\u001b[0marange\u001b[0m\u001b[1;33m(\u001b[0m\u001b[1;36m3\u001b[0m\u001b[1;33m)\u001b[0m\u001b[1;33m\u001b[0m\u001b[1;33m\u001b[0m\u001b[0m\n\u001b[1;32m----> 2\u001b[1;33m \u001b[0mx\u001b[0m\u001b[1;33m.\u001b[0m\u001b[0mreshape\u001b[0m\u001b[1;33m(\u001b[0m\u001b[1;36m3\u001b[0m\u001b[1;33m,\u001b[0m\u001b[1;36m4\u001b[0m\u001b[1;33m)\u001b[0m\u001b[1;33m\u001b[0m\u001b[1;33m\u001b[0m\u001b[0m\n\u001b[0m",
      "\u001b[1;31mValueError\u001b[0m: cannot reshape array of size 3 into shape (3,4)"
     ]
    }
   ],
   "source": [
    "x = np.arange(3)\n",
    "x.reshape(3,4)"
   ]
  },
  {
   "cell_type": "markdown",
   "metadata": {},
   "source": [
    "## 8. Tipos de los datos\n",
    "En `numpy` también hay **que tener en cuenta los tipos de datos con los que trabajamos**, para no cometer el error de *mezclar peras con manzanas*. Es más, **`numpy` es mucho más variado en cuanto a tipos**, que el propio intérprete de Python. \n",
    "\n",
    "En el caso de `numpy`, hay que pensar en el factor tamaño cuando especifiquemos los tipos de los datos. No es lo mismo el numero 12, que el 120000000000. Desde el punto de vista del intérprete de Python, son dos `int`s, pero para numpy son un `int32` o un `int64`. Ese número es la cantidad de bits que se necesita para representar el valor. Cuanto más grande sea el valor, mayor cantidad de bits utilizaremos.\n",
    "\n",
    "[En la documentación tienes el detalle de todos los tipos de datos.](https://numpy.org/devdocs/user/basics.types.html)\n",
    "\n",
    "Por ejemplo, valores numéricos"
   ]
  },
  {
   "cell_type": "code",
   "execution_count": 237,
   "metadata": {
    "tags": []
   },
   "outputs": [
    {
     "output_type": "stream",
     "name": "stdout",
     "text": "int32\n"
    },
    {
     "output_type": "execute_result",
     "data": {
      "text/plain": "array([1, 2, 3, 4])"
     },
     "metadata": {},
     "execution_count": 237
    }
   ],
   "source": [
    "# Valores normales\n",
    "x = np.array([1,2,3,4])\n",
    "print(x.dtype)\n",
    "x"
   ]
  },
  {
   "cell_type": "code",
   "execution_count": 241,
   "metadata": {},
   "outputs": [
    {
     "output_type": "execute_result",
     "data": {
      "text/plain": "dtype('float64')"
     },
     "metadata": {},
     "execution_count": 241
    }
   ],
   "source": [
    "y = x.astype(np.float64)\n",
    "y.dtype"
   ]
  },
  {
   "cell_type": "code",
   "execution_count": 247,
   "metadata": {},
   "outputs": [
    {
     "output_type": "execute_result",
     "data": {
      "text/plain": "dtype('int64')"
     },
     "metadata": {},
     "execution_count": 247
    }
   ],
   "source": [
    "num = np.array([1000000000000000000])\n",
    "num.dtype"
   ]
  },
  {
   "cell_type": "markdown",
   "metadata": {},
   "source": [
    "Si tenemos booleanos"
   ]
  },
  {
   "cell_type": "code",
   "execution_count": 251,
   "metadata": {
    "tags": []
   },
   "outputs": [
    {
     "output_type": "stream",
     "name": "stdout",
     "text": "bool\n"
    },
    {
     "output_type": "execute_result",
     "data": {
      "text/plain": "array([ True,  True,  True,  True])"
     },
     "metadata": {},
     "execution_count": 251
    }
   ],
   "source": [
    "m_bool = np.full(4, True)\n",
    "print(m_bool.dtype)\n",
    "m_bool"
   ]
  },
  {
   "cell_type": "markdown",
   "metadata": {},
   "source": [
    "Cadenas de texto. La `U` viene de unicode, que es la codificación que sigue `numpy`. Y el número de al lado es la longitud de la cadena de texto más larga del array."
   ]
  },
  {
   "cell_type": "code",
   "execution_count": 254,
   "metadata": {
    "tags": []
   },
   "outputs": [
    {
     "output_type": "stream",
     "name": "stdout",
     "text": "<U2\n"
    },
    {
     "output_type": "execute_result",
     "data": {
      "text/plain": "array(['a', 'b', 'cc'], dtype='<U2')"
     },
     "metadata": {},
     "execution_count": 254
    }
   ],
   "source": [
    "m_str = np.array([\"a\",\"b\",\"cc\"])\n",
    "print(m_str.dtype)\n",
    "m_str"
   ]
  },
  {
   "cell_type": "markdown",
   "metadata": {},
   "source": [
    "Podemos mezclar varios tipos de datos, pero `numpy` forzará un solo tipo. ¿Cómo lo hace? Realiza las conversiones de tal manera que no pierda información en la conversión. En la conversión prima el siguiente orden: String -> Float -> Int -> Boolean"
   ]
  },
  {
   "cell_type": "code",
   "execution_count": 263,
   "metadata": {
    "tags": []
   },
   "outputs": [
    {
     "output_type": "stream",
     "name": "stdout",
     "text": "['1' 'a' 'True']\n<U11\nint32\n<U4\n<U11\n"
    }
   ],
   "source": [
    "print(np.array([1,\"a\",True]))\n",
    "print(np.array([1,\"a\"]).dtype)\n",
    "print(np.array([1,True]).dtype)\n",
    "print(np.array([\"a\",True]).dtype)\n",
    "print((np.array([1,\"a\",True])).dtype)"
   ]
  },
  {
   "cell_type": "markdown",
   "metadata": {},
   "source": [
    "## 9. Concatenado\n",
    "Para concatenar matrices, `numpy` tiene varios métodos: `np.concatenate`, `np.vstack` o `np.hstack`. Lo único que hay que tener en cuenta es que coincidan las dimensiones, para que el concatenado sea correcto."
   ]
  },
  {
   "cell_type": "code",
   "execution_count": 276,
   "metadata": {},
   "outputs": [
    {
     "output_type": "execute_result",
     "data": {
      "text/plain": "array([[1, 2, 3],\n       [3, 2, 1]])"
     },
     "metadata": {},
     "execution_count": 276
    }
   ],
   "source": [
    "x = np.array([1,2,3])\n",
    "y = np.array([3,2,1])\n",
    "np.concatenate([x,y])\n",
    "\n",
    "xy = np.concatenate([x,y]).reshape(2,3)\n",
    "xy"
   ]
  },
  {
   "cell_type": "code",
   "execution_count": 268,
   "metadata": {},
   "outputs": [
    {
     "output_type": "execute_result",
     "data": {
      "text/plain": "array([ 1,  2,  3,  3,  2,  1, 99, 99, 99])"
     },
     "metadata": {},
     "execution_count": 268
    }
   ],
   "source": [
    "z = np.array([99,99,99])\n",
    "np.concatenate([x,y,z])"
   ]
  },
  {
   "cell_type": "code",
   "execution_count": 278,
   "metadata": {},
   "outputs": [
    {
     "output_type": "execute_result",
     "data": {
      "text/plain": "array([[1, 2, 3],\n       [3, 2, 1],\n       [1, 2, 3],\n       [3, 2, 1]])"
     },
     "metadata": {},
     "execution_count": 278
    }
   ],
   "source": [
    "np.concatenate([xy,xy])"
   ]
  },
  {
   "cell_type": "code",
   "execution_count": 283,
   "metadata": {
    "tags": []
   },
   "outputs": [
    {
     "output_type": "stream",
     "name": "stdout",
     "text": "[[1 2 3]\n [3 2 1]]\n"
    },
    {
     "output_type": "error",
     "ename": "TypeError",
     "evalue": "data type not understood",
     "traceback": [
      "\u001b[1;31m---------------------------------------------------------------------------\u001b[0m",
      "\u001b[1;31mTypeError\u001b[0m                                 Traceback (most recent call last)",
      "\u001b[1;32m<ipython-input-283-873da01eefd8>\u001b[0m in \u001b[0;36m<module>\u001b[1;34m\u001b[0m\n\u001b[0;32m      1\u001b[0m \u001b[0mprint\u001b[0m\u001b[1;33m(\u001b[0m\u001b[0mxy\u001b[0m\u001b[1;33m)\u001b[0m\u001b[1;33m\u001b[0m\u001b[1;33m\u001b[0m\u001b[0m\n\u001b[0;32m      2\u001b[0m \u001b[0mx\u001b[0m \u001b[1;33m=\u001b[0m \u001b[0mnp\u001b[0m\u001b[1;33m.\u001b[0m\u001b[0marray\u001b[0m\u001b[1;33m(\u001b[0m\u001b[1;33m[\u001b[0m\u001b[1;36m4\u001b[0m\u001b[1;33m,\u001b[0m\u001b[1;36m5\u001b[0m\u001b[1;33m,\u001b[0m\u001b[1;36m6\u001b[0m\u001b[1;33m]\u001b[0m\u001b[1;33m)\u001b[0m\u001b[1;33m\u001b[0m\u001b[1;33m\u001b[0m\u001b[0m\n\u001b[1;32m----> 3\u001b[1;33m \u001b[0my\u001b[0m \u001b[1;33m=\u001b[0m \u001b[0mnp\u001b[0m\u001b[1;33m.\u001b[0m\u001b[0marray\u001b[0m\u001b[1;33m(\u001b[0m\u001b[1;33m[\u001b[0m\u001b[1;36m2\u001b[0m\u001b[1;33m]\u001b[0m\u001b[1;33m,\u001b[0m\u001b[1;33m[\u001b[0m\u001b[1;36m2\u001b[0m\u001b[1;33m]\u001b[0m\u001b[1;33m)\u001b[0m\u001b[1;33m\u001b[0m\u001b[1;33m\u001b[0m\u001b[0m\n\u001b[0m\u001b[0;32m      4\u001b[0m \u001b[1;33m\u001b[0m\u001b[0m\n\u001b[0;32m      5\u001b[0m \u001b[0mnp\u001b[0m\u001b[1;33m.\u001b[0m\u001b[0mhstack\u001b[0m\u001b[1;33m(\u001b[0m\u001b[0mxy\u001b[0m\u001b[1;33m,\u001b[0m \u001b[0my\u001b[0m\u001b[1;33m)\u001b[0m\u001b[1;33m\u001b[0m\u001b[1;33m\u001b[0m\u001b[0m\n",
      "\u001b[1;31mTypeError\u001b[0m: data type not understood"
     ]
    }
   ],
   "source": [
    "print(xy)\n",
    "x = np.array([4,5,6])\n",
    "y = np.array([2],[2])\n",
    "\n",
    "np.hstack(xy, y)"
   ]
  },
  {
   "cell_type": "markdown",
   "metadata": {},
   "source": [
    "Como ves, el concatenado es horizontal. Al ser elementos de 1D, mantiene las dimensiones. Se pueden concatenar todos los arrays que queramos."
   ]
  },
  {
   "cell_type": "code",
   "execution_count": null,
   "metadata": {},
   "outputs": [],
   "source": []
  },
  {
   "cell_type": "markdown",
   "metadata": {},
   "source": [
    "Probemos ahora con arrays bidimensionales"
   ]
  },
  {
   "cell_type": "code",
   "execution_count": null,
   "metadata": {},
   "outputs": [],
   "source": []
  },
  {
   "cell_type": "markdown",
   "metadata": {},
   "source": [
    "Ahora podemos jugar con los ejes. El método `concatenate` tiene un argumento que es `axis`, con el cual podemos jugar con las dimensiones y elegir el tipo de concatenado."
   ]
  },
  {
   "cell_type": "code",
   "execution_count": null,
   "metadata": {},
   "outputs": [],
   "source": []
  },
  {
   "cell_type": "markdown",
   "metadata": {},
   "source": [
    "Si tenemos arrays de diferentes dimensiones, puede resultar más útil usar `vstack`"
   ]
  },
  {
   "cell_type": "code",
   "execution_count": null,
   "metadata": {},
   "outputs": [],
   "source": []
  },
  {
   "cell_type": "markdown",
   "metadata": {},
   "source": [
    "O si queremos hacer un concatenado horizontal, lo haremos mediante `hstack`."
   ]
  },
  {
   "cell_type": "code",
   "execution_count": null,
   "metadata": {},
   "outputs": [],
   "source": []
  },
  {
   "cell_type": "markdown",
   "metadata": {},
   "source": [
    "## 10. Sustitucion\n",
    "En `numpy` podemos aplicar operaciones para sustituir elementos dependiendo de ciertas condiciones, y con esa sintaxis de sustitución también es posible filtrar datos de las matrices."
   ]
  },
  {
   "cell_type": "code",
   "execution_count": 292,
   "metadata": {},
   "outputs": [
    {
     "output_type": "execute_result",
     "data": {
      "text/plain": "array([[1, 2, 3],\n       [4, 5, 6]])"
     },
     "metadata": {},
     "execution_count": 292
    }
   ],
   "source": [
    "xy"
   ]
  },
  {
   "cell_type": "code",
   "execution_count": 293,
   "metadata": {},
   "outputs": [
    {
     "output_type": "execute_result",
     "data": {
      "text/plain": "array([[1, 2, 3]])"
     },
     "metadata": {},
     "execution_count": 293
    }
   ],
   "source": [
    "my_filter = ([True,False])\n",
    "xy[my_filter]"
   ]
  },
  {
   "cell_type": "markdown",
   "metadata": {},
   "source": [
    "De esta manera, lo que hacemos es preparar una lista de booleanos, y se lo aplicamos al array. Si lo queremos hacer de una manera más automática y entendible, utilizamos `where`."
   ]
  },
  {
   "cell_type": "code",
   "execution_count": 287,
   "metadata": {
    "tags": []
   },
   "outputs": [
    {
     "output_type": "stream",
     "name": "stdout",
     "text": "[[1 2 3]\n [4 5 6]]\n"
    }
   ],
   "source": [
    "xy = np.array([[1,2,3],\n",
    "              [4,5,6]])\n",
    "print(xy)"
   ]
  },
  {
   "cell_type": "code",
   "execution_count": 289,
   "metadata": {},
   "outputs": [
    {
     "output_type": "execute_result",
     "data": {
      "text/plain": "array([[10, 10, 10],\n       [20, 20, 20]])"
     },
     "metadata": {},
     "execution_count": 289
    }
   ],
   "source": [
    "np.where(xy < 4,10,20)"
   ]
  },
  {
   "cell_type": "code",
   "execution_count": 290,
   "metadata": {},
   "outputs": [
    {
     "output_type": "execute_result",
     "data": {
      "text/plain": "array([[10, 10, 10],\n       [ 4,  5,  6]])"
     },
     "metadata": {},
     "execution_count": 290
    }
   ],
   "source": [
    "np.where(xy < 4,10,xy)"
   ]
  },
  {
   "cell_type": "markdown",
   "metadata": {},
   "source": [
    "O incluso podemos sustituit los que se den en la condición, y el resto mantener los valores del array."
   ]
  }
 ],
 "metadata": {
  "kernelspec": {
   "display_name": "Python 3",
   "language": "python",
   "name": "python3"
  },
  "language_info": {
   "codemirror_mode": {
    "name": "ipython",
    "version": 3
   },
   "file_extension": ".py",
   "mimetype": "text/x-python",
   "name": "python",
   "nbconvert_exporter": "python",
   "pygments_lexer": "ipython3",
   "version": "3.7.6"
  }
 },
 "nbformat": 4,
 "nbformat_minor": 4
}