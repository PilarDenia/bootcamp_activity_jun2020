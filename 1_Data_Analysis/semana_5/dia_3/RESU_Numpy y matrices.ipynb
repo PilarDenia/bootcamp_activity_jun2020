{
 "cells": [
  {
   "cell_type": "markdown",
   "metadata": {},
   "source": [
    "![imagen](../../imagenes/numpy.png)\n",
    "\n",
    "# Numpy y matrices\n",
    "\n",
    "#### Autor: [Daniel Ortiz López](https://www.linkedin.com/in/daniel-ortiz-l%C3%B3pez/)\n",
    "\n",
    "En este Notebook descubrirás la que es probablemente **la librería más utilizada en Python**, `numpy`, la cual nos va a permitir trabajar con una gran variedad de datos en memoria como colecciones de documentos, imágenes, audios o medidas numéricas.\n",
    "\n",
    "1. [Listas y matrices](#1.-Listas-y-matrices)\n",
    "2. [Numpy](#2.-Numpy)\n",
    "3. [Creacion de arrays](#3.-Creacion-de-arrays)\n",
    "4. [Atributos del array](#4.-Atributos-del-array)\n",
    "5. [Indexado](#5.-Indexado)\n",
    "6. [Slicing y subarrays](#6.-Slicing-y-subarrays)\n",
    "7. [Reshape](#7.-Reshape)\n",
    "8. [Tipos de los datos](#8.-Tipos-de-los-datos)\n",
    "9. [Concatenado](#9.-Concatenado)\n",
    "10. [Sustitucion](#10.-Sustitucion)"
   ]
  },
  {
   "cell_type": "markdown",
   "metadata": {},
   "source": [
    "## 1. Listas y matrices\n",
    "Ya conocemos muy bien cómo funcionan las listas, aunque en este apartado profundizaremos un poco más en sus funcionalidades, acceso y dimensiones. **Las listas en Python son muy versátiles, lo que nos dan una gran flexibilidad a la hora de modelizar nuestros datos**. Además este apartado no servirá para refrescar conceptos con vistas a **comparar listas de Python con los arrays de Numpy**.\n",
    "\n",
    "Declaramos una lista sencilla"
   ]
  },
  {
   "cell_type": "code",
   "execution_count": 6,
   "metadata": {},
   "outputs": [
    {
     "data": {
      "text/plain": [
       "[1, 2, 3, 4, 5, 6, 7, 8, 9]"
      ]
     },
     "execution_count": 6,
     "metadata": {},
     "output_type": "execute_result"
    }
   ],
   "source": [
    "my_list = [1,2,3,4,5,6,7,8,9]\n",
    "my_list"
   ]
  },
  {
   "cell_type": "markdown",
   "metadata": {},
   "source": [
    "Recordamos cómo accediamos a los elementos"
   ]
  },
  {
   "cell_type": "code",
   "execution_count": 23,
   "metadata": {},
   "outputs": [
    {
     "name": "stdout",
     "output_type": "stream",
     "text": [
      "1\n",
      "2\n",
      "9\n",
      "[2, 3, 4]\n",
      "[2, 3, 4, 5, 6, 7, 8, 9]\n",
      "[1, 2, 3, 4, 5]\n"
     ]
    }
   ],
   "source": [
    "# Primer elemento\n",
    "print(my_list[0])\n",
    "\n",
    "# Segundo elemento\n",
    "print(my_list[1])\n",
    "\n",
    "# Último elemento\n",
    "print(my_list[-1])\n",
    "\n",
    "# Elementos del 2do al 4to, ambos incluidos.\n",
    "print(my_list[1:4])\n",
    "\n",
    "# Elementos del 2do hasta el final\n",
    "print(my_list[1:])\n",
    "\n",
    "# Elementos del primero al 5to\n",
    "print(my_list[:5])"
   ]
  },
  {
   "cell_type": "markdown",
   "metadata": {},
   "source": [
    "¿Y si necesitamos una lista con múltiples dimensiones? ¡También podemos!"
   ]
  },
  {
   "cell_type": "code",
   "execution_count": 5,
   "metadata": {},
   "outputs": [
    {
     "data": {
      "text/plain": [
       "[[1, 2, 3], [4, 5, 6], [7, 8, 9]]"
      ]
     },
     "execution_count": 5,
     "metadata": {},
     "output_type": "execute_result"
    }
   ],
   "source": [
    "my_matrix = [[1,2,3],\n",
    "             [4,5,6],\n",
    "             [7,8,9]]\n",
    "my_matrix"
   ]
  },
  {
   "cell_type": "markdown",
   "metadata": {},
   "source": [
    "De esta forma estamos declarando una matriz de 3 filas x 3 columnas. ¿Cómo accedemos a sus elementos?"
   ]
  },
  {
   "cell_type": "code",
   "execution_count": 16,
   "metadata": {},
   "outputs": [
    {
     "name": "stdout",
     "output_type": "stream",
     "text": [
      "[1, 2, 3]\n",
      "3\n",
      "[10, 11, 12]\n",
      "3\n",
      "<class 'int'>\n",
      "[[1, 2, 3], [4, 5, 6], [7, 8, 9], [10, 11, 12], [10, 11, 12]]\n",
      "[[1, 2, 3, 1.5, 2.5, 3.5], [4, 5, 6], [7, 8, 9], [10, 11, 12], [10, 11, 12]]\n"
     ]
    }
   ],
   "source": [
    "# Primer elemento\n",
    "print(my_matrix[0])\n",
    "\n",
    "# Es una lista\n",
    "print(len(my_matrix[0]))\n",
    "\n",
    "# Ultimo elemento\n",
    "print(my_matrix[-1])\n",
    "\n",
    "# Tercer elemento de la primera fila. Accedemos al dato (int)\n",
    "print(my_matrix[0][2])\n",
    "print(type(my_matrix[0][2]))\n",
    "\n",
    "# Si queremos añadir más elementos a la matriz, con append\n",
    "my_matrix.append([10,11,12])\n",
    "print(my_matrix)\n",
    "\n",
    "# Y si lo que queremos es añadir más elementos a alguna de las listas, extend nos puede resultar util.\n",
    "my_matrix[0].extend([1.5, 2.5, 3.5])\n",
    "print(my_matrix)\n",
    "\n",
    "# append añade las listas como un elemento más, y extend los concatena a una lista que ya exista."
   ]
  },
  {
   "cell_type": "markdown",
   "metadata": {},
   "source": [
    "En los ejemplos de arriba hemos accedido a los elementos de la matriz directamente con sus índices, pero si no sabemos cómo de grande es la matriz, habrá que iterarla mediante bucles."
   ]
  },
  {
   "cell_type": "code",
   "execution_count": 14,
   "metadata": {},
   "outputs": [
    {
     "name": "stdout",
     "output_type": "stream",
     "text": [
      "1 2 3 \n",
      "4 5 6 \n",
      "7 8 9 \n"
     ]
    }
   ],
   "source": [
    "my_matrix = [[1,2,3],\n",
    "             [4,5,6],\n",
    "             [7,8,9]]\n",
    "\n",
    "for i in range(len(my_matrix)):\n",
    "    \n",
    "    for j in range(len(my_matrix[i])):\n",
    "        \n",
    "        print(my_matrix[i][j], end=' ')\n",
    "    \n",
    "    print()"
   ]
  },
  {
   "cell_type": "markdown",
   "metadata": {},
   "source": [
    "Bien, hasta aquí todo correcto, **¿pero y si queremos multiplicar nuestra matriz por un escalar?** Es decir, simplemente aplicarle una operación a cada elemento de la matriz. Veamos cómo se hace."
   ]
  },
  {
   "cell_type": "code",
   "execution_count": 35,
   "metadata": {},
   "outputs": [
    {
     "data": {
      "text/plain": [
       "[[10, 20, 30], [40, 50, 60], [70, 80, 90]]"
      ]
     },
     "execution_count": 35,
     "metadata": {},
     "output_type": "execute_result"
    }
   ],
   "source": [
    "my_matrix = [[1,2,3],\n",
    "             [4,5,6],\n",
    "             [7,8,9]]\n",
    "\n",
    "# Matriz de dos dimensiones por lo que harán falta dos bucles\n",
    "for fila in range(len(my_matrix)):\n",
    "    \n",
    "    for columna in range(len(my_matrix[fila])):\n",
    "        \n",
    "        my_matrix[fila][columna] = my_matrix[fila][columna] * 10\n",
    "\n",
    "my_matrix"
   ]
  },
  {
   "cell_type": "markdown",
   "metadata": {},
   "source": [
    "¡Conseguido! Aunque un poco aparatoso para ser una operación tan sencilla como multiplicar una matriz por 10. ¿Y si queremos hacer una matriz traspuesta? ¿Y si tenemos dos matrices de las mismas dimensiones y queremos multiplicar elemento a elemento? Se complica todavía más la cosa y tendremos que acudir a los bucles para solucionarlo cuando realmente hay una librería que lo hace por nosotros :)\n",
    "\n",
    "Recuerda que gran parte de la potencia de Python reside en sus librerías, ya que ahorra muchísimo tiempo el no tener que implementar ciertas funciones en nuestro código ya que esas y muchas más vienen ya desarrolladas en paquetes más que probados como `numpy`."
   ]
  },
  {
   "cell_type": "markdown",
   "metadata": {},
   "source": [
    "## 2. Numpy\n",
    "Esta librería va un paso más allá que las listas y permite realizar operaciones entre arrays, listas o matrices de una manera óptima. Características de `numpy`:\n",
    "\n",
    "* **Librería**: Es una librería de Python por lo que tendrás que importarla mediante `import numpy as np`. Por costumbre se suele poner el alias `np`.\n",
    "\n",
    "* **Listas y matrices**: Si nunca has trabajado con estos formatos de datos, no te puedes imaginar la cantidad de cosas que puedes hacer. Formatos de datos como por ejemplo las imágenes no dejan de ser matrices de números, que interpretados de la manera adecuada, representan píxeles con sus posiciones y sus colores.\n",
    "\n",
    "* **Rendimiento**: no es un tema *core* en Data Science ya que para realizar tus análisis explotatorios o ejecutar tus modelos, lo vas a poder hacer igual sin preocuparte de este factor. Ahora bien, la cosa se complica cuando productivizamos productos de datos y el SLA (Service Learning Agreement) es exigente. Aquí entra en juego `numpy` ya que es una librería muy rápida.\n",
    "\n",
    "\n",
    "**¿Qué podemos tratar con `numpy`?**\n",
    "* **Imágenes**: las imágenes se pueden tratar como arrays de pixels, los cuales tienen unos valores dependiendo del color.\n",
    "* **Audio**: también se pueden manejar mediante arrays unidimensionales.\n",
    "* **Texto**: lo podemos representar también en un formato numérico.\n",
    "\n",
    "Podrás encontrar toda la [documentación de `numpy` en su página oficial](https://numpy.org/doc/)."
   ]
  },
  {
   "cell_type": "code",
   "execution_count": 2,
   "metadata": {},
   "outputs": [
    {
     "data": {
      "text/plain": [
       "'1.18.1'"
      ]
     },
     "execution_count": 2,
     "metadata": {},
     "output_type": "execute_result"
    }
   ],
   "source": [
    "# Por costumbre se pone el alias np\n",
    "import numpy as np\n",
    "np.__version__"
   ]
  },
  {
   "cell_type": "code",
   "execution_count": 44,
   "metadata": {},
   "outputs": [
    {
     "name": "stderr",
     "output_type": "stream",
     "text": [
      "IOPub data rate exceeded.\n",
      "The notebook server will temporarily stop sending output\n",
      "to the client in order to avoid crashing it.\n",
      "To change this limit, set the config variable\n",
      "`--NotebookApp.iopub_data_rate_limit`.\n",
      "\n",
      "Current values:\n",
      "NotebookApp.iopub_data_rate_limit=1000000.0 (bytes/sec)\n",
      "NotebookApp.rate_limit_window=3.0 (secs)\n",
      "\n"
     ]
    }
   ],
   "source": [
    "# Es tan extensa la librería que ni nos deja imprimir por pantalla la documentación completa.\n",
    "help(np)"
   ]
  },
  {
   "cell_type": "code",
   "execution_count": 45,
   "metadata": {
    "collapsed": true,
    "jupyter": {
     "outputs_hidden": true
    }
   },
   "outputs": [
    {
     "data": {
      "text/plain": [
       "\u001b[1;31mType:\u001b[0m        module\n",
       "\u001b[1;31mString form:\u001b[0m <module 'numpy' from 'C:\\\\Users\\\\Daney\\\\anaconda3\\\\lib\\\\site-packages\\\\numpy\\\\__init__.py'>\n",
       "\u001b[1;31mFile:\u001b[0m        c:\\users\\daney\\anaconda3\\lib\\site-packages\\numpy\\__init__.py\n",
       "\u001b[1;31mDocstring:\u001b[0m  \n",
       "NumPy\n",
       "=====\n",
       "\n",
       "Provides\n",
       "  1. An array object of arbitrary homogeneous items\n",
       "  2. Fast mathematical operations over arrays\n",
       "  3. Linear Algebra, Fourier Transforms, Random Number Generation\n",
       "\n",
       "How to use the documentation\n",
       "----------------------------\n",
       "Documentation is available in two forms: docstrings provided\n",
       "with the code, and a loose standing reference guide, available from\n",
       "`the NumPy homepage <https://www.scipy.org>`_.\n",
       "\n",
       "We recommend exploring the docstrings using\n",
       "`IPython <https://ipython.org>`_, an advanced Python shell with\n",
       "TAB-completion and introspection capabilities.  See below for further\n",
       "instructions.\n",
       "\n",
       "The docstring examples assume that `numpy` has been imported as `np`::\n",
       "\n",
       "  >>> import numpy as np\n",
       "\n",
       "Code snippets are indicated by three greater-than signs::\n",
       "\n",
       "  >>> x = 42\n",
       "  >>> x = x + 1\n",
       "\n",
       "Use the built-in ``help`` function to view a function's docstring::\n",
       "\n",
       "  >>> help(np.sort)\n",
       "  ... # doctest: +SKIP\n",
       "\n",
       "For some objects, ``np.info(obj)`` may provide additional help.  This is\n",
       "particularly true if you see the line \"Help on ufunc object:\" at the top\n",
       "of the help() page.  Ufuncs are implemented in C, not Python, for speed.\n",
       "The native Python help() does not know how to view their help, but our\n",
       "np.info() function does.\n",
       "\n",
       "To search for documents containing a keyword, do::\n",
       "\n",
       "  >>> np.lookfor('keyword')\n",
       "  ... # doctest: +SKIP\n",
       "\n",
       "General-purpose documents like a glossary and help on the basic concepts\n",
       "of numpy are available under the ``doc`` sub-module::\n",
       "\n",
       "  >>> from numpy import doc\n",
       "  >>> help(doc)\n",
       "  ... # doctest: +SKIP\n",
       "\n",
       "Available subpackages\n",
       "---------------------\n",
       "doc\n",
       "    Topical documentation on broadcasting, indexing, etc.\n",
       "lib\n",
       "    Basic functions used by several sub-packages.\n",
       "random\n",
       "    Core Random Tools\n",
       "linalg\n",
       "    Core Linear Algebra Tools\n",
       "fft\n",
       "    Core FFT routines\n",
       "polynomial\n",
       "    Polynomial tools\n",
       "testing\n",
       "    NumPy testing tools\n",
       "f2py\n",
       "    Fortran to Python Interface Generator.\n",
       "distutils\n",
       "    Enhancements to distutils with support for\n",
       "    Fortran compilers support and more.\n",
       "\n",
       "Utilities\n",
       "---------\n",
       "test\n",
       "    Run numpy unittests\n",
       "show_config\n",
       "    Show numpy build configuration\n",
       "dual\n",
       "    Overwrite certain functions with high-performance Scipy tools\n",
       "matlib\n",
       "    Make everything matrices.\n",
       "__version__\n",
       "    NumPy version string\n",
       "\n",
       "Viewing documentation using IPython\n",
       "-----------------------------------\n",
       "Start IPython with the NumPy profile (``ipython -p numpy``), which will\n",
       "import `numpy` under the alias `np`.  Then, use the ``cpaste`` command to\n",
       "paste examples into the shell.  To see which functions are available in\n",
       "`numpy`, type ``np.<TAB>`` (where ``<TAB>`` refers to the TAB key), or use\n",
       "``np.*cos*?<ENTER>`` (where ``<ENTER>`` refers to the ENTER key) to narrow\n",
       "down the list.  To view the docstring for a function, use\n",
       "``np.cos?<ENTER>`` (to view the docstring) and ``np.cos??<ENTER>`` (to view\n",
       "the source code).\n",
       "\n",
       "Copies vs. in-place operation\n",
       "-----------------------------\n",
       "Most of the functions in `numpy` return a copy of the array argument\n",
       "(e.g., `np.sort`).  In-place versions of these functions are often\n",
       "available as array methods, i.e. ``x = np.array([1,2,3]); x.sort()``.\n",
       "Exceptions to this rule are documented.\n"
      ]
     },
     "metadata": {},
     "output_type": "display_data"
    }
   ],
   "source": [
    "np?"
   ]
  },
  {
   "cell_type": "code",
   "execution_count": null,
   "metadata": {},
   "outputs": [],
   "source": [
    "help(np.random)"
   ]
  },
  {
   "cell_type": "markdown",
   "metadata": {},
   "source": [
    "Se verá más en detalle en posteriores apartados, pero algunos ejemplos de cosas que podemos hacer con `numpy` son:"
   ]
  },
  {
   "cell_type": "code",
   "execution_count": 65,
   "metadata": {},
   "outputs": [
    {
     "name": "stdout",
     "output_type": "stream",
     "text": [
      "[10 20 30 40 50]\n",
      "<class 'numpy.ndarray'>\n"
     ]
    }
   ],
   "source": [
    "# Si queremos multiplicar todos los elementos de una matriz por 10\n",
    "array = np.array([1,2,3,4,5])\n",
    "\n",
    "print(array * 10)"
   ]
  },
  {
   "cell_type": "code",
   "execution_count": 72,
   "metadata": {},
   "outputs": [
    {
     "name": "stdout",
     "output_type": "stream",
     "text": [
      "<class 'numpy.ndarray'>\n",
      "(434, 1000, 3)\n"
     ]
    },
    {
     "data": {
      "image/png": "[encoded data removed]",
      "text/plain": [
       "<Figure size 432x288 with 1 Axes>"
      ]
     },
     "metadata": {
      "needs_background": "light"
     },
     "output_type": "display_data"
    }
   ],
   "source": [
    "# Imagenes\n",
    "from skimage.io import imread\n",
    "import matplotlib.pyplot as plt\n",
    "\n",
    "image = imread(\"../../imagenes/python.jpg\")\n",
    "print(type(image))\n",
    "plt.imshow(image)\n",
    "print(image.shape)"
   ]
  },
  {
   "cell_type": "markdown",
   "metadata": {},
   "source": [
    "## 3. Creacion de arrays\n",
    "Lo primero, importamos la librería de `numpy`"
   ]
  },
  {
   "cell_type": "code",
   "execution_count": 1,
   "metadata": {},
   "outputs": [],
   "source": [
    "import numpy as np"
   ]
  },
  {
   "cell_type": "markdown",
   "metadata": {},
   "source": [
    "**Vectores**\n",
    "\n",
    "Ya podemos crear nuestro primer vector. Que se trata de un array de 1D"
   ]
  },
  {
   "cell_type": "code",
   "execution_count": 70,
   "metadata": {},
   "outputs": [
    {
     "name": "stdout",
     "output_type": "stream",
     "text": [
      "[1 2 3 4 5]\n"
     ]
    }
   ],
   "source": [
    "array = np.array([1,2,3,4,5])\n",
    "print(array)"
   ]
  },
  {
   "cell_type": "markdown",
   "metadata": {},
   "source": [
    "El acceso a sus elementos es igual que en las listas"
   ]
  },
  {
   "cell_type": "code",
   "execution_count": 53,
   "metadata": {},
   "outputs": [
    {
     "name": "stdout",
     "output_type": "stream",
     "text": [
      "1\n",
      "5\n",
      "4\n"
     ]
    }
   ],
   "source": [
    "print(array[0])\n",
    "print(array[-1])\n",
    "print(array[-2])"
   ]
  },
  {
   "cell_type": "markdown",
   "metadata": {},
   "source": [
    "**Fíjate en el tipo**. Ya no son listas, aunque lo parecen. Incluso los tipos de los datos ya no son los que conocemos, sino que `numpy` aporta nuevos tipos de datos. Lo veremos más adelante."
   ]
  },
  {
   "cell_type": "code",
   "execution_count": 71,
   "metadata": {},
   "outputs": [
    {
     "name": "stdout",
     "output_type": "stream",
     "text": [
      "<class 'numpy.ndarray'>\n",
      "<class 'numpy.int32'>\n",
      "int32\n"
     ]
    }
   ],
   "source": [
    "print(type(array))\n",
    "print(type(array[0]))\n",
    "print(array.dtype)"
   ]
  },
  {
   "cell_type": "markdown",
   "metadata": {},
   "source": [
    "**Matrices**\n",
    "\n",
    "Vamos a crear ahora un **array multidimensional**"
   ]
  },
  {
   "cell_type": "code",
   "execution_count": 55,
   "metadata": {},
   "outputs": [
    {
     "name": "stdout",
     "output_type": "stream",
     "text": [
      "[[1 2 3]\n",
      " [4 5 6]\n",
      " [7 8 9]]\n"
     ]
    }
   ],
   "source": [
    "array_multi = np.array([[1,2,3], [4,5,6], [7,8,9]])\n",
    "print(array_multi)"
   ]
  },
  {
   "cell_type": "markdown",
   "metadata": {},
   "source": [
    "Otra ventaja de usar `numpy` en vez de listas es que el `print` lo realiza en formato matriz, lo que nos permite ver los datos mucho mejor que si lo imprimiese en una sola línea.\n",
    "\n",
    "**Secuencias**\n",
    "\n",
    "¿Recuerdas `range()`? Lo usábamos en listas para crear secuencias, estableciendo el punto de inicio, de parada, y el salto entre elementos. En `numpy` hay algo parecido denominado `arange`. [Te dejo el enlace a la documentación](https://numpy.org/doc/stable/reference/generated/numpy.arange.html)."
   ]
  },
  {
   "cell_type": "code",
   "execution_count": 10,
   "metadata": {},
   "outputs": [
    {
     "name": "stdout",
     "output_type": "stream",
     "text": [
      "[0 1 2 3 4 5 6 7 8 9]\n",
      "[0 2 4 6 8]\n",
      "[0.  0.5 1.  1.5 2.  2.5 3.  3.5 4.  4.5 5.  5.5 6.  6.5 7.  7.5 8.  8.5\n",
      " 9.  9.5]\n",
      "[0. 2. 4. 6. 8.]\n"
     ]
    }
   ],
   "source": [
    "# Array del 0 al 9\n",
    "print(np.arange(10))\n",
    "\n",
    "# Del 0 al 9 con saltos de 2\n",
    "print(np.arange(0, 10, 2))\n",
    "\n",
    "# Array del 0 al 10 con saltos de 0.5 en 0.5\n",
    "print(np.arange(0, 10, 0.5))\n",
    "\n",
    "# Tiene otro argumento en el que especificamos el tipo de dato\n",
    "print(np.arange(0, 10, 2, np.float64))"
   ]
  },
  {
   "cell_type": "markdown",
   "metadata": {},
   "source": [
    "**Random**\n",
    "\n",
    "Otra opción es usar el paquete `random` de `numpy`. **Muy útil cuando tenemos que crear secuencias aleatorias**, y lo mejor de todo es que tiene una gran cantidad de opciones para configurar. [Consulta la documentación para más detalle](https://docs.scipy.org/doc/numpy-1.14.0/reference/routines.random.html)."
   ]
  },
  {
   "cell_type": "code",
   "execution_count": 61,
   "metadata": {},
   "outputs": [
    {
     "name": "stdout",
     "output_type": "stream",
     "text": [
      "[0.8786598  0.55477039 0.78924793 0.11764815 0.736338   0.41717195\n",
      " 0.89545929 0.64583422 0.05248066 0.80741887]\n",
      "[[0 1 0 0]\n",
      " [1 0 2 0]\n",
      " [1 1 1 1]]\n",
      "[7 9 1 5 2 9 4 7 7 5]\n",
      "[[7 4 1 8]\n",
      " [5 5 8 1]\n",
      " [4 5 9 7]]\n"
     ]
    }
   ],
   "source": [
    "# Valores aleatorios para una distribución uniforme.\n",
    "print(np.random.rand(10))\n",
    "print(np.random.randint(3, size = (3,4))) # 3 es el valor más alto\n",
    "print(np.random.randint(1, 10, size = (10)))\n",
    "print(np.random.randint(1, 10, size = (3,4)))"
   ]
  },
  {
   "cell_type": "markdown",
   "metadata": {},
   "source": [
    "**Seed**\n",
    "\n",
    "Como habrás podido comprobar, cada ejecución de una secuencia aleatoria es diferente. **Fijando una semilla, todas las secuencias aleatorias que ejecutes (si tienen los mismos argumentos), tendrán siempre el mismo output**. Se usa mucho cuando queremos replicar resultados, o compartirlos con otros compañeros. Los resultados que obtengas en este Notebook no serán los mismos que obtenga el compañero, en caso de haber un factor aleatorio, por lo que no vamos a poder comparar los Notebooks... A no ser que ambos fijéis la misma semilla.\n",
    "\n",
    "**¿Qué valor ponemos en seed? El que queramos** mientras en el resto de Notebooks donde queramos replicar estos resultados, tengan la misma semilla."
   ]
  },
  {
   "cell_type": "code",
   "execution_count": 33,
   "metadata": {},
   "outputs": [
    {
     "name": "stdout",
     "output_type": "stream",
     "text": [
      "[0.19151945 0.62210877 0.43772774 0.78535858 0.77997581 0.27259261\n",
      " 0.27646426 0.80187218 0.95813935 0.87593263]\n",
      "[0.48932698 0.05933244 0.36620243 0.51886544 0.59822501 0.43061449\n",
      " 0.17863405 0.2852539  0.07143863 0.18471334]\n",
      "[0.29475592 0.91148515 0.27874396 0.1264012  0.788682   0.70910396\n",
      " 0.27191794 0.57598594 0.50525218 0.30603923]\n"
     ]
    }
   ],
   "source": [
    "np.random.seed(1234)\n",
    "print(np.random.rand(10))\n",
    "\n",
    "np.random.seed(5678)\n",
    "print(np.random.rand(10))\n",
    "\n",
    "np.random.seed(None)\n",
    "print(np.random.rand(10))"
   ]
  },
  {
   "cell_type": "markdown",
   "metadata": {},
   "source": [
    "**Matrices con valores**\n",
    "[Hay diferentes maneras de crear arrays o matrices](https://numpy.org/doc/stable/reference/routines.array-creation.html), pero en ocasiones necesitamos tener predefinidas matrices con un único valor. Veamos algunos ejemplos."
   ]
  },
  {
   "cell_type": "code",
   "execution_count": 74,
   "metadata": {},
   "outputs": [
    {
     "name": "stdout",
     "output_type": "stream",
     "text": [
      "[[1. 0. 0.]\n",
      " [0. 1. 0.]\n",
      " [0. 0. 1.]]\n",
      "\n",
      "[[0. 0. 0.]\n",
      " [0. 0. 0.]\n",
      " [0. 0. 0.]]\n",
      "\n",
      "[[1. 1. 1.]\n",
      " [1. 1. 1.]\n",
      " [1. 1. 1.]]\n",
      "\n",
      "[[100 100 100]\n",
      " [100 100 100]\n",
      " [100 100 100]]\n"
     ]
    }
   ],
   "source": [
    "# La matriz identidad, con toda su diagonal a 0s y el resto a 1s\n",
    "print(np.identity(3))\n",
    "\n",
    "# Matriz de 0s\n",
    "print('')\n",
    "print(np.zeros((3,3)))\n",
    "\n",
    "# Matriz de 1s\n",
    "print('')\n",
    "print(np.ones((3,3)))\n",
    "\n",
    "# Matriz de 100es\n",
    "print('')\n",
    "print(np.full((3,3),100))\n"
   ]
  },
  {
   "cell_type": "markdown",
   "metadata": {},
   "source": [
    "<table align=\"left\">\n",
    " <tr><td width=\"80\"><img src=\"../../imagenes/ejercicio.png\" style=\"width:auto;height:auto\"></td>\n",
    "     <td style=\"text-align:left\">\n",
    "         <h3>Ejercicio creación de arrays en numpy</h3>\n",
    "\n",
    "      \n",
    "<ol>\n",
    "    <li>Crea un array con 3 deportes que te gusten</li>\n",
    "    <li>Accede al primer elemento y al último</li>\n",
    "    <li>Comprueba los tipos de los datos</li>\n",
    "    <li>Crea una secuencia de numeros del 10 al 0, con saltos de -0.5</li>\n",
    "    <li>Crea una matriz de 5x2 con numeros enteros aleatorios comprendidos entre el 10 y el 20</li>\n",
    "</ol>\n",
    "         \n",
    " </td></tr>\n",
    "</table>"
   ]
  },
  {
   "cell_type": "code",
   "execution_count": 81,
   "metadata": {},
   "outputs": [
    {
     "name": "stdout",
     "output_type": "stream",
     "text": [
      "['Futbol' 'Basket' 'Tenis']\n",
      "Futbol\n",
      "Tenis\n",
      "<U6\n",
      "[10.   9.5  9.   8.5  8.   7.5  7.   6.5  6.   5.5  5.   4.5  4.   3.5\n",
      "  3.   2.5  2.   1.5  1.   0.5  0. ]\n",
      "[[11 18]\n",
      " [11 17]\n",
      " [14 12]\n",
      " [12 13]\n",
      " [12 18]]\n"
     ]
    }
   ],
   "source": [
    "# 1.\n",
    "sports = np.array([\"Futbol\", \"Basket\", \"Tenis\"])\n",
    "print(sports)\n",
    "\n",
    "# 2. \n",
    "print(sports[0])\n",
    "print(sports[-1])\n",
    "\n",
    "# 3.\n",
    "print(sports.dtype)\n",
    "\n",
    "# 4.\n",
    "print(np.arange(10, -0.5, -0.5))\n",
    "\n",
    "# 5.\n",
    "print(np.random.randint(10, 20, size = (5,2)))"
   ]
  },
  {
   "cell_type": "markdown",
   "metadata": {},
   "source": [
    "## 4. Atributos del array"
   ]
  },
  {
   "cell_type": "markdown",
   "metadata": {},
   "source": [
    "Hay ciertos atributos que debemos conocer:\n",
    "* `ndim`: es el numero de dimensiones. Número de niveles que tiene el array de `numpy`.\n",
    "* `shape`: tamaño de cada una de las dimensiones. Devuelve el resultado en formato `tupla`\n",
    "* `size`: cantidad de elementos del array."
   ]
  },
  {
   "cell_type": "code",
   "execution_count": 57,
   "metadata": {},
   "outputs": [
    {
     "name": "stdout",
     "output_type": "stream",
     "text": [
      "2\n",
      "(3, 3)\n",
      "9\n"
     ]
    }
   ],
   "source": [
    "print(array_multi.ndim)\n",
    "print(array_multi.shape)\n",
    "print(array_multi.size)"
   ]
  },
  {
   "cell_type": "code",
   "execution_count": 65,
   "metadata": {},
   "outputs": [
    {
     "name": "stdout",
     "output_type": "stream",
     "text": [
      "[[[ 1 10]\n",
      "  [ 2 20]\n",
      "  [ 3 30]]\n",
      "\n",
      " [[ 4 40]\n",
      "  [ 5 50]\n",
      "  [ 6 60]]\n",
      "\n",
      " [[ 7 70]\n",
      "  [ 8 80]\n",
      "  [ 9 90]]]\n",
      "3\n",
      "(3, 3, 2)\n",
      "18\n"
     ]
    }
   ],
   "source": [
    "array_multi_3 = np.array([[[1,10],[2,20],[3,30]],\n",
    "                          [[4,40],[5,50],[6,60]],\n",
    "                           [[7,70],[8,80],[9,90]]])\n",
    "print(array_multi_3)\n",
    "print(array_multi_3.ndim)\n",
    "print(array_multi_3.shape)\n",
    "print(array_multi_3.size)"
   ]
  },
  {
   "cell_type": "markdown",
   "metadata": {},
   "source": [
    "Otros atributos interesantes son:\n",
    "* `itemsize`: tamaño en bytes de los items del array\n",
    "* `nbytes`: tamaño en bytes de todo el array"
   ]
  },
  {
   "cell_type": "code",
   "execution_count": 70,
   "metadata": {},
   "outputs": [
    {
     "name": "stdout",
     "output_type": "stream",
     "text": [
      "4\n",
      "20\n"
     ]
    }
   ],
   "source": [
    "array = np.array([1,2,3,4,5])\n",
    "print(array.itemsize)\n",
    "print(array.nbytes)"
   ]
  },
  {
   "cell_type": "code",
   "execution_count": 74,
   "metadata": {},
   "outputs": [
    {
     "name": "stdout",
     "output_type": "stream",
     "text": [
      "8\n",
      "40\n"
     ]
    }
   ],
   "source": [
    "array = np.array([1,2,3,4,5], dtype=np.float64)\n",
    "print(array.itemsize)\n",
    "print(array.nbytes)"
   ]
  },
  {
   "cell_type": "markdown",
   "metadata": {},
   "source": [
    "Vemos que aumentando el tamaño de los elementos, el array es el doble de pesado. Profundizaremos más adelante en los tipos."
   ]
  },
  {
   "cell_type": "markdown",
   "metadata": {},
   "source": [
    "## 5. Indexado\n",
    "¿Cómo accedemos a los elementos del array?\n",
    "\n",
    "Declaremos primero varios arrays"
   ]
  },
  {
   "cell_type": "code",
   "execution_count": 82,
   "metadata": {},
   "outputs": [
    {
     "name": "stdout",
     "output_type": "stream",
     "text": [
      "1\n",
      "2\n",
      "3\n"
     ]
    }
   ],
   "source": [
    "array_1 = np.array([1,2,3,4,5])\n",
    "array_2 = np.array([[1,2,3], [4,5,6], [7,8,9]])\n",
    "array_3 = np.array([[[1,10],[2,20],[3,30]],\n",
    "                    [[4,40],[5,50],[6,60]],\n",
    "                    [[7,70],[8,80],[9,90]]])\n",
    "\n",
    "print(array_1.ndim)\n",
    "print(array_2.ndim)\n",
    "print(array_3.ndim)"
   ]
  },
  {
   "cell_type": "markdown",
   "metadata": {},
   "source": [
    "Probamos primero con el primer array"
   ]
  },
  {
   "cell_type": "code",
   "execution_count": 78,
   "metadata": {},
   "outputs": [
    {
     "name": "stdout",
     "output_type": "stream",
     "text": [
      "1\n",
      "2\n",
      "5\n",
      "[3 4 5]\n"
     ]
    }
   ],
   "source": [
    "print(array_1[0])\n",
    "print(array_1[1])\n",
    "print(array_1[-1])\n",
    "print(array_1[2:5])"
   ]
  },
  {
   "cell_type": "markdown",
   "metadata": {},
   "source": [
    "Vamos ahora con el de dos dimensiones"
   ]
  },
  {
   "cell_type": "code",
   "execution_count": 85,
   "metadata": {},
   "outputs": [
    {
     "name": "stdout",
     "output_type": "stream",
     "text": [
      "[1 2 3]\n",
      "[7 8 9]\n",
      "2\n",
      "<class 'numpy.ndarray'>\n",
      "2\n",
      "<class 'numpy.int32'>\n"
     ]
    }
   ],
   "source": [
    "print(array_2[0])\n",
    "print(array_2[-1])\n",
    "print(array_2[0,1]) # Para acceder al elemento de su segunda dimension\n",
    "\n",
    "\n",
    "print(type(array_2[0])) # Lo que hay dentro es un array de numpy\n",
    "print(array_2[0][1])\n",
    "print(type(array_2[0][1])) # Lo que vemos "
   ]
  },
  {
   "cell_type": "markdown",
   "metadata": {},
   "source": [
    "Y ahora con el de 3"
   ]
  },
  {
   "cell_type": "code",
   "execution_count": 88,
   "metadata": {},
   "outputs": [
    {
     "name": "stdout",
     "output_type": "stream",
     "text": [
      "[[ 1 10]\n",
      " [ 2 20]\n",
      " [ 3 30]]\n",
      "30\n",
      "30\n"
     ]
    }
   ],
   "source": [
    "print(array_3[0])\n",
    "print(array_3[0][-1][-1])\n",
    "print(array_3[0, -1, -1])"
   ]
  },
  {
   "cell_type": "markdown",
   "metadata": {},
   "source": [
    "## 6. Slicing y subarrays\n",
    "Ya hemos visto que podemos acceder a los elementos individuales del array usamos la sintaxis con corchetes, pero si necesitamos acceder a un conjunto de valores, tendremos que usar `:`. El slicing sigue la siguiente sintaxis:\n",
    "```Python\n",
    "x[start:stop:step]\n",
    "```\n",
    "Por defecto, si no ponemos alguno de estos argumentos, `start = 0`, `stop = tamaño de la dimensión` y `step = 1`.\n",
    "\n",
    "Recuerda, al igual que en listas, el `start` está incluido, mientras que el stop no.\n",
    "\n",
    "Veamos primero un ejemplo para una dimensión"
   ]
  },
  {
   "cell_type": "code",
   "execution_count": 37,
   "metadata": {},
   "outputs": [
    {
     "name": "stdout",
     "output_type": "stream",
     "text": [
      "[0 1 2 3 4 5 6 7 8 9]\n",
      "Del primero al quinto [0 1 2 3 4]\n",
      "Del primero al quinto con saltos de dos [0 2 4]\n",
      "Desde el quinto [5 6 7 8 9]\n",
      "Del quinto al primero [5 4 3 2 1 0]\n",
      "Copia del array [0 1 2 3 4 5 6 7 8 9]\n",
      "Ultimos dos elementos [8 9]\n"
     ]
    }
   ],
   "source": [
    "# Declaramos array\n",
    "x = np.arange(10)\n",
    "print(x)\n",
    "\n",
    "print(\"Del primero al quinto\", x[0:5])\n",
    "\n",
    "print(\"Del primero al quinto con saltos de dos\", x[0:5:2])\n",
    "\n",
    "print(\"Desde el quinto\", x[5:])\n",
    "\n",
    "print(\"Del quinto al primero\", x[5::-1])\n",
    "\n",
    "print(\"Copia del array\", x[:])\n",
    "\n",
    "print(\"Ultimos dos elementos\", x[-2:])"
   ]
  },
  {
   "cell_type": "markdown",
   "metadata": {},
   "source": [
    "<table align=\"left\">\n",
    " <tr><td width=\"80\"><img src=\"../../imagenes/ejercicio.png\" style=\"width:auto;height:auto\"></td>\n",
    "     <td style=\"text-align:left\">\n",
    "         <h3>Ejercicio slicing</h3>\n",
    "\n",
    "      \n",
    "<ol>\n",
    "    <li>Todos los elementos, pero de dos en dos</li>\n",
    "    <li>Todos los elementos, pero de dos en dos, a partir del segundo item</li>\n",
    "    <li>Todo, pero invertido</li>\n",
    "    <li>Obtén los últimos dos items, pero invertidos</li>\n",
    "    <li>Todo, excepto los ultimos dos items, invertido.</li>\n",
    "</ol>\n",
    "         \n",
    " </td></tr>\n",
    "</table>"
   ]
  },
  {
   "cell_type": "code",
   "execution_count": 5,
   "metadata": {},
   "outputs": [
    {
     "name": "stdout",
     "output_type": "stream",
     "text": [
      "[0 1 2 3 4 5 6 7 8 9]\n",
      "Todos los elementos, pero de dos en dos, a partir del segundo item [1 3 5 7 9]\n",
      "Todos los elementos, pero de dos en dos [0 2 4 6 8]\n",
      "Todo, pero invertido [9 8 7 6 5 4 3 2 1 0]\n",
      "Ultimos dos items invertidos [9 8]\n",
      "Ultimos dos items invertidos [8 7 6 5 4]\n",
      "Todo, excepto los ultimos dos items, invertido. [7 6 5 4 3 2 1 0]\n"
     ]
    }
   ],
   "source": [
    "import numpy as np\n",
    "x = np.arange(10)\n",
    "print(x)\n",
    "\n",
    "print(\"Todos los elementos, pero de dos en dos, a partir del segundo item\", x[1::2])\n",
    "\n",
    "print(\"Todos los elementos, pero de dos en dos\", x[::2])\n",
    "\n",
    "print(\"Todo, pero invertido\", x[::-1])\n",
    "\n",
    "print(\"Ultimos dos items invertidos\", x[:-3:-1])\n",
    "\n",
    "print(\"Todo, excepto los ultimos dos items, invertido.\", x[-3::-1])"
   ]
  },
  {
   "cell_type": "markdown",
   "metadata": {},
   "source": [
    "Veamos ahora unos ejemplos multidimensionales. Funciona igual, lo unico que ahora cada dimension irá separado por comas"
   ]
  },
  {
   "cell_type": "code",
   "execution_count": 59,
   "metadata": {},
   "outputs": [
    {
     "name": "stdout",
     "output_type": "stream",
     "text": [
      "[[ 1  2  3  4  5]\n",
      " [ 6  7  8  9 10]\n",
      " [11 12 13 14 15]]\n",
      "2 primeras filas, 3 columnas\n",
      " [[1 2 3]\n",
      " [6 7 8]]\n",
      "Todas las filas, cada dos columnas\n",
      " [[ 1  3  5]\n",
      " [ 6  8 10]\n",
      " [11 13 15]]\n",
      "Invertir filas\n",
      " [[11 12 13 14 15]\n",
      " [ 6  7  8  9 10]\n",
      " [ 1  2  3  4  5]]\n",
      "Invertir columnas\n",
      " [[15 14 13 12 11]\n",
      " [10  9  8  7  6]\n",
      " [ 5  4  3  2  1]]\n"
     ]
    }
   ],
   "source": [
    "array_multi = np.array([[1,2,3,4,5], [6,7,8,9,10], [11,12,13,14,15]])\n",
    "print(array_multi)\n",
    "\n",
    "print(\"2 primeras filas, 3 primeras columnas\\n\", array_multi[:2, :3])\n",
    "\n",
    "print(\"Todas las filas, cada dos columnas\\n\", array_multi[::, ::2])\n",
    "\n",
    "print(\"Invertir filas\\n\", array_multi[::-1])\n",
    "\n",
    "print(\"Invertir columnas\\n\", array_multi[::-1,::-1])"
   ]
  },
  {
   "cell_type": "markdown",
   "metadata": {},
   "source": [
    "Otra forma de quedarnos con subarrays, o de filtrarlos, es mediante una máscara de booleanos. La máscara tiene las mismas dimensiones que el array, y donde haya un `True`, se quedará con ese valor, pero donde haya un `False`, lo ignorará."
   ]
  },
  {
   "cell_type": "code",
   "execution_count": 5,
   "metadata": {},
   "outputs": [
    {
     "name": "stdout",
     "output_type": "stream",
     "text": [
      "[2 4 5 2 3 7 2]\n",
      "[ True False False  True False False  True]\n"
     ]
    }
   ],
   "source": [
    "x = np.array([2,4,5,2,3,7,2])\n",
    "print(x)\n",
    "print(x == 2)"
   ]
  },
  {
   "cell_type": "code",
   "execution_count": 6,
   "metadata": {},
   "outputs": [
    {
     "name": "stdout",
     "output_type": "stream",
     "text": [
      "[ True False False  True False False  True]\n",
      "[2 2 2]\n"
     ]
    }
   ],
   "source": [
    "x_bools = np.array(x == 2)\n",
    "print(x_bools)\n",
    "print(x[x_bools])"
   ]
  },
  {
   "cell_type": "code",
   "execution_count": 10,
   "metadata": {},
   "outputs": [
    {
     "name": "stdout",
     "output_type": "stream",
     "text": [
      "[[ 0  1  2  3  4]\n",
      " [ 5  6  7  8  9]\n",
      " [20 21 22 23 24]\n",
      " [25 26 27 28 29]]\n"
     ]
    }
   ],
   "source": [
    "b = np.array([[True, True, False], [False, True, True]])\n",
    "print(x[b])"
   ]
  },
  {
   "cell_type": "markdown",
   "metadata": {},
   "source": [
    "## 7. Reshape\n",
    "Con el reshape podremos **cambiar las dimensiones de los arrays**, siempre y cuando en numero de elementos sea posible. Por ejemplo, si tenemos 4 elementos, no podremos hacer una matriz de 3x3.\n",
    "\n",
    "Éste método se puede utilizar en una infinidad de casos, pero lo más habitual sería, partiendo de un array de una dimensión, convirtiéndolo en multidimensión."
   ]
  },
  {
   "cell_type": "code",
   "execution_count": 18,
   "metadata": {},
   "outputs": [
    {
     "name": "stdout",
     "output_type": "stream",
     "text": [
      "[0 1 2 3 4 5 6 7 8]\n",
      "[[0 1 2]\n",
      " [3 4 5]\n",
      " [6 7 8]]\n"
     ]
    }
   ],
   "source": [
    "x = np.arange(9)\n",
    "print(x)\n",
    "\n",
    "y = x.reshape((3,3))\n",
    "print(y)"
   ]
  },
  {
   "cell_type": "code",
   "execution_count": 6,
   "metadata": {},
   "outputs": [
    {
     "name": "stdout",
     "output_type": "stream",
     "text": [
      "[[[ 0  1  2  3  4]\n",
      "  [ 5  6  7  8  9]\n",
      "  [10 11 12 13 14]]\n",
      "\n",
      " [[15 16 17 18 19]\n",
      "  [20 21 22 23 24]\n",
      "  [25 26 27 28 29]]]\n"
     ]
    }
   ],
   "source": [
    "x = np.arange(30).reshape((2,3,5))\n",
    "print(x)"
   ]
  },
  {
   "cell_type": "code",
   "execution_count": 21,
   "metadata": {},
   "outputs": [
    {
     "name": "stdout",
     "output_type": "stream",
     "text": [
      "[[1 2 3]]\n",
      "[[1]\n",
      " [2]\n",
      " [3]]\n"
     ]
    }
   ],
   "source": [
    "x = np.array([1, 2, 3])\n",
    "\n",
    "print(x.reshape((1, 3)))\n",
    "\n",
    "print(x.reshape((3, 1)))"
   ]
  },
  {
   "cell_type": "markdown",
   "metadata": {},
   "source": [
    "<table align=\"left\">\n",
    " <tr><td width=\"80\"><img src=\"../../imagenes/error.png\" style=\"width:auto;height:auto\"></td>\n",
    "     <td style=\"text-align:left\">\n",
    "         <h3>ERRORES con reshape</h3>\n",
    "         \n",
    " </td></tr>\n",
    "</table>"
   ]
  },
  {
   "cell_type": "code",
   "execution_count": 22,
   "metadata": {},
   "outputs": [
    {
     "ename": "ValueError",
     "evalue": "cannot reshape array of size 3 into shape (3,4)",
     "output_type": "error",
     "traceback": [
      "\u001b[1;31m---------------------------------------------------------------------------\u001b[0m",
      "\u001b[1;31mValueError\u001b[0m                                Traceback (most recent call last)",
      "\u001b[1;32m<ipython-input-22-8a564a410fee>\u001b[0m in \u001b[0;36m<module>\u001b[1;34m\u001b[0m\n\u001b[1;32m----> 1\u001b[1;33m \u001b[0mx\u001b[0m\u001b[1;33m.\u001b[0m\u001b[0mreshape\u001b[0m\u001b[1;33m(\u001b[0m\u001b[1;33m(\u001b[0m\u001b[1;36m3\u001b[0m\u001b[1;33m,\u001b[0m\u001b[1;36m4\u001b[0m\u001b[1;33m)\u001b[0m\u001b[1;33m)\u001b[0m\u001b[1;33m\u001b[0m\u001b[1;33m\u001b[0m\u001b[0m\n\u001b[0m",
      "\u001b[1;31mValueError\u001b[0m: cannot reshape array of size 3 into shape (3,4)"
     ]
    }
   ],
   "source": [
    "x.reshape((3,4))"
   ]
  },
  {
   "cell_type": "markdown",
   "metadata": {},
   "source": [
    "## 8. Tipos de los datos\n",
    "En `numpy` también hay **que tener en cuenta los tipos de datos con los que trabajamos**, para no cometer el error de *mezclar peras con manzanas*. Es más, **`numpy` es mucho más variado en cuanto a tipos**, que el propio intérprete de Python. \n",
    "\n",
    "En el caso de `numpy`, hay que pensar en el factor tamaño cuando especifiquemos los tipos de los datos. No es lo mismo el numero 12, que el 120000000000. Desde el punto de vista del intérprete de Python, son dos `int`s, pero para numpy son un `int32` o un `int64`. Ese número es la cantidad de bits que se necesita para representar el valor. Cuanto más grande sea el valor, mayor cantidad de bits utilizaremos.\n",
    "\n",
    "[En la documentación tienes el detalle de todos los tipos de datos.](https://numpy.org/devdocs/user/basics.types.html)\n",
    "\n",
    "Por ejemplo, valores numéricos"
   ]
  },
  {
   "cell_type": "code",
   "execution_count": 16,
   "metadata": {},
   "outputs": [
    {
     "name": "stdout",
     "output_type": "stream",
     "text": [
      "[1 2 3 4]\n",
      "int32\n",
      "[10000000000000000]\n",
      "int64\n"
     ]
    }
   ],
   "source": [
    "# Valores enteros normales\n",
    "x = np.array([1,2,3,4])\n",
    "print(x)\n",
    "print(x.dtype)\n",
    "\n",
    "# Valores enteros grandes\n",
    "x = np.array([10000000000000000])\n",
    "print(x)\n",
    "print(x.dtype)"
   ]
  },
  {
   "cell_type": "code",
   "execution_count": 17,
   "metadata": {},
   "outputs": [
    {
     "name": "stdout",
     "output_type": "stream",
     "text": [
      "[1.]\n",
      "float64\n"
     ]
    }
   ],
   "source": [
    "# Floats\n",
    "x = np.array([1.])\n",
    "print(x)\n",
    "print(x.dtype)"
   ]
  },
  {
   "cell_type": "markdown",
   "metadata": {},
   "source": [
    "Si tenemos booleanos"
   ]
  },
  {
   "cell_type": "code",
   "execution_count": 18,
   "metadata": {},
   "outputs": [
    {
     "name": "stdout",
     "output_type": "stream",
     "text": [
      "bool\n"
     ]
    }
   ],
   "source": [
    "x = np.array([True, False, True])\n",
    "print(x.dtype)"
   ]
  },
  {
   "cell_type": "markdown",
   "metadata": {},
   "source": [
    "Cadenas de texto. La `U` viene de unicode, que es la codificación que sigue `numpy`. Y el número de al lado es la longitud de la cadena de texto más larga del array."
   ]
  },
  {
   "cell_type": "code",
   "execution_count": 19,
   "metadata": {},
   "outputs": [
    {
     "name": "stdout",
     "output_type": "stream",
     "text": [
      "<U1\n"
     ]
    }
   ],
   "source": [
    "x = np.array(['a', 'b', 'c'])\n",
    "print(x.dtype)"
   ]
  },
  {
   "cell_type": "markdown",
   "metadata": {},
   "source": [
    "Podemos mezclar varios tipos de datos, pero `numpy` forzará un solo tipo. ¿Cómo lo hace? Realiza las conversiones de tal manera que no pierda información en la conversión. En la conversión prima el siguiente orden: String -> Float -> Int -> Boolean"
   ]
  },
  {
   "cell_type": "code",
   "execution_count": 22,
   "metadata": {},
   "outputs": [
    {
     "name": "stdout",
     "output_type": "stream",
     "text": [
      "['a' 'True']\n",
      "[1 1]\n",
      "[1. 1.]\n"
     ]
    }
   ],
   "source": [
    "print(np.array(['a', True]))\n",
    "print(np.array([1,True]))\n",
    "print(np.array([1,1.]))"
   ]
  },
  {
   "cell_type": "markdown",
   "metadata": {},
   "source": [
    "## 9. Concatenado\n",
    "Para concatenar matrices, `numpy` tiene varios métodos: `np.concatenate`, `np.vstack` o `np.hstack`. Lo único que hay que tener en cuenta es que coincidan las dimensiones, para que el concatenado sea correcto."
   ]
  },
  {
   "cell_type": "code",
   "execution_count": 25,
   "metadata": {},
   "outputs": [
    {
     "data": {
      "text/plain": [
       "array([1, 2, 3, 1, 2, 3])"
      ]
     },
     "execution_count": 25,
     "metadata": {},
     "output_type": "execute_result"
    }
   ],
   "source": [
    "x = np.array([1,2,3])\n",
    "y = np.array([3,2,1])\n",
    "np.concatenate([x,y])"
   ]
  },
  {
   "cell_type": "markdown",
   "metadata": {},
   "source": [
    "Como ves, el concatenado es horizontal. Al ser elementos de 1D, mantiene las dimensiones. Se pueden concatenar todos los arrays que queramos."
   ]
  },
  {
   "cell_type": "code",
   "execution_count": 28,
   "metadata": {},
   "outputs": [
    {
     "data": {
      "text/plain": [
       "array([ 1,  2,  3,  1,  2,  3, 99, 99, 99])"
      ]
     },
     "execution_count": 28,
     "metadata": {},
     "output_type": "execute_result"
    }
   ],
   "source": [
    "z = np.array([99,99,99])\n",
    "np.concatenate([x,y,z])"
   ]
  },
  {
   "cell_type": "markdown",
   "metadata": {},
   "source": [
    "Probemos ahora con arrays bidimensionales"
   ]
  },
  {
   "cell_type": "code",
   "execution_count": 29,
   "metadata": {},
   "outputs": [
    {
     "data": {
      "text/plain": [
       "array([[1, 2, 3],\n",
       "       [4, 5, 6],\n",
       "       [1, 2, 3],\n",
       "       [4, 5, 6]])"
      ]
     },
     "execution_count": 29,
     "metadata": {},
     "output_type": "execute_result"
    }
   ],
   "source": [
    "xy = np.array([[1,2,3],\n",
    "              [4,5,6]])\n",
    "\n",
    "np.concatenate([xy, xy])"
   ]
  },
  {
   "cell_type": "markdown",
   "metadata": {},
   "source": [
    "Ahora podemos jugar con los ejes. El método `concatenate` tiene un argumento que es `axis`, con el cual podemos jugar con las dimensiones y elegir el tipo de concatenado."
   ]
  },
  {
   "cell_type": "code",
   "execution_count": 30,
   "metadata": {},
   "outputs": [
    {
     "data": {
      "text/plain": [
       "array([[1, 2, 3, 1, 2, 3],\n",
       "       [4, 5, 6, 4, 5, 6]])"
      ]
     },
     "execution_count": 30,
     "metadata": {},
     "output_type": "execute_result"
    }
   ],
   "source": [
    "np.concatenate([xy, xy], axis = 1)"
   ]
  },
  {
   "cell_type": "markdown",
   "metadata": {},
   "source": [
    "Si tenemos arrays de diferentes dimensiones, puede resultar más útil usar `vstack`"
   ]
  },
  {
   "cell_type": "code",
   "execution_count": 32,
   "metadata": {},
   "outputs": [
    {
     "data": {
      "text/plain": [
       "array([[1, 2, 3],\n",
       "       [1, 2, 3],\n",
       "       [4, 5, 6]])"
      ]
     },
     "execution_count": 32,
     "metadata": {},
     "output_type": "execute_result"
    }
   ],
   "source": [
    "x = np.array([1,2,3])\n",
    "xy = np.array([[1,2,3],\n",
    "              [4,5,6]])\n",
    "\n",
    "np.vstack([x, xy])"
   ]
  },
  {
   "cell_type": "markdown",
   "metadata": {},
   "source": [
    "O si queremos hacer un concatenado horizontal, lo haremos mediante `hstack`."
   ]
  },
  {
   "cell_type": "code",
   "execution_count": 35,
   "metadata": {},
   "outputs": [
    {
     "data": {
      "text/plain": [
       "array([[1, 2, 3, 1],\n",
       "       [4, 5, 6, 2]])"
      ]
     },
     "execution_count": 35,
     "metadata": {},
     "output_type": "execute_result"
    }
   ],
   "source": [
    "x = np.array([[1],[2]])\n",
    "xy = np.array([[1,2,3],\n",
    "              [4,5,6]])\n",
    "\n",
    "np.hstack([xy, x])"
   ]
  },
  {
   "cell_type": "markdown",
   "metadata": {},
   "source": [
    "## 10. Sustitucion\n",
    "En `numpy` podemos aplicar operaciones para sustituir elementos dependiendo de ciertas condiciones, y con esa sintaxis de sustitución también es posible filtrar datos de las matrices."
   ]
  },
  {
   "cell_type": "code",
   "execution_count": 40,
   "metadata": {},
   "outputs": [
    {
     "data": {
      "text/plain": [
       "array([[1, 2, 3]])"
      ]
     },
     "execution_count": 40,
     "metadata": {},
     "output_type": "execute_result"
    }
   ],
   "source": [
    "xy = np.array([[1,2,3],\n",
    "              [4,5,6]])\n",
    "\n",
    "my_filter = ([True, False])\n",
    "\n",
    "xy[my_filter]"
   ]
  },
  {
   "cell_type": "markdown",
   "metadata": {},
   "source": [
    "De esta manera, lo que hacemos es preparar una lista de booleanos, y se lo aplicamos al array. Si lo queremos hacer de una manera más automática y entendible, utilizamos `where`."
   ]
  },
  {
   "cell_type": "code",
   "execution_count": 52,
   "metadata": {},
   "outputs": [
    {
     "name": "stdout",
     "output_type": "stream",
     "text": [
      "[[  5   5   5]\n",
      " [100 100 100]]\n",
      "[[5 5 5]\n",
      " [4 5 6]]\n",
      "[0 0 0]\n",
      "[0 1 2]\n"
     ]
    },
    {
     "data": {
      "text/plain": [
       "array([1, 2, 3])"
      ]
     },
     "execution_count": 52,
     "metadata": {},
     "output_type": "execute_result"
    }
   ],
   "source": [
    "print(np.where(xy < 4, 5, 100))\n",
    "print(np.where(xy < 4, 5, xy))\n",
    "print(np.where(xy < 4)[0])\n",
    "print(np.where(xy < 4)[1])\n",
    "\n",
    "xy[np.where(xy < 4)]"
   ]
  },
  {
   "cell_type": "markdown",
   "metadata": {},
   "source": [
    "O incluso podemos sustituit los que se den en la condición, y el resto mantener los valores del array."
   ]
  }
 ],
 "metadata": {
  "kernelspec": {
   "display_name": "Python 3",
   "language": "python",
   "name": "python3"
  },
  "language_info": {
   "codemirror_mode": {
    "name": "ipython",
    "version": 3
   },
   "file_extension": ".py",
   "mimetype": "text/x-python",
   "name": "python",
   "nbconvert_exporter": "python",
   "pygments_lexer": "ipython3",
   "version": "3.7.6"
  }
 },
 "nbformat": 4,
 "nbformat_minor": 4
}
