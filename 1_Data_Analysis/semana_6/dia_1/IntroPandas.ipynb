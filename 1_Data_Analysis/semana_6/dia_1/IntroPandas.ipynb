{
 "cells": [
  {
   "cell_type": "markdown",
   "metadata": {
    "colab_type": "text",
    "id": "9FACFsyE9iFT"
   },
   "source": [
    "# Data Manipulation with Pandas"
   ]
  },
  {
   "cell_type": "markdown",
   "metadata": {
    "colab_type": "text",
    "id": "8-i2lHtH9iFU"
   },
   "source": [
    "In the previous chapter, we dove into detail on NumPy and its ``ndarray`` object, which provides efficient storage and manipulation of dense typed arrays in Python.\n",
    "Here we'll build on this knowledge by looking in detail at the data structures provided by the Pandas library.\n",
    "Pandas is a newer package built on top of NumPy, and provides an efficient implementation of a ``DataFrame``.\n",
    "``DataFrame``s are essentially multidimensional arrays with attached row and column labels, and often with heterogeneous types and/or missing data.\n",
    "As well as offering a convenient storage interface for labeled data, Pandas implements a number of powerful data operations familiar to users of both database frameworks and spreadsheet programs.\n",
    "\n",
    "As we saw, NumPy's ``ndarray`` data structure provides essential features for the type of clean, well-organized data typically seen in numerical computing tasks.\n",
    "While it serves this purpose very well, its limitations become clear when we need more flexibility (e.g., attaching labels to data, working with missing data, etc.) and when attempting operations that do not map well to element-wise broadcasting (e.g., groupings, pivots, etc.), each of which is an important piece of analyzing the less structured data available in many forms in the world around us.\n",
    "Pandas, and in particular its ``Series`` and ``DataFrame`` objects, builds on the NumPy array structure and provides efficient access to these sorts of \"data munging\" tasks that occupy much of a data scientist's time.\n",
    "\n",
    "In this chapter, we will focus on the mechanics of using ``Series``, ``DataFrame``, and related structures effectively.\n",
    "We will use examples drawn from real datasets where appropriate, but these examples are not necessarily the focus."
   ]
  },
  {
   "cell_type": "markdown",
   "metadata": {
    "colab_type": "text",
    "id": "lx1LHzND9iFV"
   },
   "source": [
    "## Installing and Using Pandas\n",
    "\n",
    "Installation of Pandas on your system requires NumPy to be installed, and if building the library from source, requires the appropriate tools to compile the C and Cython sources on which Pandas is built.\n",
    "Details on this installation can be found in the [Pandas documentation](http://pandas.pydata.org/).\n",
    "If you followed the advice outlined in the [Preface](00.00-Preface.ipynb) and used the Anaconda stack, you already have Pandas installed.\n",
    "\n",
    "Once Pandas is installed, you can import it and check the version:"
   ]
  },
  {
   "cell_type": "code",
   "execution_count": 5,
   "metadata": {
    "colab": {
     "base_uri": "https://localhost:8080/",
     "height": 34
    },
    "colab_type": "code",
    "collapsed": false,
    "id": "udeK7bx29iFW",
    "jupyter": {
     "outputs_hidden": false
    },
    "outputId": "e8606582-4041-4f6e-ab54-85254c4818d0"
   },
   "outputs": [],
   "source": [
    "import pandas as pd \n",
    "import numpy as np "
   ]
  },
  {
   "cell_type": "code",
   "execution_count": 3,
   "metadata": {},
   "outputs": [
    {
     "output_type": "execute_result",
     "data": {
      "text/plain": "'0.25.1'"
     },
     "metadata": {},
     "execution_count": 3
    }
   ],
   "source": [
    "pd.__version__"
   ]
  },
  {
   "cell_type": "markdown",
   "metadata": {
    "colab_type": "text",
    "id": "jJdV68419iFa"
   },
   "source": [
    "Just as we generally import NumPy under the alias ``np``, we will import Pandas under the alias ``pd``:"
   ]
  },
  {
   "cell_type": "code",
   "execution_count": 4,
   "metadata": {
    "colab": {},
    "colab_type": "code",
    "id": "KCyuhicf9iFb",
    "tags": []
   },
   "outputs": [
    {
     "output_type": "stream",
     "name": "stdout",
     "text": "alabaster==0.7.12\nanaconda-client==1.7.2\nanaconda-navigator==1.9.7\nanaconda-project==0.8.3\nasn1crypto==1.0.1\nastroid==2.3.1\nastropy==3.2.1\natomicwrites==1.3.0\nattrs==19.2.0\nBabel==2.7.0\nbackcall==0.1.0\nbackports.functools-lru-cache==1.6.1\nbackports.os==0.1.1\nbackports.shutil-get-terminal-size==1.0.0\nbackports.tempfile==1.0\nbackports.weakref==1.0.post1\nbeautifulsoup4==4.8.0\nbitarray==1.0.1\nbkcharts==0.2\nbleach==3.1.0\nbokeh==1.3.4\nboto==2.49.0\nBottleneck==1.2.1\ncertifi==2019.9.11\ncffi==1.12.3\nchardet==3.0.4\nClick==7.0\ncloudpickle==1.2.2\nclyent==1.2.2\ncolorama==0.4.1\ncomtypes==1.1.7\nconda==4.8.3\nconda-build==3.18.9\nconda-package-handling==1.7.0\nconda-verify==3.4.2\ncontextlib2==0.6.0\ncryptography==2.7\ncvxopt==1.2.4\ncycler==0.10.0\nCython==0.29.13\ncytoolz==0.10.0\ndask==2.5.2\ndecorator==4.4.0\ndefusedxml==0.6.0\ndistributed==2.5.2\ndocutils==0.15.2\nentrypoints==0.3\net-xmlfile==1.0.1\nfastcache==1.1.0\nfilelock==3.0.12\nFlask==1.1.1\nfsspec==0.5.2\nfuture==0.18.2\ngevent==1.4.0\nglob2==0.7\ngreenlet==0.4.15\nh5py==2.9.0\nHeapDict==1.0.1\nhtml5lib==1.0.1\nidna==2.8\nimageio==2.6.0\nimagesize==1.1.0\nimportlib-metadata==0.23\nintel-openmp==2019.0\nipykernel==5.1.2\nipython==7.8.0\nipython-genutils==0.2.0\nipywidgets==7.5.1\nisort==4.3.21\nitsdangerous==1.1.0\njdcal==1.4.1\njedi==0.15.1\nJinja2==2.10.3\njoblib==0.13.2\njson5==0.8.5\njsonschema==3.0.2\njupyter==1.0.0\njupyter-client==5.3.3\njupyter-console==6.0.0\njupyter-core==4.5.0\njupyterlab==1.1.4\njupyterlab-server==1.0.6\nkeyring==18.0.0\nkiwisolver==1.1.0\nlazy-object-proxy==1.4.2\nlibarchive-c==2.8\nllvmlite==0.29.0\nlocket==0.2.0\nlxml==4.4.1\nMarkupSafe==1.1.1\nmatplotlib==3.1.1\nmccabe==0.6.1\nmenuinst==1.4.16\nmistune==0.8.4\nmkl==2019.0\nmkl-fft==1.0.14\nmkl-random==1.1.0\nmkl-service==2.3.0\nmock==3.0.5\nmore-itertools==7.2.0\nmpmath==1.1.0\nmsgpack==0.6.1\nmultipledispatch==0.6.0\nnavigator-updater==0.2.1\nnbconvert==5.6.0\nnbformat==4.4.0\nnetworkx==2.3\nnltk==3.4.5\nnose==1.3.7\nnotebook==6.0.1\nnumba==0.45.1\nnumexpr==2.7.0\nnumpy==1.18.1\nnumpydoc==0.9.1\nolefile==0.46\nopenpyxl==3.0.0\npackaging==19.2\npandas==0.25.1\npandocfilters==1.4.2\nparso==0.5.1\npartd==1.0.0\npath.py==12.0.1\npathlib2==2.3.5\npatsy==0.5.1\npep8==1.7.1\npickleshare==0.7.5\nPillow==6.2.0\npkginfo==1.5.0.1\npluggy==0.13.0\nply==3.11\nprometheus-client==0.7.1\nprompt-toolkit==2.0.10\npsutil==5.6.3\nPuLP==2.0\npy==1.8.0\npycodestyle==2.5.0\npycosat==0.6.3\npycparser==2.19\npycrypto==2.6.1\npycurl==7.43.0.3\npyflakes==2.1.1\nPygments==2.4.2\npylint==2.4.2\npyodbc==4.0.27\npyOpenSSL==19.0.0\npyparsing==2.4.2\npyreadline==2.1\npyrsistent==0.15.4\nPySocks==1.7.1\npytest==5.2.1\npytest-arraydiff==0.3\npytest-astropy==0.5.0\npytest-doctestplus==0.4.0\npytest-openfiles==0.4.0\npytest-remotedata==0.3.2\npython-aemet==0.3.2\npython-dateutil==2.8.0\npytz==2019.3\nPyWavelets==1.0.3\npywin32==223\npywinpty==0.5.5\nPyYAML==5.1.2\npyzmq==18.1.0\nQtAwesome==0.6.0\nqtconsole==4.5.5\nQtPy==1.9.0\nrequests==2.22.0\nrope==0.14.0\nruamel-yaml==0.15.46\nscikit-image==0.15.0\nscikit-learn==0.21.3\nscipy==1.3.1\nseaborn==0.9.0\nSend2Trash==1.5.0\nsimplegeneric==0.8.1\nsingledispatch==3.4.0.3\nsix==1.12.0\nsnowballstemmer==2.0.0\nsortedcollections==1.1.2\nsortedcontainers==2.1.0\nsoupsieve==1.9.3\nSphinx==2.2.0\nsphinxcontrib-applehelp==1.0.1\nsphinxcontrib-devhelp==1.0.1\nsphinxcontrib-htmlhelp==1.0.2\nsphinxcontrib-jsmath==1.0.1\nsphinxcontrib-qthelp==1.0.2\nsphinxcontrib-serializinghtml==1.1.3\nsphinxcontrib-websupport==1.1.2\nspyder==3.3.6\nspyder-kernels==0.5.2\nSQLAlchemy==1.3.9\nstatsmodels==0.10.1\nsympy==1.4\ntables==3.5.2\ntblib==1.4.0\nterminado==0.8.2\ntestpath==0.4.2\ntoolz==0.10.0\ntornado==6.0.3\ntqdm==4.36.1\ntraitlets==4.3.3\nunicodecsv==0.14.1\nurllib3==1.24.2\nwcwidth==0.1.7\nwebencodings==0.5.1\nWerkzeug==0.16.0\nwget==3.2\nwidgetsnbextension==3.5.1\nwin-inet-pton==1.1.0\nwin-unicode-console==0.5\nwincertstore==0.2\nwrapt==1.11.2\nxlrd==1.2.0\nXlsxWriter==1.2.1\nxlwings==0.15.10\nxlwt==1.3.0\nzict==1.0.0\nzipp==0.6.0\nWARNING: Could not generate requirement for distribution -umpy 1.16.5 (c:\\users\\pilar\\anaconda3\\lib\\site-packages): Parse error at \"'-umpy==1'\": Expected W:(abcd...)\n"
    }
   ],
   "source": [
    "!pip freeze"
   ]
  },
  {
   "cell_type": "markdown",
   "metadata": {
    "colab_type": "text",
    "id": "QEUujk7W9iFe"
   },
   "source": [
    "This import convention will be used throughout the remainder of this book."
   ]
  },
  {
   "cell_type": "markdown",
   "metadata": {
    "colab_type": "text",
    "id": "hXN7L_-g9iFe"
   },
   "source": [
    "## Reminder about Built-In Documentation\n",
    "\n",
    "As you read through this chapter, don't forget that IPython gives you the ability to quickly explore the contents of a package (by using the tab-completion feature) as well as the documentation of various functions (using the ``?`` character). (Refer back to [Help and Documentation in IPython](01.01-Help-And-Documentation.ipynb) if you need a refresher on this.)\n",
    "\n",
    "For example, to display all the contents of the pandas namespace, you can type\n",
    "\n",
    "```ipython\n",
    "In [3]: pd.<TAB>\n",
    "```\n",
    "\n",
    "And to display Pandas's built-in documentation, you can use this:\n",
    "\n",
    "```ipython\n",
    "In [4]: pd?\n",
    "```\n",
    "\n",
    "More detailed documentation, along with tutorials and other resources, can be found at http://pandas.pydata.org/."
   ]
  },
  {
   "cell_type": "code",
   "execution_count": 8,
   "metadata": {},
   "outputs": [
    {
     "output_type": "stream",
     "text": "\u001b[1;31mType:\u001b[0m        module\n\u001b[1;31mString form:\u001b[0m <module 'pandas' from 'C:\\\\Users\\\\pilar\\\\Anaconda3\\\\lib\\\\site-packages\\\\pandas\\\\__init__.py'>\n\u001b[1;31mFile:\u001b[0m        c:\\users\\pilar\\anaconda3\\lib\\site-packages\\pandas\\__init__.py\n\u001b[1;31mDocstring:\u001b[0m  \npandas - a powerful data analysis and manipulation library for Python\n=====================================================================\n\n**pandas** is a Python package providing fast, flexible, and expressive data\nstructures designed to make working with \"relational\" or \"labeled\" data both\neasy and intuitive. It aims to be the fundamental high-level building block for\ndoing practical, **real world** data analysis in Python. Additionally, it has\nthe broader goal of becoming **the most powerful and flexible open source data\nanalysis / manipulation tool available in any language**. It is already well on\nits way toward this goal.\n\nMain Features\n-------------\nHere are just a few of the things that pandas does well:\n\n  - Easy handling of missing data in floating point as well as non-floating\n    point data.\n  - Size mutability: columns can be inserted and deleted from DataFrame and\n    higher dimensional objects\n  - Automatic and explicit data alignment: objects can be explicitly aligned\n    to a set of labels, or the user can simply ignore the labels and let\n    `Series`, `DataFrame`, etc. automatically align the data for you in\n    computations.\n  - Powerful, flexible group by functionality to perform split-apply-combine\n    operations on data sets, for both aggregating and transforming data.\n  - Make it easy to convert ragged, differently-indexed data in other Python\n    and NumPy data structures into DataFrame objects.\n  - Intelligent label-based slicing, fancy indexing, and subsetting of large\n    data sets.\n  - Intuitive merging and joining data sets.\n  - Flexible reshaping and pivoting of data sets.\n  - Hierarchical labeling of axes (possible to have multiple labels per tick).\n  - Robust IO tools for loading data from flat files (CSV and delimited),\n    Excel files, databases, and saving/loading data from the ultrafast HDF5\n    format.\n  - Time series-specific functionality: date range generation and frequency\n    conversion, moving window statistics, moving window linear regressions,\n    date shifting and lagging, etc.\n"
    }
   ],
   "source": [
    "pd?"
   ]
  },
  {
   "cell_type": "code",
   "execution_count": 9,
   "metadata": {
    "tags": []
   },
   "outputs": [
    {
     "output_type": "stream",
     "name": "stdout",
     "text": "Help on package pandas:\n\nNAME\n    pandas\n\nDESCRIPTION\n    pandas - a powerful data analysis and manipulation library for Python\n    =====================================================================\n    \n    **pandas** is a Python package providing fast, flexible, and expressive data\n    structures designed to make working with \"relational\" or \"labeled\" data both\n    easy and intuitive. It aims to be the fundamental high-level building block for\n    doing practical, **real world** data analysis in Python. Additionally, it has\n    the broader goal of becoming **the most powerful and flexible open source data\n    analysis / manipulation tool available in any language**. It is already well on\n    its way toward this goal.\n    \n    Main Features\n    -------------\n    Here are just a few of the things that pandas does well:\n    \n      - Easy handling of missing data in floating point as well as non-floating\n        point data.\n      - Size mutability: columns can be inserted and deleted from DataFrame and\n        higher dimensional objects\n      - Automatic and explicit data alignment: objects can be explicitly aligned\n        to a set of labels, or the user can simply ignore the labels and let\n        `Series`, `DataFrame`, etc. automatically align the data for you in\n        computations.\n      - Powerful, flexible group by functionality to perform split-apply-combine\n        operations on data sets, for both aggregating and transforming data.\n      - Make it easy to convert ragged, differently-indexed data in other Python\n        and NumPy data structures into DataFrame objects.\n      - Intelligent label-based slicing, fancy indexing, and subsetting of large\n        data sets.\n      - Intuitive merging and joining data sets.\n      - Flexible reshaping and pivoting of data sets.\n      - Hierarchical labeling of axes (possible to have multiple labels per tick).\n      - Robust IO tools for loading data from flat files (CSV and delimited),\n        Excel files, databases, and saving/loading data from the ultrafast HDF5\n        format.\n      - Time series-specific functionality: date range generation and frequency\n        conversion, moving window statistics, moving window linear regressions,\n        date shifting and lagging, etc.\n\nPACKAGE CONTENTS\n    _config (package)\n    _libs (package)\n    _typing\n    _version\n    api (package)\n    arrays (package)\n    compat (package)\n    conftest\n    core (package)\n    errors (package)\n    io (package)\n    plotting (package)\n    testing\n    tests (package)\n    tseries (package)\n    util (package)\n\nSUBMODULES\n    _hashtable\n    _lib\n    _tslib\n    offsets\n\nFUNCTIONS\n    __getattr__(name)\n\nDATA\n    IndexSlice = <pandas.core.indexing._IndexSlice object>\n    NaT = NaT\n    __docformat__ = 'restructuredtext'\n    __git_version__ = '171c71611886aab8549a8620c5b0071a129ad685'\n    describe_option = <pandas._config.config.CallableDynamicDoc object>\n    get_option = <pandas._config.config.CallableDynamicDoc object>\n    options = <pandas._config.config.DictWrapper object>\n    reset_option = <pandas._config.config.CallableDynamicDoc object>\n    set_option = <pandas._config.config.CallableDynamicDoc object>\n\nVERSION\n    0.25.1\n\nFILE\n    c:\\users\\pilar\\anaconda3\\lib\\site-packages\\pandas\\__init__.py\n\n\n"
    }
   ],
   "source": [
    "help(pd)"
   ]
  },
  {
   "cell_type": "markdown",
   "metadata": {
    "colab_type": "text",
    "id": "_nFPKUvZ9iFf"
   },
   "source": [
    "# Introducing Pandas Objects"
   ]
  },
  {
   "cell_type": "markdown",
   "metadata": {
    "colab_type": "text",
    "id": "bKrZM0jp9iFf"
   },
   "source": [
    "At the very basic level, Pandas objects can be thought of as enhanced versions of NumPy structured arrays in which the rows and columns are identified with labels rather than simple integer indices.\n",
    "As we will see during the course of this chapter, Pandas provides a host of useful tools, methods, and functionality on top of the basic data structures, but nearly everything that follows will require an understanding of what these structures are.\n",
    "Thus, before we go any further, let's introduce these three fundamental Pandas data structures: the ``Series``, ``DataFrame``, and ``Index``.\n",
    "\n",
    "We will start our code sessions with the standard NumPy and Pandas imports:"
   ]
  },
  {
   "cell_type": "code",
   "execution_count": null,
   "metadata": {
    "colab": {},
    "colab_type": "code",
    "id": "SJHNwhKO9iFg"
   },
   "outputs": [],
   "source": []
  },
  {
   "cell_type": "markdown",
   "metadata": {
    "colab_type": "text",
    "id": "C5gXfgpy9iFj"
   },
   "source": [
    "## The Pandas Series Object\n",
    "\n",
    "A Pandas ``Series`` is a one-dimensional array of indexed data.\n",
    "It can be created from a list or array as follows:"
   ]
  },
  {
   "cell_type": "code",
   "execution_count": 11,
   "metadata": {
    "colab": {
     "base_uri": "https://localhost:8080/",
     "height": 101
    },
    "colab_type": "code",
    "collapsed": false,
    "id": "s5wj_-V_9iFk",
    "jupyter": {
     "outputs_hidden": false
    },
    "outputId": "d90ab060-7659-42ab-87be-3bec9b7f63df"
   },
   "outputs": [
    {
     "output_type": "execute_result",
     "data": {
      "text/plain": "0    0.25\n1    0.50\n2    0.75\n3    1.00\ndtype: float64"
     },
     "metadata": {},
     "execution_count": 11
    }
   ],
   "source": [
    "#Serie\n",
    "data = pd.Series([0.25,0.50,0.75,1.])\n",
    "data"
   ]
  },
  {
   "cell_type": "code",
   "execution_count": 13,
   "metadata": {},
   "outputs": [
    {
     "output_type": "execute_result",
     "data": {
      "text/plain": "dtype('float64')"
     },
     "metadata": {},
     "execution_count": 13
    }
   ],
   "source": [
    "data.dtype"
   ]
  },
  {
   "cell_type": "code",
   "execution_count": 16,
   "metadata": {},
   "outputs": [
    {
     "output_type": "execute_result",
     "data": {
      "text/plain": "pandas.core.series.Series"
     },
     "metadata": {},
     "execution_count": 16
    }
   ],
   "source": [
    "type(data)"
   ]
  },
  {
   "cell_type": "code",
   "execution_count": 17,
   "metadata": {},
   "outputs": [
    {
     "output_type": "execute_result",
     "data": {
      "text/plain": "numpy.dtype"
     },
     "metadata": {},
     "execution_count": 17
    }
   ],
   "source": [
    "type(data.dtype)"
   ]
  },
  {
   "cell_type": "markdown",
   "metadata": {
    "colab_type": "text",
    "id": "W4OxIJJ49iFn"
   },
   "source": [
    "As we see in the output, the ``Series`` wraps both a sequence of values and a sequence of indices, which we can access with the ``values`` and ``index`` attributes.\n",
    "The ``values`` are simply a familiar NumPy array:"
   ]
  },
  {
   "cell_type": "code",
   "execution_count": 18,
   "metadata": {
    "colab": {
     "base_uri": "https://localhost:8080/",
     "height": 34
    },
    "colab_type": "code",
    "collapsed": false,
    "id": "_JF2MpLk9iFn",
    "jupyter": {
     "outputs_hidden": false
    },
    "outputId": "ce71db91-a104-40ea-de26-4315ce2b68dd"
   },
   "outputs": [
    {
     "output_type": "execute_result",
     "data": {
      "text/plain": "array([0.25, 0.5 , 0.75, 1.  ])"
     },
     "metadata": {},
     "execution_count": 18
    }
   ],
   "source": [
    "data.values"
   ]
  },
  {
   "cell_type": "code",
   "execution_count": 19,
   "metadata": {},
   "outputs": [
    {
     "output_type": "execute_result",
     "data": {
      "text/plain": "numpy.ndarray"
     },
     "metadata": {},
     "execution_count": 19
    }
   ],
   "source": [
    "type(data.values)"
   ]
  },
  {
   "cell_type": "markdown",
   "metadata": {
    "colab_type": "text",
    "id": "6gCGfG8s9iFs"
   },
   "source": [
    "The ``index`` is an array-like object of type ``pd.Index``, which we'll discuss in more detail momentarily."
   ]
  },
  {
   "cell_type": "code",
   "execution_count": 22,
   "metadata": {},
   "outputs": [
    {
     "output_type": "execute_result",
     "data": {
      "text/plain": "RangeIndex(start=0, stop=4, step=1)"
     },
     "metadata": {},
     "execution_count": 22
    }
   ],
   "source": [
    "data.index"
   ]
  },
  {
   "cell_type": "code",
   "execution_count": 26,
   "metadata": {},
   "outputs": [
    {
     "output_type": "execute_result",
     "data": {
      "text/plain": "pandas.core.indexes.range.RangeIndex"
     },
     "metadata": {},
     "execution_count": 26
    }
   ],
   "source": [
    "type(data.index)"
   ]
  },
  {
   "cell_type": "markdown",
   "metadata": {
    "colab_type": "text",
    "id": "CHMO4eAe9iFw"
   },
   "source": [
    "Like with a NumPy array, data can be accessed by the associated index via the familiar Python square-bracket notation:"
   ]
  },
  {
   "cell_type": "code",
   "execution_count": 28,
   "metadata": {
    "colab": {
     "base_uri": "https://localhost:8080/",
     "height": 34
    },
    "colab_type": "code",
    "collapsed": false,
    "id": "fX4sw1sC9iFw",
    "jupyter": {
     "outputs_hidden": false
    },
    "outputId": "bca47732-3937-4bb9-ccde-f62fa3efb8d7"
   },
   "outputs": [
    {
     "output_type": "execute_result",
     "data": {
      "text/plain": "0.75"
     },
     "metadata": {},
     "execution_count": 28
    }
   ],
   "source": [
    "data[2]"
   ]
  },
  {
   "cell_type": "code",
   "execution_count": 29,
   "metadata": {},
   "outputs": [
    {
     "output_type": "execute_result",
     "data": {
      "text/plain": "0.75"
     },
     "metadata": {},
     "execution_count": 29
    }
   ],
   "source": [
    "data.values[2]"
   ]
  },
  {
   "cell_type": "code",
   "execution_count": 33,
   "metadata": {
    "colab": {
     "base_uri": "https://localhost:8080/",
     "height": 67
    },
    "colab_type": "code",
    "collapsed": false,
    "id": "5M7PR4fi9iFz",
    "jupyter": {
     "outputs_hidden": false
    },
    "outputId": "38504cb6-670c-4e5c-df02-06e56317bb3a"
   },
   "outputs": [
    {
     "output_type": "execute_result",
     "data": {
      "text/plain": "1    0.50\n2    0.75\n3    1.00\ndtype: float64"
     },
     "metadata": {},
     "execution_count": 33
    }
   ],
   "source": [
    "data[1:] #Es una serie"
   ]
  },
  {
   "cell_type": "code",
   "execution_count": 34,
   "metadata": {},
   "outputs": [
    {
     "output_type": "execute_result",
     "data": {
      "text/plain": "array([0.5 , 0.75])"
     },
     "metadata": {},
     "execution_count": 34
    }
   ],
   "source": [
    "data.values[1:3] #Es un array"
   ]
  },
  {
   "cell_type": "markdown",
   "metadata": {
    "colab_type": "text",
    "id": "q013y6os9iF2"
   },
   "source": [
    "As we will see, though, the Pandas ``Series`` is much more general and flexible than the one-dimensional NumPy array that it emulates."
   ]
  },
  {
   "cell_type": "markdown",
   "metadata": {
    "colab_type": "text",
    "id": "_MyxcleC9iF3"
   },
   "source": [
    "### ``Series`` as generalized NumPy array"
   ]
  },
  {
   "cell_type": "markdown",
   "metadata": {
    "colab_type": "text",
    "id": "0bI7Jupb9iF3"
   },
   "source": [
    "From what we've seen so far, it may look like the ``Series`` object is basically interchangeable with a one-dimensional NumPy array.\n",
    "The essential difference is the presence of the index: while the Numpy Array has an *implicitly defined* integer index used to access the values, the Pandas ``Series`` has an *explicitly defined* index associated with the values.\n",
    "\n",
    "This explicit index definition gives the ``Series`` object additional capabilities. For example, the index need not be an integer, but can consist of values of any desired type.\n",
    "For example, if we wish, we can use strings as an index:"
   ]
  },
  {
   "cell_type": "code",
   "execution_count": 37,
   "metadata": {
    "colab": {
     "base_uri": "https://localhost:8080/",
     "height": 101
    },
    "colab_type": "code",
    "collapsed": false,
    "id": "xgM85EUU9iF3",
    "jupyter": {
     "outputs_hidden": false
    },
    "outputId": "123c50e4-71f5-4dca-9939-26a9038d2d17"
   },
   "outputs": [
    {
     "output_type": "execute_result",
     "data": {
      "text/plain": "a    0.25\nb    0.50\nc    0.75\nd    1.00\ndtype: float64"
     },
     "metadata": {},
     "execution_count": 37
    }
   ],
   "source": [
    "data = pd.Series([0.25,0.50,0.75,1.], index=[\"a\",\"b\",\"c\",\"d\"])\n",
    "data"
   ]
  },
  {
   "cell_type": "markdown",
   "metadata": {
    "colab_type": "text",
    "id": "Wwc6Kv2s9iF7"
   },
   "source": [
    "And the item access works as expected:"
   ]
  },
  {
   "cell_type": "code",
   "execution_count": 40,
   "metadata": {
    "colab": {
     "base_uri": "https://localhost:8080/",
     "height": 34
    },
    "colab_type": "code",
    "collapsed": false,
    "id": "muXmfPQz9iF7",
    "jupyter": {
     "outputs_hidden": false
    },
    "outputId": "d9c7a49a-1d56-4a50-fc42-c4aecdb3aabc"
   },
   "outputs": [
    {
     "output_type": "execute_result",
     "data": {
      "text/plain": "Index(['a', 'b', 'c', 'd'], dtype='object')"
     },
     "metadata": {},
     "execution_count": 40
    }
   ],
   "source": [
    "data.index"
   ]
  },
  {
   "cell_type": "code",
   "execution_count": 42,
   "metadata": {},
   "outputs": [
    {
     "output_type": "execute_result",
     "data": {
      "text/plain": "0.75"
     },
     "metadata": {},
     "execution_count": 42
    }
   ],
   "source": [
    "data[\"c\"]"
   ]
  },
  {
   "cell_type": "markdown",
   "metadata": {
    "colab_type": "text",
    "id": "meVD3j5j9iF9"
   },
   "source": [
    "We can even use non-contiguous or non-sequential indices:"
   ]
  },
  {
   "cell_type": "code",
   "execution_count": 43,
   "metadata": {
    "colab": {
     "base_uri": "https://localhost:8080/",
     "height": 101
    },
    "colab_type": "code",
    "collapsed": false,
    "id": "HbdrKBw99iF-",
    "jupyter": {
     "outputs_hidden": false
    },
    "outputId": "10a947a6-c19c-4ade-dfac-9279e768b832"
   },
   "outputs": [
    {
     "output_type": "execute_result",
     "data": {
      "text/plain": "2    0.25\n5    0.50\n3    0.75\n9    1.00\ndtype: float64"
     },
     "metadata": {},
     "execution_count": 43
    }
   ],
   "source": [
    "data = pd.Series([0.25,0.50,0.75,1.], index=([2,5,3,9]))\n",
    "data"
   ]
  },
  {
   "cell_type": "code",
   "execution_count": 44,
   "metadata": {
    "colab": {
     "base_uri": "https://localhost:8080/",
     "height": 34
    },
    "colab_type": "code",
    "collapsed": false,
    "id": "jnvpvIdv9iGA",
    "jupyter": {
     "outputs_hidden": false
    },
    "outputId": "b048d8ce-e0af-4e25-9d96-24b97ed5704f"
   },
   "outputs": [
    {
     "output_type": "execute_result",
     "data": {
      "text/plain": "0.5"
     },
     "metadata": {},
     "execution_count": 44
    }
   ],
   "source": [
    "data[5]"
   ]
  },
  {
   "cell_type": "code",
   "execution_count": null,
   "metadata": {},
   "outputs": [],
   "source": [
    "data = pd.Series((0.25,0.50,0.75,1.), index=([2,5,3,9])) #Lo declaramos con una tupla en vez de lista\n",
    "data #Los '.values' siguen siendo un numpyArray"
   ]
  },
  {
   "cell_type": "code",
   "execution_count": 45,
   "metadata": {},
   "outputs": [
    {
     "output_type": "error",
     "ename": "ValueError",
     "evalue": "Length of passed values is 4, index implies 5",
     "traceback": [
      "\u001b[1;31m---------------------------------------------------------------------------\u001b[0m",
      "\u001b[1;31mValueError\u001b[0m                                Traceback (most recent call last)",
      "\u001b[1;32m<ipython-input-45-9118806b1843>\u001b[0m in \u001b[0;36m<module>\u001b[1;34m\u001b[0m\n\u001b[0;32m      1\u001b[0m \u001b[1;31m#Cuidado con las dimensiones\u001b[0m\u001b[1;33m\u001b[0m\u001b[1;33m\u001b[0m\u001b[1;33m\u001b[0m\u001b[0m\n\u001b[1;32m----> 2\u001b[1;33m \u001b[0mdata\u001b[0m \u001b[1;33m=\u001b[0m \u001b[0mpd\u001b[0m\u001b[1;33m.\u001b[0m\u001b[0mSeries\u001b[0m\u001b[1;33m(\u001b[0m\u001b[1;33m(\u001b[0m\u001b[1;36m0.25\u001b[0m\u001b[1;33m,\u001b[0m\u001b[1;36m0.50\u001b[0m\u001b[1;33m,\u001b[0m\u001b[1;36m0.75\u001b[0m\u001b[1;33m,\u001b[0m\u001b[1;36m1.\u001b[0m\u001b[1;33m)\u001b[0m\u001b[1;33m,\u001b[0m \u001b[0mindex\u001b[0m\u001b[1;33m=\u001b[0m\u001b[1;33m(\u001b[0m\u001b[1;33m[\u001b[0m\u001b[1;36m2\u001b[0m\u001b[1;33m,\u001b[0m\u001b[1;36m5\u001b[0m\u001b[1;33m,\u001b[0m\u001b[1;36m3\u001b[0m\u001b[1;33m,\u001b[0m\u001b[1;36m9\u001b[0m\u001b[1;33m,\u001b[0m\u001b[1;36m6\u001b[0m\u001b[1;33m]\u001b[0m\u001b[1;33m)\u001b[0m\u001b[1;33m)\u001b[0m\u001b[1;33m\u001b[0m\u001b[1;33m\u001b[0m\u001b[0m\n\u001b[0m\u001b[0;32m      3\u001b[0m \u001b[0mdata\u001b[0m\u001b[1;33m\u001b[0m\u001b[1;33m\u001b[0m\u001b[0m\n",
      "\u001b[1;32m~\\Anaconda3\\lib\\site-packages\\pandas\\core\\series.py\u001b[0m in \u001b[0;36m__init__\u001b[1;34m(self, data, index, dtype, name, copy, fastpath)\u001b[0m\n\u001b[0;32m    297\u001b[0m                         raise ValueError(\n\u001b[0;32m    298\u001b[0m                             \u001b[1;34m\"Length of passed values is {val}, \"\u001b[0m\u001b[1;33m\u001b[0m\u001b[1;33m\u001b[0m\u001b[0m\n\u001b[1;32m--> 299\u001b[1;33m                             \u001b[1;34m\"index implies {ind}\"\u001b[0m\u001b[1;33m.\u001b[0m\u001b[0mformat\u001b[0m\u001b[1;33m(\u001b[0m\u001b[0mval\u001b[0m\u001b[1;33m=\u001b[0m\u001b[0mlen\u001b[0m\u001b[1;33m(\u001b[0m\u001b[0mdata\u001b[0m\u001b[1;33m)\u001b[0m\u001b[1;33m,\u001b[0m \u001b[0mind\u001b[0m\u001b[1;33m=\u001b[0m\u001b[0mlen\u001b[0m\u001b[1;33m(\u001b[0m\u001b[0mindex\u001b[0m\u001b[1;33m)\u001b[0m\u001b[1;33m)\u001b[0m\u001b[1;33m\u001b[0m\u001b[1;33m\u001b[0m\u001b[0m\n\u001b[0m\u001b[0;32m    300\u001b[0m                         )\n\u001b[0;32m    301\u001b[0m                 \u001b[1;32mexcept\u001b[0m \u001b[0mTypeError\u001b[0m\u001b[1;33m:\u001b[0m\u001b[1;33m\u001b[0m\u001b[1;33m\u001b[0m\u001b[0m\n",
      "\u001b[1;31mValueError\u001b[0m: Length of passed values is 4, index implies 5"
     ]
    }
   ],
   "source": [
    "#Cuidado con las dimensiones\n",
    "data = pd.Series((0.25,0.50,0.75,1.), index=([2,5,3,9,6]))\n",
    "data"
   ]
  },
  {
   "cell_type": "markdown",
   "metadata": {
    "colab_type": "text",
    "id": "8GE1ObxL9iGC"
   },
   "source": [
    "### Series as specialized dictionary\n",
    "\n",
    "In this way, you can think of a Pandas ``Series`` a bit like a specialization of a Python dictionary.\n",
    "A dictionary is a structure that maps arbitrary keys to a set of arbitrary values, and a ``Series`` is a structure which maps typed keys to a set of typed values.\n",
    "This typing is important: just as the type-specific compiled code behind a NumPy array makes it more efficient than a Python list for certain operations, the type information of a Pandas ``Series`` makes it much more efficient than Python dictionaries for certain operations.\n",
    "\n",
    "The ``Series``-as-dictionary analogy can be made even more clear by constructing a ``Series`` object directly from a Python dictionary:"
   ]
  },
  {
   "cell_type": "code",
   "execution_count": 50,
   "metadata": {
    "colab": {
     "base_uri": "https://localhost:8080/",
     "height": 118
    },
    "colab_type": "code",
    "collapsed": false,
    "id": "a-zIOdt49iGD",
    "jupyter": {
     "outputs_hidden": false
    },
    "outputId": "f9d35371-caf1-41f8-fbc2-66ad2b8b567a"
   },
   "outputs": [
    {
     "output_type": "execute_result",
     "data": {
      "text/plain": "{'California': 38332521,\n 'Texas': 26448193,\n 'New York': 19651127,\n 'Florida': 19552860,\n 'Illinois': 12882135}"
     },
     "metadata": {},
     "execution_count": 50
    }
   ],
   "source": [
    "population_dict = {'California': 38332521,\n",
    "                   'Texas': 26448193,\n",
    "                   'New York': 19651127,\n",
    "                   'Florida': 19552860,\n",
    "                   'Illinois': 12882135}\n",
    "population_dict"
   ]
  },
  {
   "cell_type": "code",
   "execution_count": 52,
   "metadata": {},
   "outputs": [
    {
     "output_type": "execute_result",
     "data": {
      "text/plain": "California    38332521\nTexas         26448193\nNew York      19651127\nFlorida       19552860\nIllinois      12882135\ndtype: int64"
     },
     "metadata": {},
     "execution_count": 52
    }
   ],
   "source": [
    "population = pd.Series(population_dict)\n",
    "population"
   ]
  },
  {
   "cell_type": "code",
   "execution_count": 55,
   "metadata": {},
   "outputs": [
    {
     "output_type": "execute_result",
     "data": {
      "text/plain": "array([38332521, 26448193, 19651127, 19552860, 12882135], dtype=int64)"
     },
     "metadata": {},
     "execution_count": 55
    }
   ],
   "source": [
    "population.values  "
   ]
  },
  {
   "cell_type": "code",
   "execution_count": 57,
   "metadata": {},
   "outputs": [
    {
     "output_type": "execute_result",
     "data": {
      "text/plain": "Index(['California', 'Texas', 'New York', 'Florida', 'Illinois'], dtype='object')"
     },
     "metadata": {},
     "execution_count": 57
    }
   ],
   "source": [
    "population.index"
   ]
  },
  {
   "cell_type": "code",
   "execution_count": 59,
   "metadata": {
    "tags": []
   },
   "outputs": [
    {
     "output_type": "stream",
     "name": "stdout",
     "text": "['California' 'Texas' 'New York' 'Florida' 'Illinois']\n<class 'numpy.ndarray'>\n"
    }
   ],
   "source": [
    "print(population.index.values)\n",
    "print(type(population.index.values))"
   ]
  },
  {
   "cell_type": "markdown",
   "metadata": {
    "colab_type": "text",
    "id": "I4zDml449iGF"
   },
   "source": [
    "By default, a ``Series`` will be created where the index is drawn from the sorted keys.\n",
    "From here, typical dictionary-style item access can be performed:"
   ]
  },
  {
   "cell_type": "code",
   "execution_count": 63,
   "metadata": {
    "colab": {
     "base_uri": "https://localhost:8080/",
     "height": 34
    },
    "colab_type": "code",
    "collapsed": false,
    "id": "ApgWunV79iGG",
    "jupyter": {
     "outputs_hidden": false
    },
    "outputId": "4810be25-7932-4181-b862-b3af7dafa633"
   },
   "outputs": [
    {
     "output_type": "execute_result",
     "data": {
      "text/plain": "38332521"
     },
     "metadata": {},
     "execution_count": 63
    }
   ],
   "source": [
    "population['California']"
   ]
  },
  {
   "cell_type": "markdown",
   "metadata": {
    "colab_type": "text",
    "id": "q_n6VEbW9iGI"
   },
   "source": [
    "Unlike a dictionary, though, the ``Series`` also supports array-style operations such as slicing:"
   ]
  },
  {
   "cell_type": "code",
   "execution_count": 64,
   "metadata": {
    "colab": {
     "base_uri": "https://localhost:8080/",
     "height": 118
    },
    "colab_type": "code",
    "collapsed": false,
    "id": "fV1J23Ww9iGJ",
    "jupyter": {
     "outputs_hidden": false
    },
    "outputId": "fc0a4b39-a3ce-4ab7-da23-b7d46894fc14"
   },
   "outputs": [
    {
     "output_type": "execute_result",
     "data": {
      "text/plain": "California    38332521\nTexas         26448193\nNew York      19651127\nFlorida       19552860\ndtype: int64"
     },
     "metadata": {},
     "execution_count": 64
    }
   ],
   "source": [
    "population[\"California\":\"Florida\"]"
   ]
  },
  {
   "cell_type": "markdown",
   "metadata": {
    "colab_type": "text",
    "id": "lvA0js8R9iGL"
   },
   "source": [
    "We'll discuss some of the quirks of Pandas indexing and slicing in [Data Indexing and Selection](03.02-Data-Indexing-and-Selection.ipynb)."
   ]
  },
  {
   "cell_type": "markdown",
   "metadata": {
    "colab_type": "text",
    "id": "5lvgTva79iGM"
   },
   "source": [
    "### Constructing Series objects\n",
    "\n",
    "We've already seen a few ways of constructing a Pandas ``Series`` from scratch; all of them are some version of the following:\n",
    "\n",
    "```python\n",
    ">>> pd.Series(data, index=index)\n",
    "```\n",
    "\n",
    "where ``index`` is an optional argument, and ``data`` can be one of many entities.\n",
    "\n",
    "For example, ``data`` can be a list or NumPy array, in which case ``index`` defaults to an integer sequence:"
   ]
  },
  {
   "cell_type": "code",
   "execution_count": 66,
   "metadata": {
    "colab": {
     "base_uri": "https://localhost:8080/",
     "height": 84
    },
    "colab_type": "code",
    "collapsed": false,
    "id": "I_7_QbuH9iGM",
    "jupyter": {
     "outputs_hidden": false
    },
    "outputId": "c81b3e46-66e1-44ef-a319-a4502ea919d5"
   },
   "outputs": [
    {
     "output_type": "execute_result",
     "data": {
      "text/plain": "0    2\n1    3\n2    4\ndtype: int64"
     },
     "metadata": {},
     "execution_count": 66
    }
   ],
   "source": [
    "pd.Series([2,3,4])"
   ]
  },
  {
   "cell_type": "code",
   "execution_count": 70,
   "metadata": {},
   "outputs": [
    {
     "output_type": "execute_result",
     "data": {
      "text/plain": "1    2\n2    3\n3    4\ndtype: int64"
     },
     "metadata": {},
     "execution_count": 70
    }
   ],
   "source": [
    "datos = [2,3,4]\n",
    "pd.Series(datos, index = range(1,len(datos)+1))"
   ]
  },
  {
   "cell_type": "markdown",
   "metadata": {
    "colab_type": "text",
    "id": "QSiWVch49iGO"
   },
   "source": [
    "``data`` can be a scalar, which is repeated to fill the specified index:"
   ]
  },
  {
   "cell_type": "code",
   "execution_count": 72,
   "metadata": {
    "colab": {},
    "colab_type": "code",
    "collapsed": false,
    "id": "9YJxJG8c9iGP",
    "jupyter": {
     "outputs_hidden": false
    }
   },
   "outputs": [
    {
     "output_type": "execute_result",
     "data": {
      "text/plain": "1    5\n2    5\n3    5\ndtype: int64"
     },
     "metadata": {},
     "execution_count": 72
    }
   ],
   "source": [
    "prueba = pd.Series(5, index = [1,2,3])\n",
    "prueba"
   ]
  },
  {
   "cell_type": "code",
   "execution_count": 73,
   "metadata": {
    "colab": {
     "base_uri": "https://localhost:8080/",
     "height": 67
    },
    "colab_type": "code",
    "id": "drSKlD5Oo5lr",
    "outputId": "b2521dd1-9f8f-4047-a5e0-0f53d160b8ec"
   },
   "outputs": [
    {
     "output_type": "execute_result",
     "data": {
      "text/plain": "5"
     },
     "metadata": {},
     "execution_count": 73
    }
   ],
   "source": [
    "prueba[2]"
   ]
  },
  {
   "cell_type": "markdown",
   "metadata": {
    "colab_type": "text",
    "id": "F8dEVn_j9iGR"
   },
   "source": [
    "``data`` can be a dictionary, in which ``index`` defaults to the sorted dictionary keys:"
   ]
  },
  {
   "cell_type": "code",
   "execution_count": 74,
   "metadata": {
    "colab": {
     "base_uri": "https://localhost:8080/",
     "height": 84
    },
    "colab_type": "code",
    "collapsed": false,
    "id": "M5HL00ku9iGR",
    "jupyter": {
     "outputs_hidden": false
    },
    "outputId": "420e9bd5-14dc-42cd-8589-8729abde70d0"
   },
   "outputs": [
    {
     "output_type": "execute_result",
     "data": {
      "text/plain": "2    a\n1    b\n3    c\n5    d\n4    e\ndtype: object"
     },
     "metadata": {},
     "execution_count": 74
    }
   ],
   "source": [
    "pd.Series({2:\"a\",1:\"b\",3:\"c\",5:\"d\",4:\"e\"})"
   ]
  },
  {
   "cell_type": "markdown",
   "metadata": {
    "colab_type": "text",
    "id": "ycA8sPLg9iGT"
   },
   "source": [
    "In each case, the index can be explicitly set if a different result is preferred:"
   ]
  },
  {
   "cell_type": "code",
   "execution_count": 76,
   "metadata": {
    "colab": {
     "base_uri": "https://localhost:8080/",
     "height": 67
    },
    "colab_type": "code",
    "collapsed": false,
    "id": "D-8r-ynw9iGU",
    "jupyter": {
     "outputs_hidden": false
    },
    "outputId": "d42b8f2c-ad78-48a5-e01a-561275184277"
   },
   "outputs": [
    {
     "output_type": "execute_result",
     "data": {
      "text/plain": "1    b\n2    a\n3    c\n4    e\n5    d\ndtype: object"
     },
     "metadata": {},
     "execution_count": 76
    }
   ],
   "source": [
    "pd.Series({2:\"a\",1:\"b\",3:\"c\",5:\"d\",4:\"e\"}, index=[1,2,3,4,5])"
   ]
  },
  {
   "cell_type": "code",
   "execution_count": 78,
   "metadata": {},
   "outputs": [
    {
     "output_type": "execute_result",
     "data": {
      "text/plain": "1    b\n2    a\n5    d\ndtype: object"
     },
     "metadata": {},
     "execution_count": 78
    }
   ],
   "source": [
    "pd.Series({2:\"a\",1:\"b\",3:\"c\",5:\"d\",4:\"e\"}, index=[1,2,5]) #podemos filtra cuando se crea la serie"
   ]
  },
  {
   "cell_type": "markdown",
   "metadata": {
    "colab_type": "text",
    "id": "UhIco_kD9iGW"
   },
   "source": [
    "Notice that in this case, the ``Series`` is populated only with the explicitly identified keys."
   ]
  },
  {
   "cell_type": "markdown",
   "metadata": {
    "colab_type": "text",
    "id": "xddzdAVO9iGW"
   },
   "source": [
    "## The Pandas DataFrame Object\n",
    "\n",
    "The next fundamental structure in Pandas is the ``DataFrame``.\n",
    "Like the ``Series`` object discussed in the previous section, the ``DataFrame`` can be thought of either as a generalization of a NumPy array, or as a specialization of a Python dictionary.\n",
    "We'll now take a look at each of these perspectives."
   ]
  },
  {
   "cell_type": "markdown",
   "metadata": {
    "colab_type": "text",
    "id": "gjzFp2ri9iGY"
   },
   "source": [
    "### DataFrame as a generalized NumPy array\n",
    "If a ``Series`` is an analog of a one-dimensional array with flexible indices, a ``DataFrame`` is an analog of a two-dimensional array with both flexible row indices and flexible column names.\n",
    "Just as you might think of a two-dimensional array as an ordered sequence of aligned one-dimensional columns, you can think of a ``DataFrame`` as a sequence of aligned ``Series`` objects.\n",
    "Here, by \"aligned\" we mean that they share the same index.\n",
    "\n",
    "To demonstrate this, let's first construct a new ``Series`` listing the area of each of the five states discussed in the previous section:"
   ]
  },
  {
   "cell_type": "code",
   "execution_count": 95,
   "metadata": {
    "colab": {
     "base_uri": "https://localhost:8080/",
     "height": 118
    },
    "colab_type": "code",
    "collapsed": false,
    "id": "oe0NAbyg9iGY",
    "jupyter": {
     "outputs_hidden": false
    },
    "outputId": "15f7a80f-3aab-4dc8-d52b-c5f09d97edb5"
   },
   "outputs": [
    {
     "output_type": "execute_result",
     "data": {
      "text/plain": "{'California': 423967,\n 'Texas': 695662,\n 'New York': 141297,\n 'Florida': 170312,\n 'Illinois': 149995}"
     },
     "metadata": {},
     "execution_count": 95
    }
   ],
   "source": [
    "area_dict = {'California': 423967, 'Texas': 695662, 'New York': 141297,\n",
    "             'Florida': 170312, 'Illinois': 149995}\n",
    "area_dict"
   ]
  },
  {
   "cell_type": "code",
   "execution_count": 81,
   "metadata": {
    "colab": {
     "base_uri": "https://localhost:8080/",
     "height": 118
    },
    "colab_type": "code",
    "id": "kILpFBcFqnQi",
    "outputId": "2cc99b30-f7ca-4d8a-ce5c-1dd4fc090c77"
   },
   "outputs": [
    {
     "output_type": "execute_result",
     "data": {
      "text/plain": "California    423967\nTexas         695662\nNew York      141297\nFlorida       170312\nIllinois      149995\ndtype: int64"
     },
     "metadata": {},
     "execution_count": 81
    }
   ],
   "source": [
    "areas = pd.Series(area_dict)\n",
    "areas"
   ]
  },
  {
   "cell_type": "markdown",
   "metadata": {
    "colab_type": "text",
    "id": "naK1oJjw9iGd"
   },
   "source": [
    "Now that we have this along with the ``population`` Series from before, we can use a dictionary to construct a single two-dimensional object containing this information:"
   ]
  },
  {
   "cell_type": "code",
   "execution_count": 82,
   "metadata": {
    "colab": {
     "base_uri": "https://localhost:8080/",
     "height": 202
    },
    "colab_type": "code",
    "collapsed": false,
    "id": "vMsaHkES9iGe",
    "jupyter": {
     "outputs_hidden": false
    },
    "outputId": "b5509f45-0f51-4c50-9843-47324e80fe04"
   },
   "outputs": [
    {
     "output_type": "execute_result",
     "data": {
      "text/plain": "            Poblacion    Area\nCalifornia   38332521  423967\nTexas        26448193  695662\nNew York     19651127  141297\nFlorida      19552860  170312\nIllinois     12882135  149995",
      "text/html": "<div>\n<style scoped>\n    .dataframe tbody tr th:only-of-type {\n        vertical-align: middle;\n    }\n\n    .dataframe tbody tr th {\n        vertical-align: top;\n    }\n\n    .dataframe thead th {\n        text-align: right;\n    }\n</style>\n<table border=\"1\" class=\"dataframe\">\n  <thead>\n    <tr style=\"text-align: right;\">\n      <th></th>\n      <th>Poblacion</th>\n      <th>Area</th>\n    </tr>\n  </thead>\n  <tbody>\n    <tr>\n      <td>California</td>\n      <td>38332521</td>\n      <td>423967</td>\n    </tr>\n    <tr>\n      <td>Texas</td>\n      <td>26448193</td>\n      <td>695662</td>\n    </tr>\n    <tr>\n      <td>New York</td>\n      <td>19651127</td>\n      <td>141297</td>\n    </tr>\n    <tr>\n      <td>Florida</td>\n      <td>19552860</td>\n      <td>170312</td>\n    </tr>\n    <tr>\n      <td>Illinois</td>\n      <td>12882135</td>\n      <td>149995</td>\n    </tr>\n  </tbody>\n</table>\n</div>"
     },
     "metadata": {},
     "execution_count": 82
    }
   ],
   "source": [
    "#Crear un DataFrame\n",
    "states = pd.DataFrame({\"Poblacion\":population,\"Area\":areas})\n",
    "states"
   ]
  },
  {
   "cell_type": "markdown",
   "metadata": {
    "colab_type": "text",
    "id": "15kNfT_z9iGg"
   },
   "source": [
    "Like the ``Series`` object, the ``DataFrame`` has an ``index`` attribute that gives access to the index labels:"
   ]
  },
  {
   "cell_type": "code",
   "execution_count": 84,
   "metadata": {
    "colab": {
     "base_uri": "https://localhost:8080/",
     "height": 35
    },
    "colab_type": "code",
    "collapsed": false,
    "id": "F3KCMGrI9iGg",
    "jupyter": {
     "outputs_hidden": false
    },
    "outputId": "b0ad00cc-5bb9-460a-b2c1-75b08811c289"
   },
   "outputs": [
    {
     "output_type": "execute_result",
     "data": {
      "text/plain": "Index(['California', 'Texas', 'New York', 'Florida', 'Illinois'], dtype='object')"
     },
     "metadata": {},
     "execution_count": 84
    }
   ],
   "source": [
    "states.index"
   ]
  },
  {
   "cell_type": "code",
   "execution_count": 86,
   "metadata": {},
   "outputs": [
    {
     "output_type": "execute_result",
     "data": {
      "text/plain": "array([[38332521,   423967],\n       [26448193,   695662],\n       [19651127,   141297],\n       [19552860,   170312],\n       [12882135,   149995]], dtype=int64)"
     },
     "metadata": {},
     "execution_count": 86
    }
   ],
   "source": [
    "states.values"
   ]
  },
  {
   "cell_type": "markdown",
   "metadata": {
    "colab_type": "text",
    "id": "LfaoYe2u9iGi"
   },
   "source": [
    "Additionally, the ``DataFrame`` has a ``columns`` attribute, which is an ``Index`` object holding the column labels:"
   ]
  },
  {
   "cell_type": "code",
   "execution_count": 89,
   "metadata": {
    "colab": {
     "base_uri": "https://localhost:8080/",
     "height": 35
    },
    "colab_type": "code",
    "collapsed": false,
    "id": "p0Nhztz99iGi",
    "jupyter": {
     "outputs_hidden": false
    },
    "outputId": "ba9ebd27-f6a8-47da-efb8-8bf7985612a9"
   },
   "outputs": [
    {
     "output_type": "execute_result",
     "data": {
      "text/plain": "Index(['Poblacion', 'Area'], dtype='object')"
     },
     "metadata": {},
     "execution_count": 89
    }
   ],
   "source": [
    "states.columns"
   ]
  },
  {
   "cell_type": "code",
   "execution_count": 91,
   "metadata": {
    "colab": {
     "base_uri": "https://localhost:8080/",
     "height": 35
    },
    "colab_type": "code",
    "id": "QypYU-iHrlL9",
    "outputId": "5cf8dcab-cc61-43cd-d825-9e11cd407669"
   },
   "outputs": [
    {
     "output_type": "execute_result",
     "data": {
      "text/plain": "array(['Poblacion', 'Area'], dtype=object)"
     },
     "metadata": {},
     "execution_count": 91
    }
   ],
   "source": [
    "states.columns.values"
   ]
  },
  {
   "cell_type": "code",
   "execution_count": 93,
   "metadata": {},
   "outputs": [
    {
     "output_type": "execute_result",
     "data": {
      "text/plain": "(5, 2)"
     },
     "metadata": {},
     "execution_count": 93
    }
   ],
   "source": [
    "states.values.shape"
   ]
  },
  {
   "cell_type": "markdown",
   "metadata": {
    "colab_type": "text",
    "id": "_X6Qs24u9iGk"
   },
   "source": [
    "Thus the ``DataFrame`` can be thought of as a generalization of a two-dimensional NumPy array, where both the rows and columns have a generalized index for accessing the data."
   ]
  },
  {
   "cell_type": "code",
   "execution_count": 97,
   "metadata": {},
   "outputs": [
    {
     "output_type": "execute_result",
     "data": {
      "text/plain": "            Poblacion      Area\nCalifornia   38332521  423967.0\nFlorida      19552860  170312.0\nIllinois     12882135       NaN\nNew York     19651127  141297.0\nTexas        26448193  695662.0",
      "text/html": "<div>\n<style scoped>\n    .dataframe tbody tr th:only-of-type {\n        vertical-align: middle;\n    }\n\n    .dataframe tbody tr th {\n        vertical-align: top;\n    }\n\n    .dataframe thead th {\n        text-align: right;\n    }\n</style>\n<table border=\"1\" class=\"dataframe\">\n  <thead>\n    <tr style=\"text-align: right;\">\n      <th></th>\n      <th>Poblacion</th>\n      <th>Area</th>\n    </tr>\n  </thead>\n  <tbody>\n    <tr>\n      <td>California</td>\n      <td>38332521</td>\n      <td>423967.0</td>\n    </tr>\n    <tr>\n      <td>Florida</td>\n      <td>19552860</td>\n      <td>170312.0</td>\n    </tr>\n    <tr>\n      <td>Illinois</td>\n      <td>12882135</td>\n      <td>NaN</td>\n    </tr>\n    <tr>\n      <td>New York</td>\n      <td>19651127</td>\n      <td>141297.0</td>\n    </tr>\n    <tr>\n      <td>Texas</td>\n      <td>26448193</td>\n      <td>695662.0</td>\n    </tr>\n  </tbody>\n</table>\n</div>"
     },
     "metadata": {},
     "execution_count": 97
    }
   ],
   "source": [
    "area_dict2 = {'California': 423967, 'Texas': 695662, 'New York': 141297,\n",
    "             'Florida': 170312}\n",
    "areas2 = pd.Series(area_dict2)\n",
    "states2 = pd.DataFrame({\"Poblacion\": population, \"Area\":areas2})\n",
    "states2"
   ]
  },
  {
   "cell_type": "code",
   "execution_count": 101,
   "metadata": {
    "tags": []
   },
   "outputs": [
    {
     "output_type": "stream",
     "name": "stdout",
     "text": "California    423967\nTexas         695662\nNew York      141297\nFlorida       170312\nIllinois      149995\nName: Area, dtype: int64\n<class 'pandas.core.series.Series'>\n"
    }
   ],
   "source": [
    "print(states['Area'])\n",
    "print(type(states['Area'])) #Series"
   ]
  },
  {
   "cell_type": "code",
   "execution_count": 105,
   "metadata": {
    "tags": []
   },
   "outputs": [
    {
     "output_type": "stream",
     "name": "stdout",
     "text": "149995\n149995\n"
    }
   ],
   "source": [
    "print(states['Area']['Illinois']) #Siempre primero columna en \n",
    "print(states['Area'][4]) #Indice interno"
   ]
  },
  {
   "cell_type": "code",
   "execution_count": null,
   "metadata": {},
   "outputs": [],
   "source": [
    "states['Area']['Illinois']"
   ]
  },
  {
   "cell_type": "markdown",
   "metadata": {
    "colab_type": "text",
    "id": "goLHEwdM9iGk"
   },
   "source": [
    "### DataFrame as specialized dictionary\n",
    "\n",
    "Similarly, we can also think of a ``DataFrame`` as a specialization of a dictionary.\n",
    "Where a dictionary maps a key to a value, a ``DataFrame`` maps a column name to a ``Series`` of column data.\n",
    "For example, asking for the ``'area'`` attribute returns the ``Series`` object containing the areas we saw earlier:"
   ]
  },
  {
   "cell_type": "code",
   "execution_count": 108,
   "metadata": {
    "colab": {
     "base_uri": "https://localhost:8080/",
     "height": 121
    },
    "colab_type": "code",
    "collapsed": false,
    "id": "bC-CyZ5L9iGl",
    "jupyter": {
     "outputs_hidden": false
    },
    "outputId": "9d02e1cc-876c-4ad4-c4d9-b26ba9109412"
   },
   "outputs": [
    {
     "output_type": "execute_result",
     "data": {
      "text/plain": "California    38332521\nTexas         26448193\nNew York      19651127\nFlorida       19552860\nIllinois      12882135\nName: Poblacion, dtype: int64"
     },
     "metadata": {},
     "execution_count": 108
    }
   ],
   "source": [
    "states['Poblacion']"
   ]
  },
  {
   "cell_type": "code",
   "execution_count": 109,
   "metadata": {
    "colab": {
     "base_uri": "https://localhost:8080/",
     "height": 69
    },
    "colab_type": "code",
    "id": "pbgwH5OFs1G7",
    "outputId": "3a657da0-9361-4a27-c3eb-6538f521d84f"
   },
   "outputs": [
    {
     "output_type": "execute_result",
     "data": {
      "text/plain": "California    38332521\nTexas         26448193\nNew York      19651127\nFlorida       19552860\nIllinois      12882135\nName: Poblacion, dtype: int64"
     },
     "metadata": {},
     "execution_count": 109
    }
   ],
   "source": [
    "states.Poblacion"
   ]
  },
  {
   "cell_type": "code",
   "execution_count": 112,
   "metadata": {
    "tags": []
   },
   "outputs": [
    {
     "output_type": "stream",
     "name": "stdout",
     "text": "<class 'pandas.core.series.Series'>\n"
    },
    {
     "output_type": "execute_result",
     "data": {
      "text/plain": "Poblacion    38332521\nArea           423967\nName: California, dtype: int64"
     },
     "metadata": {},
     "execution_count": 112
    }
   ],
   "source": [
    "print(type(states.loc['California']))\n",
    "states.loc['California']"
   ]
  },
  {
   "cell_type": "code",
   "execution_count": null,
   "metadata": {},
   "outputs": [],
   "source": []
  },
  {
   "cell_type": "markdown",
   "metadata": {
    "colab_type": "text",
    "id": "FCCmuoRN9iGn"
   },
   "source": [
    "Notice the potential point of confusion here: in a two-dimesnional NumPy array, ``data[0]`` will return the first *row*. For a ``DataFrame``, ``data['col0']`` will return the first *column*.\n",
    "Because of this, it is probably better to think about ``DataFrame``s as generalized dictionaries rather than generalized arrays, though both ways of looking at the situation can be useful.\n",
    "We'll explore more flexible means of indexing ``DataFrame``s in [Data Indexing and Selection](03.02-Data-Indexing-and-Selection.ipynb)."
   ]
  },
  {
   "cell_type": "markdown",
   "metadata": {
    "colab_type": "text",
    "id": "dIQePttK9iGn"
   },
   "source": [
    "### Constructing DataFrame objects\n",
    "\n",
    "A Pandas ``DataFrame`` can be constructed in a variety of ways.\n",
    "Here we'll give several examples."
   ]
  },
  {
   "cell_type": "markdown",
   "metadata": {
    "colab_type": "text",
    "id": "401tE-HB9iGn"
   },
   "source": [
    "#### From a single Series object\n",
    "\n",
    "A ``DataFrame`` is a collection of ``Series`` objects, and a single-column ``DataFrame`` can be constructed from a single ``Series``:"
   ]
  },
  {
   "cell_type": "code",
   "execution_count": 113,
   "metadata": {
    "colab": {
     "base_uri": "https://localhost:8080/",
     "height": 202
    },
    "colab_type": "code",
    "collapsed": false,
    "id": "Z6uTbDsk9iGo",
    "jupyter": {
     "outputs_hidden": false
    },
    "outputId": "aaaddad4-7626-462b-9d7e-dd798af864d0"
   },
   "outputs": [
    {
     "output_type": "execute_result",
     "data": {
      "text/plain": "                   0\nCalifornia  38332521\nTexas       26448193\nNew York    19651127\nFlorida     19552860\nIllinois    12882135",
      "text/html": "<div>\n<style scoped>\n    .dataframe tbody tr th:only-of-type {\n        vertical-align: middle;\n    }\n\n    .dataframe tbody tr th {\n        vertical-align: top;\n    }\n\n    .dataframe thead th {\n        text-align: right;\n    }\n</style>\n<table border=\"1\" class=\"dataframe\">\n  <thead>\n    <tr style=\"text-align: right;\">\n      <th></th>\n      <th>0</th>\n    </tr>\n  </thead>\n  <tbody>\n    <tr>\n      <td>California</td>\n      <td>38332521</td>\n    </tr>\n    <tr>\n      <td>Texas</td>\n      <td>26448193</td>\n    </tr>\n    <tr>\n      <td>New York</td>\n      <td>19651127</td>\n    </tr>\n    <tr>\n      <td>Florida</td>\n      <td>19552860</td>\n    </tr>\n    <tr>\n      <td>Illinois</td>\n      <td>12882135</td>\n    </tr>\n  </tbody>\n</table>\n</div>"
     },
     "metadata": {},
     "execution_count": 113
    }
   ],
   "source": [
    "pd.DataFrame(population)"
   ]
  },
  {
   "cell_type": "code",
   "execution_count": 116,
   "metadata": {},
   "outputs": [
    {
     "output_type": "execute_result",
     "data": {
      "text/plain": "            Population\nCalifornia    38332521\nTexas         26448193\nNew York      19651127\nFlorida       19552860\nIllinois      12882135",
      "text/html": "<div>\n<style scoped>\n    .dataframe tbody tr th:only-of-type {\n        vertical-align: middle;\n    }\n\n    .dataframe tbody tr th {\n        vertical-align: top;\n    }\n\n    .dataframe thead th {\n        text-align: right;\n    }\n</style>\n<table border=\"1\" class=\"dataframe\">\n  <thead>\n    <tr style=\"text-align: right;\">\n      <th></th>\n      <th>Population</th>\n    </tr>\n  </thead>\n  <tbody>\n    <tr>\n      <td>California</td>\n      <td>38332521</td>\n    </tr>\n    <tr>\n      <td>Texas</td>\n      <td>26448193</td>\n    </tr>\n    <tr>\n      <td>New York</td>\n      <td>19651127</td>\n    </tr>\n    <tr>\n      <td>Florida</td>\n      <td>19552860</td>\n    </tr>\n    <tr>\n      <td>Illinois</td>\n      <td>12882135</td>\n    </tr>\n  </tbody>\n</table>\n</div>"
     },
     "metadata": {},
     "execution_count": 116
    }
   ],
   "source": [
    "pd.DataFrame(population, columns=['Population'])"
   ]
  },
  {
   "cell_type": "code",
   "execution_count": 119,
   "metadata": {},
   "outputs": [
    {
     "output_type": "execute_result",
     "data": {
      "text/plain": "{'California': 38332521,\n 'Texas': 26448193,\n 'New York': 19651127,\n 'Florida': 19552860,\n 'Illinois': 12882135}"
     },
     "metadata": {},
     "execution_count": 119
    }
   ],
   "source": [
    "population_dict"
   ]
  },
  {
   "cell_type": "code",
   "execution_count": 121,
   "metadata": {},
   "outputs": [
    {
     "output_type": "execute_result",
     "data": {
      "text/plain": "   California     Texas  New York   Florida  Illinois\n1    38332521  26448193  19651127  19552860  12882135\n2    38332521  26448193  19651127  19552860  12882135",
      "text/html": "<div>\n<style scoped>\n    .dataframe tbody tr th:only-of-type {\n        vertical-align: middle;\n    }\n\n    .dataframe tbody tr th {\n        vertical-align: top;\n    }\n\n    .dataframe thead th {\n        text-align: right;\n    }\n</style>\n<table border=\"1\" class=\"dataframe\">\n  <thead>\n    <tr style=\"text-align: right;\">\n      <th></th>\n      <th>California</th>\n      <th>Texas</th>\n      <th>New York</th>\n      <th>Florida</th>\n      <th>Illinois</th>\n    </tr>\n  </thead>\n  <tbody>\n    <tr>\n      <td>1</td>\n      <td>38332521</td>\n      <td>26448193</td>\n      <td>19651127</td>\n      <td>19552860</td>\n      <td>12882135</td>\n    </tr>\n    <tr>\n      <td>2</td>\n      <td>38332521</td>\n      <td>26448193</td>\n      <td>19651127</td>\n      <td>19552860</td>\n      <td>12882135</td>\n    </tr>\n  </tbody>\n</table>\n</div>"
     },
     "metadata": {},
     "execution_count": 121
    }
   ],
   "source": [
    "pd.DataFrame(population_dict, index = [1,2])"
   ]
  },
  {
   "cell_type": "markdown",
   "metadata": {
    "colab_type": "text",
    "id": "NkwJRc6j9iGp"
   },
   "source": [
    "#### From a list of dicts\n",
    "\n",
    "Any list of dictionaries can be made into a ``DataFrame``.\n",
    "We'll use a simple list comprehension to create some data:"
   ]
  },
  {
   "cell_type": "code",
   "execution_count": 122,
   "metadata": {
    "colab": {
     "base_uri": "https://localhost:8080/",
     "height": 141
    },
    "colab_type": "code",
    "collapsed": false,
    "id": "_iAsTqN19iGq",
    "jupyter": {
     "outputs_hidden": false
    },
    "outputId": "bb449950-1891-4891-9d74-078221916c92",
    "tags": []
   },
   "outputs": [
    {
     "output_type": "stream",
     "name": "stdout",
     "text": "Population  Area\n0           1     5\n1           2     6\n2           3     7\n3           4     8\n<class 'pandas.core.frame.DataFrame'>\n<class 'pandas.core.series.Series'>\n"
    }
   ],
   "source": [
    "df = pd.DataFrame({\"Population\":[1,2,3,4],\"Area\":(5,6,7,8)})\n",
    "print(df)\n",
    "print(type(df))\n",
    "print(type(df.Population))"
   ]
  },
  {
   "cell_type": "markdown",
   "metadata": {
    "colab_type": "text",
    "id": "6t1TlWv09iGs"
   },
   "source": [
    "Even if some keys in the dictionary are missing, Pandas will fill them in with ``NaN`` (i.e., \"not a number\") values:"
   ]
  },
  {
   "cell_type": "code",
   "execution_count": 123,
   "metadata": {
    "colab": {
     "base_uri": "https://localhost:8080/",
     "height": 106
    },
    "colab_type": "code",
    "collapsed": false,
    "id": "nu9L1r709iGs",
    "jupyter": {
     "outputs_hidden": false
    },
    "outputId": "8e286546-acc8-4b96-a8d2-14f5cc73d7c9"
   },
   "outputs": [
    {
     "output_type": "execute_result",
     "data": {
      "text/plain": "     a  b    c\n0  1.0  2  NaN\n1  NaN  4  5.0",
      "text/html": "<div>\n<style scoped>\n    .dataframe tbody tr th:only-of-type {\n        vertical-align: middle;\n    }\n\n    .dataframe tbody tr th {\n        vertical-align: top;\n    }\n\n    .dataframe thead th {\n        text-align: right;\n    }\n</style>\n<table border=\"1\" class=\"dataframe\">\n  <thead>\n    <tr style=\"text-align: right;\">\n      <th></th>\n      <th>a</th>\n      <th>b</th>\n      <th>c</th>\n    </tr>\n  </thead>\n  <tbody>\n    <tr>\n      <td>0</td>\n      <td>1.0</td>\n      <td>2</td>\n      <td>NaN</td>\n    </tr>\n    <tr>\n      <td>1</td>\n      <td>NaN</td>\n      <td>4</td>\n      <td>5.0</td>\n    </tr>\n  </tbody>\n</table>\n</div>"
     },
     "metadata": {},
     "execution_count": 123
    }
   ],
   "source": [
    "pd.DataFrame([{\"a\":1,\"b\":2},\n",
    "                {\"c\":5,\"b\":4}])"
   ]
  },
  {
   "cell_type": "markdown",
   "metadata": {
    "colab_type": "text",
    "id": "SL21CUSe9iGu"
   },
   "source": [
    "#### From a dictionary of Series objects\n",
    "\n",
    "As we saw before, a ``DataFrame`` can be constructed from a dictionary of ``Series`` objects as well:"
   ]
  },
  {
   "cell_type": "code",
   "execution_count": 124,
   "metadata": {
    "colab": {
     "base_uri": "https://localhost:8080/",
     "height": 195
    },
    "colab_type": "code",
    "collapsed": false,
    "id": "Jkhht2nf9iGu",
    "jupyter": {
     "outputs_hidden": false
    },
    "outputId": "7ec48794-56ac-413d-89e8-ff366be8a38c"
   },
   "outputs": [
    {
     "output_type": "execute_result",
     "data": {
      "text/plain": "            Poblacion    Area\nCalifornia   38332521  423967\nTexas        26448193  695662\nNew York     19651127  141297\nFlorida      19552860  170312\nIllinois     12882135  149995",
      "text/html": "<div>\n<style scoped>\n    .dataframe tbody tr th:only-of-type {\n        vertical-align: middle;\n    }\n\n    .dataframe tbody tr th {\n        vertical-align: top;\n    }\n\n    .dataframe thead th {\n        text-align: right;\n    }\n</style>\n<table border=\"1\" class=\"dataframe\">\n  <thead>\n    <tr style=\"text-align: right;\">\n      <th></th>\n      <th>Poblacion</th>\n      <th>Area</th>\n    </tr>\n  </thead>\n  <tbody>\n    <tr>\n      <td>California</td>\n      <td>38332521</td>\n      <td>423967</td>\n    </tr>\n    <tr>\n      <td>Texas</td>\n      <td>26448193</td>\n      <td>695662</td>\n    </tr>\n    <tr>\n      <td>New York</td>\n      <td>19651127</td>\n      <td>141297</td>\n    </tr>\n    <tr>\n      <td>Florida</td>\n      <td>19552860</td>\n      <td>170312</td>\n    </tr>\n    <tr>\n      <td>Illinois</td>\n      <td>12882135</td>\n      <td>149995</td>\n    </tr>\n  </tbody>\n</table>\n</div>"
     },
     "metadata": {},
     "execution_count": 124
    }
   ],
   "source": [
    "states"
   ]
  },
  {
   "cell_type": "code",
   "execution_count": null,
   "metadata": {},
   "outputs": [],
   "source": []
  },
  {
   "cell_type": "markdown",
   "metadata": {
    "colab_type": "text",
    "id": "9LiO0xPe9iGw"
   },
   "source": [
    "#### From a two-dimensional NumPy array\n",
    "\n",
    "Given a two-dimensional array of data, we can create a ``DataFrame`` with any specified column and index names.\n",
    "If omitted, an integer index will be used for each:"
   ]
  },
  {
   "cell_type": "code",
   "execution_count": 126,
   "metadata": {
    "colab": {
     "base_uri": "https://localhost:8080/",
     "height": 136
    },
    "colab_type": "code",
    "collapsed": false,
    "id": "auUiOVY-9iGw",
    "jupyter": {
     "outputs_hidden": false
    },
    "outputId": "a0eb7e47-2255-47bf-b21f-1e4ecb0a3271"
   },
   "outputs": [
    {
     "output_type": "execute_result",
     "data": {
      "text/plain": "array([[0.28374028, 0.63493519],\n       [0.69868662, 0.73490933],\n       [0.23868114, 0.20199038]])"
     },
     "metadata": {},
     "execution_count": 126
    }
   ],
   "source": [
    "np.random.rand(3,2)"
   ]
  },
  {
   "cell_type": "code",
   "execution_count": 128,
   "metadata": {},
   "outputs": [
    {
     "output_type": "execute_result",
     "data": {
      "text/plain": "          a         b\nx  0.880314  0.376320\ny  0.507364  0.323837\nz  0.520624  0.518494",
      "text/html": "<div>\n<style scoped>\n    .dataframe tbody tr th:only-of-type {\n        vertical-align: middle;\n    }\n\n    .dataframe tbody tr th {\n        vertical-align: top;\n    }\n\n    .dataframe thead th {\n        text-align: right;\n    }\n</style>\n<table border=\"1\" class=\"dataframe\">\n  <thead>\n    <tr style=\"text-align: right;\">\n      <th></th>\n      <th>a</th>\n      <th>b</th>\n    </tr>\n  </thead>\n  <tbody>\n    <tr>\n      <td>x</td>\n      <td>0.880314</td>\n      <td>0.376320</td>\n    </tr>\n    <tr>\n      <td>y</td>\n      <td>0.507364</td>\n      <td>0.323837</td>\n    </tr>\n    <tr>\n      <td>z</td>\n      <td>0.520624</td>\n      <td>0.518494</td>\n    </tr>\n  </tbody>\n</table>\n</div>"
     },
     "metadata": {},
     "execution_count": 128
    }
   ],
   "source": [
    "pd.DataFrame(np.random.rand(3,2),columns=[\"a\",\"b\"], index=[\"x\",\"y\",\"z\"])"
   ]
  },
  {
   "cell_type": "code",
   "execution_count": null,
   "metadata": {},
   "outputs": [],
   "source": []
  },
  {
   "cell_type": "markdown",
   "metadata": {
    "colab_type": "text",
    "id": "qteULoUa9iGz"
   },
   "source": [
    "#### From a NumPy structured array\n",
    "\n",
    "We covered structured arrays in [Structured Data: NumPy's Structured Arrays](02.09-Structured-Data-NumPy.ipynb).\n",
    "A Pandas ``DataFrame`` operates much like a structured array, and can be created directly from one:"
   ]
  },
  {
   "cell_type": "code",
   "execution_count": 132,
   "metadata": {
    "colab": {
     "base_uri": "https://localhost:8080/",
     "height": 34
    },
    "colab_type": "code",
    "collapsed": false,
    "id": "eJPVjOqQ9iGz",
    "jupyter": {
     "outputs_hidden": false
    },
    "outputId": "d34c70ad-14bf-470a-ffd2-fe7de7096bd2"
   },
   "outputs": [
    {
     "output_type": "execute_result",
     "data": {
      "text/plain": "array([[0., 0.],\n       [0., 0.],\n       [0., 0.]])"
     },
     "metadata": {},
     "execution_count": 132
    }
   ],
   "source": [
    "A = np.zeros((3,2))\n",
    "A"
   ]
  },
  {
   "cell_type": "code",
   "execution_count": 133,
   "metadata": {
    "colab": {
     "base_uri": "https://localhost:8080/",
     "height": 136
    },
    "colab_type": "code",
    "collapsed": false,
    "id": "FEIJFfZS9iG1",
    "jupyter": {
     "outputs_hidden": false
    },
    "outputId": "6d3d5970-9e08-4bc5-8e42-55101621e4d9"
   },
   "outputs": [
    {
     "output_type": "execute_result",
     "data": {
      "text/plain": "     a    b\nx  0.0  0.0\ny  0.0  0.0\nz  0.0  0.0",
      "text/html": "<div>\n<style scoped>\n    .dataframe tbody tr th:only-of-type {\n        vertical-align: middle;\n    }\n\n    .dataframe tbody tr th {\n        vertical-align: top;\n    }\n\n    .dataframe thead th {\n        text-align: right;\n    }\n</style>\n<table border=\"1\" class=\"dataframe\">\n  <thead>\n    <tr style=\"text-align: right;\">\n      <th></th>\n      <th>a</th>\n      <th>b</th>\n    </tr>\n  </thead>\n  <tbody>\n    <tr>\n      <td>x</td>\n      <td>0.0</td>\n      <td>0.0</td>\n    </tr>\n    <tr>\n      <td>y</td>\n      <td>0.0</td>\n      <td>0.0</td>\n    </tr>\n    <tr>\n      <td>z</td>\n      <td>0.0</td>\n      <td>0.0</td>\n    </tr>\n  </tbody>\n</table>\n</div>"
     },
     "metadata": {},
     "execution_count": 133
    }
   ],
   "source": [
    "pd.DataFrame(A,columns=[\"a\",\"b\"], index=[\"x\",\"y\",\"z\"])"
   ]
  },
  {
   "cell_type": "markdown",
   "metadata": {
    "colab_type": "text",
    "id": "laPeuZHb9iG3"
   },
   "source": [
    "## The Pandas Index Object\n",
    "\n",
    "We have seen here that both the ``Series`` and ``DataFrame`` objects contain an explicit *index* that lets you reference and modify data.\n",
    "This ``Index`` object is an interesting structure in itself, and it can be thought of either as an *immutable array* or as an *ordered set* (technically a multi-set, as ``Index`` objects may contain repeated values).\n",
    "Those views have some interesting consequences in the operations available on ``Index`` objects.\n",
    "As a simple example, let's construct an ``Index`` from a list of integers:"
   ]
  },
  {
   "cell_type": "code",
   "execution_count": 136,
   "metadata": {
    "colab": {
     "base_uri": "https://localhost:8080/",
     "height": 34
    },
    "colab_type": "code",
    "collapsed": false,
    "id": "fDOpTeAa9iG3",
    "jupyter": {
     "outputs_hidden": false
    },
    "outputId": "2c41a344-c8f1-44dd-bebb-b7ae1fa1f61a",
    "tags": []
   },
   "outputs": [
    {
     "output_type": "stream",
     "name": "stdout",
     "text": "<class 'pandas.core.indexes.numeric.Int64Index'>\n"
    },
    {
     "output_type": "execute_result",
     "data": {
      "text/plain": "Int64Index([2, 4, 6, 8, 10], dtype='int64')"
     },
     "metadata": {},
     "execution_count": 136
    }
   ],
   "source": [
    "ind = pd.Index([2,4,6,8,10]) #Indice es inmutable\n",
    "print(type(ind))\n",
    "ind"
   ]
  },
  {
   "cell_type": "markdown",
   "metadata": {
    "colab_type": "text",
    "id": "NpdQglf_9iG6"
   },
   "source": [
    "### Index as immutable array\n",
    "\n",
    "The ``Index`` in many ways operates like an array.\n",
    "For example, we can use standard Python indexing notation to retrieve values or slices:"
   ]
  },
  {
   "cell_type": "code",
   "execution_count": 140,
   "metadata": {
    "colab": {
     "base_uri": "https://localhost:8080/",
     "height": 34
    },
    "colab_type": "code",
    "collapsed": false,
    "id": "MCMs2MDU9iG6",
    "jupyter": {
     "outputs_hidden": false
    },
    "outputId": "047ca76a-4100-402b-8729-18b0a21ae58e"
   },
   "outputs": [
    {
     "output_type": "execute_result",
     "data": {
      "text/plain": "8"
     },
     "metadata": {},
     "execution_count": 140
    }
   ],
   "source": [
    "ind[3]"
   ]
  },
  {
   "cell_type": "code",
   "execution_count": 141,
   "metadata": {
    "colab": {
     "base_uri": "https://localhost:8080/",
     "height": 34
    },
    "colab_type": "code",
    "collapsed": false,
    "id": "64pT9ua59iG8",
    "jupyter": {
     "outputs_hidden": false
    },
    "outputId": "798dcdcc-6965-4d28-ed7d-4769df583122"
   },
   "outputs": [
    {
     "output_type": "execute_result",
     "data": {
      "text/plain": "Int64Index([2, 6, 10], dtype='int64')"
     },
     "metadata": {},
     "execution_count": 141
    }
   ],
   "source": [
    "ind[::2]\n"
   ]
  },
  {
   "cell_type": "markdown",
   "metadata": {
    "colab_type": "text",
    "id": "EasjVw719iG_"
   },
   "source": [
    "``Index`` objects also have many of the attributes familiar from NumPy arrays:"
   ]
  },
  {
   "cell_type": "code",
   "execution_count": 143,
   "metadata": {
    "colab": {
     "base_uri": "https://localhost:8080/",
     "height": 34
    },
    "colab_type": "code",
    "collapsed": false,
    "id": "ssX7_kGQ9iG_",
    "jupyter": {
     "outputs_hidden": false
    },
    "outputId": "7f65429b-efc0-4371-e4aa-b403389bcfb2",
    "tags": []
   },
   "outputs": [
    {
     "output_type": "stream",
     "name": "stdout",
     "text": "Size: 5\nShape: (5,)\nnDim: 1\ndtype: int64\n"
    }
   ],
   "source": [
    "print(\"Size:\",ind.size)\n",
    "print(\"Shape:\", ind.shape)\n",
    "print(\"nDim:\", ind.ndim)\n",
    "print(\"dtype:\", ind.dtype)"
   ]
  },
  {
   "cell_type": "markdown",
   "metadata": {
    "colab_type": "text",
    "id": "BQNIkzXm9iHB"
   },
   "source": [
    "One difference between ``Index`` objects and NumPy arrays is that indices are immutable–that is, they cannot be modified via the normal means:"
   ]
  },
  {
   "cell_type": "code",
   "execution_count": 144,
   "metadata": {
    "colab": {
     "base_uri": "https://localhost:8080/",
     "height": 280
    },
    "colab_type": "code",
    "collapsed": false,
    "id": "OQHyFi9f9iHB",
    "jupyter": {
     "outputs_hidden": false
    },
    "outputId": "c579daad-eb64-4af6-cace-7b5953ac1ab3"
   },
   "outputs": [
    {
     "output_type": "error",
     "ename": "TypeError",
     "evalue": "Index does not support mutable operations",
     "traceback": [
      "\u001b[1;31m---------------------------------------------------------------------------\u001b[0m",
      "\u001b[1;31mTypeError\u001b[0m                                 Traceback (most recent call last)",
      "\u001b[1;32m<ipython-input-144-ddfc207a0d76>\u001b[0m in \u001b[0;36m<module>\u001b[1;34m\u001b[0m\n\u001b[1;32m----> 1\u001b[1;33m \u001b[0mind\u001b[0m\u001b[1;33m[\u001b[0m\u001b[1;36m2\u001b[0m\u001b[1;33m]\u001b[0m\u001b[1;33m=\u001b[0m \u001b[1;36m100\u001b[0m\u001b[1;33m\u001b[0m\u001b[1;33m\u001b[0m\u001b[0m\n\u001b[0m",
      "\u001b[1;32m~\\Anaconda3\\lib\\site-packages\\pandas\\core\\indexes\\base.py\u001b[0m in \u001b[0;36m__setitem__\u001b[1;34m(self, key, value)\u001b[0m\n\u001b[0;32m   4258\u001b[0m \u001b[1;33m\u001b[0m\u001b[0m\n\u001b[0;32m   4259\u001b[0m     \u001b[1;32mdef\u001b[0m \u001b[0m__setitem__\u001b[0m\u001b[1;33m(\u001b[0m\u001b[0mself\u001b[0m\u001b[1;33m,\u001b[0m \u001b[0mkey\u001b[0m\u001b[1;33m,\u001b[0m \u001b[0mvalue\u001b[0m\u001b[1;33m)\u001b[0m\u001b[1;33m:\u001b[0m\u001b[1;33m\u001b[0m\u001b[1;33m\u001b[0m\u001b[0m\n\u001b[1;32m-> 4260\u001b[1;33m         \u001b[1;32mraise\u001b[0m \u001b[0mTypeError\u001b[0m\u001b[1;33m(\u001b[0m\u001b[1;34m\"Index does not support mutable operations\"\u001b[0m\u001b[1;33m)\u001b[0m\u001b[1;33m\u001b[0m\u001b[1;33m\u001b[0m\u001b[0m\n\u001b[0m\u001b[0;32m   4261\u001b[0m \u001b[1;33m\u001b[0m\u001b[0m\n\u001b[0;32m   4262\u001b[0m     \u001b[1;32mdef\u001b[0m \u001b[0m__getitem__\u001b[0m\u001b[1;33m(\u001b[0m\u001b[0mself\u001b[0m\u001b[1;33m,\u001b[0m \u001b[0mkey\u001b[0m\u001b[1;33m)\u001b[0m\u001b[1;33m:\u001b[0m\u001b[1;33m\u001b[0m\u001b[1;33m\u001b[0m\u001b[0m\n",
      "\u001b[1;31mTypeError\u001b[0m: Index does not support mutable operations"
     ]
    }
   ],
   "source": [
    "ind[2]= 100"
   ]
  },
  {
   "cell_type": "markdown",
   "metadata": {
    "colab_type": "text",
    "id": "tfqraL4J9iHD"
   },
   "source": [
    "This immutability makes it safer to share indices between multiple ``DataFrame``s and arrays, without the potential for side effects from inadvertent index modification."
   ]
  },
  {
   "cell_type": "markdown",
   "metadata": {
    "colab_type": "text",
    "id": "0noLLgZI9iHE"
   },
   "source": [
    "### Index as ordered set\n",
    "\n",
    "Pandas objects are designed to facilitate operations such as joins across datasets, which depend on many aspects of set arithmetic.\n",
    "The ``Index`` object follows many of the conventions used by Python's built-in ``set`` data structure, so that unions, intersections, differences, and other combinations can be computed in a familiar way:"
   ]
  },
  {
   "cell_type": "code",
   "execution_count": 145,
   "metadata": {
    "colab": {},
    "colab_type": "code",
    "collapsed": false,
    "id": "0QNG-iLd9iHE",
    "jupyter": {
     "outputs_hidden": false
    }
   },
   "outputs": [],
   "source": [
    "indA = pd.Index([1,3,5,7,9])\n",
    "indB = pd.Index([2,3,4,5,6])"
   ]
  },
  {
   "cell_type": "code",
   "execution_count": 147,
   "metadata": {
    "colab": {
     "base_uri": "https://localhost:8080/",
     "height": 34
    },
    "colab_type": "code",
    "collapsed": false,
    "id": "I6cSkULc9iHF",
    "jupyter": {
     "outputs_hidden": false
    },
    "outputId": "bd7e23ea-f53e-485d-ec99-41c49f08ea04"
   },
   "outputs": [
    {
     "output_type": "execute_result",
     "data": {
      "text/plain": "Int64Index([3, 5], dtype='int64')"
     },
     "metadata": {},
     "execution_count": 147
    }
   ],
   "source": [
    "#Intersección\n",
    "indA & indB"
   ]
  },
  {
   "cell_type": "code",
   "execution_count": 148,
   "metadata": {
    "colab": {
     "base_uri": "https://localhost:8080/",
     "height": 34
    },
    "colab_type": "code",
    "collapsed": false,
    "id": "9ZGmkHWt9iHH",
    "jupyter": {
     "outputs_hidden": false
    },
    "outputId": "76c8c90a-dd37-4b85-e2b1-0b443bf707d8"
   },
   "outputs": [
    {
     "output_type": "execute_result",
     "data": {
      "text/plain": "Int64Index([1, 2, 3, 4, 5, 6, 7, 9], dtype='int64')"
     },
     "metadata": {},
     "execution_count": 148
    }
   ],
   "source": [
    "#Unión\n",
    "indA | indB"
   ]
  },
  {
   "cell_type": "code",
   "execution_count": null,
   "metadata": {
    "colab": {
     "base_uri": "https://localhost:8080/",
     "height": 34
    },
    "colab_type": "code",
    "collapsed": false,
    "id": "wpSwvHbl9iHJ",
    "jupyter": {
     "outputs_hidden": false
    },
    "outputId": "2e49ca26-4e8e-4746-ace0-69e4b0eef75d"
   },
   "outputs": [],
   "source": []
  },
  {
   "cell_type": "markdown",
   "metadata": {
    "colab_type": "text",
    "id": "zlFFlsEi9iHK"
   },
   "source": [
    "These operations may also be accessed via object methods, for example ``indA.intersection(indB)``."
   ]
  },
  {
   "cell_type": "code",
   "execution_count": null,
   "metadata": {
    "colab": {},
    "colab_type": "code",
    "id": "YMkLiFqi9iHK"
   },
   "outputs": [],
   "source": []
  }
 ],
 "metadata": {
  "colab": {
   "name": "1-IntroPandas.ipynb",
   "provenance": []
  },
  "kernelspec": {
   "display_name": "Python 3",
   "language": "python",
   "name": "python3"
  },
  "language_info": {
   "codemirror_mode": {
    "name": "ipython",
    "version": 3
   },
   "file_extension": ".py",
   "mimetype": "text/x-python",
   "name": "python",
   "nbconvert_exporter": "python",
   "pygments_lexer": "ipython3",
   "version": "3.7.6"
  }
 },
 "nbformat": 4,
 "nbformat_minor": 4
}