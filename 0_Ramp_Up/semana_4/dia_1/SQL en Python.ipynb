{
 "cells": [
  {
   "cell_type": "markdown",
   "metadata": {},
   "source": [
    "![imagen](../../imagenes/python.jpg)\n",
    "\n",
    "# SQL en Python\n",
    "Podrás atacar a una base de datos SQL desde muchas plataformas/lenguajes. Por supuesto, Python es uno de ellos. Para ello **utilizaremos el módulo `sqlite3`**, que viene incluido en la suite de paquetes de Anaconda.\n",
    "\n",
    "\n",
    "1. [Configuración del entorno](#1.-Configuración-del-entorno)\n",
    "2. [Modelo de datos](#2.-Modelo-de-datos)\n",
    "3. [Queries](#3.-Queries)\n",
    "\n",
    "    3.1 [Primera query](#3.1-Primera-query)\n",
    "    \n",
    "    3.2 [SELECT](#3.2-SELECT)\n",
    "    \n",
    "    3.3 [LIMIT](#3.3-LIMIT)\n",
    "    \n",
    "    3.4 [DISTINCT](#3.4-DISTINCT)\n",
    "    \n",
    "    3.5 [WHERE](#3.5-WHERE)\n",
    "    \n",
    "    3.6 [ORDER BY](#3.6-ORDER-BY)\n",
    "    \n",
    "    3.7 [Agregaciones](#3.7-Agregaciones)\n",
    "    \n",
    "    3.8 [GROUP BY](#3.8-GROUP-BY)\n",
    "    \n",
    "    3.9 [JOIN](#3.9-JOIN)\n",
    "    \n",
    "    3.10 [VIEW y DROP](#3.10-VIEW-y-DROP)\n",
    "    \n",
    "4. [Errores](#4.-Errores)\n",
    "\n",
    "5. [Resumen](#5.-Resumen)\n"
   ]
  },
  {
   "cell_type": "markdown",
   "metadata": {},
   "source": [
    "## 1. Configuración del entorno\n",
    "En este taller usaremos también *Pandas*, que es el módulo para tratamiento de datos tabular que más se usa en Python.\n",
    "\n",
    "Importamos ambos paquetes"
   ]
  },
  {
   "cell_type": "code",
   "execution_count": 95,
   "metadata": {},
   "outputs": [],
   "source": [
    "import pandas as pd \n",
    "import sqlite3"
   ]
  },
  {
   "cell_type": "markdown",
   "metadata": {},
   "source": [
    "Lo primero que hacemos es **establecer conexión con la base de datos**. En este taller simplemente leeremos la base de datos de un archivo, pero lo normal es que tengamos que configurar la conexión a una base de datos de la empresa. Para ello existen otras librerías como `pyodbc` en el caso de un SQLServer o `cx_Oracle`, si el servidor es Oracle.\n",
    "\n",
    "**¡Asegurate que tienes el archivo chinook.db en la ruta donde se encuentra este Notebook!**"
   ]
  },
  {
   "cell_type": "code",
   "execution_count": 124,
   "metadata": {},
   "outputs": [],
   "source": [
    "conecction = sqlite3.connect(\"chinook.db\")\n",
    "crsr = conecction.cursor()"
   ]
  },
  {
   "cell_type": "code",
   "execution_count": 29,
   "metadata": {},
   "outputs": [],
   "source": [
    "# Con esta función leemos los datos y lo pasamos a un DataFrame de Pandas\n",
    "def sql_query(query):\n",
    "\n",
    "    # Ejecuta la query\n",
    "    crsr.execute(query)\n",
    "\n",
    "    # Almacena los datos de la query \n",
    "    ans = crsr.fetchall()\n",
    "\n",
    "    # Obtenemos los nombres de las columnas de la tabla\n",
    "    names = [description[0] for description in crsr.description]\n",
    "\n",
    "    return pd.DataFrame(ans,columns=names)"
   ]
  },
  {
   "cell_type": "markdown",
   "metadata": {},
   "source": [
    "## 2. Modelo de datos\n",
    "Antes de empezar a atacar una base de datos, tendremos que saber qué hay dentro, y para ello lo mejor es ver cómo es su **modelo de datos**\n",
    "\n",
    "![imagen](../../imagenes/chinook_data_model.png)"
   ]
  },
  {
   "cell_type": "markdown",
   "metadata": {},
   "source": [
    "Puedes ver todas las tablas que hay en la base de datos con la siguiente sentencia"
   ]
  },
  {
   "cell_type": "code",
   "execution_count": 30,
   "metadata": {
    "tags": []
   },
   "outputs": [
    {
     "output_type": "stream",
     "name": "stdout",
     "text": "albums\nsqlite_sequence\nartists\ncustomers\nemployees\ngenres\ninvoices\ninvoice_items\nmedia_types\nplaylists\nplaylist_track\ntracks\nsqlite_stat1\n"
    }
   ],
   "source": [
    "res = crsr.execute(\"SELECT name FROM sqlite_master WHERE type='table'\")\n",
    "for name in res:\n",
    "    print(name[0])"
   ]
  },
  {
   "cell_type": "markdown",
   "metadata": {},
   "source": [
    "## 3. Queries\n",
    "En las *queries* o consultas, escribiremos nuestra sentencia SQL para poder traernos datos de la base de datos. Las queries tienen esta pinta:\n",
    "\n",
    "```SQL\n",
    "SELECT campo1, campo2, campo3...\n",
    "FROM tabla\n",
    "WHERE condiciones\n",
    "```\n",
    "\n",
    "Por supuesto, hay más sentencias propias de SQL que iremos viendo a lo largo del Notebook. Fíjate que las **palabras reservadas en SQL se suelen poner en mayúsculas**, para diferenciarlas del resto. No da error si se pone de otra manera, ya que SQL **no es *case sensitive***, pero sí se suele hacer así."
   ]
  },
  {
   "cell_type": "markdown",
   "metadata": {},
   "source": [
    "### 3.1 Primera query"
   ]
  },
  {
   "cell_type": "code",
   "execution_count": 31,
   "metadata": {},
   "outputs": [
    {
     "output_type": "execute_result",
     "data": {
      "text/plain": "      TrackId                                               Name  AlbumId  \\\n0           1            For Those About To Rock (We Salute You)        1   \n1           2                                  Balls to the Wall        2   \n2           3                                    Fast As a Shark        3   \n3           4                                  Restless and Wild        3   \n4           5                               Princess of the Dawn        3   \n...       ...                                                ...      ...   \n3498     3499  Pini Di Roma (Pinien Von Rom) \\ I Pini Della V...      343   \n3499     3500  String Quartet No. 12 in C Minor, D. 703 \"Quar...      344   \n3500     3501               L'orfeo, Act 3, Sinfonia (Orchestra)      345   \n3501     3502  Quintet for Horn, Violin, 2 Violas, and Cello ...      346   \n3502     3503                                      Koyaanisqatsi      347   \n\n      MediaTypeId  GenreId                                           Composer  \\\n0               1        1          Angus Young, Malcolm Young, Brian Johnson   \n1               2        1                                               None   \n2               2        1  F. Baltes, S. Kaufman, U. Dirkscneider & W. Ho...   \n3               2        1  F. Baltes, R.A. Smith-Diesel, S. Kaufman, U. D...   \n4               2        1                         Deaffy & R.A. Smith-Diesel   \n...           ...      ...                                                ...   \n3498            2       24                                               None   \n3499            2       24                                     Franz Schubert   \n3500            2       24                                 Claudio Monteverdi   \n3501            2       24                            Wolfgang Amadeus Mozart   \n3502            2       10                                       Philip Glass   \n\n      Milliseconds     Bytes  UnitPrice  \n0           343719  11170334       0.99  \n1           342562   5510424       0.99  \n2           230619   3990994       0.99  \n3           252051   4331779       0.99  \n4           375418   6290521       0.99  \n...            ...       ...        ...  \n3498        286741   4718950       0.99  \n3499        139200   2283131       0.99  \n3500         66639   1189062       0.99  \n3501        221331   3665114       0.99  \n3502        206005   3305164       0.99  \n\n[3503 rows x 9 columns]",
      "text/html": "<div>\n<style scoped>\n    .dataframe tbody tr th:only-of-type {\n        vertical-align: middle;\n    }\n\n    .dataframe tbody tr th {\n        vertical-align: top;\n    }\n\n    .dataframe thead th {\n        text-align: right;\n    }\n</style>\n<table border=\"1\" class=\"dataframe\">\n  <thead>\n    <tr style=\"text-align: right;\">\n      <th></th>\n      <th>TrackId</th>\n      <th>Name</th>\n      <th>AlbumId</th>\n      <th>MediaTypeId</th>\n      <th>GenreId</th>\n      <th>Composer</th>\n      <th>Milliseconds</th>\n      <th>Bytes</th>\n      <th>UnitPrice</th>\n    </tr>\n  </thead>\n  <tbody>\n    <tr>\n      <td>0</td>\n      <td>1</td>\n      <td>For Those About To Rock (We Salute You)</td>\n      <td>1</td>\n      <td>1</td>\n      <td>1</td>\n      <td>Angus Young, Malcolm Young, Brian Johnson</td>\n      <td>343719</td>\n      <td>11170334</td>\n      <td>0.99</td>\n    </tr>\n    <tr>\n      <td>1</td>\n      <td>2</td>\n      <td>Balls to the Wall</td>\n      <td>2</td>\n      <td>2</td>\n      <td>1</td>\n      <td>None</td>\n      <td>342562</td>\n      <td>5510424</td>\n      <td>0.99</td>\n    </tr>\n    <tr>\n      <td>2</td>\n      <td>3</td>\n      <td>Fast As a Shark</td>\n      <td>3</td>\n      <td>2</td>\n      <td>1</td>\n      <td>F. Baltes, S. Kaufman, U. Dirkscneider &amp; W. Ho...</td>\n      <td>230619</td>\n      <td>3990994</td>\n      <td>0.99</td>\n    </tr>\n    <tr>\n      <td>3</td>\n      <td>4</td>\n      <td>Restless and Wild</td>\n      <td>3</td>\n      <td>2</td>\n      <td>1</td>\n      <td>F. Baltes, R.A. Smith-Diesel, S. Kaufman, U. D...</td>\n      <td>252051</td>\n      <td>4331779</td>\n      <td>0.99</td>\n    </tr>\n    <tr>\n      <td>4</td>\n      <td>5</td>\n      <td>Princess of the Dawn</td>\n      <td>3</td>\n      <td>2</td>\n      <td>1</td>\n      <td>Deaffy &amp; R.A. Smith-Diesel</td>\n      <td>375418</td>\n      <td>6290521</td>\n      <td>0.99</td>\n    </tr>\n    <tr>\n      <td>...</td>\n      <td>...</td>\n      <td>...</td>\n      <td>...</td>\n      <td>...</td>\n      <td>...</td>\n      <td>...</td>\n      <td>...</td>\n      <td>...</td>\n      <td>...</td>\n    </tr>\n    <tr>\n      <td>3498</td>\n      <td>3499</td>\n      <td>Pini Di Roma (Pinien Von Rom) \\ I Pini Della V...</td>\n      <td>343</td>\n      <td>2</td>\n      <td>24</td>\n      <td>None</td>\n      <td>286741</td>\n      <td>4718950</td>\n      <td>0.99</td>\n    </tr>\n    <tr>\n      <td>3499</td>\n      <td>3500</td>\n      <td>String Quartet No. 12 in C Minor, D. 703 \"Quar...</td>\n      <td>344</td>\n      <td>2</td>\n      <td>24</td>\n      <td>Franz Schubert</td>\n      <td>139200</td>\n      <td>2283131</td>\n      <td>0.99</td>\n    </tr>\n    <tr>\n      <td>3500</td>\n      <td>3501</td>\n      <td>L'orfeo, Act 3, Sinfonia (Orchestra)</td>\n      <td>345</td>\n      <td>2</td>\n      <td>24</td>\n      <td>Claudio Monteverdi</td>\n      <td>66639</td>\n      <td>1189062</td>\n      <td>0.99</td>\n    </tr>\n    <tr>\n      <td>3501</td>\n      <td>3502</td>\n      <td>Quintet for Horn, Violin, 2 Violas, and Cello ...</td>\n      <td>346</td>\n      <td>2</td>\n      <td>24</td>\n      <td>Wolfgang Amadeus Mozart</td>\n      <td>221331</td>\n      <td>3665114</td>\n      <td>0.99</td>\n    </tr>\n    <tr>\n      <td>3502</td>\n      <td>3503</td>\n      <td>Koyaanisqatsi</td>\n      <td>347</td>\n      <td>2</td>\n      <td>10</td>\n      <td>Philip Glass</td>\n      <td>206005</td>\n      <td>3305164</td>\n      <td>0.99</td>\n    </tr>\n  </tbody>\n</table>\n<p>3503 rows × 9 columns</p>\n</div>"
     },
     "metadata": {},
     "execution_count": 31
    }
   ],
   "source": [
    "query = '''\n",
    "SELECT * \n",
    "FROM tracks\n",
    "'''\n",
    "\n",
    "sql_query(query)"
   ]
  },
  {
   "cell_type": "markdown",
   "metadata": {},
   "source": [
    "### 3.2 SELECT\n",
    "**La sentencia `SELECT` se usa para filtrar columnas**. Podremos incluso renombrar algunas columnas dentro del propio `SELECT`. Dos opciones:\n",
    "* **SELECT * :** de esta forma lo que haremos es traer todos los campos de la tabla. NO es lo recomendable ya que hay tablas que pueden tener cientos de columnas y probablemente no necesitemos todas, por lo que afectará al rendimiento de la maquina y en definitiva al resto de usuarios. **Recuerda que las bases de datos son normalmente entornos compartidos por varios usuarios :)**\n",
    "* **SELECT campo1, campo2...:** sentencia para escoger los campos concretos que necesitamos.\n",
    "\n",
    "Además en la propia query podrás renombrar campos mediante la sintaxis `campo as nuevo_nombre`. **Si quieres poner espacios en el nombre del campo, tendrás que rodear el string con comillas dobles**\n",
    "\n",
    "SQL no es sensible a mayusculas y minusculas."
   ]
  },
  {
   "cell_type": "code",
   "execution_count": 32,
   "metadata": {},
   "outputs": [
    {
     "output_type": "execute_result",
     "data": {
      "text/plain": "      TrackId                                               Name  AlbumId  \\\n0           1            For Those About To Rock (We Salute You)        1   \n1           2                                  Balls to the Wall        2   \n2           3                                    Fast As a Shark        3   \n3           4                                  Restless and Wild        3   \n4           5                               Princess of the Dawn        3   \n...       ...                                                ...      ...   \n3498     3499  Pini Di Roma (Pinien Von Rom) \\ I Pini Della V...      343   \n3499     3500  String Quartet No. 12 in C Minor, D. 703 \"Quar...      344   \n3500     3501               L'orfeo, Act 3, Sinfonia (Orchestra)      345   \n3501     3502  Quintet for Horn, Violin, 2 Violas, and Cello ...      346   \n3502     3503                                      Koyaanisqatsi      347   \n\n      MediaTypeId  GenreId                                           Composer  \\\n0               1        1          Angus Young, Malcolm Young, Brian Johnson   \n1               2        1                                               None   \n2               2        1  F. Baltes, S. Kaufman, U. Dirkscneider & W. Ho...   \n3               2        1  F. Baltes, R.A. Smith-Diesel, S. Kaufman, U. D...   \n4               2        1                         Deaffy & R.A. Smith-Diesel   \n...           ...      ...                                                ...   \n3498            2       24                                               None   \n3499            2       24                                     Franz Schubert   \n3500            2       24                                 Claudio Monteverdi   \n3501            2       24                            Wolfgang Amadeus Mozart   \n3502            2       10                                       Philip Glass   \n\n      Milliseconds     Bytes  UnitPrice  \n0           343719  11170334       0.99  \n1           342562   5510424       0.99  \n2           230619   3990994       0.99  \n3           252051   4331779       0.99  \n4           375418   6290521       0.99  \n...            ...       ...        ...  \n3498        286741   4718950       0.99  \n3499        139200   2283131       0.99  \n3500         66639   1189062       0.99  \n3501        221331   3665114       0.99  \n3502        206005   3305164       0.99  \n\n[3503 rows x 9 columns]",
      "text/html": "<div>\n<style scoped>\n    .dataframe tbody tr th:only-of-type {\n        vertical-align: middle;\n    }\n\n    .dataframe tbody tr th {\n        vertical-align: top;\n    }\n\n    .dataframe thead th {\n        text-align: right;\n    }\n</style>\n<table border=\"1\" class=\"dataframe\">\n  <thead>\n    <tr style=\"text-align: right;\">\n      <th></th>\n      <th>TrackId</th>\n      <th>Name</th>\n      <th>AlbumId</th>\n      <th>MediaTypeId</th>\n      <th>GenreId</th>\n      <th>Composer</th>\n      <th>Milliseconds</th>\n      <th>Bytes</th>\n      <th>UnitPrice</th>\n    </tr>\n  </thead>\n  <tbody>\n    <tr>\n      <td>0</td>\n      <td>1</td>\n      <td>For Those About To Rock (We Salute You)</td>\n      <td>1</td>\n      <td>1</td>\n      <td>1</td>\n      <td>Angus Young, Malcolm Young, Brian Johnson</td>\n      <td>343719</td>\n      <td>11170334</td>\n      <td>0.99</td>\n    </tr>\n    <tr>\n      <td>1</td>\n      <td>2</td>\n      <td>Balls to the Wall</td>\n      <td>2</td>\n      <td>2</td>\n      <td>1</td>\n      <td>None</td>\n      <td>342562</td>\n      <td>5510424</td>\n      <td>0.99</td>\n    </tr>\n    <tr>\n      <td>2</td>\n      <td>3</td>\n      <td>Fast As a Shark</td>\n      <td>3</td>\n      <td>2</td>\n      <td>1</td>\n      <td>F. Baltes, S. Kaufman, U. Dirkscneider &amp; W. Ho...</td>\n      <td>230619</td>\n      <td>3990994</td>\n      <td>0.99</td>\n    </tr>\n    <tr>\n      <td>3</td>\n      <td>4</td>\n      <td>Restless and Wild</td>\n      <td>3</td>\n      <td>2</td>\n      <td>1</td>\n      <td>F. Baltes, R.A. Smith-Diesel, S. Kaufman, U. D...</td>\n      <td>252051</td>\n      <td>4331779</td>\n      <td>0.99</td>\n    </tr>\n    <tr>\n      <td>4</td>\n      <td>5</td>\n      <td>Princess of the Dawn</td>\n      <td>3</td>\n      <td>2</td>\n      <td>1</td>\n      <td>Deaffy &amp; R.A. Smith-Diesel</td>\n      <td>375418</td>\n      <td>6290521</td>\n      <td>0.99</td>\n    </tr>\n    <tr>\n      <td>...</td>\n      <td>...</td>\n      <td>...</td>\n      <td>...</td>\n      <td>...</td>\n      <td>...</td>\n      <td>...</td>\n      <td>...</td>\n      <td>...</td>\n      <td>...</td>\n    </tr>\n    <tr>\n      <td>3498</td>\n      <td>3499</td>\n      <td>Pini Di Roma (Pinien Von Rom) \\ I Pini Della V...</td>\n      <td>343</td>\n      <td>2</td>\n      <td>24</td>\n      <td>None</td>\n      <td>286741</td>\n      <td>4718950</td>\n      <td>0.99</td>\n    </tr>\n    <tr>\n      <td>3499</td>\n      <td>3500</td>\n      <td>String Quartet No. 12 in C Minor, D. 703 \"Quar...</td>\n      <td>344</td>\n      <td>2</td>\n      <td>24</td>\n      <td>Franz Schubert</td>\n      <td>139200</td>\n      <td>2283131</td>\n      <td>0.99</td>\n    </tr>\n    <tr>\n      <td>3500</td>\n      <td>3501</td>\n      <td>L'orfeo, Act 3, Sinfonia (Orchestra)</td>\n      <td>345</td>\n      <td>2</td>\n      <td>24</td>\n      <td>Claudio Monteverdi</td>\n      <td>66639</td>\n      <td>1189062</td>\n      <td>0.99</td>\n    </tr>\n    <tr>\n      <td>3501</td>\n      <td>3502</td>\n      <td>Quintet for Horn, Violin, 2 Violas, and Cello ...</td>\n      <td>346</td>\n      <td>2</td>\n      <td>24</td>\n      <td>Wolfgang Amadeus Mozart</td>\n      <td>221331</td>\n      <td>3665114</td>\n      <td>0.99</td>\n    </tr>\n    <tr>\n      <td>3502</td>\n      <td>3503</td>\n      <td>Koyaanisqatsi</td>\n      <td>347</td>\n      <td>2</td>\n      <td>10</td>\n      <td>Philip Glass</td>\n      <td>206005</td>\n      <td>3305164</td>\n      <td>0.99</td>\n    </tr>\n  </tbody>\n</table>\n<p>3503 rows × 9 columns</p>\n</div>"
     },
     "metadata": {},
     "execution_count": 32
    }
   ],
   "source": [
    "query = '''\n",
    "SELECT *\n",
    "FROM tracks\n",
    "'''\n",
    "\n",
    "sql_query(query)"
   ]
  },
  {
   "cell_type": "markdown",
   "metadata": {},
   "source": [
    "### 3.3 LIMIT\n",
    "Se usa para acotar el número de registros de la query. Va siempre al final. Por ejemplo `LIMIT 10`"
   ]
  },
  {
   "cell_type": "code",
   "execution_count": 34,
   "metadata": {},
   "outputs": [
    {
     "output_type": "execute_result",
     "data": {
      "text/plain": "   TrackId                                     Name  AlbumId  MediaTypeId  \\\n0        1  For Those About To Rock (We Salute You)        1            1   \n1        2                        Balls to the Wall        2            2   \n2        3                          Fast As a Shark        3            2   \n3        4                        Restless and Wild        3            2   \n4        5                     Princess of the Dawn        3            2   \n5        6                    Put The Finger On You        1            1   \n6        7                          Let's Get It Up        1            1   \n7        8                         Inject The Venom        1            1   \n8        9                               Snowballed        1            1   \n9       10                               Evil Walks        1            1   \n\n   GenreId                                           Composer  Milliseconds  \\\n0        1          Angus Young, Malcolm Young, Brian Johnson        343719   \n1        1                                               None        342562   \n2        1  F. Baltes, S. Kaufman, U. Dirkscneider & W. Ho...        230619   \n3        1  F. Baltes, R.A. Smith-Diesel, S. Kaufman, U. D...        252051   \n4        1                         Deaffy & R.A. Smith-Diesel        375418   \n5        1          Angus Young, Malcolm Young, Brian Johnson        205662   \n6        1          Angus Young, Malcolm Young, Brian Johnson        233926   \n7        1          Angus Young, Malcolm Young, Brian Johnson        210834   \n8        1          Angus Young, Malcolm Young, Brian Johnson        203102   \n9        1          Angus Young, Malcolm Young, Brian Johnson        263497   \n\n      Bytes  UnitPrice  \n0  11170334       0.99  \n1   5510424       0.99  \n2   3990994       0.99  \n3   4331779       0.99  \n4   6290521       0.99  \n5   6713451       0.99  \n6   7636561       0.99  \n7   6852860       0.99  \n8   6599424       0.99  \n9   8611245       0.99  ",
      "text/html": "<div>\n<style scoped>\n    .dataframe tbody tr th:only-of-type {\n        vertical-align: middle;\n    }\n\n    .dataframe tbody tr th {\n        vertical-align: top;\n    }\n\n    .dataframe thead th {\n        text-align: right;\n    }\n</style>\n<table border=\"1\" class=\"dataframe\">\n  <thead>\n    <tr style=\"text-align: right;\">\n      <th></th>\n      <th>TrackId</th>\n      <th>Name</th>\n      <th>AlbumId</th>\n      <th>MediaTypeId</th>\n      <th>GenreId</th>\n      <th>Composer</th>\n      <th>Milliseconds</th>\n      <th>Bytes</th>\n      <th>UnitPrice</th>\n    </tr>\n  </thead>\n  <tbody>\n    <tr>\n      <td>0</td>\n      <td>1</td>\n      <td>For Those About To Rock (We Salute You)</td>\n      <td>1</td>\n      <td>1</td>\n      <td>1</td>\n      <td>Angus Young, Malcolm Young, Brian Johnson</td>\n      <td>343719</td>\n      <td>11170334</td>\n      <td>0.99</td>\n    </tr>\n    <tr>\n      <td>1</td>\n      <td>2</td>\n      <td>Balls to the Wall</td>\n      <td>2</td>\n      <td>2</td>\n      <td>1</td>\n      <td>None</td>\n      <td>342562</td>\n      <td>5510424</td>\n      <td>0.99</td>\n    </tr>\n    <tr>\n      <td>2</td>\n      <td>3</td>\n      <td>Fast As a Shark</td>\n      <td>3</td>\n      <td>2</td>\n      <td>1</td>\n      <td>F. Baltes, S. Kaufman, U. Dirkscneider &amp; W. Ho...</td>\n      <td>230619</td>\n      <td>3990994</td>\n      <td>0.99</td>\n    </tr>\n    <tr>\n      <td>3</td>\n      <td>4</td>\n      <td>Restless and Wild</td>\n      <td>3</td>\n      <td>2</td>\n      <td>1</td>\n      <td>F. Baltes, R.A. Smith-Diesel, S. Kaufman, U. D...</td>\n      <td>252051</td>\n      <td>4331779</td>\n      <td>0.99</td>\n    </tr>\n    <tr>\n      <td>4</td>\n      <td>5</td>\n      <td>Princess of the Dawn</td>\n      <td>3</td>\n      <td>2</td>\n      <td>1</td>\n      <td>Deaffy &amp; R.A. Smith-Diesel</td>\n      <td>375418</td>\n      <td>6290521</td>\n      <td>0.99</td>\n    </tr>\n    <tr>\n      <td>5</td>\n      <td>6</td>\n      <td>Put The Finger On You</td>\n      <td>1</td>\n      <td>1</td>\n      <td>1</td>\n      <td>Angus Young, Malcolm Young, Brian Johnson</td>\n      <td>205662</td>\n      <td>6713451</td>\n      <td>0.99</td>\n    </tr>\n    <tr>\n      <td>6</td>\n      <td>7</td>\n      <td>Let's Get It Up</td>\n      <td>1</td>\n      <td>1</td>\n      <td>1</td>\n      <td>Angus Young, Malcolm Young, Brian Johnson</td>\n      <td>233926</td>\n      <td>7636561</td>\n      <td>0.99</td>\n    </tr>\n    <tr>\n      <td>7</td>\n      <td>8</td>\n      <td>Inject The Venom</td>\n      <td>1</td>\n      <td>1</td>\n      <td>1</td>\n      <td>Angus Young, Malcolm Young, Brian Johnson</td>\n      <td>210834</td>\n      <td>6852860</td>\n      <td>0.99</td>\n    </tr>\n    <tr>\n      <td>8</td>\n      <td>9</td>\n      <td>Snowballed</td>\n      <td>1</td>\n      <td>1</td>\n      <td>1</td>\n      <td>Angus Young, Malcolm Young, Brian Johnson</td>\n      <td>203102</td>\n      <td>6599424</td>\n      <td>0.99</td>\n    </tr>\n    <tr>\n      <td>9</td>\n      <td>10</td>\n      <td>Evil Walks</td>\n      <td>1</td>\n      <td>1</td>\n      <td>1</td>\n      <td>Angus Young, Malcolm Young, Brian Johnson</td>\n      <td>263497</td>\n      <td>8611245</td>\n      <td>0.99</td>\n    </tr>\n  </tbody>\n</table>\n</div>"
     },
     "metadata": {},
     "execution_count": 34
    }
   ],
   "source": [
    "query = '''\n",
    "SELECT *\n",
    "FROM tracks\n",
    "LIMIT 10\n",
    "\n",
    "'''\n",
    "\n",
    "sql_query(query)"
   ]
  },
  {
   "cell_type": "markdown",
   "metadata": {},
   "source": [
    "### 3.4 DISTINCT\n",
    "Se usa para obtener todos los registros únicos, es decir, sin duplicados. Muy útil tanto para eliminar dupicados, como para ver todas las casuísticas de un campo en concreto.\n",
    "\n",
    "**Mucho cuidado con esta sentencia ya que si la tabla tiene miles o millones de registros, puede ralentizar mucho la query.**"
   ]
  },
  {
   "cell_type": "code",
   "execution_count": 33,
   "metadata": {},
   "outputs": [
    {
     "output_type": "execute_result",
     "data": {
      "text/plain": "                                              Composer\n0            Angus Young, Malcolm Young, Brian Johnson\n1                                                 None\n2    F. Baltes, S. Kaufman, U. Dirkscneider & W. Ho...\n3    F. Baltes, R.A. Smith-Diesel, S. Kaufman, U. D...\n4                           Deaffy & R.A. Smith-Diesel\n..                                                 ...\n848                                       Carl Nielsen\n849                                   Niccolò Paganini\n850                           Pietro Antonio Locatelli\n851                                 Claudio Monteverdi\n852                                       Philip Glass\n\n[853 rows x 1 columns]",
      "text/html": "<div>\n<style scoped>\n    .dataframe tbody tr th:only-of-type {\n        vertical-align: middle;\n    }\n\n    .dataframe tbody tr th {\n        vertical-align: top;\n    }\n\n    .dataframe thead th {\n        text-align: right;\n    }\n</style>\n<table border=\"1\" class=\"dataframe\">\n  <thead>\n    <tr style=\"text-align: right;\">\n      <th></th>\n      <th>Composer</th>\n    </tr>\n  </thead>\n  <tbody>\n    <tr>\n      <td>0</td>\n      <td>Angus Young, Malcolm Young, Brian Johnson</td>\n    </tr>\n    <tr>\n      <td>1</td>\n      <td>None</td>\n    </tr>\n    <tr>\n      <td>2</td>\n      <td>F. Baltes, S. Kaufman, U. Dirkscneider &amp; W. Ho...</td>\n    </tr>\n    <tr>\n      <td>3</td>\n      <td>F. Baltes, R.A. Smith-Diesel, S. Kaufman, U. D...</td>\n    </tr>\n    <tr>\n      <td>4</td>\n      <td>Deaffy &amp; R.A. Smith-Diesel</td>\n    </tr>\n    <tr>\n      <td>...</td>\n      <td>...</td>\n    </tr>\n    <tr>\n      <td>848</td>\n      <td>Carl Nielsen</td>\n    </tr>\n    <tr>\n      <td>849</td>\n      <td>Niccolò Paganini</td>\n    </tr>\n    <tr>\n      <td>850</td>\n      <td>Pietro Antonio Locatelli</td>\n    </tr>\n    <tr>\n      <td>851</td>\n      <td>Claudio Monteverdi</td>\n    </tr>\n    <tr>\n      <td>852</td>\n      <td>Philip Glass</td>\n    </tr>\n  </tbody>\n</table>\n<p>853 rows × 1 columns</p>\n</div>"
     },
     "metadata": {},
     "execution_count": 33
    }
   ],
   "source": [
    "query = '''\n",
    "SELECT DISTINCT Composer\n",
    "FROM tracks\n",
    "'''\n",
    "\n",
    "sql_query(query)"
   ]
  },
  {
   "cell_type": "markdown",
   "metadata": {},
   "source": [
    "### 3.5 WHERE\n",
    "Se usa para filtrar filas. Ejemplos de uso:\n",
    "* **Un valor numérico**\n",
    "    * UnitPrice = 0.99\n",
    "    * UnitPrice >= 0.99\n",
    "    * UnitPrice < 0.99\n",
    "* **Un valor string**: Name = 'Restless and Wild'\n",
    "* **Varios valores**: GenreId in (1, 5, 12)\n",
    "* **string contenido**:\n",
    "    * strings que empiecen por 'A': Name like 'A%'\n",
    "    * strings que acaben en 'A': Name like '%A'\n",
    "    * strings que lleven 'A' en algun punto: Name like '%A%'\n",
    "* **Distinto de**: UnitPrice <> 0.99\n",
    "\n",
    "Probamos el `WHERE`"
   ]
  },
  {
   "cell_type": "code",
   "execution_count": 35,
   "metadata": {},
   "outputs": [
    {
     "output_type": "execute_result",
     "data": {
      "text/plain": "     TrackId                                    Name  AlbumId  MediaTypeId  \\\n0       2819  Battlestar Galactica: The Story So Far      226            3   \n1       2820                  Occupation / Precipice      227            3   \n2       2821                           Exodus, Pt. 1      227            3   \n3       2822                           Exodus, Pt. 2      227            3   \n4       2823                           Collaborators      227            3   \n..       ...                                     ...      ...          ...   \n208     3362       There's No Place Like Home, Pt. 1      261            3   \n209     3363       There's No Place Like Home, Pt. 2      261            3   \n210     3364       There's No Place Like Home, Pt. 3      261            3   \n211     3428                          Branch Closing      251            3   \n212     3429                              The Return      251            3   \n\n     GenreId Composer  Milliseconds       Bytes  UnitPrice  \n0         18     None       2622250   490750393       1.99  \n1         19     None       5286953  1054423946       1.99  \n2         19     None       2621708   475079441       1.99  \n3         19     None       2618000   466820021       1.99  \n4         19     None       2626626   483484911       1.99  \n..       ...      ...           ...         ...        ...  \n208       21     None       2609526   522919189       1.99  \n209       21     None       2497956   523748920       1.99  \n210       21     None       2582957   486161766       1.99  \n211       22     None       1814855   360331351       1.99  \n212       22     None       1705080   343877320       1.99  \n\n[213 rows x 9 columns]",
      "text/html": "<div>\n<style scoped>\n    .dataframe tbody tr th:only-of-type {\n        vertical-align: middle;\n    }\n\n    .dataframe tbody tr th {\n        vertical-align: top;\n    }\n\n    .dataframe thead th {\n        text-align: right;\n    }\n</style>\n<table border=\"1\" class=\"dataframe\">\n  <thead>\n    <tr style=\"text-align: right;\">\n      <th></th>\n      <th>TrackId</th>\n      <th>Name</th>\n      <th>AlbumId</th>\n      <th>MediaTypeId</th>\n      <th>GenreId</th>\n      <th>Composer</th>\n      <th>Milliseconds</th>\n      <th>Bytes</th>\n      <th>UnitPrice</th>\n    </tr>\n  </thead>\n  <tbody>\n    <tr>\n      <td>0</td>\n      <td>2819</td>\n      <td>Battlestar Galactica: The Story So Far</td>\n      <td>226</td>\n      <td>3</td>\n      <td>18</td>\n      <td>None</td>\n      <td>2622250</td>\n      <td>490750393</td>\n      <td>1.99</td>\n    </tr>\n    <tr>\n      <td>1</td>\n      <td>2820</td>\n      <td>Occupation / Precipice</td>\n      <td>227</td>\n      <td>3</td>\n      <td>19</td>\n      <td>None</td>\n      <td>5286953</td>\n      <td>1054423946</td>\n      <td>1.99</td>\n    </tr>\n    <tr>\n      <td>2</td>\n      <td>2821</td>\n      <td>Exodus, Pt. 1</td>\n      <td>227</td>\n      <td>3</td>\n      <td>19</td>\n      <td>None</td>\n      <td>2621708</td>\n      <td>475079441</td>\n      <td>1.99</td>\n    </tr>\n    <tr>\n      <td>3</td>\n      <td>2822</td>\n      <td>Exodus, Pt. 2</td>\n      <td>227</td>\n      <td>3</td>\n      <td>19</td>\n      <td>None</td>\n      <td>2618000</td>\n      <td>466820021</td>\n      <td>1.99</td>\n    </tr>\n    <tr>\n      <td>4</td>\n      <td>2823</td>\n      <td>Collaborators</td>\n      <td>227</td>\n      <td>3</td>\n      <td>19</td>\n      <td>None</td>\n      <td>2626626</td>\n      <td>483484911</td>\n      <td>1.99</td>\n    </tr>\n    <tr>\n      <td>...</td>\n      <td>...</td>\n      <td>...</td>\n      <td>...</td>\n      <td>...</td>\n      <td>...</td>\n      <td>...</td>\n      <td>...</td>\n      <td>...</td>\n      <td>...</td>\n    </tr>\n    <tr>\n      <td>208</td>\n      <td>3362</td>\n      <td>There's No Place Like Home, Pt. 1</td>\n      <td>261</td>\n      <td>3</td>\n      <td>21</td>\n      <td>None</td>\n      <td>2609526</td>\n      <td>522919189</td>\n      <td>1.99</td>\n    </tr>\n    <tr>\n      <td>209</td>\n      <td>3363</td>\n      <td>There's No Place Like Home, Pt. 2</td>\n      <td>261</td>\n      <td>3</td>\n      <td>21</td>\n      <td>None</td>\n      <td>2497956</td>\n      <td>523748920</td>\n      <td>1.99</td>\n    </tr>\n    <tr>\n      <td>210</td>\n      <td>3364</td>\n      <td>There's No Place Like Home, Pt. 3</td>\n      <td>261</td>\n      <td>3</td>\n      <td>21</td>\n      <td>None</td>\n      <td>2582957</td>\n      <td>486161766</td>\n      <td>1.99</td>\n    </tr>\n    <tr>\n      <td>211</td>\n      <td>3428</td>\n      <td>Branch Closing</td>\n      <td>251</td>\n      <td>3</td>\n      <td>22</td>\n      <td>None</td>\n      <td>1814855</td>\n      <td>360331351</td>\n      <td>1.99</td>\n    </tr>\n    <tr>\n      <td>212</td>\n      <td>3429</td>\n      <td>The Return</td>\n      <td>251</td>\n      <td>3</td>\n      <td>22</td>\n      <td>None</td>\n      <td>1705080</td>\n      <td>343877320</td>\n      <td>1.99</td>\n    </tr>\n  </tbody>\n</table>\n<p>213 rows × 9 columns</p>\n</div>"
     },
     "metadata": {},
     "execution_count": 35
    }
   ],
   "source": [
    "query = '''\n",
    "SELECT * \n",
    "FROM tracks\n",
    "WHERE unitprice > 0.99\n",
    "'''\n",
    "\n",
    "sql_query(query)"
   ]
  },
  {
   "cell_type": "markdown",
   "metadata": {},
   "source": [
    "Veamos qué tal funciona el `LIKE`"
   ]
  },
  {
   "cell_type": "code",
   "execution_count": 41,
   "metadata": {},
   "outputs": [
    {
     "output_type": "execute_result",
     "data": {
      "text/plain": "   TrackId                                     Name  AlbumId  MediaTypeId  \\\n0        1  For Those About To Rock (We Salute You)        1            1   \n1        6                    Put The Finger On You        1            1   \n2        7                          Let's Get It Up        1            1   \n3        8                         Inject The Venom        1            1   \n4        9                               Snowballed        1            1   \n5       10                               Evil Walks        1            1   \n6       11                                   C.O.D.        1            1   \n7       12                       Breaking The Rules        1            1   \n8       13                 Night Of The Long Knives        1            1   \n9       14                               Spellbound        1            1   \n\n   GenreId                                   Composer  Milliseconds     Bytes  \\\n0        1  Angus Young, Malcolm Young, Brian Johnson        343719  11170334   \n1        1  Angus Young, Malcolm Young, Brian Johnson        205662   6713451   \n2        1  Angus Young, Malcolm Young, Brian Johnson        233926   7636561   \n3        1  Angus Young, Malcolm Young, Brian Johnson        210834   6852860   \n4        1  Angus Young, Malcolm Young, Brian Johnson        203102   6599424   \n5        1  Angus Young, Malcolm Young, Brian Johnson        263497   8611245   \n6        1  Angus Young, Malcolm Young, Brian Johnson        199836   6566314   \n7        1  Angus Young, Malcolm Young, Brian Johnson        263288   8596840   \n8        1  Angus Young, Malcolm Young, Brian Johnson        205688   6706347   \n9        1  Angus Young, Malcolm Young, Brian Johnson        270863   8817038   \n\n   UnitPrice  \n0       0.99  \n1       0.99  \n2       0.99  \n3       0.99  \n4       0.99  \n5       0.99  \n6       0.99  \n7       0.99  \n8       0.99  \n9       0.99  ",
      "text/html": "<div>\n<style scoped>\n    .dataframe tbody tr th:only-of-type {\n        vertical-align: middle;\n    }\n\n    .dataframe tbody tr th {\n        vertical-align: top;\n    }\n\n    .dataframe thead th {\n        text-align: right;\n    }\n</style>\n<table border=\"1\" class=\"dataframe\">\n  <thead>\n    <tr style=\"text-align: right;\">\n      <th></th>\n      <th>TrackId</th>\n      <th>Name</th>\n      <th>AlbumId</th>\n      <th>MediaTypeId</th>\n      <th>GenreId</th>\n      <th>Composer</th>\n      <th>Milliseconds</th>\n      <th>Bytes</th>\n      <th>UnitPrice</th>\n    </tr>\n  </thead>\n  <tbody>\n    <tr>\n      <td>0</td>\n      <td>1</td>\n      <td>For Those About To Rock (We Salute You)</td>\n      <td>1</td>\n      <td>1</td>\n      <td>1</td>\n      <td>Angus Young, Malcolm Young, Brian Johnson</td>\n      <td>343719</td>\n      <td>11170334</td>\n      <td>0.99</td>\n    </tr>\n    <tr>\n      <td>1</td>\n      <td>6</td>\n      <td>Put The Finger On You</td>\n      <td>1</td>\n      <td>1</td>\n      <td>1</td>\n      <td>Angus Young, Malcolm Young, Brian Johnson</td>\n      <td>205662</td>\n      <td>6713451</td>\n      <td>0.99</td>\n    </tr>\n    <tr>\n      <td>2</td>\n      <td>7</td>\n      <td>Let's Get It Up</td>\n      <td>1</td>\n      <td>1</td>\n      <td>1</td>\n      <td>Angus Young, Malcolm Young, Brian Johnson</td>\n      <td>233926</td>\n      <td>7636561</td>\n      <td>0.99</td>\n    </tr>\n    <tr>\n      <td>3</td>\n      <td>8</td>\n      <td>Inject The Venom</td>\n      <td>1</td>\n      <td>1</td>\n      <td>1</td>\n      <td>Angus Young, Malcolm Young, Brian Johnson</td>\n      <td>210834</td>\n      <td>6852860</td>\n      <td>0.99</td>\n    </tr>\n    <tr>\n      <td>4</td>\n      <td>9</td>\n      <td>Snowballed</td>\n      <td>1</td>\n      <td>1</td>\n      <td>1</td>\n      <td>Angus Young, Malcolm Young, Brian Johnson</td>\n      <td>203102</td>\n      <td>6599424</td>\n      <td>0.99</td>\n    </tr>\n    <tr>\n      <td>5</td>\n      <td>10</td>\n      <td>Evil Walks</td>\n      <td>1</td>\n      <td>1</td>\n      <td>1</td>\n      <td>Angus Young, Malcolm Young, Brian Johnson</td>\n      <td>263497</td>\n      <td>8611245</td>\n      <td>0.99</td>\n    </tr>\n    <tr>\n      <td>6</td>\n      <td>11</td>\n      <td>C.O.D.</td>\n      <td>1</td>\n      <td>1</td>\n      <td>1</td>\n      <td>Angus Young, Malcolm Young, Brian Johnson</td>\n      <td>199836</td>\n      <td>6566314</td>\n      <td>0.99</td>\n    </tr>\n    <tr>\n      <td>7</td>\n      <td>12</td>\n      <td>Breaking The Rules</td>\n      <td>1</td>\n      <td>1</td>\n      <td>1</td>\n      <td>Angus Young, Malcolm Young, Brian Johnson</td>\n      <td>263288</td>\n      <td>8596840</td>\n      <td>0.99</td>\n    </tr>\n    <tr>\n      <td>8</td>\n      <td>13</td>\n      <td>Night Of The Long Knives</td>\n      <td>1</td>\n      <td>1</td>\n      <td>1</td>\n      <td>Angus Young, Malcolm Young, Brian Johnson</td>\n      <td>205688</td>\n      <td>6706347</td>\n      <td>0.99</td>\n    </tr>\n    <tr>\n      <td>9</td>\n      <td>14</td>\n      <td>Spellbound</td>\n      <td>1</td>\n      <td>1</td>\n      <td>1</td>\n      <td>Angus Young, Malcolm Young, Brian Johnson</td>\n      <td>270863</td>\n      <td>8817038</td>\n      <td>0.99</td>\n    </tr>\n  </tbody>\n</table>\n</div>"
     },
     "metadata": {},
     "execution_count": 41
    }
   ],
   "source": [
    "query = '''\n",
    "SELECT * \n",
    "FROM tracks\n",
    "WHERE composer LIKE \"%Brian John%\"\n",
    "'''\n",
    "\n",
    "sql_query(query)"
   ]
  },
  {
   "cell_type": "markdown",
   "metadata": {},
   "source": [
    "Compliquemos un poco más el `WHERE`"
   ]
  },
  {
   "cell_type": "code",
   "execution_count": 43,
   "metadata": {},
   "outputs": [
    {
     "output_type": "execute_result",
     "data": {
      "text/plain": "    TrackId                  Name  AlbumId  MediaTypeId  GenreId Composer  \\\n0      2840       Don't Look Back      228            3       21     None   \n1      2841        One Giant Leap      228            3       21     None   \n2      2842             Collision      228            3       21     None   \n3      2843                 Hiros      228            3       21     None   \n4      2844         Better Halves      228            3       21     None   \n..      ...                   ...      ...          ...      ...      ...   \n74     3220  Women's Appreciation      251            3       22     None   \n75     3221           Beach Games      251            3       22     None   \n76     3222               The Job      251            3       22     None   \n77     3428        Branch Closing      251            3       22     None   \n78     3429            The Return      251            3       22     None   \n\n    Milliseconds      Bytes  UnitPrice  \n0        2571154  493628775       1.99  \n1        2607649  521616246       1.99  \n2        2605480  526182322       1.99  \n3        2533575  488835454       1.99  \n4        2573031  549353481       1.99  \n..           ...        ...        ...  \n74       1732649  338778844       1.99  \n75       1676134  333671149       1.99  \n76       2541875  501060138       1.99  \n77       1814855  360331351       1.99  \n78       1705080  343877320       1.99  \n\n[79 rows x 9 columns]",
      "text/html": "<div>\n<style scoped>\n    .dataframe tbody tr th:only-of-type {\n        vertical-align: middle;\n    }\n\n    .dataframe tbody tr th {\n        vertical-align: top;\n    }\n\n    .dataframe thead th {\n        text-align: right;\n    }\n</style>\n<table border=\"1\" class=\"dataframe\">\n  <thead>\n    <tr style=\"text-align: right;\">\n      <th></th>\n      <th>TrackId</th>\n      <th>Name</th>\n      <th>AlbumId</th>\n      <th>MediaTypeId</th>\n      <th>GenreId</th>\n      <th>Composer</th>\n      <th>Milliseconds</th>\n      <th>Bytes</th>\n      <th>UnitPrice</th>\n    </tr>\n  </thead>\n  <tbody>\n    <tr>\n      <td>0</td>\n      <td>2840</td>\n      <td>Don't Look Back</td>\n      <td>228</td>\n      <td>3</td>\n      <td>21</td>\n      <td>None</td>\n      <td>2571154</td>\n      <td>493628775</td>\n      <td>1.99</td>\n    </tr>\n    <tr>\n      <td>1</td>\n      <td>2841</td>\n      <td>One Giant Leap</td>\n      <td>228</td>\n      <td>3</td>\n      <td>21</td>\n      <td>None</td>\n      <td>2607649</td>\n      <td>521616246</td>\n      <td>1.99</td>\n    </tr>\n    <tr>\n      <td>2</td>\n      <td>2842</td>\n      <td>Collision</td>\n      <td>228</td>\n      <td>3</td>\n      <td>21</td>\n      <td>None</td>\n      <td>2605480</td>\n      <td>526182322</td>\n      <td>1.99</td>\n    </tr>\n    <tr>\n      <td>3</td>\n      <td>2843</td>\n      <td>Hiros</td>\n      <td>228</td>\n      <td>3</td>\n      <td>21</td>\n      <td>None</td>\n      <td>2533575</td>\n      <td>488835454</td>\n      <td>1.99</td>\n    </tr>\n    <tr>\n      <td>4</td>\n      <td>2844</td>\n      <td>Better Halves</td>\n      <td>228</td>\n      <td>3</td>\n      <td>21</td>\n      <td>None</td>\n      <td>2573031</td>\n      <td>549353481</td>\n      <td>1.99</td>\n    </tr>\n    <tr>\n      <td>...</td>\n      <td>...</td>\n      <td>...</td>\n      <td>...</td>\n      <td>...</td>\n      <td>...</td>\n      <td>...</td>\n      <td>...</td>\n      <td>...</td>\n      <td>...</td>\n    </tr>\n    <tr>\n      <td>74</td>\n      <td>3220</td>\n      <td>Women's Appreciation</td>\n      <td>251</td>\n      <td>3</td>\n      <td>22</td>\n      <td>None</td>\n      <td>1732649</td>\n      <td>338778844</td>\n      <td>1.99</td>\n    </tr>\n    <tr>\n      <td>75</td>\n      <td>3221</td>\n      <td>Beach Games</td>\n      <td>251</td>\n      <td>3</td>\n      <td>22</td>\n      <td>None</td>\n      <td>1676134</td>\n      <td>333671149</td>\n      <td>1.99</td>\n    </tr>\n    <tr>\n      <td>76</td>\n      <td>3222</td>\n      <td>The Job</td>\n      <td>251</td>\n      <td>3</td>\n      <td>22</td>\n      <td>None</td>\n      <td>2541875</td>\n      <td>501060138</td>\n      <td>1.99</td>\n    </tr>\n    <tr>\n      <td>77</td>\n      <td>3428</td>\n      <td>Branch Closing</td>\n      <td>251</td>\n      <td>3</td>\n      <td>22</td>\n      <td>None</td>\n      <td>1814855</td>\n      <td>360331351</td>\n      <td>1.99</td>\n    </tr>\n    <tr>\n      <td>78</td>\n      <td>3429</td>\n      <td>The Return</td>\n      <td>251</td>\n      <td>3</td>\n      <td>22</td>\n      <td>None</td>\n      <td>1705080</td>\n      <td>343877320</td>\n      <td>1.99</td>\n    </tr>\n  </tbody>\n</table>\n<p>79 rows × 9 columns</p>\n</div>"
     },
     "metadata": {},
     "execution_count": 43
    }
   ],
   "source": [
    "query = '''\n",
    "SELECT * \n",
    "FROM tracks\n",
    "WHERE unitprice > 0.99 and bytes > 100000000 and genreid in (21,22,23)\n",
    "'''\n",
    "\n",
    "sql_query(query)"
   ]
  },
  {
   "cell_type": "markdown",
   "metadata": {},
   "source": [
    "### 3.6 ORDER BY\n",
    "Podemos **ordenar la tabla por el campo/s que queramos**. Por defecto ordena alfabéticamente los strings y de menor a mayor los tipos numéricos. Si quieres que ordene al revés, tienes que poner `DESC` de la forma `ORDER BY campo DESC`"
   ]
  },
  {
   "cell_type": "code",
   "execution_count": 47,
   "metadata": {},
   "outputs": [
    {
     "output_type": "execute_result",
     "data": {
      "text/plain": "    TrackId                              Name  AlbumId  MediaTypeId  GenreId  \\\n0      3220              Women's Appreciation      251            3       22   \n1      2853                        Unexpected      228            3       21   \n2      2916                  Two for the Road      231            3       21   \n3      2890             Tricia Tanaka Is Dead      229            3       21   \n4      3211                Traveling Salesmen      251            3       22   \n..      ...                               ...      ...          ...      ...   \n74     3213                      Ben Franklin      251            3       22   \n75     3221                       Beach Games      251            3       22   \n76     3210                Back from Vacation      251            3       22   \n77     3209  A Benihana Christmas, Pts. 1 & 2      251            3       22   \n78     3166                              .07%      228            3       21   \n\n   Composer  Milliseconds      Bytes  UnitPrice  \n0      None       1732649  338778844       1.99  \n1      None       2598139  511777758       1.99  \n2      None       2610958  502404558       1.99  \n3      None       2635010  548197162       1.99  \n4      None       1289039  250822697       1.99  \n..      ...           ...        ...        ...  \n74     None       1271938  264168080       1.99  \n75     None       1676134  333671149       1.99  \n76     None       1271688  245378749       1.99  \n77     None       2519436  515301752       1.99  \n78     None       2585794  541715199       1.99  \n\n[79 rows x 9 columns]",
      "text/html": "<div>\n<style scoped>\n    .dataframe tbody tr th:only-of-type {\n        vertical-align: middle;\n    }\n\n    .dataframe tbody tr th {\n        vertical-align: top;\n    }\n\n    .dataframe thead th {\n        text-align: right;\n    }\n</style>\n<table border=\"1\" class=\"dataframe\">\n  <thead>\n    <tr style=\"text-align: right;\">\n      <th></th>\n      <th>TrackId</th>\n      <th>Name</th>\n      <th>AlbumId</th>\n      <th>MediaTypeId</th>\n      <th>GenreId</th>\n      <th>Composer</th>\n      <th>Milliseconds</th>\n      <th>Bytes</th>\n      <th>UnitPrice</th>\n    </tr>\n  </thead>\n  <tbody>\n    <tr>\n      <td>0</td>\n      <td>3220</td>\n      <td>Women's Appreciation</td>\n      <td>251</td>\n      <td>3</td>\n      <td>22</td>\n      <td>None</td>\n      <td>1732649</td>\n      <td>338778844</td>\n      <td>1.99</td>\n    </tr>\n    <tr>\n      <td>1</td>\n      <td>2853</td>\n      <td>Unexpected</td>\n      <td>228</td>\n      <td>3</td>\n      <td>21</td>\n      <td>None</td>\n      <td>2598139</td>\n      <td>511777758</td>\n      <td>1.99</td>\n    </tr>\n    <tr>\n      <td>2</td>\n      <td>2916</td>\n      <td>Two for the Road</td>\n      <td>231</td>\n      <td>3</td>\n      <td>21</td>\n      <td>None</td>\n      <td>2610958</td>\n      <td>502404558</td>\n      <td>1.99</td>\n    </tr>\n    <tr>\n      <td>3</td>\n      <td>2890</td>\n      <td>Tricia Tanaka Is Dead</td>\n      <td>229</td>\n      <td>3</td>\n      <td>21</td>\n      <td>None</td>\n      <td>2635010</td>\n      <td>548197162</td>\n      <td>1.99</td>\n    </tr>\n    <tr>\n      <td>4</td>\n      <td>3211</td>\n      <td>Traveling Salesmen</td>\n      <td>251</td>\n      <td>3</td>\n      <td>22</td>\n      <td>None</td>\n      <td>1289039</td>\n      <td>250822697</td>\n      <td>1.99</td>\n    </tr>\n    <tr>\n      <td>...</td>\n      <td>...</td>\n      <td>...</td>\n      <td>...</td>\n      <td>...</td>\n      <td>...</td>\n      <td>...</td>\n      <td>...</td>\n      <td>...</td>\n      <td>...</td>\n    </tr>\n    <tr>\n      <td>74</td>\n      <td>3213</td>\n      <td>Ben Franklin</td>\n      <td>251</td>\n      <td>3</td>\n      <td>22</td>\n      <td>None</td>\n      <td>1271938</td>\n      <td>264168080</td>\n      <td>1.99</td>\n    </tr>\n    <tr>\n      <td>75</td>\n      <td>3221</td>\n      <td>Beach Games</td>\n      <td>251</td>\n      <td>3</td>\n      <td>22</td>\n      <td>None</td>\n      <td>1676134</td>\n      <td>333671149</td>\n      <td>1.99</td>\n    </tr>\n    <tr>\n      <td>76</td>\n      <td>3210</td>\n      <td>Back from Vacation</td>\n      <td>251</td>\n      <td>3</td>\n      <td>22</td>\n      <td>None</td>\n      <td>1271688</td>\n      <td>245378749</td>\n      <td>1.99</td>\n    </tr>\n    <tr>\n      <td>77</td>\n      <td>3209</td>\n      <td>A Benihana Christmas, Pts. 1 &amp; 2</td>\n      <td>251</td>\n      <td>3</td>\n      <td>22</td>\n      <td>None</td>\n      <td>2519436</td>\n      <td>515301752</td>\n      <td>1.99</td>\n    </tr>\n    <tr>\n      <td>78</td>\n      <td>3166</td>\n      <td>.07%</td>\n      <td>228</td>\n      <td>3</td>\n      <td>21</td>\n      <td>None</td>\n      <td>2585794</td>\n      <td>541715199</td>\n      <td>1.99</td>\n    </tr>\n  </tbody>\n</table>\n<p>79 rows × 9 columns</p>\n</div>"
     },
     "metadata": {},
     "execution_count": 47
    }
   ],
   "source": [
    "query = '''\n",
    "SELECT * \n",
    "FROM tracks\n",
    "WHERE unitprice > 0.99 and bytes > 100000000 and genreid in (21,22,23)\n",
    "ORDER BY name DESC\n",
    "'''\n",
    "\n",
    "sql_query(query)"
   ]
  },
  {
   "cell_type": "code",
   "execution_count": 49,
   "metadata": {},
   "outputs": [
    {
     "output_type": "execute_result",
     "data": {
      "text/plain": "    TrackId                          Name  AlbumId  MediaTypeId  GenreId  \\\n0      3224       Through a Looking Glass      229            3       21   \n1      2902               Maternity Leave      231            3       21   \n2      2897                   One of Them      231            3       21   \n3      3223  How to Stop an Exploding Man      228            3       21   \n4      2908                     One of Us      229            3       21   \n..      ...                           ...      ...          ...      ...   \n74     3213                  Ben Franklin      251            3       22   \n75     3210            Back from Vacation      251            3       22   \n76     3214             Phyllis's Wedding      251            3       22   \n77     3218               Safety Training      251            3       22   \n78     3219                Product Recall      251            3       22   \n\n   Composer  Milliseconds       Bytes  UnitPrice  \n0      None       5088838  1059546140       1.99  \n1      None       2780416   555244214       1.99  \n2      None       2698791   542332389       1.99  \n3      None       2687103   487881159       1.99  \n4      None       2638096   502387276       1.99  \n..      ...           ...         ...        ...  \n74     None       1271938   264168080       1.99  \n75     None       1271688   245378749       1.99  \n76     None       1271521   258561054       1.99  \n77     None       1271229   253054534       1.99  \n78     None       1268268   251208610       1.99  \n\n[79 rows x 9 columns]",
      "text/html": "<div>\n<style scoped>\n    .dataframe tbody tr th:only-of-type {\n        vertical-align: middle;\n    }\n\n    .dataframe tbody tr th {\n        vertical-align: top;\n    }\n\n    .dataframe thead th {\n        text-align: right;\n    }\n</style>\n<table border=\"1\" class=\"dataframe\">\n  <thead>\n    <tr style=\"text-align: right;\">\n      <th></th>\n      <th>TrackId</th>\n      <th>Name</th>\n      <th>AlbumId</th>\n      <th>MediaTypeId</th>\n      <th>GenreId</th>\n      <th>Composer</th>\n      <th>Milliseconds</th>\n      <th>Bytes</th>\n      <th>UnitPrice</th>\n    </tr>\n  </thead>\n  <tbody>\n    <tr>\n      <td>0</td>\n      <td>3224</td>\n      <td>Through a Looking Glass</td>\n      <td>229</td>\n      <td>3</td>\n      <td>21</td>\n      <td>None</td>\n      <td>5088838</td>\n      <td>1059546140</td>\n      <td>1.99</td>\n    </tr>\n    <tr>\n      <td>1</td>\n      <td>2902</td>\n      <td>Maternity Leave</td>\n      <td>231</td>\n      <td>3</td>\n      <td>21</td>\n      <td>None</td>\n      <td>2780416</td>\n      <td>555244214</td>\n      <td>1.99</td>\n    </tr>\n    <tr>\n      <td>2</td>\n      <td>2897</td>\n      <td>One of Them</td>\n      <td>231</td>\n      <td>3</td>\n      <td>21</td>\n      <td>None</td>\n      <td>2698791</td>\n      <td>542332389</td>\n      <td>1.99</td>\n    </tr>\n    <tr>\n      <td>3</td>\n      <td>3223</td>\n      <td>How to Stop an Exploding Man</td>\n      <td>228</td>\n      <td>3</td>\n      <td>21</td>\n      <td>None</td>\n      <td>2687103</td>\n      <td>487881159</td>\n      <td>1.99</td>\n    </tr>\n    <tr>\n      <td>4</td>\n      <td>2908</td>\n      <td>One of Us</td>\n      <td>229</td>\n      <td>3</td>\n      <td>21</td>\n      <td>None</td>\n      <td>2638096</td>\n      <td>502387276</td>\n      <td>1.99</td>\n    </tr>\n    <tr>\n      <td>...</td>\n      <td>...</td>\n      <td>...</td>\n      <td>...</td>\n      <td>...</td>\n      <td>...</td>\n      <td>...</td>\n      <td>...</td>\n      <td>...</td>\n      <td>...</td>\n    </tr>\n    <tr>\n      <td>74</td>\n      <td>3213</td>\n      <td>Ben Franklin</td>\n      <td>251</td>\n      <td>3</td>\n      <td>22</td>\n      <td>None</td>\n      <td>1271938</td>\n      <td>264168080</td>\n      <td>1.99</td>\n    </tr>\n    <tr>\n      <td>75</td>\n      <td>3210</td>\n      <td>Back from Vacation</td>\n      <td>251</td>\n      <td>3</td>\n      <td>22</td>\n      <td>None</td>\n      <td>1271688</td>\n      <td>245378749</td>\n      <td>1.99</td>\n    </tr>\n    <tr>\n      <td>76</td>\n      <td>3214</td>\n      <td>Phyllis's Wedding</td>\n      <td>251</td>\n      <td>3</td>\n      <td>22</td>\n      <td>None</td>\n      <td>1271521</td>\n      <td>258561054</td>\n      <td>1.99</td>\n    </tr>\n    <tr>\n      <td>77</td>\n      <td>3218</td>\n      <td>Safety Training</td>\n      <td>251</td>\n      <td>3</td>\n      <td>22</td>\n      <td>None</td>\n      <td>1271229</td>\n      <td>253054534</td>\n      <td>1.99</td>\n    </tr>\n    <tr>\n      <td>78</td>\n      <td>3219</td>\n      <td>Product Recall</td>\n      <td>251</td>\n      <td>3</td>\n      <td>22</td>\n      <td>None</td>\n      <td>1268268</td>\n      <td>251208610</td>\n      <td>1.99</td>\n    </tr>\n  </tbody>\n</table>\n<p>79 rows × 9 columns</p>\n</div>"
     },
     "metadata": {},
     "execution_count": 49
    }
   ],
   "source": [
    "query = '''\n",
    "SELECT * \n",
    "FROM tracks\n",
    "WHERE unitprice > 0.99 and bytes > 100000000 and genreid in (21,22,23)\n",
    "ORDER BY composer, milliseconds DESC\n",
    "'''\n",
    "\n",
    "sql_query(query)"
   ]
  },
  {
   "cell_type": "markdown",
   "metadata": {},
   "source": [
    "### 3.7 Agregaciones\n",
    "En ocasiones nos interesa obtener algún estadístico como el máximo de un campo, su desviación estándar o simplemente un conteo de registros no nulos. Para ello podemos usar funciones como `MAX`, `COUNT` o `AVG`. En [esta página](https://www.sqlservertutorial.net/sql-server-aggregate-functions/) encontrarás un resumen con las principales funciones."
   ]
  },
  {
   "cell_type": "code",
   "execution_count": 53,
   "metadata": {},
   "outputs": [
    {
     "output_type": "execute_result",
     "data": {
      "text/plain": "   COUNT(*)\n0      3503",
      "text/html": "<div>\n<style scoped>\n    .dataframe tbody tr th:only-of-type {\n        vertical-align: middle;\n    }\n\n    .dataframe tbody tr th {\n        vertical-align: top;\n    }\n\n    .dataframe thead th {\n        text-align: right;\n    }\n</style>\n<table border=\"1\" class=\"dataframe\">\n  <thead>\n    <tr style=\"text-align: right;\">\n      <th></th>\n      <th>COUNT(*)</th>\n    </tr>\n  </thead>\n  <tbody>\n    <tr>\n      <td>0</td>\n      <td>3503</td>\n    </tr>\n  </tbody>\n</table>\n</div>"
     },
     "metadata": {},
     "execution_count": 53
    }
   ],
   "source": [
    "query = '''\n",
    "SELECT COUNT(*)\n",
    "FROM tracks\n",
    "\n",
    "'''\n",
    "\n",
    "sql_query(query)"
   ]
  },
  {
   "cell_type": "code",
   "execution_count": 54,
   "metadata": {},
   "outputs": [
    {
     "output_type": "execute_result",
     "data": {
      "text/plain": "   COUNT(composer)\n0             2525",
      "text/html": "<div>\n<style scoped>\n    .dataframe tbody tr th:only-of-type {\n        vertical-align: middle;\n    }\n\n    .dataframe tbody tr th {\n        vertical-align: top;\n    }\n\n    .dataframe thead th {\n        text-align: right;\n    }\n</style>\n<table border=\"1\" class=\"dataframe\">\n  <thead>\n    <tr style=\"text-align: right;\">\n      <th></th>\n      <th>COUNT(composer)</th>\n    </tr>\n  </thead>\n  <tbody>\n    <tr>\n      <td>0</td>\n      <td>2525</td>\n    </tr>\n  </tbody>\n</table>\n</div>"
     },
     "metadata": {},
     "execution_count": 54
    }
   ],
   "source": [
    "query = '''\n",
    "SELECT COUNT(composer)\n",
    "FROM tracks\n",
    "\n",
    "'''\n",
    "\n",
    "sql_query(query)"
   ]
  },
  {
   "cell_type": "code",
   "execution_count": 55,
   "metadata": {},
   "outputs": [
    {
     "output_type": "execute_result",
     "data": {
      "text/plain": "      TrackId                                               Name  AlbumId  \\\n0           1            For Those About To Rock (We Salute You)        1   \n1           2                                  Balls to the Wall        2   \n2           3                                    Fast As a Shark        3   \n3           4                                  Restless and Wild        3   \n4           5                               Princess of the Dawn        3   \n...       ...                                                ...      ...   \n3498     3499  Pini Di Roma (Pinien Von Rom) \\ I Pini Della V...      343   \n3499     3500  String Quartet No. 12 in C Minor, D. 703 \"Quar...      344   \n3500     3501               L'orfeo, Act 3, Sinfonia (Orchestra)      345   \n3501     3502  Quintet for Horn, Violin, 2 Violas, and Cello ...      346   \n3502     3503                                      Koyaanisqatsi      347   \n\n      MediaTypeId  GenreId                                           Composer  \\\n0               1        1          Angus Young, Malcolm Young, Brian Johnson   \n1               2        1                                               None   \n2               2        1  F. Baltes, S. Kaufman, U. Dirkscneider & W. Ho...   \n3               2        1  F. Baltes, R.A. Smith-Diesel, S. Kaufman, U. D...   \n4               2        1                         Deaffy & R.A. Smith-Diesel   \n...           ...      ...                                                ...   \n3498            2       24                                               None   \n3499            2       24                                     Franz Schubert   \n3500            2       24                                 Claudio Monteverdi   \n3501            2       24                            Wolfgang Amadeus Mozart   \n3502            2       10                                       Philip Glass   \n\n      Milliseconds     Bytes  UnitPrice  \n0           343719  11170334       0.99  \n1           342562   5510424       0.99  \n2           230619   3990994       0.99  \n3           252051   4331779       0.99  \n4           375418   6290521       0.99  \n...            ...       ...        ...  \n3498        286741   4718950       0.99  \n3499        139200   2283131       0.99  \n3500         66639   1189062       0.99  \n3501        221331   3665114       0.99  \n3502        206005   3305164       0.99  \n\n[3503 rows x 9 columns]",
      "text/html": "<div>\n<style scoped>\n    .dataframe tbody tr th:only-of-type {\n        vertical-align: middle;\n    }\n\n    .dataframe tbody tr th {\n        vertical-align: top;\n    }\n\n    .dataframe thead th {\n        text-align: right;\n    }\n</style>\n<table border=\"1\" class=\"dataframe\">\n  <thead>\n    <tr style=\"text-align: right;\">\n      <th></th>\n      <th>TrackId</th>\n      <th>Name</th>\n      <th>AlbumId</th>\n      <th>MediaTypeId</th>\n      <th>GenreId</th>\n      <th>Composer</th>\n      <th>Milliseconds</th>\n      <th>Bytes</th>\n      <th>UnitPrice</th>\n    </tr>\n  </thead>\n  <tbody>\n    <tr>\n      <td>0</td>\n      <td>1</td>\n      <td>For Those About To Rock (We Salute You)</td>\n      <td>1</td>\n      <td>1</td>\n      <td>1</td>\n      <td>Angus Young, Malcolm Young, Brian Johnson</td>\n      <td>343719</td>\n      <td>11170334</td>\n      <td>0.99</td>\n    </tr>\n    <tr>\n      <td>1</td>\n      <td>2</td>\n      <td>Balls to the Wall</td>\n      <td>2</td>\n      <td>2</td>\n      <td>1</td>\n      <td>None</td>\n      <td>342562</td>\n      <td>5510424</td>\n      <td>0.99</td>\n    </tr>\n    <tr>\n      <td>2</td>\n      <td>3</td>\n      <td>Fast As a Shark</td>\n      <td>3</td>\n      <td>2</td>\n      <td>1</td>\n      <td>F. Baltes, S. Kaufman, U. Dirkscneider &amp; W. Ho...</td>\n      <td>230619</td>\n      <td>3990994</td>\n      <td>0.99</td>\n    </tr>\n    <tr>\n      <td>3</td>\n      <td>4</td>\n      <td>Restless and Wild</td>\n      <td>3</td>\n      <td>2</td>\n      <td>1</td>\n      <td>F. Baltes, R.A. Smith-Diesel, S. Kaufman, U. D...</td>\n      <td>252051</td>\n      <td>4331779</td>\n      <td>0.99</td>\n    </tr>\n    <tr>\n      <td>4</td>\n      <td>5</td>\n      <td>Princess of the Dawn</td>\n      <td>3</td>\n      <td>2</td>\n      <td>1</td>\n      <td>Deaffy &amp; R.A. Smith-Diesel</td>\n      <td>375418</td>\n      <td>6290521</td>\n      <td>0.99</td>\n    </tr>\n    <tr>\n      <td>...</td>\n      <td>...</td>\n      <td>...</td>\n      <td>...</td>\n      <td>...</td>\n      <td>...</td>\n      <td>...</td>\n      <td>...</td>\n      <td>...</td>\n      <td>...</td>\n    </tr>\n    <tr>\n      <td>3498</td>\n      <td>3499</td>\n      <td>Pini Di Roma (Pinien Von Rom) \\ I Pini Della V...</td>\n      <td>343</td>\n      <td>2</td>\n      <td>24</td>\n      <td>None</td>\n      <td>286741</td>\n      <td>4718950</td>\n      <td>0.99</td>\n    </tr>\n    <tr>\n      <td>3499</td>\n      <td>3500</td>\n      <td>String Quartet No. 12 in C Minor, D. 703 \"Quar...</td>\n      <td>344</td>\n      <td>2</td>\n      <td>24</td>\n      <td>Franz Schubert</td>\n      <td>139200</td>\n      <td>2283131</td>\n      <td>0.99</td>\n    </tr>\n    <tr>\n      <td>3500</td>\n      <td>3501</td>\n      <td>L'orfeo, Act 3, Sinfonia (Orchestra)</td>\n      <td>345</td>\n      <td>2</td>\n      <td>24</td>\n      <td>Claudio Monteverdi</td>\n      <td>66639</td>\n      <td>1189062</td>\n      <td>0.99</td>\n    </tr>\n    <tr>\n      <td>3501</td>\n      <td>3502</td>\n      <td>Quintet for Horn, Violin, 2 Violas, and Cello ...</td>\n      <td>346</td>\n      <td>2</td>\n      <td>24</td>\n      <td>Wolfgang Amadeus Mozart</td>\n      <td>221331</td>\n      <td>3665114</td>\n      <td>0.99</td>\n    </tr>\n    <tr>\n      <td>3502</td>\n      <td>3503</td>\n      <td>Koyaanisqatsi</td>\n      <td>347</td>\n      <td>2</td>\n      <td>10</td>\n      <td>Philip Glass</td>\n      <td>206005</td>\n      <td>3305164</td>\n      <td>0.99</td>\n    </tr>\n  </tbody>\n</table>\n<p>3503 rows × 9 columns</p>\n</div>"
     },
     "metadata": {},
     "execution_count": 55
    }
   ],
   "source": [
    "query = '''\n",
    "SELECT * \n",
    "FROM tracks\n",
    "'''\n",
    "\n",
    "sql_query(query)"
   ]
  },
  {
   "cell_type": "code",
   "execution_count": 56,
   "metadata": {},
   "outputs": [
    {
     "output_type": "execute_result",
     "data": {
      "text/plain": "   Precio máximo\n0           1.99",
      "text/html": "<div>\n<style scoped>\n    .dataframe tbody tr th:only-of-type {\n        vertical-align: middle;\n    }\n\n    .dataframe tbody tr th {\n        vertical-align: top;\n    }\n\n    .dataframe thead th {\n        text-align: right;\n    }\n</style>\n<table border=\"1\" class=\"dataframe\">\n  <thead>\n    <tr style=\"text-align: right;\">\n      <th></th>\n      <th>Precio máximo</th>\n    </tr>\n  </thead>\n  <tbody>\n    <tr>\n      <td>0</td>\n      <td>1.99</td>\n    </tr>\n  </tbody>\n</table>\n</div>"
     },
     "metadata": {},
     "execution_count": 56
    }
   ],
   "source": [
    "query = ''' \n",
    "SELECT MAX(UnitPrice) as \"Precio máximo\"\n",
    "FROM tracks\n",
    "\n",
    "'''\n",
    "\n",
    "sql_query(query)"
   ]
  },
  {
   "cell_type": "markdown",
   "metadata": {},
   "source": [
    "### 3.8 GROUP BY\n",
    "Es una sentencia muy útil para **calcular agregados en función de otro campo**. Por ejemplo, para calcular el total del precio unitario en función del género\n"
   ]
  },
  {
   "cell_type": "code",
   "execution_count": 59,
   "metadata": {},
   "outputs": [
    {
     "output_type": "execute_result",
     "data": {
      "text/plain": "    GenreId  Tot Price\n0         1    1284.03\n1         2     128.70\n2         3     370.26\n3         4     328.68\n4         5      11.88\n5         6      80.19\n6         7     573.21\n7         8      57.42\n8         9      47.52\n9        10      42.57\n10       11      14.85\n11       12      23.76\n12       13      27.72\n13       14      60.39\n14       15      29.70\n15       16      27.72\n16       17      34.65\n17       18      25.87\n18       19     185.07\n19       20      51.74\n20       21     127.36\n21       22      33.83\n22       23      39.60\n23       24      73.26\n24       25       0.99",
      "text/html": "<div>\n<style scoped>\n    .dataframe tbody tr th:only-of-type {\n        vertical-align: middle;\n    }\n\n    .dataframe tbody tr th {\n        vertical-align: top;\n    }\n\n    .dataframe thead th {\n        text-align: right;\n    }\n</style>\n<table border=\"1\" class=\"dataframe\">\n  <thead>\n    <tr style=\"text-align: right;\">\n      <th></th>\n      <th>GenreId</th>\n      <th>Tot Price</th>\n    </tr>\n  </thead>\n  <tbody>\n    <tr>\n      <td>0</td>\n      <td>1</td>\n      <td>1284.03</td>\n    </tr>\n    <tr>\n      <td>1</td>\n      <td>2</td>\n      <td>128.70</td>\n    </tr>\n    <tr>\n      <td>2</td>\n      <td>3</td>\n      <td>370.26</td>\n    </tr>\n    <tr>\n      <td>3</td>\n      <td>4</td>\n      <td>328.68</td>\n    </tr>\n    <tr>\n      <td>4</td>\n      <td>5</td>\n      <td>11.88</td>\n    </tr>\n    <tr>\n      <td>5</td>\n      <td>6</td>\n      <td>80.19</td>\n    </tr>\n    <tr>\n      <td>6</td>\n      <td>7</td>\n      <td>573.21</td>\n    </tr>\n    <tr>\n      <td>7</td>\n      <td>8</td>\n      <td>57.42</td>\n    </tr>\n    <tr>\n      <td>8</td>\n      <td>9</td>\n      <td>47.52</td>\n    </tr>\n    <tr>\n      <td>9</td>\n      <td>10</td>\n      <td>42.57</td>\n    </tr>\n    <tr>\n      <td>10</td>\n      <td>11</td>\n      <td>14.85</td>\n    </tr>\n    <tr>\n      <td>11</td>\n      <td>12</td>\n      <td>23.76</td>\n    </tr>\n    <tr>\n      <td>12</td>\n      <td>13</td>\n      <td>27.72</td>\n    </tr>\n    <tr>\n      <td>13</td>\n      <td>14</td>\n      <td>60.39</td>\n    </tr>\n    <tr>\n      <td>14</td>\n      <td>15</td>\n      <td>29.70</td>\n    </tr>\n    <tr>\n      <td>15</td>\n      <td>16</td>\n      <td>27.72</td>\n    </tr>\n    <tr>\n      <td>16</td>\n      <td>17</td>\n      <td>34.65</td>\n    </tr>\n    <tr>\n      <td>17</td>\n      <td>18</td>\n      <td>25.87</td>\n    </tr>\n    <tr>\n      <td>18</td>\n      <td>19</td>\n      <td>185.07</td>\n    </tr>\n    <tr>\n      <td>19</td>\n      <td>20</td>\n      <td>51.74</td>\n    </tr>\n    <tr>\n      <td>20</td>\n      <td>21</td>\n      <td>127.36</td>\n    </tr>\n    <tr>\n      <td>21</td>\n      <td>22</td>\n      <td>33.83</td>\n    </tr>\n    <tr>\n      <td>22</td>\n      <td>23</td>\n      <td>39.60</td>\n    </tr>\n    <tr>\n      <td>23</td>\n      <td>24</td>\n      <td>73.26</td>\n    </tr>\n    <tr>\n      <td>24</td>\n      <td>25</td>\n      <td>0.99</td>\n    </tr>\n  </tbody>\n</table>\n</div>"
     },
     "metadata": {},
     "execution_count": 59
    }
   ],
   "source": [
    "query = '''\n",
    "SELECT genreid, SUM(UnitPrice) as \"Tot Price\"\n",
    "FROM tracks\n",
    "GROUP BY genreid\n",
    "'''\n",
    "\n",
    "sql_query(query)"
   ]
  },
  {
   "cell_type": "markdown",
   "metadata": {},
   "source": [
    "O calcular cuantas canciones hay por compositor"
   ]
  },
  {
   "cell_type": "code",
   "execution_count": 64,
   "metadata": {},
   "outputs": [
    {
     "output_type": "execute_result",
     "data": {
      "text/plain": "                                         Composer  Count(name)\n0                                            None          978\n1    A. F. Iommi, W. Ward, T. Butler, J. Osbourne            3\n2                                        A. Jamal            1\n3                A.Bouchard/J.Bouchard/S.Pearlman            1\n4                      A.Isbell/A.Jones/O.Redding            1\n..                                            ...          ...\n848                         jon lord/roger glover            2\n849                   lorenz hart/richard rodgers            1\n850                  orlando murden/ronald miller            1\n851                                    rod mckuen            1\n852                                  roger glover            7\n\n[853 rows x 2 columns]",
      "text/html": "<div>\n<style scoped>\n    .dataframe tbody tr th:only-of-type {\n        vertical-align: middle;\n    }\n\n    .dataframe tbody tr th {\n        vertical-align: top;\n    }\n\n    .dataframe thead th {\n        text-align: right;\n    }\n</style>\n<table border=\"1\" class=\"dataframe\">\n  <thead>\n    <tr style=\"text-align: right;\">\n      <th></th>\n      <th>Composer</th>\n      <th>Count(name)</th>\n    </tr>\n  </thead>\n  <tbody>\n    <tr>\n      <td>0</td>\n      <td>None</td>\n      <td>978</td>\n    </tr>\n    <tr>\n      <td>1</td>\n      <td>A. F. Iommi, W. Ward, T. Butler, J. Osbourne</td>\n      <td>3</td>\n    </tr>\n    <tr>\n      <td>2</td>\n      <td>A. Jamal</td>\n      <td>1</td>\n    </tr>\n    <tr>\n      <td>3</td>\n      <td>A.Bouchard/J.Bouchard/S.Pearlman</td>\n      <td>1</td>\n    </tr>\n    <tr>\n      <td>4</td>\n      <td>A.Isbell/A.Jones/O.Redding</td>\n      <td>1</td>\n    </tr>\n    <tr>\n      <td>...</td>\n      <td>...</td>\n      <td>...</td>\n    </tr>\n    <tr>\n      <td>848</td>\n      <td>jon lord/roger glover</td>\n      <td>2</td>\n    </tr>\n    <tr>\n      <td>849</td>\n      <td>lorenz hart/richard rodgers</td>\n      <td>1</td>\n    </tr>\n    <tr>\n      <td>850</td>\n      <td>orlando murden/ronald miller</td>\n      <td>1</td>\n    </tr>\n    <tr>\n      <td>851</td>\n      <td>rod mckuen</td>\n      <td>1</td>\n    </tr>\n    <tr>\n      <td>852</td>\n      <td>roger glover</td>\n      <td>7</td>\n    </tr>\n  </tbody>\n</table>\n<p>853 rows × 2 columns</p>\n</div>"
     },
     "metadata": {},
     "execution_count": 64
    }
   ],
   "source": [
    "query = '''\n",
    "SELECT composer, Count(name)\n",
    "FROM tracks\n",
    "GROUP BY composer\n",
    "'''\n",
    "\n",
    "sql_query(query)"
   ]
  },
  {
   "cell_type": "code",
   "execution_count": 78,
   "metadata": {},
   "outputs": [
    {
     "output_type": "execute_result",
     "data": {
      "text/plain": "                                                  Name Composer\n0                                    Balls to the Wall     None\n1                                           Desafinado     None\n2                                    Garota De Ipanema     None\n3                Samba De Uma Nota Só (One Note Samba)     None\n4                                    Por Causa De Você     None\n..                                                 ...      ...\n973                                           Slowness     None\n974  A Midsummer Night's Dream, Op.61 Incidental Mu...     None\n975    Étude 1, In C Major - Preludio (Presto) - Liszt     None\n976                                    Erlkonig, D.328     None\n977  Pini Di Roma (Pinien Von Rom) \\ I Pini Della V...     None\n\n[978 rows x 2 columns]",
      "text/html": "<div>\n<style scoped>\n    .dataframe tbody tr th:only-of-type {\n        vertical-align: middle;\n    }\n\n    .dataframe tbody tr th {\n        vertical-align: top;\n    }\n\n    .dataframe thead th {\n        text-align: right;\n    }\n</style>\n<table border=\"1\" class=\"dataframe\">\n  <thead>\n    <tr style=\"text-align: right;\">\n      <th></th>\n      <th>Name</th>\n      <th>Composer</th>\n    </tr>\n  </thead>\n  <tbody>\n    <tr>\n      <td>0</td>\n      <td>Balls to the Wall</td>\n      <td>None</td>\n    </tr>\n    <tr>\n      <td>1</td>\n      <td>Desafinado</td>\n      <td>None</td>\n    </tr>\n    <tr>\n      <td>2</td>\n      <td>Garota De Ipanema</td>\n      <td>None</td>\n    </tr>\n    <tr>\n      <td>3</td>\n      <td>Samba De Uma Nota Só (One Note Samba)</td>\n      <td>None</td>\n    </tr>\n    <tr>\n      <td>4</td>\n      <td>Por Causa De Você</td>\n      <td>None</td>\n    </tr>\n    <tr>\n      <td>...</td>\n      <td>...</td>\n      <td>...</td>\n    </tr>\n    <tr>\n      <td>973</td>\n      <td>Slowness</td>\n      <td>None</td>\n    </tr>\n    <tr>\n      <td>974</td>\n      <td>A Midsummer Night's Dream, Op.61 Incidental Mu...</td>\n      <td>None</td>\n    </tr>\n    <tr>\n      <td>975</td>\n      <td>Étude 1, In C Major - Preludio (Presto) - Liszt</td>\n      <td>None</td>\n    </tr>\n    <tr>\n      <td>976</td>\n      <td>Erlkonig, D.328</td>\n      <td>None</td>\n    </tr>\n    <tr>\n      <td>977</td>\n      <td>Pini Di Roma (Pinien Von Rom) \\ I Pini Della V...</td>\n      <td>None</td>\n    </tr>\n  </tbody>\n</table>\n<p>978 rows × 2 columns</p>\n</div>"
     },
     "metadata": {},
     "execution_count": 78
    }
   ],
   "source": [
    "query = '''\n",
    "SELECT name, composer\n",
    "FROM tracks\n",
    "WHERE composer is null\n",
    "'''\n",
    "\n",
    "sql_query(query)"
   ]
  },
  {
   "cell_type": "markdown",
   "metadata": {},
   "source": [
    "### 3.9 JOIN\n",
    "Hasta ahora hemos hecho queries sobre una única tabla, pero **¿y si queremos juntar datos de varias tablas?** Para eso están los `JOIN`s. Para ello **necesitas tener uno o varios campos comunes entre ambas tablas, que denominan CLAVES**.\n",
    "\n",
    "**¿Cuándo usarlos?** Por ejemplo, si tenemos una tabla con un conjunto de clientes y necesitamos añadirles campos nuevos, tendremos que acudir a otras tablas donde esté ese identificador de cliente y aplicar un `JOIN`. Es lo que se conoce como *pegar campos* a otra tabla.\n",
    "\n",
    "O imagina que tienes una tabla con todos tus pedidos, con muchos campos(ciudad, dirección, cliente...) y en otra tabla únicamente los números de pedido que no se llegaron a entregar. Si quieres filtrar dentro de tu tabla total de pedidos los que no se llegaron a entregar, podrías aplicar un `INNER JOIN` de manera que te quedes con lo común en ambas tablas, siendo tu clave el identificativo del pedido..\n",
    "\n",
    "Existen varios tipos de JOINs:\n",
    "\n",
    "![imagen](../../imagenes/joins.jpg)"
   ]
  },
  {
   "cell_type": "code",
   "execution_count": 79,
   "metadata": {},
   "outputs": [
    {
     "output_type": "execute_result",
     "data": {
      "text/plain": "      GenreId\n0           1\n1           1\n2           1\n3           1\n4           1\n...       ...\n3498       24\n3499       24\n3500       24\n3501       24\n3502       25\n\n[3503 rows x 1 columns]",
      "text/html": "<div>\n<style scoped>\n    .dataframe tbody tr th:only-of-type {\n        vertical-align: middle;\n    }\n\n    .dataframe tbody tr th {\n        vertical-align: top;\n    }\n\n    .dataframe thead th {\n        text-align: right;\n    }\n</style>\n<table border=\"1\" class=\"dataframe\">\n  <thead>\n    <tr style=\"text-align: right;\">\n      <th></th>\n      <th>GenreId</th>\n    </tr>\n  </thead>\n  <tbody>\n    <tr>\n      <td>0</td>\n      <td>1</td>\n    </tr>\n    <tr>\n      <td>1</td>\n      <td>1</td>\n    </tr>\n    <tr>\n      <td>2</td>\n      <td>1</td>\n    </tr>\n    <tr>\n      <td>3</td>\n      <td>1</td>\n    </tr>\n    <tr>\n      <td>4</td>\n      <td>1</td>\n    </tr>\n    <tr>\n      <td>...</td>\n      <td>...</td>\n    </tr>\n    <tr>\n      <td>3498</td>\n      <td>24</td>\n    </tr>\n    <tr>\n      <td>3499</td>\n      <td>24</td>\n    </tr>\n    <tr>\n      <td>3500</td>\n      <td>24</td>\n    </tr>\n    <tr>\n      <td>3501</td>\n      <td>24</td>\n    </tr>\n    <tr>\n      <td>3502</td>\n      <td>25</td>\n    </tr>\n  </tbody>\n</table>\n<p>3503 rows × 1 columns</p>\n</div>"
     },
     "metadata": {},
     "execution_count": 79
    }
   ],
   "source": [
    "query = '''\n",
    "SELECT genreid\n",
    "FROM tracks\n",
    "'''\n",
    "\n",
    "sql_query(query)"
   ]
  },
  {
   "cell_type": "code",
   "execution_count": null,
   "metadata": {},
   "outputs": [],
   "source": []
  },
  {
   "cell_type": "code",
   "execution_count": 83,
   "metadata": {},
   "outputs": [
    {
     "output_type": "execute_result",
     "data": {
      "text/plain": "    GenreId                Name\n0         1                Rock\n1         2                Jazz\n2         3               Metal\n3         4  Alternative & Punk\n4         5       Rock And Roll\n5         6               Blues\n6         7               Latin\n7         8              Reggae\n8         9                 Pop\n9        10          Soundtrack\n10       11          Bossa Nova\n11       12      Easy Listening\n12       13         Heavy Metal\n13       14            R&B/Soul\n14       15   Electronica/Dance\n15       16               World\n16       17         Hip Hop/Rap\n17       18     Science Fiction\n18       19            TV Shows\n19       20    Sci Fi & Fantasy\n20       21               Drama\n21       22              Comedy\n22       23         Alternative\n23       24           Classical\n24       25               Opera",
      "text/html": "<div>\n<style scoped>\n    .dataframe tbody tr th:only-of-type {\n        vertical-align: middle;\n    }\n\n    .dataframe tbody tr th {\n        vertical-align: top;\n    }\n\n    .dataframe thead th {\n        text-align: right;\n    }\n</style>\n<table border=\"1\" class=\"dataframe\">\n  <thead>\n    <tr style=\"text-align: right;\">\n      <th></th>\n      <th>GenreId</th>\n      <th>Name</th>\n    </tr>\n  </thead>\n  <tbody>\n    <tr>\n      <td>0</td>\n      <td>1</td>\n      <td>Rock</td>\n    </tr>\n    <tr>\n      <td>1</td>\n      <td>2</td>\n      <td>Jazz</td>\n    </tr>\n    <tr>\n      <td>2</td>\n      <td>3</td>\n      <td>Metal</td>\n    </tr>\n    <tr>\n      <td>3</td>\n      <td>4</td>\n      <td>Alternative &amp; Punk</td>\n    </tr>\n    <tr>\n      <td>4</td>\n      <td>5</td>\n      <td>Rock And Roll</td>\n    </tr>\n    <tr>\n      <td>5</td>\n      <td>6</td>\n      <td>Blues</td>\n    </tr>\n    <tr>\n      <td>6</td>\n      <td>7</td>\n      <td>Latin</td>\n    </tr>\n    <tr>\n      <td>7</td>\n      <td>8</td>\n      <td>Reggae</td>\n    </tr>\n    <tr>\n      <td>8</td>\n      <td>9</td>\n      <td>Pop</td>\n    </tr>\n    <tr>\n      <td>9</td>\n      <td>10</td>\n      <td>Soundtrack</td>\n    </tr>\n    <tr>\n      <td>10</td>\n      <td>11</td>\n      <td>Bossa Nova</td>\n    </tr>\n    <tr>\n      <td>11</td>\n      <td>12</td>\n      <td>Easy Listening</td>\n    </tr>\n    <tr>\n      <td>12</td>\n      <td>13</td>\n      <td>Heavy Metal</td>\n    </tr>\n    <tr>\n      <td>13</td>\n      <td>14</td>\n      <td>R&amp;B/Soul</td>\n    </tr>\n    <tr>\n      <td>14</td>\n      <td>15</td>\n      <td>Electronica/Dance</td>\n    </tr>\n    <tr>\n      <td>15</td>\n      <td>16</td>\n      <td>World</td>\n    </tr>\n    <tr>\n      <td>16</td>\n      <td>17</td>\n      <td>Hip Hop/Rap</td>\n    </tr>\n    <tr>\n      <td>17</td>\n      <td>18</td>\n      <td>Science Fiction</td>\n    </tr>\n    <tr>\n      <td>18</td>\n      <td>19</td>\n      <td>TV Shows</td>\n    </tr>\n    <tr>\n      <td>19</td>\n      <td>20</td>\n      <td>Sci Fi &amp; Fantasy</td>\n    </tr>\n    <tr>\n      <td>20</td>\n      <td>21</td>\n      <td>Drama</td>\n    </tr>\n    <tr>\n      <td>21</td>\n      <td>22</td>\n      <td>Comedy</td>\n    </tr>\n    <tr>\n      <td>22</td>\n      <td>23</td>\n      <td>Alternative</td>\n    </tr>\n    <tr>\n      <td>23</td>\n      <td>24</td>\n      <td>Classical</td>\n    </tr>\n    <tr>\n      <td>24</td>\n      <td>25</td>\n      <td>Opera</td>\n    </tr>\n  </tbody>\n</table>\n</div>"
     },
     "metadata": {},
     "execution_count": 83
    }
   ],
   "source": [
    "query = '''\n",
    "SELECT * \n",
    "FROM genres\n",
    "'''\n",
    "\n",
    "sql_query(query)"
   ]
  },
  {
   "cell_type": "code",
   "execution_count": 88,
   "metadata": {},
   "outputs": [
    {
     "output_type": "execute_result",
     "data": {
      "text/plain": "                                                   Name  GenreId       Name\n0               For Those About To Rock (We Salute You)        1       Rock\n1                                     Balls to the Wall        1       Rock\n2                                       Fast As a Shark        1       Rock\n3                                     Restless and Wild        1       Rock\n4                                  Princess of the Dawn        1       Rock\n...                                                 ...      ...        ...\n3498  Pini Di Roma (Pinien Von Rom) \\ I Pini Della V...       24  Classical\n3499  String Quartet No. 12 in C Minor, D. 703 \"Quar...       24  Classical\n3500               L'orfeo, Act 3, Sinfonia (Orchestra)       24  Classical\n3501  Quintet for Horn, Violin, 2 Violas, and Cello ...       24  Classical\n3502  Die Zauberflöte, K.620: \"Der Hölle Rache Kocht...       25      Opera\n\n[3503 rows x 3 columns]",
      "text/html": "<div>\n<style scoped>\n    .dataframe tbody tr th:only-of-type {\n        vertical-align: middle;\n    }\n\n    .dataframe tbody tr th {\n        vertical-align: top;\n    }\n\n    .dataframe thead th {\n        text-align: right;\n    }\n</style>\n<table border=\"1\" class=\"dataframe\">\n  <thead>\n    <tr style=\"text-align: right;\">\n      <th></th>\n      <th>Name</th>\n      <th>GenreId</th>\n      <th>Name</th>\n    </tr>\n  </thead>\n  <tbody>\n    <tr>\n      <td>0</td>\n      <td>For Those About To Rock (We Salute You)</td>\n      <td>1</td>\n      <td>Rock</td>\n    </tr>\n    <tr>\n      <td>1</td>\n      <td>Balls to the Wall</td>\n      <td>1</td>\n      <td>Rock</td>\n    </tr>\n    <tr>\n      <td>2</td>\n      <td>Fast As a Shark</td>\n      <td>1</td>\n      <td>Rock</td>\n    </tr>\n    <tr>\n      <td>3</td>\n      <td>Restless and Wild</td>\n      <td>1</td>\n      <td>Rock</td>\n    </tr>\n    <tr>\n      <td>4</td>\n      <td>Princess of the Dawn</td>\n      <td>1</td>\n      <td>Rock</td>\n    </tr>\n    <tr>\n      <td>...</td>\n      <td>...</td>\n      <td>...</td>\n      <td>...</td>\n    </tr>\n    <tr>\n      <td>3498</td>\n      <td>Pini Di Roma (Pinien Von Rom) \\ I Pini Della V...</td>\n      <td>24</td>\n      <td>Classical</td>\n    </tr>\n    <tr>\n      <td>3499</td>\n      <td>String Quartet No. 12 in C Minor, D. 703 \"Quar...</td>\n      <td>24</td>\n      <td>Classical</td>\n    </tr>\n    <tr>\n      <td>3500</td>\n      <td>L'orfeo, Act 3, Sinfonia (Orchestra)</td>\n      <td>24</td>\n      <td>Classical</td>\n    </tr>\n    <tr>\n      <td>3501</td>\n      <td>Quintet for Horn, Violin, 2 Violas, and Cello ...</td>\n      <td>24</td>\n      <td>Classical</td>\n    </tr>\n    <tr>\n      <td>3502</td>\n      <td>Die Zauberflöte, K.620: \"Der Hölle Rache Kocht...</td>\n      <td>25</td>\n      <td>Opera</td>\n    </tr>\n  </tbody>\n</table>\n<p>3503 rows × 3 columns</p>\n</div>"
     },
     "metadata": {},
     "execution_count": 88
    }
   ],
   "source": [
    "query = '''\n",
    "SELECT t.name, t.genreid ,g.name\n",
    "FROM tracks t LEFT OUTER JOIN genres g\n",
    "ON  t.genreid = g.genreid\n",
    "ORDER BY t.genreid\n",
    "'''\n",
    "\n",
    "sql_query(query)"
   ]
  },
  {
   "cell_type": "code",
   "execution_count": 92,
   "metadata": {},
   "outputs": [
    {
     "output_type": "execute_result",
     "data": {
      "text/plain": "      TrackId                                               Name  AlbumId  \\\n0           1            For Those About To Rock (We Salute You)        1   \n1           2                                  Balls to the Wall        2   \n2           3                                    Fast As a Shark        3   \n3           4                                  Restless and Wild        3   \n4           5                               Princess of the Dawn        3   \n...       ...                                                ...      ...   \n3498     3499  Pini Di Roma (Pinien Von Rom) \\ I Pini Della V...      343   \n3499     3500  String Quartet No. 12 in C Minor, D. 703 \"Quar...      344   \n3500     3501               L'orfeo, Act 3, Sinfonia (Orchestra)      345   \n3501     3502  Quintet for Horn, Violin, 2 Violas, and Cello ...      346   \n3502     3503                                      Koyaanisqatsi      347   \n\n                                                  Title  \n0                 For Those About To Rock We Salute You  \n1                                     Balls to the Wall  \n2                                     Restless and Wild  \n3                                     Restless and Wild  \n4                                     Restless and Wild  \n...                                                 ...  \n3498                             Respighi:Pines of Rome  \n3499  Schubert: The Late String Quartets & String Qu...  \n3500                                Monteverdi: L'Orfeo  \n3501                              Mozart: Chamber Music  \n3502  Koyaanisqatsi (Soundtrack from the Motion Pict...  \n\n[3503 rows x 4 columns]",
      "text/html": "<div>\n<style scoped>\n    .dataframe tbody tr th:only-of-type {\n        vertical-align: middle;\n    }\n\n    .dataframe tbody tr th {\n        vertical-align: top;\n    }\n\n    .dataframe thead th {\n        text-align: right;\n    }\n</style>\n<table border=\"1\" class=\"dataframe\">\n  <thead>\n    <tr style=\"text-align: right;\">\n      <th></th>\n      <th>TrackId</th>\n      <th>Name</th>\n      <th>AlbumId</th>\n      <th>Title</th>\n    </tr>\n  </thead>\n  <tbody>\n    <tr>\n      <td>0</td>\n      <td>1</td>\n      <td>For Those About To Rock (We Salute You)</td>\n      <td>1</td>\n      <td>For Those About To Rock We Salute You</td>\n    </tr>\n    <tr>\n      <td>1</td>\n      <td>2</td>\n      <td>Balls to the Wall</td>\n      <td>2</td>\n      <td>Balls to the Wall</td>\n    </tr>\n    <tr>\n      <td>2</td>\n      <td>3</td>\n      <td>Fast As a Shark</td>\n      <td>3</td>\n      <td>Restless and Wild</td>\n    </tr>\n    <tr>\n      <td>3</td>\n      <td>4</td>\n      <td>Restless and Wild</td>\n      <td>3</td>\n      <td>Restless and Wild</td>\n    </tr>\n    <tr>\n      <td>4</td>\n      <td>5</td>\n      <td>Princess of the Dawn</td>\n      <td>3</td>\n      <td>Restless and Wild</td>\n    </tr>\n    <tr>\n      <td>...</td>\n      <td>...</td>\n      <td>...</td>\n      <td>...</td>\n      <td>...</td>\n    </tr>\n    <tr>\n      <td>3498</td>\n      <td>3499</td>\n      <td>Pini Di Roma (Pinien Von Rom) \\ I Pini Della V...</td>\n      <td>343</td>\n      <td>Respighi:Pines of Rome</td>\n    </tr>\n    <tr>\n      <td>3499</td>\n      <td>3500</td>\n      <td>String Quartet No. 12 in C Minor, D. 703 \"Quar...</td>\n      <td>344</td>\n      <td>Schubert: The Late String Quartets &amp; String Qu...</td>\n    </tr>\n    <tr>\n      <td>3500</td>\n      <td>3501</td>\n      <td>L'orfeo, Act 3, Sinfonia (Orchestra)</td>\n      <td>345</td>\n      <td>Monteverdi: L'Orfeo</td>\n    </tr>\n    <tr>\n      <td>3501</td>\n      <td>3502</td>\n      <td>Quintet for Horn, Violin, 2 Violas, and Cello ...</td>\n      <td>346</td>\n      <td>Mozart: Chamber Music</td>\n    </tr>\n    <tr>\n      <td>3502</td>\n      <td>3503</td>\n      <td>Koyaanisqatsi</td>\n      <td>347</td>\n      <td>Koyaanisqatsi (Soundtrack from the Motion Pict...</td>\n    </tr>\n  </tbody>\n</table>\n<p>3503 rows × 4 columns</p>\n</div>"
     },
     "metadata": {},
     "execution_count": 92
    }
   ],
   "source": [
    "query = ''' \n",
    "SELECT t.trackid, t.name, t.albumid, a.title\n",
    "FROM tracks t LEFT JOIN albums a\n",
    "ON a.albumid = t.albumid\n",
    "'''\n",
    "sql_query(query)"
   ]
  },
  {
   "cell_type": "markdown",
   "metadata": {},
   "source": [
    "### 3.10 VIEW y DROP\n",
    "En ocasiones resulta útil **dividir nuestras queries en varios pasos**, y para ello utilizamos la sentencia `VIEW`. Con `VIEW` creamos una *vista* de una tabla, es decir, obtenemos una tabla temporal que usaremos después.\n",
    "\n",
    "Estas vistas se guardarán en el archivo *.db*, por lo que tendrás que tener cuidado de no almacenar muchas tablas poco útiles.\n",
    "\n",
    "Primero, veamos cómo acceder a todas las vistas de la base de datos"
   ]
  },
  {
   "cell_type": "code",
   "execution_count": 93,
   "metadata": {
    "tags": []
   },
   "outputs": [
    {
     "output_type": "stream",
     "name": "stdout",
     "text": "BRIAN\n"
    }
   ],
   "source": [
    "res = crsr.execute(\"SELECT name FROM sqlite_master WHERE type='view'\")\n",
    "for name in res:\n",
    "    print(name[0])"
   ]
  },
  {
   "cell_type": "code",
   "execution_count": 112,
   "metadata": {
    "tags": []
   },
   "outputs": [
    {
     "output_type": "stream",
     "name": "stdout",
     "text": "BRIAN\n"
    }
   ],
   "source": [
    "res = crsr.execute(\"SELECT name FROM sqlite_master WHERE type='view'\")\n",
    "for name in res:\n",
    "    print(name[0])"
   ]
  },
  {
   "cell_type": "markdown",
   "metadata": {},
   "source": [
    "Creamos dos vistas nuevas"
   ]
  },
  {
   "cell_type": "code",
   "execution_count": 113,
   "metadata": {},
   "outputs": [
    {
     "output_type": "execute_result",
     "data": {
      "text/plain": "<sqlite3.Cursor at 0x2341a128e30>"
     },
     "metadata": {},
     "execution_count": 113
    }
   ],
   "source": [
    "query1 = ''' \n",
    "CREATE VIEW name_composer AS\n",
    "SELECT name, composer, genreid\n",
    "FROM tracks\n",
    "'''\n",
    "\n",
    "crsr.execute(query1)"
   ]
  },
  {
   "cell_type": "code",
   "execution_count": 114,
   "metadata": {},
   "outputs": [
    {
     "output_type": "execute_result",
     "data": {
      "text/plain": "<sqlite3.Cursor at 0x2341a128e30>"
     },
     "metadata": {},
     "execution_count": 114
    }
   ],
   "source": [
    "query2 = ''' \n",
    "CREATE VIEW name_genres AS\n",
    "SELECT genreid, name\n",
    "FROM genres \n",
    "'''\n",
    "\n",
    "crsr.execute(query2)"
   ]
  },
  {
   "cell_type": "markdown",
   "metadata": {},
   "source": [
    "Comprueba que ahora tienes vistas nuevas en tu base de datos"
   ]
  },
  {
   "cell_type": "code",
   "execution_count": 115,
   "metadata": {
    "tags": []
   },
   "outputs": [
    {
     "output_type": "stream",
     "name": "stdout",
     "text": "BRIAN\nname_composer\nname_genres\n"
    }
   ],
   "source": [
    "res = crsr.execute(\"SELECT name FROM sqlite_master WHERE type='view';\")\n",
    "for name in res:\n",
    "    print(name[0])"
   ]
  },
  {
   "cell_type": "code",
   "execution_count": null,
   "metadata": {},
   "outputs": [],
   "source": []
  },
  {
   "cell_type": "markdown",
   "metadata": {},
   "source": [
    "Puedes borrar las vistas mediante `DROP VIEW`. Prueba a borrarlas, comprueba que ya no existen y vuelve a crearlas.\n",
    "\n",
    "**NOTA**: `DROP` también lo podrás usar como `DROP TABLE`. Nos cargaríamos una tabla entera de la base de datos y ya no sería recuperable, el *ctrl + Z* no te va a salvar. así que mucho cuidado con esta sentencia."
   ]
  },
  {
   "cell_type": "code",
   "execution_count": 111,
   "metadata": {},
   "outputs": [
    {
     "output_type": "execute_result",
     "data": {
      "text/plain": "<sqlite3.Cursor at 0x2341a128e30>"
     },
     "metadata": {},
     "execution_count": 111
    }
   ],
   "source": [
    "query1 ='''\n",
    "DROP VIEW IF EXISTS name_composer\n",
    "'''\n",
    "\n",
    "query2 ='''\n",
    "DROP VIEW IF EXISTS name_genres\n",
    "'''\n",
    "\n",
    "crsr.execute(query1)\n",
    "crsr.execute(query2)"
   ]
  },
  {
   "cell_type": "markdown",
   "metadata": {},
   "source": [
    "Ahora que ya tenemos nuestras vistas, vamos a realizar otra operación con ambas tablas. En este caso, aplicamos un `JOIN`\n",
    "\n",
    "Fíjate que la salida de esta query es la misma que la del primer `JOIN` de este Notebook, pero en este caso, hecho en dos pasos."
   ]
  },
  {
   "cell_type": "code",
   "execution_count": 117,
   "metadata": {},
   "outputs": [
    {
     "output_type": "execute_result",
     "data": {
      "text/plain": "                                                   Name  \\\n0               For Those About To Rock (We Salute You)   \n1                                     Balls to the Wall   \n2                                       Fast As a Shark   \n3                                     Restless and Wild   \n4                                  Princess of the Dawn   \n...                                                 ...   \n3498  Pini Di Roma (Pinien Von Rom) \\ I Pini Della V...   \n3499  String Quartet No. 12 in C Minor, D. 703 \"Quar...   \n3500               L'orfeo, Act 3, Sinfonia (Orchestra)   \n3501  Quintet for Horn, Violin, 2 Violas, and Cello ...   \n3502  Die Zauberflöte, K.620: \"Der Hölle Rache Kocht...   \n\n                                               Composer       Name  \n0             Angus Young, Malcolm Young, Brian Johnson       Rock  \n1                                                  None       Rock  \n2     F. Baltes, S. Kaufman, U. Dirkscneider & W. Ho...       Rock  \n3     F. Baltes, R.A. Smith-Diesel, S. Kaufman, U. D...       Rock  \n4                            Deaffy & R.A. Smith-Diesel       Rock  \n...                                                 ...        ...  \n3498                                               None  Classical  \n3499                                     Franz Schubert  Classical  \n3500                                 Claudio Monteverdi  Classical  \n3501                            Wolfgang Amadeus Mozart  Classical  \n3502                            Wolfgang Amadeus Mozart      Opera  \n\n[3503 rows x 3 columns]",
      "text/html": "<div>\n<style scoped>\n    .dataframe tbody tr th:only-of-type {\n        vertical-align: middle;\n    }\n\n    .dataframe tbody tr th {\n        vertical-align: top;\n    }\n\n    .dataframe thead th {\n        text-align: right;\n    }\n</style>\n<table border=\"1\" class=\"dataframe\">\n  <thead>\n    <tr style=\"text-align: right;\">\n      <th></th>\n      <th>Name</th>\n      <th>Composer</th>\n      <th>Name</th>\n    </tr>\n  </thead>\n  <tbody>\n    <tr>\n      <td>0</td>\n      <td>For Those About To Rock (We Salute You)</td>\n      <td>Angus Young, Malcolm Young, Brian Johnson</td>\n      <td>Rock</td>\n    </tr>\n    <tr>\n      <td>1</td>\n      <td>Balls to the Wall</td>\n      <td>None</td>\n      <td>Rock</td>\n    </tr>\n    <tr>\n      <td>2</td>\n      <td>Fast As a Shark</td>\n      <td>F. Baltes, S. Kaufman, U. Dirkscneider &amp; W. Ho...</td>\n      <td>Rock</td>\n    </tr>\n    <tr>\n      <td>3</td>\n      <td>Restless and Wild</td>\n      <td>F. Baltes, R.A. Smith-Diesel, S. Kaufman, U. D...</td>\n      <td>Rock</td>\n    </tr>\n    <tr>\n      <td>4</td>\n      <td>Princess of the Dawn</td>\n      <td>Deaffy &amp; R.A. Smith-Diesel</td>\n      <td>Rock</td>\n    </tr>\n    <tr>\n      <td>...</td>\n      <td>...</td>\n      <td>...</td>\n      <td>...</td>\n    </tr>\n    <tr>\n      <td>3498</td>\n      <td>Pini Di Roma (Pinien Von Rom) \\ I Pini Della V...</td>\n      <td>None</td>\n      <td>Classical</td>\n    </tr>\n    <tr>\n      <td>3499</td>\n      <td>String Quartet No. 12 in C Minor, D. 703 \"Quar...</td>\n      <td>Franz Schubert</td>\n      <td>Classical</td>\n    </tr>\n    <tr>\n      <td>3500</td>\n      <td>L'orfeo, Act 3, Sinfonia (Orchestra)</td>\n      <td>Claudio Monteverdi</td>\n      <td>Classical</td>\n    </tr>\n    <tr>\n      <td>3501</td>\n      <td>Quintet for Horn, Violin, 2 Violas, and Cello ...</td>\n      <td>Wolfgang Amadeus Mozart</td>\n      <td>Classical</td>\n    </tr>\n    <tr>\n      <td>3502</td>\n      <td>Die Zauberflöte, K.620: \"Der Hölle Rache Kocht...</td>\n      <td>Wolfgang Amadeus Mozart</td>\n      <td>Opera</td>\n    </tr>\n  </tbody>\n</table>\n<p>3503 rows × 3 columns</p>\n</div>"
     },
     "metadata": {},
     "execution_count": 117
    }
   ],
   "source": [
    "query = '''\n",
    "SELECT a.name, a.composer, b.name\n",
    "FROM  name_composer a INNER JOIN name_genres b\n",
    "ON a.genreid = b.genreid\n",
    "'''\n",
    "sql_query(query)"
   ]
  },
  {
   "cell_type": "markdown",
   "metadata": {},
   "source": [
    "## 4. Errores"
   ]
  },
  {
   "cell_type": "markdown",
   "metadata": {},
   "source": [
    "<table align=\"left\">\n",
    " <tr><td width=\"80\"><img src=\"../../imagenes/error.png\" style=\"width:auto;height:auto\"></td>\n",
    "     <td style=\"text-align:left\">\n",
    "         <h3>ERRORES Acceso a base de datos que no existe</h3>\n",
    "         \n",
    " </td></tr>\n",
    "</table>"
   ]
  },
  {
   "cell_type": "markdown",
   "metadata": {},
   "source": [
    "¡Cuidado! No da error, sino que crea una base de datos vacía"
   ]
  },
  {
   "cell_type": "code",
   "execution_count": 118,
   "metadata": {},
   "outputs": [],
   "source": [
    "conecction = sqlite3.connect(\"aaa.db\")\n",
    "crsr = conecction.cursor()"
   ]
  },
  {
   "cell_type": "markdown",
   "metadata": {},
   "source": [
    "<table align=\"left\">\n",
    " <tr><td width=\"80\"><img src=\"../../imagenes/error.png\" style=\"width:auto;height:auto\"></td>\n",
    "     <td style=\"text-align:left\">\n",
    "         <h3>ERRORES en la query</h3>\n",
    "         \n",
    " </td></tr>\n",
    "</table>"
   ]
  },
  {
   "cell_type": "markdown",
   "metadata": {},
   "source": [
    "Los errores son todos del mismo tipo: `OperationalError`. Esto nos indica que lo da el propio SQL, no es un error del intérprete de Python como tal. Ahora bien, aunque lo de SQL, devuelve un descriptivo con el tipo de error, que está bastante bien para ver por donde van los tiros."
   ]
  },
  {
   "cell_type": "code",
   "execution_count": 119,
   "metadata": {},
   "outputs": [
    {
     "output_type": "error",
     "ename": "OperationalError",
     "evalue": "near \"SELEççççççççCT\": syntax error",
     "traceback": [
      "\u001b[1;31m---------------------------------------------------------------------------\u001b[0m",
      "\u001b[1;31mOperationalError\u001b[0m                          Traceback (most recent call last)",
      "\u001b[1;32m<ipython-input-119-7008f5add612>\u001b[0m in \u001b[0;36m<module>\u001b[1;34m\u001b[0m\n\u001b[0;32m      4\u001b[0m '''\n\u001b[0;32m      5\u001b[0m \u001b[1;33m\u001b[0m\u001b[0m\n\u001b[1;32m----> 6\u001b[1;33m \u001b[0msql_query\u001b[0m\u001b[1;33m(\u001b[0m\u001b[0mquery\u001b[0m\u001b[1;33m)\u001b[0m\u001b[1;33m\u001b[0m\u001b[1;33m\u001b[0m\u001b[0m\n\u001b[0m",
      "\u001b[1;32m<ipython-input-29-6ed39f56676d>\u001b[0m in \u001b[0;36msql_query\u001b[1;34m(query)\u001b[0m\n\u001b[0;32m      3\u001b[0m \u001b[1;33m\u001b[0m\u001b[0m\n\u001b[0;32m      4\u001b[0m     \u001b[1;31m# Ejecuta la query\u001b[0m\u001b[1;33m\u001b[0m\u001b[1;33m\u001b[0m\u001b[1;33m\u001b[0m\u001b[0m\n\u001b[1;32m----> 5\u001b[1;33m     \u001b[0mcrsr\u001b[0m\u001b[1;33m.\u001b[0m\u001b[0mexecute\u001b[0m\u001b[1;33m(\u001b[0m\u001b[0mquery\u001b[0m\u001b[1;33m)\u001b[0m\u001b[1;33m\u001b[0m\u001b[1;33m\u001b[0m\u001b[0m\n\u001b[0m\u001b[0;32m      6\u001b[0m \u001b[1;33m\u001b[0m\u001b[0m\n\u001b[0;32m      7\u001b[0m     \u001b[1;31m# Almacena los datos de la query\u001b[0m\u001b[1;33m\u001b[0m\u001b[1;33m\u001b[0m\u001b[1;33m\u001b[0m\u001b[0m\n",
      "\u001b[1;31mOperationalError\u001b[0m: near \"SELEççççççççCT\": syntax error"
     ]
    }
   ],
   "source": [
    "query = '''\n",
    "SELEççççççççCT * \n",
    "FROM tracks\n",
    "'''\n",
    "\n",
    "sql_query(query)"
   ]
  },
  {
   "cell_type": "code",
   "execution_count": 121,
   "metadata": {},
   "outputs": [
    {
     "output_type": "error",
     "ename": "OperationalError",
     "evalue": "no such table: tracksssssss",
     "traceback": [
      "\u001b[1;31m---------------------------------------------------------------------------\u001b[0m",
      "\u001b[1;31mOperationalError\u001b[0m                          Traceback (most recent call last)",
      "\u001b[1;32m<ipython-input-121-883acec4e3b5>\u001b[0m in \u001b[0;36m<module>\u001b[1;34m\u001b[0m\n\u001b[0;32m      4\u001b[0m '''\n\u001b[0;32m      5\u001b[0m \u001b[1;33m\u001b[0m\u001b[0m\n\u001b[1;32m----> 6\u001b[1;33m \u001b[0msql_query\u001b[0m\u001b[1;33m(\u001b[0m\u001b[0mquery\u001b[0m\u001b[1;33m)\u001b[0m\u001b[1;33m\u001b[0m\u001b[1;33m\u001b[0m\u001b[0m\n\u001b[0m",
      "\u001b[1;32m<ipython-input-29-6ed39f56676d>\u001b[0m in \u001b[0;36msql_query\u001b[1;34m(query)\u001b[0m\n\u001b[0;32m      3\u001b[0m \u001b[1;33m\u001b[0m\u001b[0m\n\u001b[0;32m      4\u001b[0m     \u001b[1;31m# Ejecuta la query\u001b[0m\u001b[1;33m\u001b[0m\u001b[1;33m\u001b[0m\u001b[1;33m\u001b[0m\u001b[0m\n\u001b[1;32m----> 5\u001b[1;33m     \u001b[0mcrsr\u001b[0m\u001b[1;33m.\u001b[0m\u001b[0mexecute\u001b[0m\u001b[1;33m(\u001b[0m\u001b[0mquery\u001b[0m\u001b[1;33m)\u001b[0m\u001b[1;33m\u001b[0m\u001b[1;33m\u001b[0m\u001b[0m\n\u001b[0m\u001b[0;32m      6\u001b[0m \u001b[1;33m\u001b[0m\u001b[0m\n\u001b[0;32m      7\u001b[0m     \u001b[1;31m# Almacena los datos de la query\u001b[0m\u001b[1;33m\u001b[0m\u001b[1;33m\u001b[0m\u001b[1;33m\u001b[0m\u001b[0m\n",
      "\u001b[1;31mOperationalError\u001b[0m: no such table: tracksssssss"
     ]
    }
   ],
   "source": [
    "query = '''\n",
    "SELECT * \n",
    "FROM tracksssssss\n",
    "'''\n",
    "\n",
    "sql_query(query)"
   ]
  },
  {
   "cell_type": "code",
   "execution_count": 123,
   "metadata": {},
   "outputs": [
    {
     "output_type": "error",
     "ename": "OperationalError",
     "evalue": "no such table: tracks",
     "traceback": [
      "\u001b[1;31m---------------------------------------------------------------------------\u001b[0m",
      "\u001b[1;31mOperationalError\u001b[0m                          Traceback (most recent call last)",
      "\u001b[1;32m<ipython-input-123-9c7e6eca1f13>\u001b[0m in \u001b[0;36m<module>\u001b[1;34m\u001b[0m\n\u001b[0;32m      4\u001b[0m '''\n\u001b[0;32m      5\u001b[0m \u001b[1;33m\u001b[0m\u001b[0m\n\u001b[1;32m----> 6\u001b[1;33m \u001b[0msql_query\u001b[0m\u001b[1;33m(\u001b[0m\u001b[0mquery\u001b[0m\u001b[1;33m)\u001b[0m \u001b[1;31m#Da error porque aunque no hay error de sintaxis sino que la BD se ha creado en vacio... no existe por tanto la tabla\u001b[0m\u001b[1;33m\u001b[0m\u001b[1;33m\u001b[0m\u001b[0m\n\u001b[0m",
      "\u001b[1;32m<ipython-input-29-6ed39f56676d>\u001b[0m in \u001b[0;36msql_query\u001b[1;34m(query)\u001b[0m\n\u001b[0;32m      3\u001b[0m \u001b[1;33m\u001b[0m\u001b[0m\n\u001b[0;32m      4\u001b[0m     \u001b[1;31m# Ejecuta la query\u001b[0m\u001b[1;33m\u001b[0m\u001b[1;33m\u001b[0m\u001b[1;33m\u001b[0m\u001b[0m\n\u001b[1;32m----> 5\u001b[1;33m     \u001b[0mcrsr\u001b[0m\u001b[1;33m.\u001b[0m\u001b[0mexecute\u001b[0m\u001b[1;33m(\u001b[0m\u001b[0mquery\u001b[0m\u001b[1;33m)\u001b[0m\u001b[1;33m\u001b[0m\u001b[1;33m\u001b[0m\u001b[0m\n\u001b[0m\u001b[0;32m      6\u001b[0m \u001b[1;33m\u001b[0m\u001b[0m\n\u001b[0;32m      7\u001b[0m     \u001b[1;31m# Almacena los datos de la query\u001b[0m\u001b[1;33m\u001b[0m\u001b[1;33m\u001b[0m\u001b[1;33m\u001b[0m\u001b[0m\n",
      "\u001b[1;31mOperationalError\u001b[0m: no such table: tracks"
     ]
    }
   ],
   "source": [
    "query = '''\n",
    "SELECT * \n",
    "FROM tracks \n",
    "'''\n",
    "\n",
    "sql_query(query) #Da error porque aunque no hay error de sintaxis sino que la BD se ha creado en vacio... no existe por tanto la tabla"
   ]
  },
  {
   "cell_type": "code",
   "execution_count": 125,
   "metadata": {},
   "outputs": [],
   "source": [
    "conecction = sqlite3.connect(\"chinook.db\")\n",
    "crsr = conecction.cursor()"
   ]
  },
  {
   "cell_type": "code",
   "execution_count": 126,
   "metadata": {},
   "outputs": [
    {
     "output_type": "error",
     "ename": "OperationalError",
     "evalue": "no such column: campo1",
     "traceback": [
      "\u001b[1;31m---------------------------------------------------------------------------\u001b[0m",
      "\u001b[1;31mOperationalError\u001b[0m                          Traceback (most recent call last)",
      "\u001b[1;32m<ipython-input-126-960862969c80>\u001b[0m in \u001b[0;36m<module>\u001b[1;34m\u001b[0m\n\u001b[0;32m      4\u001b[0m '''\n\u001b[0;32m      5\u001b[0m \u001b[1;33m\u001b[0m\u001b[0m\n\u001b[1;32m----> 6\u001b[1;33m \u001b[0msql_query\u001b[0m\u001b[1;33m(\u001b[0m\u001b[0mquery\u001b[0m\u001b[1;33m)\u001b[0m\u001b[1;33m\u001b[0m\u001b[1;33m\u001b[0m\u001b[0m\n\u001b[0m",
      "\u001b[1;32m<ipython-input-29-6ed39f56676d>\u001b[0m in \u001b[0;36msql_query\u001b[1;34m(query)\u001b[0m\n\u001b[0;32m      3\u001b[0m \u001b[1;33m\u001b[0m\u001b[0m\n\u001b[0;32m      4\u001b[0m     \u001b[1;31m# Ejecuta la query\u001b[0m\u001b[1;33m\u001b[0m\u001b[1;33m\u001b[0m\u001b[1;33m\u001b[0m\u001b[0m\n\u001b[1;32m----> 5\u001b[1;33m     \u001b[0mcrsr\u001b[0m\u001b[1;33m.\u001b[0m\u001b[0mexecute\u001b[0m\u001b[1;33m(\u001b[0m\u001b[0mquery\u001b[0m\u001b[1;33m)\u001b[0m\u001b[1;33m\u001b[0m\u001b[1;33m\u001b[0m\u001b[0m\n\u001b[0m\u001b[0;32m      6\u001b[0m \u001b[1;33m\u001b[0m\u001b[0m\n\u001b[0;32m      7\u001b[0m     \u001b[1;31m# Almacena los datos de la query\u001b[0m\u001b[1;33m\u001b[0m\u001b[1;33m\u001b[0m\u001b[1;33m\u001b[0m\u001b[0m\n",
      "\u001b[1;31mOperationalError\u001b[0m: no such column: campo1"
     ]
    }
   ],
   "source": [
    "query = '''\n",
    "SELECT campo1, name\n",
    "FROM tracks \n",
    "'''\n",
    "\n",
    "sql_query(query)"
   ]
  },
  {
   "cell_type": "markdown",
   "metadata": {},
   "source": [
    "## 5. Resumen\n",
    "**SQL es el estándar que se utiliza en el acceso a las BBDD relacionales**, por lo que en prácticamente cualquier empresa te vas a encontrar una BD de este tipo. La sintaxis es:\n",
    "\n",
    "```SQL\n",
    "SELECT campo1, campo2, campo3...\n",
    "FROM tabla\n",
    "WHERE condicionales\n",
    "```\n",
    "\n",
    "Y podrás realizar las siguientes acciones:\n",
    "1. **Filtrar columnas**: mediante `SELECT`\n",
    "2. **Renombrar campos**: mediante `SELECT campo as nuevo_nombre`\n",
    "3. **Eliminar duplicados**: mediante `DISTINCT`\n",
    "4. **Limitar el número de registros**: `LIMIT`\n",
    "5. **Filtrar filas**: `WHERE`\n",
    "6. **Ordenar una tabla**: `ORDER BY campo1, campo2` y `DESC`\n",
    "7. **Agregar información**: sacar un KPI como un máximo o un conteo: `MAX`,`COUNT`,`AVG`...\n",
    "8. **Agregado a nivel grupo**: con `GROUP BY`. Se calculan las funciones de agregación para cada grupo de una columna.\n",
    "9. **Juntar datos**: mediante `JOIN`. Hay de varios tipos: `LEFT`, `RIGHT`, `FULL`, `INNER` y `OUTER`.\n",
    "10. **Tablas temporales**: con `VIEW`\n",
    "11. **Eliminar tablas o vistas**: con `DROP`\n",
    "\n",
    "Y si te manejas de maravilla con la librería pandas, **siempre puedes obtener tus datos mediante una query con sqlite3, y tratarlos posteriormente en Python, mediante las funciones de pandas.**"
   ]
  }
 ],
 "metadata": {
  "kernelspec": {
   "display_name": "Python 3",
   "language": "python",
   "name": "python3"
  },
  "language_info": {
   "codemirror_mode": {
    "name": "ipython",
    "version": 3
   },
   "file_extension": ".py",
   "mimetype": "text/x-python",
   "name": "python",
   "nbconvert_exporter": "python",
   "pygments_lexer": "ipython3",
   "version": "3.7.6"
  }
 },
 "nbformat": 4,
 "nbformat_minor": 4
}