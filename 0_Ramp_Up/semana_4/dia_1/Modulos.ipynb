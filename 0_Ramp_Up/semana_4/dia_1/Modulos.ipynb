{
 "cells": [
  {
   "cell_type": "markdown",
   "metadata": {},
   "source": [
    "![imagen](../../imagenes/python.jpg)\n",
    "\n",
    "# Módulos y bibliotecas en Python\n",
    "\n",
    "#### Autor: [Daniel Ortiz López](https://www.linkedin.com/in/daniel-ortiz-l%C3%B3pez/)\n",
    "\n",
    "Hasta ahora hemos desarrollado programas no muy complicados que cabían en una celda de un Notebook, pero poco a poco se va complicando más la cosa. ¿Qué ocurrirá cuando tengamos varias Clases definidas, funciones, datos declarados, llamadas a paginas web...? ¿Lo vamos a tener todo en una celda/Notebook? Para ayudarnos con esto utilizaremos la sentencia `import`, pudiendo dividir nuestro programa en varios scripts de Python, y no solo eso, sino que tendremos también la opción de usar librerías de terceros en nuestro código, lo que va a ayudar mucho en el desarrollo.\n",
    "\n",
    "Para este Notebook se recomienda tener otro IDE como VSCode, Spyder o Pycharm.\n",
    "\n",
    "1. [import](#1.-import)\n",
    "2. [Bibliotecas](#2.-Bibliotecas)\n",
    "3. [Resumen](#3.-Resumen)"
   ]
  },
  {
   "cell_type": "markdown",
   "metadata": {},
   "source": [
    "## 1. import\n",
    "Recuerda que hay que **evitar en la medida de lo posible tener código repetido o duplicado**, por lo que funcionalidades que uses en diferentes partes del código no tendrás que copiar y pegarlas en todos lados, sino que tienes la posibilidad de definirlas una sola vez, e importarlas después que consideres.\n",
    "\n",
    "Por tanto, según vamos complicando nuestros programas, surge la necesidad de modularizarlo, es decir, poder dividirlo y paquetizarlo. Como habrás podido imaginar, programas productivos como una página web o un juego, no van en un Notebook, sino en varios scripts de Python. Según las diferentes funcionalidades del código, lo iremos dividiendo en varias partes. Por ejemplo, en un script pueden ir funciones auxiliares, en otro constantes, en otro tus Clases... Veamos algunos conceptos\n",
    "\n",
    "**Script**\n",
    "\n",
    "No es más que un archivo con código Python. Estos archivos tienen la extensión `.py`, por lo que un ejemplo podría ser `primer_script.py`.\n",
    "\n",
    "**Módulo/Biblioteca/Librería/Paquete**\n",
    "\n",
    "Son términos parecidos que se suelen utilizar para referirse a lo mismo. A efectos prácticos, los consideraremos igual. Se trata de paquetes de código que tienen una funcionalidad bien definida y podremos importar en nuestros programas de Python, utilizando lo que haya dentro (clases, funciones, variables...).\n",
    "\n",
    "**import**\n",
    "\n",
    "Palabra reservada y sentencia que se usa en Python para importar cualquier objeto en nuestro código. Se usa para importar variables, funciones o módulos.\n",
    "\n",
    "Veamos cómo podemos importar objetos de otros scripts"
   ]
  },
  {
   "cell_type": "code",
   "execution_count": 1,
   "metadata": {
    "tags": []
   },
   "outputs": [
    {
     "output_type": "stream",
     "name": "stdout",
     "text": "Writing primer_script.py\n"
    }
   ],
   "source": [
    "%%file primer_script.py \n",
    "#Con este comando se creará un script de 'nombre.py' dentro de la carpeta #donde estoy trabajando.\n",
    "\"\"\"\n",
    "Example of a python module. Contains a variable called my_variable,\n",
    "a function called my_function, and a class called MyClass.\n",
    "\"\"\"\n",
    "\n",
    "my_variable = 0\n",
    "\n",
    "def my_function():\n",
    "    \"\"\"\n",
    "    Example function\n",
    "    \"\"\"\n",
    "    return my_variable\n",
    "    \n",
    "class MyClass:\n",
    "    \"\"\"\n",
    "    Example class.\n",
    "    \"\"\"\n",
    "\n",
    "    def __init__(self):\n",
    "        self.variable = my_variable\n",
    "        \n",
    "    def set_variable(self, new_value):\n",
    "        \"\"\"\n",
    "        Set self.variable to a new value\n",
    "        \"\"\"\n",
    "        self.variable = new_value\n",
    "        \n",
    "    def get_variable(self):\n",
    "        return self.variable"
   ]
  },
  {
   "cell_type": "markdown",
   "metadata": {},
   "source": [
    "Tenemos en otro script una variable, una función y una clase definida. Ahora lo importamos"
   ]
  },
  {
   "cell_type": "code",
   "execution_count": 2,
   "metadata": {},
   "outputs": [],
   "source": [
    "import primer_script"
   ]
  },
  {
   "cell_type": "code",
   "execution_count": 4,
   "metadata": {
    "tags": []
   },
   "outputs": [
    {
     "output_type": "stream",
     "name": "stdout",
     "text": "Help on module primer_script:\n\nNAME\n    primer_script\n\nDESCRIPTION\n    Example of a python module. Contains a variable called my_variable,\n    a function called my_function, and a class called MyClass.\n\nCLASSES\n    builtins.object\n        MyClass\n    \n    class MyClass(builtins.object)\n     |  Example class.\n     |  \n     |  Methods defined here:\n     |  \n     |  __init__(self)\n     |      Initialize self.  See help(type(self)) for accurate signature.\n     |  \n     |  get_variable(self)\n     |  \n     |  set_variable(self, new_value)\n     |      Set self.variable to a new value\n     |  \n     |  ----------------------------------------------------------------------\n     |  Data descriptors defined here:\n     |  \n     |  __dict__\n     |      dictionary for instance variables (if defined)\n     |  \n     |  __weakref__\n     |      list of weak references to the object (if defined)\n\nFUNCTIONS\n    my_function()\n        Example function\n\nDATA\n    my_variable = 0\n\nFILE\n    c:\\users\\pilar\\edition_jun2020\\repositorios_github\\bootcamp_activity_jun20\\bootcamp_activity_jun2020\\0_ramp_up\\semana_4\\dia_1\\primer_script.py\n\n\n"
    }
   ],
   "source": [
    "help(primer_script)"
   ]
  },
  {
   "cell_type": "markdown",
   "metadata": {},
   "source": [
    "Como siempre en cualquier lenguaje de programación **tenemos que fijarnos siempre dónde está apuntando el Notebook**, es decir, en qué directorio de trabajo va a leer el script. Al poner `import primer_script`, va a buscar ese script en el **mismo directorio donde esté el Notebook**. Si lo tenemos en otro lado del ordenador, no lo detectará. Cuando realizas el importado Python no recorre todas las carpetas del ordenador, lo busca en el mismo sitio donde está el Notebook. Más delante veremos como leer scripts de otros directorios.\n",
    "\n",
    "Si queremos acceder a cualquier objeto del módulo, simplemente utilizamos la sintaxis `nombre_modulo.objeto`"
   ]
  },
  {
   "cell_type": "code",
   "execution_count": 5,
   "metadata": {},
   "outputs": [
    {
     "output_type": "execute_result",
     "data": {
      "text/plain": "0"
     },
     "metadata": {},
     "execution_count": 5
    }
   ],
   "source": [
    "primer_script.my_variable"
   ]
  },
  {
   "cell_type": "code",
   "execution_count": 7,
   "metadata": {},
   "outputs": [
    {
     "output_type": "execute_result",
     "data": {
      "text/plain": "<function primer_script.my_function()>"
     },
     "metadata": {},
     "execution_count": 7
    }
   ],
   "source": [
    "primer_script.my_function"
   ]
  },
  {
   "cell_type": "code",
   "execution_count": 8,
   "metadata": {},
   "outputs": [
    {
     "output_type": "execute_result",
     "data": {
      "text/plain": "0"
     },
     "metadata": {},
     "execution_count": 8
    }
   ],
   "source": [
    "primer_script.my_function()"
   ]
  },
  {
   "cell_type": "code",
   "execution_count": 10,
   "metadata": {},
   "outputs": [
    {
     "output_type": "execute_result",
     "data": {
      "text/plain": "primer_script.MyClass"
     },
     "metadata": {},
     "execution_count": 10
    }
   ],
   "source": [
    "primer_script.MyClass"
   ]
  },
  {
   "cell_type": "code",
   "execution_count": 18,
   "metadata": {},
   "outputs": [
    {
     "output_type": "execute_result",
     "data": {
      "text/plain": "<primer_script.MyClass at 0x21575d9eb48>"
     },
     "metadata": {},
     "execution_count": 18
    }
   ],
   "source": [
    "new_obj = primer_script.MyClass()\n",
    "new_obj"
   ]
  },
  {
   "cell_type": "code",
   "execution_count": 19,
   "metadata": {},
   "outputs": [
    {
     "output_type": "execute_result",
     "data": {
      "text/plain": "0"
     },
     "metadata": {},
     "execution_count": 19
    }
   ],
   "source": [
    "new_obj.variable"
   ]
  },
  {
   "cell_type": "code",
   "execution_count": 20,
   "metadata": {},
   "outputs": [],
   "source": [
    "new_obj.set_variable(5)"
   ]
  },
  {
   "cell_type": "code",
   "execution_count": 21,
   "metadata": {},
   "outputs": [
    {
     "output_type": "execute_result",
     "data": {
      "text/plain": "5"
     },
     "metadata": {},
     "execution_count": 21
    }
   ],
   "source": [
    "new_obj.variable"
   ]
  },
  {
   "cell_type": "markdown",
   "metadata": {},
   "source": [
    "[Aquí](https://docs.python.org/3/reference/import.html) tienes el enlace a la documentación del `import` por si tienes dudas, o necesitas realizar operaciones más complejas con el importado de módulos."
   ]
  },
  {
   "cell_type": "markdown",
   "metadata": {},
   "source": [
    "<table align=\"left\">\n",
    " <tr><td width=\"80\"><img src=\"../../imagenes/error.png\" style=\"width:auto;height:auto\"></td>\n",
    "     <td style=\"text-align:left\">\n",
    "         <h3>ERRORES Importado de módulos</h3>\n",
    "         \n",
    " </td></tr>\n",
    "</table>"
   ]
  },
  {
   "cell_type": "markdown",
   "metadata": {},
   "source": [
    "Típico error cuando intentamos acceder a un módulo que pensamos que está instalado en el intérprete de Anaconda, o queremos acceder a un *.py* que en realidad no está en la ruta deseada."
   ]
  },
  {
   "cell_type": "code",
   "execution_count": 22,
   "metadata": {},
   "outputs": [
    {
     "output_type": "error",
     "ename": "ModuleNotFoundError",
     "evalue": "No module named 'my_module'",
     "traceback": [
      "\u001b[1;31m---------------------------------------------------------------------------\u001b[0m",
      "\u001b[1;31mModuleNotFoundError\u001b[0m                       Traceback (most recent call last)",
      "\u001b[1;32m<ipython-input-22-6f1b7cfa21b3>\u001b[0m in \u001b[0;36m<module>\u001b[1;34m\u001b[0m\n\u001b[1;32m----> 1\u001b[1;33m \u001b[1;32mimport\u001b[0m \u001b[0mmy_module\u001b[0m\u001b[1;33m\u001b[0m\u001b[1;33m\u001b[0m\u001b[0m\n\u001b[0m",
      "\u001b[1;31mModuleNotFoundError\u001b[0m: No module named 'my_module'"
     ]
    }
   ],
   "source": [
    "import my_module "
   ]
  },
  {
   "cell_type": "markdown",
   "metadata": {},
   "source": [
    "O si intentamos acceder una función/atributo que en realidad no existe en el módulo."
   ]
  },
  {
   "cell_type": "code",
   "execution_count": 23,
   "metadata": {},
   "outputs": [
    {
     "output_type": "error",
     "ename": "AttributeError",
     "evalue": "module 'primer_script' has no attribute 'my_function2'",
     "traceback": [
      "\u001b[1;31m---------------------------------------------------------------------------\u001b[0m",
      "\u001b[1;31mAttributeError\u001b[0m                            Traceback (most recent call last)",
      "\u001b[1;32m<ipython-input-23-9913b4abecec>\u001b[0m in \u001b[0;36m<module>\u001b[1;34m\u001b[0m\n\u001b[1;32m----> 1\u001b[1;33m \u001b[0mprimer_script\u001b[0m\u001b[1;33m.\u001b[0m\u001b[0mmy_function2\u001b[0m\u001b[1;33m(\u001b[0m\u001b[1;33m)\u001b[0m\u001b[1;33m\u001b[0m\u001b[1;33m\u001b[0m\u001b[0m\n\u001b[0m",
      "\u001b[1;31mAttributeError\u001b[0m: module 'primer_script' has no attribute 'my_function2'"
     ]
    }
   ],
   "source": [
    "primer_script.my_function2()"
   ]
  },
  {
   "cell_type": "markdown",
   "metadata": {},
   "source": [
    "<table align=\"left\">\n",
    " <tr><td width=\"80\"><img src=\"../../imagenes/ejercicio.png\" style=\"width:auto;height:auto\"></td>\n",
    "     <td style=\"text-align:left\">\n",
    "         <h3>Crear un script</h3>\n",
    "         \n",
    "Crea un nuevo script de Python (es un archivo .py) y ponle de nombre \"ejer_prueba.py\". Lo puedes crear desde el propio Jupyter Lab desde File -> New -> Text File. O también desde VSCode.\n",
    "         \n",
    "         Declara dos variables en el script\n",
    "         a = 1\n",
    "         b = 2\n",
    "\n",
    "Importa ambas variables e imprimelas por pantalla.\n",
    "         \n",
    " </td></tr>\n",
    "</table>"
   ]
  },
  {
   "cell_type": "code",
   "execution_count": 24,
   "metadata": {
    "tags": []
   },
   "outputs": [
    {
     "output_type": "stream",
     "name": "stdout",
     "text": "Writing ejer_prueba.py\n"
    }
   ],
   "source": [
    "%%file ejer_prueba.py\n",
    "\n",
    "\"\"\"\n",
    "Paquete de prueba como ejercicio práctico para trabajar la creación de modulos y su utilización\n",
    "\"\"\"\n",
    "a = 1\n",
    "b = 2"
   ]
  },
  {
   "cell_type": "code",
   "execution_count": 26,
   "metadata": {
    "tags": []
   },
   "outputs": [
    {
     "output_type": "stream",
     "name": "stdout",
     "text": "1 2\n"
    }
   ],
   "source": [
    "import ejer_prueba\n",
    "\n",
    "print(ejer_prueba.a,ejer_prueba.b)"
   ]
  },
  {
   "cell_type": "markdown",
   "metadata": {},
   "source": [
    "Tienes otras maneras de importar datos, ya que en ocasiones desconocemos lo que hay dentro del módulo, o simplemente no queremos utilizar todo lo que hay."
   ]
  },
  {
   "cell_type": "code",
   "execution_count": 30,
   "metadata": {},
   "outputs": [],
   "source": [
    "del my_variable,my_function"
   ]
  },
  {
   "cell_type": "code",
   "execution_count": 28,
   "metadata": {},
   "outputs": [],
   "source": [
    "from primer_script import my_function,my_variable"
   ]
  },
  {
   "cell_type": "code",
   "execution_count": 29,
   "metadata": {},
   "outputs": [
    {
     "output_type": "execute_result",
     "data": {
      "text/plain": "primer_script.MyClass"
     },
     "metadata": {},
     "execution_count": 29
    }
   ],
   "source": []
  },
  {
   "cell_type": "markdown",
   "metadata": {},
   "source": [
    "En este caso ya no es necesario usar la sintaxis `modulo.objeto`, sino que el objeto ya está cargado en memoria. Es como si lo hubiésemos ejecuctado en una celda.\n",
    "\n",
    "Otra opción es importar todo. **NO es lo recomendable**. Porque el módulo podría tener muchas variables o funciones que no necesitemos, y ocupan espacio en memoria."
   ]
  },
  {
   "cell_type": "code",
   "execution_count": null,
   "metadata": {},
   "outputs": [],
   "source": [
    "from primer_script import *"
   ]
  },
  {
   "cell_type": "markdown",
   "metadata": {},
   "source": [
    "**¿Y si tenemos el archivo en otra carpeta?** La sintaxis es la misma. Si dentro de la carpeta donde está el Notebook, hay otra carpeta llamada `direc_segundo`, y dentro de esa carpeta hay otro script llamado `segundo_script.py`, podrás acceder a los objetos de ese escript mediante la sintaxis `import direc_segundo.segundo_script`"
   ]
  },
  {
   "cell_type": "markdown",
   "metadata": {},
   "source": [
    "<table align=\"left\">\n",
    " <tr><td width=\"80\"><img src=\"../../imagenes/ejercicio.png\" style=\"width:auto;height:auto\"></td>\n",
    "     <td style=\"text-align:left\">\n",
    "         <h3>Crear un script dentro de una carpeta</h3>\n",
    "         \n",
    "En el mismo sitio donde se encuentra este Notebook, crea la carpeta \"direc_segundo\", y dentro de la carpeta crea otro script llamado \"segundo_script.py\".\n",
    "         \n",
    "         Declara dos variables en el script\n",
    "         c = 3\n",
    "         d = 4\n",
    "\n",
    "Importa ambas variables e imprimelas por pantalla.\n",
    "         \n",
    " </td></tr>\n",
    "</table>"
   ]
  },
  {
   "cell_type": "code",
   "execution_count": 32,
   "metadata": {
    "tags": []
   },
   "outputs": [
    {
     "output_type": "stream",
     "name": "stdout",
     "text": "Writing direc_segundo/segundo_script.py\n"
    }
   ],
   "source": [
    "%%file direc_segundo/segundo_script.py\n",
    "\n",
    "c = 3\n",
    "\n",
    "d = 4"
   ]
  },
  {
   "cell_type": "code",
   "execution_count": 36,
   "metadata": {},
   "outputs": [],
   "source": [
    "import direc_segundo.segundo_script"
   ]
  },
  {
   "cell_type": "code",
   "execution_count": 38,
   "metadata": {},
   "outputs": [
    {
     "output_type": "execute_result",
     "data": {
      "text/plain": "3"
     },
     "metadata": {},
     "execution_count": 38
    }
   ],
   "source": [
    "direc_segundo.segundo_script.c"
   ]
  },
  {
   "cell_type": "code",
   "execution_count": 39,
   "metadata": {},
   "outputs": [
    {
     "output_type": "execute_result",
     "data": {
      "text/plain": "4"
     },
     "metadata": {},
     "execution_count": 39
    }
   ],
   "source": [
    "direc_segundo.segundo_script.d"
   ]
  },
  {
   "cell_type": "markdown",
   "metadata": {},
   "source": [
    "En estos casos resulta muy útil ponerle un alias al `import`. Esto nos ayudará a acortar el nombre y a poner uno más intuitivo"
   ]
  },
  {
   "cell_type": "code",
   "execution_count": 41,
   "metadata": {},
   "outputs": [],
   "source": [
    "import direc_segundo.segundo_script as variables"
   ]
  },
  {
   "cell_type": "code",
   "execution_count": 42,
   "metadata": {},
   "outputs": [
    {
     "output_type": "execute_result",
     "data": {
      "text/plain": "(3, 4)"
     },
     "metadata": {},
     "execution_count": 42
    }
   ],
   "source": [
    "variables.c, variables.d"
   ]
  },
  {
   "cell_type": "markdown",
   "metadata": {},
   "source": [
    "Por útimo, **¿y si nuestros módulos no están en una carpeta dentro del proyecto donde estamos trabajando, sino en otra carpeta del ordenador, o en directorios anteriores?** Esto lo podemos solucionar mediante `sys.path`. `sys` es el módulo de Python que se usa para manejar las variables del sistema y el intérprete. Y `path` es una lista de strings con una serie de rutas donde acude el intérprete de Python cuando tiene que buscar un módulo. [Tienes aqui la documentación de `sys`](https://docs.python.org/3/library/sys.html)"
   ]
  },
  {
   "cell_type": "code",
   "execution_count": 6,
   "metadata": {},
   "outputs": [
    {
     "output_type": "execute_result",
     "data": {
      "text/plain": "['c:\\\\Users\\\\pilar\\\\Edition_Jun2020\\\\Repositorios_GitHub\\\\bootcamp_activity_jun20\\\\bootcamp_activity_jun2020\\\\0_Ramp_Up\\\\semana_4\\\\dia_1',\n 'C:\\\\Users\\\\pilar\\\\AppData\\\\Local\\\\Programs\\\\Microsoft VS Code',\n 'c:\\\\Users\\\\pilar\\\\.vscode\\\\extensions\\\\ms-python.python-2020.6.91350\\\\pythonFiles',\n 'c:\\\\Users\\\\pilar\\\\.vscode\\\\extensions\\\\ms-python.python-2020.6.91350\\\\pythonFiles\\\\lib\\\\python',\n 'C:\\\\Users\\\\pilar\\\\Anaconda3\\\\python37.zip',\n 'C:\\\\Users\\\\pilar\\\\Anaconda3\\\\DLLs',\n 'C:\\\\Users\\\\pilar\\\\Anaconda3\\\\lib',\n 'C:\\\\Users\\\\pilar\\\\Anaconda3',\n '',\n 'C:\\\\Users\\\\pilar\\\\AppData\\\\Roaming\\\\Python\\\\Python37\\\\site-packages',\n 'C:\\\\Users\\\\pilar\\\\Anaconda3\\\\lib\\\\site-packages',\n 'C:\\\\Users\\\\pilar\\\\Anaconda3\\\\lib\\\\site-packages\\\\win32',\n 'C:\\\\Users\\\\pilar\\\\Anaconda3\\\\lib\\\\site-packages\\\\win32\\\\lib',\n 'C:\\\\Users\\\\pilar\\\\Anaconda3\\\\lib\\\\site-packages\\\\Pythonwin',\n 'C:\\\\Users\\\\pilar\\\\Anaconda3\\\\lib\\\\site-packages\\\\IPython\\\\extensions',\n 'C:\\\\Users\\\\pilar\\\\.ipython']"
     },
     "metadata": {},
     "execution_count": 6
    }
   ],
   "source": [
    "import sys\n",
    "sys.path"
   ]
  },
  {
   "cell_type": "markdown",
   "metadata": {},
   "source": [
    "Si queremos que el intérprete de Python entienda de otros módulos que **no están en la carpeta de Notebook**, tendremos que añadir esa ruta a la lista de paths mediante la sintaxis `sys.path.append(la_nueva_ruta)`. Recuerda que `sys.path` es una lista, por lo que podrás aplicarle lo que ya sabes sobre listas."
   ]
  },
  {
   "cell_type": "markdown",
   "metadata": {},
   "source": [
    "<table align=\"left\">\n",
    " <tr><td width=\"80\"><img src=\"../../imagenes/ejercicio.png\" style=\"width:auto;height:auto\"></td>\n",
    "     <td style=\"text-align:left\">\n",
    "         <h3>Añadir un nuevo path</h3>\n",
    "         \n",
    "Crea un nuevo directorio en otra ruta del ordenador, por ejemplo en el escritorio. Llámalo \"direc_tercero\" e introduce dentro un nuevo script que se llame \"tercer_script.py\". Tendrás que añadir el path de ese directorio a los paths de sys.\n",
    "         \n",
    "         Declara dos variables en el script\n",
    "         e = 5\n",
    "         f = 6\n",
    "\n",
    "\n",
    "Importa ambas variables e imprimelas por pantalla.\n",
    "         \n",
    " </td></tr>\n",
    "</table>"
   ]
  },
  {
   "cell_type": "code",
   "execution_count": 8,
   "metadata": {},
   "outputs": [],
   "source": [
    "sys.path.append(\"C:/Users/pilar/Desktop/direc_tercero\")"
   ]
  },
  {
   "cell_type": "markdown",
   "metadata": {},
   "source": [
    "Una vez creado el nuevo directorio, se recomienda copiar su ruta y pegarla en el `append`\n",
    "\n",
    "![imagen](../../imagenes/path.png)"
   ]
  },
  {
   "cell_type": "code",
   "execution_count": 11,
   "metadata": {},
   "outputs": [
    {
     "output_type": "execute_result",
     "data": {
      "text/plain": "(5, 6)"
     },
     "metadata": {},
     "execution_count": 11
    }
   ],
   "source": [
    "import tercer_script as tr \n",
    "\n",
    "tr.e, tr.f"
   ]
  },
  {
   "cell_type": "markdown",
   "metadata": {},
   "source": [
    "Con lo visto en este Notebook tienes conocimiento de sobra para manejar tu programa en varios scripts, pero si quieres aprender más sobre el concepto `import`, te recomiendo que te leas [este artículo](https://chrisyeh96.github.io/2017/08/08/definitive-guide-python-imports.html)."
   ]
  },
  {
   "cell_type": "markdown",
   "metadata": {},
   "source": [
    "## 2. Bibliotecas\n",
    "Hasta ahora, todas las funcionalidades que necesitabas en Python las has ido desarrollando con tu propio código. Esto está bien, pero no siempre es necesario. **Existen muchísimas librerías que pueden hacer el trabajo por ti**, por lo que antes de implementar algo, ***no reinventes la rueda***. Se listo y busca si ya hay algo hecho en la web. Esto es lo bueno de trabajar con un lenguaje open source, que existe una comunidad con muchísimos desarrolladores y hay una gran cantidad de código publicado de manera gratuita. Por tanto, ¿De dónde podemos sacar estos códigos mágicos?\n",
    "\n",
    "* **[Biblioteca estándar de Python](https://docs.python.org/3/library/index.html#the-python-standard-library)**: aqui tienes muchas de las cosas que hemos visto ya (tipos de datos, el móduglo math...) y mucho más (lectura de archivos, compresión, acceso a BBDD...).\n",
    "* **Bibliotecas de terceros**: librerías que no vienen en el paquete por defecto de Python. Estas librerías o bien las implementa un particular o una empresa, y son de código abierto. Anaconda está muy orientado a la ciencia de datos, por lo que tiene librerías muy interesantes que utilizaremos durante el curso (pandas, numpy o sklearn). Además de estás librerías, podrás añadir al intérprete de Python todas las que necesites\n",
    "\n",
    "Veamos un ejemplo de importación de una librería"
   ]
  },
  {
   "cell_type": "code",
   "execution_count": 13,
   "metadata": {},
   "outputs": [],
   "source": [
    "import math as mt "
   ]
  },
  {
   "cell_type": "code",
   "execution_count": 14,
   "metadata": {},
   "outputs": [
    {
     "output_type": "execute_result",
     "data": {
      "text/plain": "6.0"
     },
     "metadata": {},
     "execution_count": 14
    }
   ],
   "source": [
    "mt.sqrt(36)"
   ]
  },
  {
   "cell_type": "markdown",
   "metadata": {},
   "source": [
    "Importando `math`, podremos acceder a todas sus funciones mediante la sintaxis `math.funcion()`. [En la documentación](https://docs.python.org/3/library/math.html#math.log) verás todo lo que puedes hacer con `math`. \n",
    "\n",
    "Veamos un ejemplo en el que nos ayude a no escribir código de más."
   ]
  },
  {
   "cell_type": "code",
   "execution_count": 17,
   "metadata": {
    "tags": []
   },
   "outputs": [
    {
     "output_type": "stream",
     "name": "stdout",
     "text": "Help on built-in function sqrt in module math:\n\nsqrt(x, /)\n    Return the square root of x.\n\n"
    }
   ],
   "source": [
    "help(mt.sqrt)"
   ]
  },
  {
   "cell_type": "code",
   "execution_count": 19,
   "metadata": {
    "tags": []
   },
   "outputs": [
    {
     "output_type": "stream",
     "name": "stdout",
     "text": "Help on built-in module math:\n\nNAME\n    math\n\nDESCRIPTION\n    This module provides access to the mathematical functions\n    defined by the C standard.\n\nFUNCTIONS\n    acos(x, /)\n        Return the arc cosine (measured in radians) of x.\n    \n    acosh(x, /)\n        Return the inverse hyperbolic cosine of x.\n    \n    asin(x, /)\n        Return the arc sine (measured in radians) of x.\n    \n    asinh(x, /)\n        Return the inverse hyperbolic sine of x.\n    \n    atan(x, /)\n        Return the arc tangent (measured in radians) of x.\n    \n    atan2(y, x, /)\n        Return the arc tangent (measured in radians) of y/x.\n        \n        Unlike atan(y/x), the signs of both x and y are considered.\n    \n    atanh(x, /)\n        Return the inverse hyperbolic tangent of x.\n    \n    ceil(x, /)\n        Return the ceiling of x as an Integral.\n        \n        This is the smallest integer >= x.\n    \n    copysign(x, y, /)\n        Return a float with the magnitude (absolute value) of x but the sign of y.\n        \n        On platforms that support signed zeros, copysign(1.0, -0.0)\n        returns -1.0.\n    \n    cos(x, /)\n        Return the cosine of x (measured in radians).\n    \n    cosh(x, /)\n        Return the hyperbolic cosine of x.\n    \n    degrees(x, /)\n        Convert angle x from radians to degrees.\n    \n    erf(x, /)\n        Error function at x.\n    \n    erfc(x, /)\n        Complementary error function at x.\n    \n    exp(x, /)\n        Return e raised to the power of x.\n    \n    expm1(x, /)\n        Return exp(x)-1.\n        \n        This function avoids the loss of precision involved in the direct evaluation of exp(x)-1 for small x.\n    \n    fabs(x, /)\n        Return the absolute value of the float x.\n    \n    factorial(x, /)\n        Find x!.\n        \n        Raise a ValueError if x is negative or non-integral.\n    \n    floor(x, /)\n        Return the floor of x as an Integral.\n        \n        This is the largest integer <= x.\n    \n    fmod(x, y, /)\n        Return fmod(x, y), according to platform C.\n        \n        x % y may differ.\n    \n    frexp(x, /)\n        Return the mantissa and exponent of x, as pair (m, e).\n        \n        m is a float and e is an int, such that x = m * 2.**e.\n        If x is 0, m and e are both 0.  Else 0.5 <= abs(m) < 1.0.\n    \n    fsum(seq, /)\n        Return an accurate floating point sum of values in the iterable seq.\n        \n        Assumes IEEE-754 floating point arithmetic.\n    \n    gamma(x, /)\n        Gamma function at x.\n    \n    gcd(x, y, /)\n        greatest common divisor of x and y\n    \n    hypot(x, y, /)\n        Return the Euclidean distance, sqrt(x*x + y*y).\n    \n    isclose(a, b, *, rel_tol=1e-09, abs_tol=0.0)\n        Determine whether two floating point numbers are close in value.\n        \n          rel_tol\n            maximum difference for being considered \"close\", relative to the\n            magnitude of the input values\n          abs_tol\n            maximum difference for being considered \"close\", regardless of the\n            magnitude of the input values\n        \n        Return True if a is close in value to b, and False otherwise.\n        \n        For the values to be considered close, the difference between them\n        must be smaller than at least one of the tolerances.\n        \n        -inf, inf and NaN behave similarly to the IEEE 754 Standard.  That\n        is, NaN is not close to anything, even itself.  inf and -inf are\n        only close to themselves.\n    \n    isfinite(x, /)\n        Return True if x is neither an infinity nor a NaN, and False otherwise.\n    \n    isinf(x, /)\n        Return True if x is a positive or negative infinity, and False otherwise.\n    \n    isnan(x, /)\n        Return True if x is a NaN (not a number), and False otherwise.\n    \n    ldexp(x, i, /)\n        Return x * (2**i).\n        \n        This is essentially the inverse of frexp().\n    \n    lgamma(x, /)\n        Natural logarithm of absolute value of Gamma function at x.\n    \n    log(...)\n        log(x, [base=math.e])\n        Return the logarithm of x to the given base.\n        \n        If the base not specified, returns the natural logarithm (base e) of x.\n    \n    log10(x, /)\n        Return the base 10 logarithm of x.\n    \n    log1p(x, /)\n        Return the natural logarithm of 1+x (base e).\n        \n        The result is computed in a way which is accurate for x near zero.\n    \n    log2(x, /)\n        Return the base 2 logarithm of x.\n    \n    modf(x, /)\n        Return the fractional and integer parts of x.\n        \n        Both results carry the sign of x and are floats.\n    \n    pow(x, y, /)\n        Return x**y (x to the power of y).\n    \n    radians(x, /)\n        Convert angle x from degrees to radians.\n    \n    remainder(x, y, /)\n        Difference between x and the closest integer multiple of y.\n        \n        Return x - n*y where n*y is the closest integer multiple of y.\n        In the case where x is exactly halfway between two multiples of\n        y, the nearest even value of n is used. The result is always exact.\n    \n    sin(x, /)\n        Return the sine of x (measured in radians).\n    \n    sinh(x, /)\n        Return the hyperbolic sine of x.\n    \n    sqrt(x, /)\n        Return the square root of x.\n    \n    tan(x, /)\n        Return the tangent of x (measured in radians).\n    \n    tanh(x, /)\n        Return the hyperbolic tangent of x.\n    \n    trunc(x, /)\n        Truncates the Real x to the nearest Integral toward 0.\n        \n        Uses the __trunc__ magic method.\n\nDATA\n    e = 2.718281828459045\n    inf = inf\n    nan = nan\n    pi = 3.141592653589793\n    tau = 6.283185307179586\n\nFILE\n    (built-in)\n\n\n"
    }
   ],
   "source": [
    "help(mt)"
   ]
  },
  {
   "cell_type": "code",
   "execution_count": 21,
   "metadata": {
    "tags": []
   },
   "outputs": [
    {
     "output_type": "stream",
     "name": "stdout",
     "text": "['__doc__', '__loader__', '__name__', '__package__', '__spec__', 'acos', 'acosh', 'asin', 'asinh', 'atan', 'atan2', 'atanh', 'ceil', 'copysign', 'cos', 'cosh', 'degrees', 'e', 'erf', 'erfc', 'exp', 'expm1', 'fabs', 'factorial', 'floor', 'fmod', 'frexp', 'fsum', 'gamma', 'gcd', 'hypot', 'inf', 'isclose', 'isfinite', 'isinf', 'isnan', 'ldexp', 'lgamma', 'log', 'log10', 'log1p', 'log2', 'modf', 'nan', 'pi', 'pow', 'radians', 'remainder', 'sin', 'sinh', 'sqrt', 'tan', 'tanh', 'tau', 'trunc']\n"
    }
   ],
   "source": [
    "print(dir(mt))"
   ]
  },
  {
   "cell_type": "code",
   "execution_count": null,
   "metadata": {},
   "outputs": [],
   "source": [
    "import csv\n",
    "\n",
    "with open('datos_prueba.csv', 'r') as file:\n",
    "    my_read"
   ]
  },
  {
   "cell_type": "markdown",
   "metadata": {},
   "source": [
    "Otro ejemplo en el que vemos la potencia de `pandas`, a la hora de leer archivos"
   ]
  },
  {
   "cell_type": "code",
   "execution_count": 22,
   "metadata": {
    "tags": []
   },
   "outputs": [
    {
     "output_type": "stream",
     "name": "stdout",
     "text": "['schedtime', 'carrier', 'deptime', 'dest', 'distance', 'date', 'flightnumber', 'origin', 'weather', 'dayweek', 'daymonth', 'tailnu', 'delay']\n['1455', 'OH', '1455', 'JFK', '184', '1/1/2004', '5935', 'BWI', '0', '4', '1', 'N940CA', 'ontime']\n['1640', 'DH', '1640', 'JFK', '213', '1/1/2004', '6155', 'DCA', '0', '4', '1', 'N405FJ', 'ontime']\n['1245', 'DH', '1245', 'LGA', '229', '1/1/2004', '7208', 'IAD', '0', '4', '1', 'N695BR', 'ontime']\n['1715', 'DH', '1709', 'LGA', '229', '1/1/2004', '7215', 'IAD', '0', '4', '1', 'N662BR', 'ontime']\n['1039', 'DH', '1035', 'LGA', '229', '1/1/2004', '7792', 'IAD', '0', '4', '1', 'N698BR', 'ontime']\n['840', 'DH', '839', 'JFK', '228', '1/1/2004', '7800', 'IAD', '0', '4', '1', 'N687BR', 'ontime']\n['1240', 'DH', '1243', 'JFK', '228', '1/1/2004', '7806', 'IAD', '0', '4', '1', 'N321UE', 'ontime']\n['1645', 'DH', '1644', 'JFK', '228', '1/1/2004', '7810', 'IAD', '0', '4', '1', 'N301UE', 'ontime']\n['1715', 'DH', '1710', 'JFK', '228', '1/1/2004', '7812', 'IAD', '0', '4', '1', 'N328UE', 'ontime']\n['2120', 'DH', '2129', 'JFK', '228', '1/1/2004', '7814', 'IAD', '0', '4', '1', 'N685BR', 'ontime']\n['2120', 'DH', '2114', 'LGA', '229', '1/1/2004', '7924', 'IAD', '0', '4', '1', 'N645BR', 'ontime']\n['1455', 'DL', '1458', 'JFK', '213', '1/1/2004', '746', 'DCA', '0', '4', '1', 'N918DE', 'ontime']\n['930', 'DL', '932', 'LGA', '214', '1/1/2004', '1746', 'DCA', '0', '4', '1', 'N242DL', 'ontime']\n['1230', 'DL', '1228', 'LGA', '214', '1/1/2004', '1752', 'DCA', '0', '4', '1', 'N241DL', 'ontime']\n['1430', 'DL', '1429', 'LGA', '214', '1/1/2004', '1756', 'DCA', '0', '4', '1', 'N242DL', 'ontime']\n['1730', 'DL', '1728', 'LGA', '214', '1/1/2004', '1762', 'DCA', '0', '4', '1', 'N241DL', 'ontime']\n['2030', 'DL', '2029', 'LGA', '214', '1/1/2004', '1768', 'DCA', '0', '4', '1', 'N242DL', 'ontime']\n['1530', 'MQ', '1525', 'JFK', '213', '1/1/2004', '4752', 'DCA', '0', '4', '1', 'N709MQ', 'ontime']\n['600', 'MQ', '556', 'JFK', '213', '1/1/2004', '4760', 'DCA', '0', '4', '1', 'N717MQ', 'ontime']\n['1830', 'MQ', '1822', 'JFK', '213', '1/1/2004', '4784', 'DCA', '0', '4', '1', 'N707MQ', 'ontime']\n['900', 'MQ', '853', 'LGA', '214', '1/1/2004', '4956', 'DCA', '0', '4', '1', 'N737MQ', 'ontime']\n['1300', 'MQ', '1254', 'LGA', '214', '1/1/2004', '4964', 'DCA', '0', '4', '1', 'N717MQ', 'ontime']\n['1400', 'MQ', '1356', 'LGA', '214', '1/1/2004', '4966', 'DCA', '0', '4', '1', 'N726MQ', 'ontime']\n['1500', 'MQ', '1452', 'LGA', '214', '1/1/2004', '4968', 'DCA', '0', '4', '1', 'N724MQ', 'ontime']\n['1900', 'MQ', '1853', 'LGA', '214', '1/1/2004', '4976', 'DCA', '0', '4', '1', 'N724MQ', 'ontime']\n['850', 'UA', '841', 'LGA', '229', '1/1/2004', '846', 'IAD', '0', '4', '1', 'N513UA', 'ontime']\n['900', 'US', '858', 'LGA', '214', '1/1/2004', '2164', 'DCA', '0', '4', '1', 'N709UW', 'ontime']\n['1100', 'US', '1056', 'LGA', '214', '1/1/2004', '2168', 'DCA', '0', '4', '1', 'N748UW', 'ontime']\n['1300', 'US', '1253', 'LGA', '214', '1/1/2004', '2172', 'DCA', '0', '4', '1', 'N709UW', 'ontime']\n['1500', 'US', '1458', 'LGA', '214', '1/1/2004', '2176', 'DCA', '0', '4', '1', 'N748UW', 'ontime']\n['1700', 'US', '1655', 'LGA', '214', '1/1/2004', '2180', 'DCA', '0', '4', '1', 'N709UW', 'ontime']\n['2100', 'US', '2055', 'LGA', '214', '1/1/2004', '2188', 'DCA', '0', '4', '1', 'N709UW', 'ontime']\n['1455', 'RU', '1452', 'EWR', '169', '1/1/2004', '2403', 'BWI', '0', '4', '1', 'N14916', 'ontime']\n['1720', 'RU', '1710', 'EWR', '169', '1/1/2004', '2675', 'BWI', '0', '4', '1', 'N16954', 'ontime']\n['1030', 'RU', '1030', 'EWR', '169', '1/1/2004', '2303', 'BWI', '0', '4', '1', 'N26549', 'ontime']\n['700', 'RU', '656', 'EWR', '169', '1/1/2004', '2703', 'BWI', '0', '4', '1', 'N16954', 'ontime']\n['1300', 'CO', '1256', 'EWR', '199', '1/1/2004', '808', 'DCA', '0', '4', '1', 'N18611', 'ontime']\n['1730', 'CO', '1726', 'EWR', '199', '1/1/2004', '814', 'DCA', '0', '4', '1', 'N19357', 'ontime']\n['840', 'DH', '840', 'EWR', '213', '1/1/2004', '7299', 'IAD', '0', '4', '1', 'N691BR', 'ontime']\n['1710', 'DH', '1704', 'EWR', '213', '1/1/2004', '7302', 'IAD', '0', '4', '1', 'N691BR', 'ontime']\n['1245', 'DH', '1245', 'EWR', '213', '1/1/2004', '7303', 'IAD', '0', '4', '1', 'N697BR', 'ontime']\n['2120', 'DH', '2118', 'EWR', '213', '1/1/2004', '7304', 'IAD', '0', '4', '1', 'N699BR', 'ontime']\n['1715', 'DH', '1741', 'JFK', '228', '1/3/2004', '7812', 'IAD', '0', '6', '3', 'N327UE', 'ontime']\n['1730', 'RU', '1736', 'EWR', '199', '1/31/2004', '2097', 'DCA', '0', '6', '31', 'N13994', 'ontime']\n"
    }
   ],
   "source": [
    "import csv\n",
    "\n",
    "with open('datos_prueba.csv', 'r') as file:\n",
    "    my_reader = csv.reader(file, delimiter=',')\n",
    "    \n",
    "    for row in my_reader:\n",
    "        print(row)"
   ]
  },
  {
   "cell_type": "code",
   "execution_count": 25,
   "metadata": {},
   "outputs": [
    {
     "output_type": "execute_result",
     "data": {
      "text/plain": "   schedtime carrier  deptime dest  ...  dayweek daymonth  tailnu   delay\n0       1455      OH     1455  JFK  ...        4        1  N940CA  ontime\n1       1640      DH     1640  JFK  ...        4        1  N405FJ  ontime\n2       1245      DH     1245  LGA  ...        4        1  N695BR  ontime\n3       1715      DH     1709  LGA  ...        4        1  N662BR  ontime\n4       1039      DH     1035  LGA  ...        4        1  N698BR  ontime\n\n[5 rows x 13 columns]",
      "text/html": "<div>\n<style scoped>\n    .dataframe tbody tr th:only-of-type {\n        vertical-align: middle;\n    }\n\n    .dataframe tbody tr th {\n        vertical-align: top;\n    }\n\n    .dataframe thead th {\n        text-align: right;\n    }\n</style>\n<table border=\"1\" class=\"dataframe\">\n  <thead>\n    <tr style=\"text-align: right;\">\n      <th></th>\n      <th>schedtime</th>\n      <th>carrier</th>\n      <th>deptime</th>\n      <th>dest</th>\n      <th>distance</th>\n      <th>date</th>\n      <th>flightnumber</th>\n      <th>origin</th>\n      <th>weather</th>\n      <th>dayweek</th>\n      <th>daymonth</th>\n      <th>tailnu</th>\n      <th>delay</th>\n    </tr>\n  </thead>\n  <tbody>\n    <tr>\n      <td>0</td>\n      <td>1455</td>\n      <td>OH</td>\n      <td>1455</td>\n      <td>JFK</td>\n      <td>184</td>\n      <td>1/1/2004</td>\n      <td>5935</td>\n      <td>BWI</td>\n      <td>0</td>\n      <td>4</td>\n      <td>1</td>\n      <td>N940CA</td>\n      <td>ontime</td>\n    </tr>\n    <tr>\n      <td>1</td>\n      <td>1640</td>\n      <td>DH</td>\n      <td>1640</td>\n      <td>JFK</td>\n      <td>213</td>\n      <td>1/1/2004</td>\n      <td>6155</td>\n      <td>DCA</td>\n      <td>0</td>\n      <td>4</td>\n      <td>1</td>\n      <td>N405FJ</td>\n      <td>ontime</td>\n    </tr>\n    <tr>\n      <td>2</td>\n      <td>1245</td>\n      <td>DH</td>\n      <td>1245</td>\n      <td>LGA</td>\n      <td>229</td>\n      <td>1/1/2004</td>\n      <td>7208</td>\n      <td>IAD</td>\n      <td>0</td>\n      <td>4</td>\n      <td>1</td>\n      <td>N695BR</td>\n      <td>ontime</td>\n    </tr>\n    <tr>\n      <td>3</td>\n      <td>1715</td>\n      <td>DH</td>\n      <td>1709</td>\n      <td>LGA</td>\n      <td>229</td>\n      <td>1/1/2004</td>\n      <td>7215</td>\n      <td>IAD</td>\n      <td>0</td>\n      <td>4</td>\n      <td>1</td>\n      <td>N662BR</td>\n      <td>ontime</td>\n    </tr>\n    <tr>\n      <td>4</td>\n      <td>1039</td>\n      <td>DH</td>\n      <td>1035</td>\n      <td>LGA</td>\n      <td>229</td>\n      <td>1/1/2004</td>\n      <td>7792</td>\n      <td>IAD</td>\n      <td>0</td>\n      <td>4</td>\n      <td>1</td>\n      <td>N698BR</td>\n      <td>ontime</td>\n    </tr>\n  </tbody>\n</table>\n</div>"
     },
     "metadata": {},
     "execution_count": 25
    }
   ],
   "source": [
    "import pandas as pd\n",
    "\n",
    "data = pd.read_csv('datos_prueba.csv', sep = ',')\n",
    "data.head()"
   ]
  },
  {
   "cell_type": "code",
   "execution_count": 27,
   "metadata": {},
   "outputs": [
    {
     "output_type": "display_data",
     "data": {
      "text/plain": "<Figure size 432x288 with 1 Axes>",
      "image/svg+xml": "<?xml version=\"1.0\" encoding=\"utf-8\" standalone=\"no\"?>\r\n<!DOCTYPE svg PUBLIC \"-//W3C//DTD SVG 1.1//EN\"\r\n  \"http://www.w3.org/Graphics/SVG/1.1/DTD/svg11.dtd\">\r\n<!-- Created with matplotlib (https://matplotlib.org/) -->\r\n<svg height=\"262.19625pt\" version=\"1.1\" viewBox=\"0 0 388.965625 262.19625\" width=\"388.965625pt\" xmlns=\"http://www.w3.org/2000/svg\" xmlns:xlink=\"http://www.w3.org/1999/xlink\">\r\n <defs>\r\n  <style type=\"text/css\">\r\n*{stroke-linecap:butt;stroke-linejoin:round;}\r\n  </style>\r\n </defs>\r\n <g id=\"figure_1\">\r\n  <g id=\"patch_1\">\r\n   <path d=\"M 0 262.19625 \r\nL 388.965625 262.19625 \r\nL 388.965625 0 \r\nL 0 0 \r\nz\r\n\" style=\"fill:none;\"/>\r\n  </g>\r\n  <g id=\"axes_1\">\r\n   <g id=\"patch_2\">\r\n    <path d=\"M 46.965625 224.64 \r\nL 381.765625 224.64 \r\nL 381.765625 7.2 \r\nL 46.965625 7.2 \r\nz\r\n\" style=\"fill:#ffffff;\"/>\r\n   </g>\r\n   <g id=\"patch_3\">\r\n    <path clip-path=\"url(#pcb3f6b97e4)\" d=\"M 58.125625 224.64 \r\nL 147.405625 224.64 \r\nL 147.405625 68.051154 \r\nL 58.125625 68.051154 \r\nz\r\n\" style=\"fill:#3274a1;\"/>\r\n   </g>\r\n   <g id=\"patch_4\">\r\n    <path clip-path=\"url(#pcb3f6b97e4)\" d=\"M 169.725625 224.64 \r\nL 259.005625 224.64 \r\nL 259.005625 31.71101 \r\nL 169.725625 31.71101 \r\nz\r\n\" style=\"fill:#e1812c;\"/>\r\n   </g>\r\n   <g id=\"patch_5\">\r\n    <path clip-path=\"url(#pcb3f6b97e4)\" d=\"M 281.325625 224.64 \r\nL 370.605625 224.64 \r\nL 370.605625 20.406873 \r\nL 281.325625 20.406873 \r\nz\r\n\" style=\"fill:#3a923a;\"/>\r\n   </g>\r\n   <g id=\"matplotlib.axis_1\">\r\n    <g id=\"xtick_1\">\r\n     <g id=\"line2d_1\">\r\n      <defs>\r\n       <path d=\"M 0 0 \r\nL 0 3.5 \r\n\" id=\"m20d043d8a3\" style=\"stroke:#000000;stroke-width:0.8;\"/>\r\n      </defs>\r\n      <g>\r\n       <use style=\"stroke:#000000;stroke-width:0.8;\" x=\"102.765625\" xlink:href=\"#m20d043d8a3\" y=\"224.64\"/>\r\n      </g>\r\n     </g>\r\n     <g id=\"text_1\">\r\n      <!-- BWI -->\r\n      <defs>\r\n       <path d=\"M 19.671875 34.8125 \r\nL 19.671875 8.109375 \r\nL 35.5 8.109375 \r\nQ 43.453125 8.109375 47.28125 11.40625 \r\nQ 51.125 14.703125 51.125 21.484375 \r\nQ 51.125 28.328125 47.28125 31.5625 \r\nQ 43.453125 34.8125 35.5 34.8125 \r\nz\r\nM 19.671875 64.796875 \r\nL 19.671875 42.828125 \r\nL 34.28125 42.828125 \r\nQ 41.5 42.828125 45.03125 45.53125 \r\nQ 48.578125 48.25 48.578125 53.8125 \r\nQ 48.578125 59.328125 45.03125 62.0625 \r\nQ 41.5 64.796875 34.28125 64.796875 \r\nz\r\nM 9.8125 72.90625 \r\nL 35.015625 72.90625 \r\nQ 46.296875 72.90625 52.390625 68.21875 \r\nQ 58.5 63.53125 58.5 54.890625 \r\nQ 58.5 48.1875 55.375 44.234375 \r\nQ 52.25 40.28125 46.1875 39.3125 \r\nQ 53.46875 37.75 57.5 32.78125 \r\nQ 61.53125 27.828125 61.53125 20.40625 \r\nQ 61.53125 10.640625 54.890625 5.3125 \r\nQ 48.25 0 35.984375 0 \r\nL 9.8125 0 \r\nz\r\n\" id=\"DejaVuSans-66\"/>\r\n       <path d=\"M 3.328125 72.90625 \r\nL 13.28125 72.90625 \r\nL 28.609375 11.28125 \r\nL 43.890625 72.90625 \r\nL 54.984375 72.90625 \r\nL 70.3125 11.28125 \r\nL 85.59375 72.90625 \r\nL 95.609375 72.90625 \r\nL 77.296875 0 \r\nL 64.890625 0 \r\nL 49.515625 63.28125 \r\nL 33.984375 0 \r\nL 21.578125 0 \r\nz\r\n\" id=\"DejaVuSans-87\"/>\r\n       <path d=\"M 9.8125 72.90625 \r\nL 19.671875 72.90625 \r\nL 19.671875 0 \r\nL 9.8125 0 \r\nz\r\n\" id=\"DejaVuSans-73\"/>\r\n      </defs>\r\n      <g transform=\"translate(92.91875 239.238437)scale(0.1 -0.1)\">\r\n       <use xlink:href=\"#DejaVuSans-66\"/>\r\n       <use x=\"68.556641\" xlink:href=\"#DejaVuSans-87\"/>\r\n       <use x=\"167.433594\" xlink:href=\"#DejaVuSans-73\"/>\r\n      </g>\r\n     </g>\r\n    </g>\r\n    <g id=\"xtick_2\">\r\n     <g id=\"line2d_2\">\r\n      <g>\r\n       <use style=\"stroke:#000000;stroke-width:0.8;\" x=\"214.365625\" xlink:href=\"#m20d043d8a3\" y=\"224.64\"/>\r\n      </g>\r\n     </g>\r\n     <g id=\"text_2\">\r\n      <!-- DCA -->\r\n      <defs>\r\n       <path d=\"M 19.671875 64.796875 \r\nL 19.671875 8.109375 \r\nL 31.59375 8.109375 \r\nQ 46.6875 8.109375 53.6875 14.9375 \r\nQ 60.6875 21.78125 60.6875 36.53125 \r\nQ 60.6875 51.171875 53.6875 57.984375 \r\nQ 46.6875 64.796875 31.59375 64.796875 \r\nz\r\nM 9.8125 72.90625 \r\nL 30.078125 72.90625 \r\nQ 51.265625 72.90625 61.171875 64.09375 \r\nQ 71.09375 55.28125 71.09375 36.53125 \r\nQ 71.09375 17.671875 61.125 8.828125 \r\nQ 51.171875 0 30.078125 0 \r\nL 9.8125 0 \r\nz\r\n\" id=\"DejaVuSans-68\"/>\r\n       <path d=\"M 64.40625 67.28125 \r\nL 64.40625 56.890625 \r\nQ 59.421875 61.53125 53.78125 63.8125 \r\nQ 48.140625 66.109375 41.796875 66.109375 \r\nQ 29.296875 66.109375 22.65625 58.46875 \r\nQ 16.015625 50.828125 16.015625 36.375 \r\nQ 16.015625 21.96875 22.65625 14.328125 \r\nQ 29.296875 6.6875 41.796875 6.6875 \r\nQ 48.140625 6.6875 53.78125 8.984375 \r\nQ 59.421875 11.28125 64.40625 15.921875 \r\nL 64.40625 5.609375 \r\nQ 59.234375 2.09375 53.4375 0.328125 \r\nQ 47.65625 -1.421875 41.21875 -1.421875 \r\nQ 24.65625 -1.421875 15.125 8.703125 \r\nQ 5.609375 18.84375 5.609375 36.375 \r\nQ 5.609375 53.953125 15.125 64.078125 \r\nQ 24.65625 74.21875 41.21875 74.21875 \r\nQ 47.75 74.21875 53.53125 72.484375 \r\nQ 59.328125 70.75 64.40625 67.28125 \r\nz\r\n\" id=\"DejaVuSans-67\"/>\r\n       <path d=\"M 34.1875 63.1875 \r\nL 20.796875 26.90625 \r\nL 47.609375 26.90625 \r\nz\r\nM 28.609375 72.90625 \r\nL 39.796875 72.90625 \r\nL 67.578125 0 \r\nL 57.328125 0 \r\nL 50.6875 18.703125 \r\nL 17.828125 18.703125 \r\nL 11.1875 0 \r\nL 0.78125 0 \r\nz\r\n\" id=\"DejaVuSans-65\"/>\r\n      </defs>\r\n      <g transform=\"translate(203.603906 239.238437)scale(0.1 -0.1)\">\r\n       <use xlink:href=\"#DejaVuSans-68\"/>\r\n       <use x=\"77.001953\" xlink:href=\"#DejaVuSans-67\"/>\r\n       <use x=\"146.826172\" xlink:href=\"#DejaVuSans-65\"/>\r\n      </g>\r\n     </g>\r\n    </g>\r\n    <g id=\"xtick_3\">\r\n     <g id=\"line2d_3\">\r\n      <g>\r\n       <use style=\"stroke:#000000;stroke-width:0.8;\" x=\"325.965625\" xlink:href=\"#m20d043d8a3\" y=\"224.64\"/>\r\n      </g>\r\n     </g>\r\n     <g id=\"text_3\">\r\n      <!-- IAD -->\r\n      <g transform=\"translate(317.220312 239.238437)scale(0.1 -0.1)\">\r\n       <use xlink:href=\"#DejaVuSans-73\"/>\r\n       <use x=\"29.492188\" xlink:href=\"#DejaVuSans-65\"/>\r\n       <use x=\"97.900391\" xlink:href=\"#DejaVuSans-68\"/>\r\n      </g>\r\n     </g>\r\n    </g>\r\n    <g id=\"text_4\">\r\n     <!-- origin -->\r\n     <defs>\r\n      <path d=\"M 30.609375 48.390625 \r\nQ 23.390625 48.390625 19.1875 42.75 \r\nQ 14.984375 37.109375 14.984375 27.296875 \r\nQ 14.984375 17.484375 19.15625 11.84375 \r\nQ 23.34375 6.203125 30.609375 6.203125 \r\nQ 37.796875 6.203125 41.984375 11.859375 \r\nQ 46.1875 17.53125 46.1875 27.296875 \r\nQ 46.1875 37.015625 41.984375 42.703125 \r\nQ 37.796875 48.390625 30.609375 48.390625 \r\nz\r\nM 30.609375 56 \r\nQ 42.328125 56 49.015625 48.375 \r\nQ 55.71875 40.765625 55.71875 27.296875 \r\nQ 55.71875 13.875 49.015625 6.21875 \r\nQ 42.328125 -1.421875 30.609375 -1.421875 \r\nQ 18.84375 -1.421875 12.171875 6.21875 \r\nQ 5.515625 13.875 5.515625 27.296875 \r\nQ 5.515625 40.765625 12.171875 48.375 \r\nQ 18.84375 56 30.609375 56 \r\nz\r\n\" id=\"DejaVuSans-111\"/>\r\n      <path d=\"M 41.109375 46.296875 \r\nQ 39.59375 47.171875 37.8125 47.578125 \r\nQ 36.03125 48 33.890625 48 \r\nQ 26.265625 48 22.1875 43.046875 \r\nQ 18.109375 38.09375 18.109375 28.8125 \r\nL 18.109375 0 \r\nL 9.078125 0 \r\nL 9.078125 54.6875 \r\nL 18.109375 54.6875 \r\nL 18.109375 46.1875 \r\nQ 20.953125 51.171875 25.484375 53.578125 \r\nQ 30.03125 56 36.53125 56 \r\nQ 37.453125 56 38.578125 55.875 \r\nQ 39.703125 55.765625 41.0625 55.515625 \r\nz\r\n\" id=\"DejaVuSans-114\"/>\r\n      <path d=\"M 9.421875 54.6875 \r\nL 18.40625 54.6875 \r\nL 18.40625 0 \r\nL 9.421875 0 \r\nz\r\nM 9.421875 75.984375 \r\nL 18.40625 75.984375 \r\nL 18.40625 64.59375 \r\nL 9.421875 64.59375 \r\nz\r\n\" id=\"DejaVuSans-105\"/>\r\n      <path d=\"M 45.40625 27.984375 \r\nQ 45.40625 37.75 41.375 43.109375 \r\nQ 37.359375 48.484375 30.078125 48.484375 \r\nQ 22.859375 48.484375 18.828125 43.109375 \r\nQ 14.796875 37.75 14.796875 27.984375 \r\nQ 14.796875 18.265625 18.828125 12.890625 \r\nQ 22.859375 7.515625 30.078125 7.515625 \r\nQ 37.359375 7.515625 41.375 12.890625 \r\nQ 45.40625 18.265625 45.40625 27.984375 \r\nz\r\nM 54.390625 6.78125 \r\nQ 54.390625 -7.171875 48.1875 -13.984375 \r\nQ 42 -20.796875 29.203125 -20.796875 \r\nQ 24.46875 -20.796875 20.265625 -20.09375 \r\nQ 16.0625 -19.390625 12.109375 -17.921875 \r\nL 12.109375 -9.1875 \r\nQ 16.0625 -11.328125 19.921875 -12.34375 \r\nQ 23.78125 -13.375 27.78125 -13.375 \r\nQ 36.625 -13.375 41.015625 -8.765625 \r\nQ 45.40625 -4.15625 45.40625 5.171875 \r\nL 45.40625 9.625 \r\nQ 42.625 4.78125 38.28125 2.390625 \r\nQ 33.9375 0 27.875 0 \r\nQ 17.828125 0 11.671875 7.65625 \r\nQ 5.515625 15.328125 5.515625 27.984375 \r\nQ 5.515625 40.671875 11.671875 48.328125 \r\nQ 17.828125 56 27.875 56 \r\nQ 33.9375 56 38.28125 53.609375 \r\nQ 42.625 51.21875 45.40625 46.390625 \r\nL 45.40625 54.6875 \r\nL 54.390625 54.6875 \r\nz\r\n\" id=\"DejaVuSans-103\"/>\r\n      <path d=\"M 54.890625 33.015625 \r\nL 54.890625 0 \r\nL 45.90625 0 \r\nL 45.90625 32.71875 \r\nQ 45.90625 40.484375 42.875 44.328125 \r\nQ 39.84375 48.1875 33.796875 48.1875 \r\nQ 26.515625 48.1875 22.3125 43.546875 \r\nQ 18.109375 38.921875 18.109375 30.90625 \r\nL 18.109375 0 \r\nL 9.078125 0 \r\nL 9.078125 54.6875 \r\nL 18.109375 54.6875 \r\nL 18.109375 46.1875 \r\nQ 21.34375 51.125 25.703125 53.5625 \r\nQ 30.078125 56 35.796875 56 \r\nQ 45.21875 56 50.046875 50.171875 \r\nQ 54.890625 44.34375 54.890625 33.015625 \r\nz\r\n\" id=\"DejaVuSans-110\"/>\r\n     </defs>\r\n     <g transform=\"translate(200.129688 252.916562)scale(0.1 -0.1)\">\r\n      <use xlink:href=\"#DejaVuSans-111\"/>\r\n      <use x=\"61.181641\" xlink:href=\"#DejaVuSans-114\"/>\r\n      <use x=\"102.294922\" xlink:href=\"#DejaVuSans-105\"/>\r\n      <use x=\"130.078125\" xlink:href=\"#DejaVuSans-103\"/>\r\n      <use x=\"193.554688\" xlink:href=\"#DejaVuSans-105\"/>\r\n      <use x=\"221.337891\" xlink:href=\"#DejaVuSans-110\"/>\r\n     </g>\r\n    </g>\r\n   </g>\r\n   <g id=\"matplotlib.axis_2\">\r\n    <g id=\"ytick_1\">\r\n     <g id=\"line2d_4\">\r\n      <defs>\r\n       <path d=\"M 0 0 \r\nL -3.5 0 \r\n\" id=\"m696c35b701\" style=\"stroke:#000000;stroke-width:0.8;\"/>\r\n      </defs>\r\n      <g>\r\n       <use style=\"stroke:#000000;stroke-width:0.8;\" x=\"46.965625\" xlink:href=\"#m696c35b701\" y=\"224.64\"/>\r\n      </g>\r\n     </g>\r\n     <g id=\"text_5\">\r\n      <!-- 0 -->\r\n      <defs>\r\n       <path d=\"M 31.78125 66.40625 \r\nQ 24.171875 66.40625 20.328125 58.90625 \r\nQ 16.5 51.421875 16.5 36.375 \r\nQ 16.5 21.390625 20.328125 13.890625 \r\nQ 24.171875 6.390625 31.78125 6.390625 \r\nQ 39.453125 6.390625 43.28125 13.890625 \r\nQ 47.125 21.390625 47.125 36.375 \r\nQ 47.125 51.421875 43.28125 58.90625 \r\nQ 39.453125 66.40625 31.78125 66.40625 \r\nz\r\nM 31.78125 74.21875 \r\nQ 44.046875 74.21875 50.515625 64.515625 \r\nQ 56.984375 54.828125 56.984375 36.375 \r\nQ 56.984375 17.96875 50.515625 8.265625 \r\nQ 44.046875 -1.421875 31.78125 -1.421875 \r\nQ 19.53125 -1.421875 13.0625 8.265625 \r\nQ 6.59375 17.96875 6.59375 36.375 \r\nQ 6.59375 54.828125 13.0625 64.515625 \r\nQ 19.53125 74.21875 31.78125 74.21875 \r\nz\r\n\" id=\"DejaVuSans-48\"/>\r\n      </defs>\r\n      <g transform=\"translate(33.603125 228.439219)scale(0.1 -0.1)\">\r\n       <use xlink:href=\"#DejaVuSans-48\"/>\r\n      </g>\r\n     </g>\r\n    </g>\r\n    <g id=\"ytick_2\">\r\n     <g id=\"line2d_5\">\r\n      <g>\r\n       <use style=\"stroke:#000000;stroke-width:0.8;\" x=\"46.965625\" xlink:href=\"#m696c35b701\" y=\"179.119987\"/>\r\n      </g>\r\n     </g>\r\n     <g id=\"text_6\">\r\n      <!-- 50 -->\r\n      <defs>\r\n       <path d=\"M 10.796875 72.90625 \r\nL 49.515625 72.90625 \r\nL 49.515625 64.59375 \r\nL 19.828125 64.59375 \r\nL 19.828125 46.734375 \r\nQ 21.96875 47.46875 24.109375 47.828125 \r\nQ 26.265625 48.1875 28.421875 48.1875 \r\nQ 40.625 48.1875 47.75 41.5 \r\nQ 54.890625 34.8125 54.890625 23.390625 \r\nQ 54.890625 11.625 47.5625 5.09375 \r\nQ 40.234375 -1.421875 26.90625 -1.421875 \r\nQ 22.3125 -1.421875 17.546875 -0.640625 \r\nQ 12.796875 0.140625 7.71875 1.703125 \r\nL 7.71875 11.625 \r\nQ 12.109375 9.234375 16.796875 8.0625 \r\nQ 21.484375 6.890625 26.703125 6.890625 \r\nQ 35.15625 6.890625 40.078125 11.328125 \r\nQ 45.015625 15.765625 45.015625 23.390625 \r\nQ 45.015625 31 40.078125 35.4375 \r\nQ 35.15625 39.890625 26.703125 39.890625 \r\nQ 22.75 39.890625 18.8125 39.015625 \r\nQ 14.890625 38.140625 10.796875 36.28125 \r\nz\r\n\" id=\"DejaVuSans-53\"/>\r\n      </defs>\r\n      <g transform=\"translate(27.240625 182.919205)scale(0.1 -0.1)\">\r\n       <use xlink:href=\"#DejaVuSans-53\"/>\r\n       <use x=\"63.623047\" xlink:href=\"#DejaVuSans-48\"/>\r\n      </g>\r\n     </g>\r\n    </g>\r\n    <g id=\"ytick_3\">\r\n     <g id=\"line2d_6\">\r\n      <g>\r\n       <use style=\"stroke:#000000;stroke-width:0.8;\" x=\"46.965625\" xlink:href=\"#m696c35b701\" y=\"133.599973\"/>\r\n      </g>\r\n     </g>\r\n     <g id=\"text_7\">\r\n      <!-- 100 -->\r\n      <defs>\r\n       <path d=\"M 12.40625 8.296875 \r\nL 28.515625 8.296875 \r\nL 28.515625 63.921875 \r\nL 10.984375 60.40625 \r\nL 10.984375 69.390625 \r\nL 28.421875 72.90625 \r\nL 38.28125 72.90625 \r\nL 38.28125 8.296875 \r\nL 54.390625 8.296875 \r\nL 54.390625 0 \r\nL 12.40625 0 \r\nz\r\n\" id=\"DejaVuSans-49\"/>\r\n      </defs>\r\n      <g transform=\"translate(20.878125 137.399192)scale(0.1 -0.1)\">\r\n       <use xlink:href=\"#DejaVuSans-49\"/>\r\n       <use x=\"63.623047\" xlink:href=\"#DejaVuSans-48\"/>\r\n       <use x=\"127.246094\" xlink:href=\"#DejaVuSans-48\"/>\r\n      </g>\r\n     </g>\r\n    </g>\r\n    <g id=\"ytick_4\">\r\n     <g id=\"line2d_7\">\r\n      <g>\r\n       <use style=\"stroke:#000000;stroke-width:0.8;\" x=\"46.965625\" xlink:href=\"#m696c35b701\" y=\"88.07996\"/>\r\n      </g>\r\n     </g>\r\n     <g id=\"text_8\">\r\n      <!-- 150 -->\r\n      <g transform=\"translate(20.878125 91.879179)scale(0.1 -0.1)\">\r\n       <use xlink:href=\"#DejaVuSans-49\"/>\r\n       <use x=\"63.623047\" xlink:href=\"#DejaVuSans-53\"/>\r\n       <use x=\"127.246094\" xlink:href=\"#DejaVuSans-48\"/>\r\n      </g>\r\n     </g>\r\n    </g>\r\n    <g id=\"ytick_5\">\r\n     <g id=\"line2d_8\">\r\n      <g>\r\n       <use style=\"stroke:#000000;stroke-width:0.8;\" x=\"46.965625\" xlink:href=\"#m696c35b701\" y=\"42.559946\"/>\r\n      </g>\r\n     </g>\r\n     <g id=\"text_9\">\r\n      <!-- 200 -->\r\n      <defs>\r\n       <path d=\"M 19.1875 8.296875 \r\nL 53.609375 8.296875 \r\nL 53.609375 0 \r\nL 7.328125 0 \r\nL 7.328125 8.296875 \r\nQ 12.9375 14.109375 22.625 23.890625 \r\nQ 32.328125 33.6875 34.8125 36.53125 \r\nQ 39.546875 41.84375 41.421875 45.53125 \r\nQ 43.3125 49.21875 43.3125 52.78125 \r\nQ 43.3125 58.59375 39.234375 62.25 \r\nQ 35.15625 65.921875 28.609375 65.921875 \r\nQ 23.96875 65.921875 18.8125 64.3125 \r\nQ 13.671875 62.703125 7.8125 59.421875 \r\nL 7.8125 69.390625 \r\nQ 13.765625 71.78125 18.9375 73 \r\nQ 24.125 74.21875 28.421875 74.21875 \r\nQ 39.75 74.21875 46.484375 68.546875 \r\nQ 53.21875 62.890625 53.21875 53.421875 \r\nQ 53.21875 48.921875 51.53125 44.890625 \r\nQ 49.859375 40.875 45.40625 35.40625 \r\nQ 44.1875 33.984375 37.640625 27.21875 \r\nQ 31.109375 20.453125 19.1875 8.296875 \r\nz\r\n\" id=\"DejaVuSans-50\"/>\r\n      </defs>\r\n      <g transform=\"translate(20.878125 46.359165)scale(0.1 -0.1)\">\r\n       <use xlink:href=\"#DejaVuSans-50\"/>\r\n       <use x=\"63.623047\" xlink:href=\"#DejaVuSans-48\"/>\r\n       <use x=\"127.246094\" xlink:href=\"#DejaVuSans-48\"/>\r\n      </g>\r\n     </g>\r\n    </g>\r\n    <g id=\"text_10\">\r\n     <!-- distance -->\r\n     <defs>\r\n      <path d=\"M 45.40625 46.390625 \r\nL 45.40625 75.984375 \r\nL 54.390625 75.984375 \r\nL 54.390625 0 \r\nL 45.40625 0 \r\nL 45.40625 8.203125 \r\nQ 42.578125 3.328125 38.25 0.953125 \r\nQ 33.9375 -1.421875 27.875 -1.421875 \r\nQ 17.96875 -1.421875 11.734375 6.484375 \r\nQ 5.515625 14.40625 5.515625 27.296875 \r\nQ 5.515625 40.1875 11.734375 48.09375 \r\nQ 17.96875 56 27.875 56 \r\nQ 33.9375 56 38.25 53.625 \r\nQ 42.578125 51.265625 45.40625 46.390625 \r\nz\r\nM 14.796875 27.296875 \r\nQ 14.796875 17.390625 18.875 11.75 \r\nQ 22.953125 6.109375 30.078125 6.109375 \r\nQ 37.203125 6.109375 41.296875 11.75 \r\nQ 45.40625 17.390625 45.40625 27.296875 \r\nQ 45.40625 37.203125 41.296875 42.84375 \r\nQ 37.203125 48.484375 30.078125 48.484375 \r\nQ 22.953125 48.484375 18.875 42.84375 \r\nQ 14.796875 37.203125 14.796875 27.296875 \r\nz\r\n\" id=\"DejaVuSans-100\"/>\r\n      <path d=\"M 44.28125 53.078125 \r\nL 44.28125 44.578125 \r\nQ 40.484375 46.53125 36.375 47.5 \r\nQ 32.28125 48.484375 27.875 48.484375 \r\nQ 21.1875 48.484375 17.84375 46.4375 \r\nQ 14.5 44.390625 14.5 40.28125 \r\nQ 14.5 37.15625 16.890625 35.375 \r\nQ 19.28125 33.59375 26.515625 31.984375 \r\nL 29.59375 31.296875 \r\nQ 39.15625 29.25 43.1875 25.515625 \r\nQ 47.21875 21.78125 47.21875 15.09375 \r\nQ 47.21875 7.46875 41.1875 3.015625 \r\nQ 35.15625 -1.421875 24.609375 -1.421875 \r\nQ 20.21875 -1.421875 15.453125 -0.5625 \r\nQ 10.6875 0.296875 5.421875 2 \r\nL 5.421875 11.28125 \r\nQ 10.40625 8.6875 15.234375 7.390625 \r\nQ 20.0625 6.109375 24.8125 6.109375 \r\nQ 31.15625 6.109375 34.5625 8.28125 \r\nQ 37.984375 10.453125 37.984375 14.40625 \r\nQ 37.984375 18.0625 35.515625 20.015625 \r\nQ 33.0625 21.96875 24.703125 23.78125 \r\nL 21.578125 24.515625 \r\nQ 13.234375 26.265625 9.515625 29.90625 \r\nQ 5.8125 33.546875 5.8125 39.890625 \r\nQ 5.8125 47.609375 11.28125 51.796875 \r\nQ 16.75 56 26.8125 56 \r\nQ 31.78125 56 36.171875 55.265625 \r\nQ 40.578125 54.546875 44.28125 53.078125 \r\nz\r\n\" id=\"DejaVuSans-115\"/>\r\n      <path d=\"M 18.3125 70.21875 \r\nL 18.3125 54.6875 \r\nL 36.8125 54.6875 \r\nL 36.8125 47.703125 \r\nL 18.3125 47.703125 \r\nL 18.3125 18.015625 \r\nQ 18.3125 11.328125 20.140625 9.421875 \r\nQ 21.96875 7.515625 27.59375 7.515625 \r\nL 36.8125 7.515625 \r\nL 36.8125 0 \r\nL 27.59375 0 \r\nQ 17.1875 0 13.234375 3.875 \r\nQ 9.28125 7.765625 9.28125 18.015625 \r\nL 9.28125 47.703125 \r\nL 2.6875 47.703125 \r\nL 2.6875 54.6875 \r\nL 9.28125 54.6875 \r\nL 9.28125 70.21875 \r\nz\r\n\" id=\"DejaVuSans-116\"/>\r\n      <path d=\"M 34.28125 27.484375 \r\nQ 23.390625 27.484375 19.1875 25 \r\nQ 14.984375 22.515625 14.984375 16.5 \r\nQ 14.984375 11.71875 18.140625 8.90625 \r\nQ 21.296875 6.109375 26.703125 6.109375 \r\nQ 34.1875 6.109375 38.703125 11.40625 \r\nQ 43.21875 16.703125 43.21875 25.484375 \r\nL 43.21875 27.484375 \r\nz\r\nM 52.203125 31.203125 \r\nL 52.203125 0 \r\nL 43.21875 0 \r\nL 43.21875 8.296875 \r\nQ 40.140625 3.328125 35.546875 0.953125 \r\nQ 30.953125 -1.421875 24.3125 -1.421875 \r\nQ 15.921875 -1.421875 10.953125 3.296875 \r\nQ 6 8.015625 6 15.921875 \r\nQ 6 25.140625 12.171875 29.828125 \r\nQ 18.359375 34.515625 30.609375 34.515625 \r\nL 43.21875 34.515625 \r\nL 43.21875 35.40625 \r\nQ 43.21875 41.609375 39.140625 45 \r\nQ 35.0625 48.390625 27.6875 48.390625 \r\nQ 23 48.390625 18.546875 47.265625 \r\nQ 14.109375 46.140625 10.015625 43.890625 \r\nL 10.015625 52.203125 \r\nQ 14.9375 54.109375 19.578125 55.046875 \r\nQ 24.21875 56 28.609375 56 \r\nQ 40.484375 56 46.34375 49.84375 \r\nQ 52.203125 43.703125 52.203125 31.203125 \r\nz\r\n\" id=\"DejaVuSans-97\"/>\r\n      <path d=\"M 48.78125 52.59375 \r\nL 48.78125 44.1875 \r\nQ 44.96875 46.296875 41.140625 47.34375 \r\nQ 37.3125 48.390625 33.40625 48.390625 \r\nQ 24.65625 48.390625 19.8125 42.84375 \r\nQ 14.984375 37.3125 14.984375 27.296875 \r\nQ 14.984375 17.28125 19.8125 11.734375 \r\nQ 24.65625 6.203125 33.40625 6.203125 \r\nQ 37.3125 6.203125 41.140625 7.25 \r\nQ 44.96875 8.296875 48.78125 10.40625 \r\nL 48.78125 2.09375 \r\nQ 45.015625 0.34375 40.984375 -0.53125 \r\nQ 36.96875 -1.421875 32.421875 -1.421875 \r\nQ 20.0625 -1.421875 12.78125 6.34375 \r\nQ 5.515625 14.109375 5.515625 27.296875 \r\nQ 5.515625 40.671875 12.859375 48.328125 \r\nQ 20.21875 56 33.015625 56 \r\nQ 37.15625 56 41.109375 55.140625 \r\nQ 45.0625 54.296875 48.78125 52.59375 \r\nz\r\n\" id=\"DejaVuSans-99\"/>\r\n      <path d=\"M 56.203125 29.59375 \r\nL 56.203125 25.203125 \r\nL 14.890625 25.203125 \r\nQ 15.484375 15.921875 20.484375 11.0625 \r\nQ 25.484375 6.203125 34.421875 6.203125 \r\nQ 39.59375 6.203125 44.453125 7.46875 \r\nQ 49.3125 8.734375 54.109375 11.28125 \r\nL 54.109375 2.78125 \r\nQ 49.265625 0.734375 44.1875 -0.34375 \r\nQ 39.109375 -1.421875 33.890625 -1.421875 \r\nQ 20.796875 -1.421875 13.15625 6.1875 \r\nQ 5.515625 13.8125 5.515625 26.8125 \r\nQ 5.515625 40.234375 12.765625 48.109375 \r\nQ 20.015625 56 32.328125 56 \r\nQ 43.359375 56 49.78125 48.890625 \r\nQ 56.203125 41.796875 56.203125 29.59375 \r\nz\r\nM 47.21875 32.234375 \r\nQ 47.125 39.59375 43.09375 43.984375 \r\nQ 39.0625 48.390625 32.421875 48.390625 \r\nQ 24.90625 48.390625 20.390625 44.140625 \r\nQ 15.875 39.890625 15.1875 32.171875 \r\nz\r\n\" id=\"DejaVuSans-101\"/>\r\n     </defs>\r\n     <g transform=\"translate(14.798438 137.106719)rotate(-90)scale(0.1 -0.1)\">\r\n      <use xlink:href=\"#DejaVuSans-100\"/>\r\n      <use x=\"63.476562\" xlink:href=\"#DejaVuSans-105\"/>\r\n      <use x=\"91.259766\" xlink:href=\"#DejaVuSans-115\"/>\r\n      <use x=\"143.359375\" xlink:href=\"#DejaVuSans-116\"/>\r\n      <use x=\"182.568359\" xlink:href=\"#DejaVuSans-97\"/>\r\n      <use x=\"243.847656\" xlink:href=\"#DejaVuSans-110\"/>\r\n      <use x=\"307.226562\" xlink:href=\"#DejaVuSans-99\"/>\r\n      <use x=\"362.207031\" xlink:href=\"#DejaVuSans-101\"/>\r\n     </g>\r\n    </g>\r\n   </g>\r\n   <g id=\"line2d_9\">\r\n    <path clip-path=\"url(#pcb3f6b97e4)\" d=\"M 102.765625 70.782355 \r\nL 102.765625 62.588752 \r\n\" style=\"fill:none;stroke:#424242;stroke-linecap:square;stroke-width:2.7;\"/>\r\n   </g>\r\n   <g id=\"line2d_10\">\r\n    <path clip-path=\"url(#pcb3f6b97e4)\" d=\"M 214.365625 33.835277 \r\nL 214.365625 30.041943 \r\n\" style=\"fill:none;stroke:#424242;stroke-linecap:square;stroke-width:2.7;\"/>\r\n   </g>\r\n   <g id=\"line2d_11\">\r\n    <path clip-path=\"url(#pcb3f6b97e4)\" d=\"M 325.965625 23.320154 \r\nL 325.965625 17.554286 \r\n\" style=\"fill:none;stroke:#424242;stroke-linecap:square;stroke-width:2.7;\"/>\r\n   </g>\r\n   <g id=\"patch_6\">\r\n    <path d=\"M 46.965625 224.64 \r\nL 46.965625 7.2 \r\n\" style=\"fill:none;stroke:#000000;stroke-linecap:square;stroke-linejoin:miter;stroke-width:0.8;\"/>\r\n   </g>\r\n   <g id=\"patch_7\">\r\n    <path d=\"M 381.765625 224.64 \r\nL 381.765625 7.2 \r\n\" style=\"fill:none;stroke:#000000;stroke-linecap:square;stroke-linejoin:miter;stroke-width:0.8;\"/>\r\n   </g>\r\n   <g id=\"patch_8\">\r\n    <path d=\"M 46.965625 224.64 \r\nL 381.765625 224.64 \r\n\" style=\"fill:none;stroke:#000000;stroke-linecap:square;stroke-linejoin:miter;stroke-width:0.8;\"/>\r\n   </g>\r\n   <g id=\"patch_9\">\r\n    <path d=\"M 46.965625 7.2 \r\nL 381.765625 7.2 \r\n\" style=\"fill:none;stroke:#000000;stroke-linecap:square;stroke-linejoin:miter;stroke-width:0.8;\"/>\r\n   </g>\r\n  </g>\r\n </g>\r\n <defs>\r\n  <clipPath id=\"pcb3f6b97e4\">\r\n   <rect height=\"217.44\" width=\"334.8\" x=\"46.965625\" y=\"7.2\"/>\r\n  </clipPath>\r\n </defs>\r\n</svg>\r\n",
      "image/png": "[encoded data removed]"
     },
     "metadata": {
      "needs_background": "light"
     }
    }
   ],
   "source": [
    "import seaborn as sns #Librería de visualización de datos\n",
    "graph = sns.barplot(x = 'origin', y= 'distance', data= data)\n"
   ]
  },
  {
   "cell_type": "markdown",
   "metadata": {},
   "source": [
    "### Bibliotecas de terceros\n",
    "**¿Y si encontramos una librería interesante, pero no viene en el paquete de Anaconda?** La podremos instalar. Anaconda viene con muchas bibliotecas ya instaladas, la mayoría orientadas a trabajar con datos, pero por supuesto, no contiene todas las bibliotecas. Si quieres ver los paquetes de Anaconda, abre un *Prompt de Anaconda* y escribe `pip freeze`.\n",
    "\n",
    "Entonces, **¿cómo se instala un paquete nuevo?** La mayoría de paquetes los vas a encontrar en [PyPI (Python Package Index)](https://pypi.org), que es el repositorio oficial de paquetes de Python. Existen paquetes de terceros que no pertenecen a PyPI. Eso no quiere decir que no los puedas instalar, sino que probablemente estén menos testados que los \"oficiales\".\n",
    "\n",
    "Veamos un ejemplo de cómo instalar una nueva librería. En este caso, instalaremos **wget**, que nos sirve para obtener archivos de la web."
   ]
  },
  {
   "cell_type": "code",
   "execution_count": 28,
   "metadata": {},
   "outputs": [],
   "source": [
    "#Instalación desde el noteBook jupyter"
   ]
  },
  {
   "cell_type": "code",
   "execution_count": 30,
   "metadata": {
    "tags": []
   },
   "outputs": [
    {
     "output_type": "stream",
     "name": "stdout",
     "text": "alabaster==0.7.12\nanaconda-client==1.7.2\nanaconda-navigator==1.9.7\nanaconda-project==0.8.3\nasn1crypto==1.0.1\nastroid==2.3.1\nastropy==3.2.1\natomicwrites==1.3.0\nattrs==19.2.0\nBabel==2.7.0\nbackcall==0.1.0\nbackports.functools-lru-cache==1.6.1\nbackports.os==0.1.1\nbackports.shutil-get-terminal-size==1.0.0\nbackports.tempfile==1.0\nbackports.weakref==1.0.post1\nbeautifulsoup4==4.8.0\nbitarray==1.0.1\nbkcharts==0.2\nbleach==3.1.0\nbokeh==1.3.4\nboto==2.49.0\nBottleneck==1.2.1\ncertifi==2019.9.11\ncffi==1.12.3\nchardet==3.0.4\nClick==7.0\ncloudpickle==1.2.2\nclyent==1.2.2\ncolorama==0.4.1\ncomtypes==1.1.7\nconda==4.8.3\nconda-build==3.18.9\nconda-package-handling==1.7.0\nconda-verify==3.4.2\ncontextlib2==0.6.0\ncryptography==2.7\ncvxopt==1.2.4\ncycler==0.10.0\nCython==0.29.13\ncytoolz==0.10.0\ndask==2.5.2\ndecorator==4.4.0\ndefusedxml==0.6.0\ndistributed==2.5.2\ndocutils==0.15.2\nentrypoints==0.3\net-xmlfile==1.0.1\nfastcache==1.1.0\nfilelock==3.0.12\nFlask==1.1.1\nfsspec==0.5.2\nfuture==0.18.2\ngevent==1.4.0\nglob2==0.7\ngreenlet==0.4.15\nh5py==2.9.0\nHeapDict==1.0.1\nhtml5lib==1.0.1\nidna==2.8\nimageio==2.6.0\nimagesize==1.1.0\nimportlib-metadata==0.23\nintel-openmp==2019.0\nipykernel==5.1.2\nipython==7.8.0\nipython-genutils==0.2.0\nipywidgets==7.5.1\nisort==4.3.21\nitsdangerous==1.1.0\njdcal==1.4.1\njedi==0.15.1\nJinja2==2.10.3\njoblib==0.13.2\njson5==0.8.5\njsonschema==3.0.2\njupyter==1.0.0\njupyter-client==5.3.3\njupyter-console==6.0.0\njupyter-core==4.5.0\njupyterlab==1.1.4\njupyterlab-server==1.0.6\nkeyring==18.0.0\nkiwisolver==1.1.0\nlazy-object-proxy==1.4.2\nlibarchive-c==2.8\nllvmlite==0.29.0\nlocket==0.2.0\nlxml==4.4.1\nMarkupSafe==1.1.1\nmatplotlib==3.1.1\nmccabe==0.6.1\nmenuinst==1.4.16\nmistune==0.8.4\nmkl==2019.0\nmkl-fft==1.0.14\nmkl-random==1.1.0\nmkl-service==2.3.0\nmock==3.0.5\nmore-itertools==7.2.0\nmpmath==1.1.0\nmsgpack==0.6.1\nmultipledispatch==0.6.0\nnavigator-updater==0.2.1\nnbconvert==5.6.0\nnbformat==4.4.0\nnetworkx==2.3\nnltk==3.4.5\nnose==1.3.7\nnotebook==6.0.1\nnumba==0.45.1\nnumexpr==2.7.0\nnumpy==1.18.1\nnumpydoc==0.9.1\nolefile==0.46\nopenpyxl==3.0.0\npackaging==19.2\npandas==0.25.1\npandocfilters==1.4.2\nparso==0.5.1\npartd==1.0.0\npath.py==12.0.1\npathlib2==2.3.5\npatsy==0.5.1\npep8==1.7.1\npickleshare==0.7.5\nPillow==6.2.0\npkginfo==1.5.0.1\npluggy==0.13.0\nply==3.11\nprometheus-client==0.7.1\nprompt-toolkit==2.0.10\npsutil==5.6.3\nPuLP==2.0\npy==1.8.0\npycodestyle==2.5.0\npycosat==0.6.3\npycparser==2.19\npycrypto==2.6.1\npycurl==7.43.0.3\npyflakes==2.1.1\nPygments==2.4.2\npylint==2.4.2\npyodbc==4.0.27\npyOpenSSL==19.0.0\npyparsing==2.4.2\npyreadline==2.1\npyrsistent==0.15.4\nPySocks==1.7.1\npytest==5.2.1\npytest-arraydiff==0.3\npytest-astropy==0.5.0\npytest-doctestplus==0.4.0\npytest-openfiles==0.4.0\npytest-remotedata==0.3.2\npython-dateutil==2.8.0\npytz==2019.3\nPyWavelets==1.0.3\npywin32==223\npywinpty==0.5.5\nPyYAML==5.1.2\npyzmq==18.1.0\nQtAwesome==0.6.0\nqtconsole==4.5.5\nQtPy==1.9.0\nrequests==2.22.0\nrope==0.14.0\nruamel-yaml==0.15.46\nscikit-image==0.15.0\nscikit-learn==0.21.3\nscipy==1.3.1\nseaborn==0.9.0\nSend2Trash==1.5.0\nsimplegeneric==0.8.1\nsingledispatch==3.4.0.3\nsix==1.12.0\nsnowballstemmer==2.0.0\nsortedcollections==1.1.2\nsortedcontainers==2.1.0\nsoupsieve==1.9.3\nSphinx==2.2.0\nsphinxcontrib-applehelp==1.0.1\nsphinxcontrib-devhelp==1.0.1\nsphinxcontrib-htmlhelp==1.0.2\nsphinxcontrib-jsmath==1.0.1\nsphinxcontrib-qthelp==1.0.2\nsphinxcontrib-serializinghtml==1.1.3\nsphinxcontrib-websupport==1.1.2\nspyder==3.3.6\nspyder-kernels==0.5.2\nSQLAlchemy==1.3.9\nstatsmodels==0.10.1\nsympy==1.4\ntables==3.5.2\ntblib==1.4.0\nterminado==0.8.2\ntestpath==0.4.2\ntoolz==0.10.0\ntornado==6.0.3\ntqdm==4.36.1\ntraitlets==4.3.3\nunicodecsv==0.14.1\nurllib3==1.24.2\nwcwidth==0.1.7\nwebencodings==0.5.1\nWerkzeug==0.16.0\nwidgetsnbextension==3.5.1\nwin-inet-pton==1.1.0\nwin-unicode-console==0.5\nwincertstore==0.2\nwrapt==1.11.2\nxlrd==1.2.0\nXlsxWriter==1.2.1\nxlwings==0.15.10\nxlwt==1.3.0\nzict==1.0.0\nzipp==0.6.0\nWARNING: Could not generate requirement for distribution -umpy 1.16.5 (c:\\users\\pilar\\anaconda3\\lib\\site-packages): Parse error at \"'-umpy==1'\": Expected W:(abcd...)\n"
    }
   ],
   "source": [
    "!pip freeze #Muestra los módulos intalados en el interprete de Python que estamos utilizando"
   ]
  },
  {
   "cell_type": "code",
   "execution_count": 32,
   "metadata": {
    "tags": []
   },
   "outputs": [
    {
     "output_type": "stream",
     "name": "stdout",
     "text": "C:\\Users\\pilar\\Anaconda3\\python.exe\nC:\\Users\\pilar\\AppData\\Local\\Microsoft\\WindowsApps\\python.exe\n"
    }
   ],
   "source": [
    "!where python"
   ]
  },
  {
   "cell_type": "code",
   "execution_count": 33,
   "metadata": {},
   "outputs": [
    {
     "output_type": "error",
     "ename": "ModuleNotFoundError",
     "evalue": "No module named 'wget'",
     "traceback": [
      "\u001b[1;31m---------------------------------------------------------------------------\u001b[0m",
      "\u001b[1;31mModuleNotFoundError\u001b[0m                       Traceback (most recent call last)",
      "\u001b[1;32m<ipython-input-33-381d77ba2736>\u001b[0m in \u001b[0;36m<module>\u001b[1;34m\u001b[0m\n\u001b[1;32m----> 1\u001b[1;33m \u001b[1;32mimport\u001b[0m \u001b[0mwget\u001b[0m\u001b[1;33m\u001b[0m\u001b[1;33m\u001b[0m\u001b[0m\n\u001b[0m",
      "\u001b[1;31mModuleNotFoundError\u001b[0m: No module named 'wget'"
     ]
    }
   ],
   "source": [
    "import wget"
   ]
  },
  {
   "cell_type": "markdown",
   "metadata": {},
   "source": [
    "Al hace el `import` no existe, por lo que tendremos que instalarla. Para instalarla, abre un prompr de Anaconda y ejecuta `pip install wget`\n",
    "\n",
    "\n",
    "![imagen](../../imagenes/wget.png)"
   ]
  },
  {
   "cell_type": "code",
   "execution_count": 34,
   "metadata": {
    "tags": []
   },
   "outputs": [
    {
     "output_type": "stream",
     "name": "stdout",
     "text": "Collecting wget\n  Downloading https://files.pythonhosted.org/packages/47/6a/62e288da7bcda82b935ff0c6cfe542970f04e29c756b0e147251b2fb251f/wget-3.2.zip\nBuilding wheels for collected packages: wget\n  Building wheel for wget (setup.py): started\n  Building wheel for wget (setup.py): finished with status 'done'\n  Created wheel for wget: filename=wget-3.2-cp37-none-any.whl size=9687 sha256=0e8dce837792c4f3836b87f9122e806cb61f4968f8dba2c6e9a8cde7d34f949d\n  Stored in directory: C:\\Users\\pilar\\AppData\\Local\\pip\\Cache\\wheels\\40\\15\\30\\7d8f7cea2902b4db79e3fea550d7d7b85ecb27ef992b618f3f\nSuccessfully built wget\nInstalling collected packages: wget\nSuccessfully installed wget-3.2\n"
    }
   ],
   "source": [
    "#Me instalo en modulo 'wget', ojo con las versiones y las dependencia\n",
    "!pip install wget"
   ]
  },
  {
   "cell_type": "markdown",
   "metadata": {},
   "source": [
    "¡Perfecto! has podido instalar tu primer paquete en el intérprete de Python 3.7"
   ]
  },
  {
   "cell_type": "code",
   "execution_count": 37,
   "metadata": {},
   "outputs": [
    {
     "output_type": "execute_result",
     "data": {
      "text/plain": "'razorback.mp3'"
     },
     "metadata": {},
     "execution_count": 37
    }
   ],
   "source": [
    "import wget \n",
    "url = 'http://www.futurecrew.com/skaven/song_files/mp3/razorback.mp3'\n",
    "filename = wget.download(url)\n",
    "filename\n",
    "#Se ha descargado el archivo de la url en la carpeta que estás trabajando"
   ]
  },
  {
   "cell_type": "markdown",
   "metadata": {},
   "source": [
    "## 3. Resumen\n",
    "Como ves, **gran parte de la potencia de Python reside en sus librerías**. Combinando los conocimientos básicos ya aprendidos con las linrerías adecuadas, podremos crear dashboards interactivos, modelos de machine learning, páginas webs, automatizar procesos... ¡Los límites los pones tu! :)"
   ]
  },
  {
   "cell_type": "code",
   "execution_count": null,
   "metadata": {},
   "outputs": [],
   "source": [
    "# Sintaxis básica para importar un modulo\n",
    "import primer_script\n",
    "\n",
    "# PAra acceder a su documentación\n",
    "help(primer_script)\n",
    "\n",
    "# PAra acceder a los objetos del modulo\n",
    "print(primer_script.my_variable)\n",
    "print(primer_script.my_function)\n",
    "print(primer_script.MyClass)\n",
    "\n",
    "# Una manera de acceder a todo\n",
    "from primer_script import *\n",
    "\n",
    "# Renombrar el modulo también es util\n",
    "import direc_segundo.segundo_script as variables\n",
    "print(variables.c)\n",
    "\n",
    "# Si queremos acceder rutas en otras partes del ordenador, hay que añadirlas a sys.path\n",
    "sys.path.append('C:/Users/Daney/Desktop/direc_tercero')\n",
    "sys.path\n",
    "\n",
    "# Por otro lado, tenemos las librerías del estandar de Python\n",
    "import math\n",
    "math.sqrt(36)\n",
    "\n",
    "# O librerias de terceros que podrás instalar mediante un pip install libreria, en un Prompt de Anaconda.\n",
    "import wget"
   ]
  }
 ],
 "metadata": {
  "kernelspec": {
   "display_name": "Python 3",
   "language": "python",
   "name": "python3"
  },
  "language_info": {
   "codemirror_mode": {
    "name": "ipython",
    "version": 3
   },
   "file_extension": ".py",
   "mimetype": "text/x-python",
   "name": "python",
   "nbconvert_exporter": "python",
   "pygments_lexer": "ipython3",
   "version": "3.7.6"
  }
 },
 "nbformat": 4,
 "nbformat_minor": 4
}