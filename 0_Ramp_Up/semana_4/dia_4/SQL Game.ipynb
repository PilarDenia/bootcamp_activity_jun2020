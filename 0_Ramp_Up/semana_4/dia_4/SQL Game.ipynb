{
 "cells": [
  {
   "cell_type": "markdown",
   "metadata": {},
   "source": [
    "![imagen](../../imagenes/sql_murder.png)\n",
    "\n",
    "# Ejercicio SQL Murder\n",
    "Para este ejercicio vas a ponerte la gabardina y el sombrero ya que tendrás que investigar un asesinato en *SQL City*. \n",
    "\n",
    "Aplicarás los conecptos básicos de SQL y aprenderás a manejarte con un modelo de datos, mientras resuelves un caso de asesinato :)\n",
    "\n",
    "Este espectacular juego está creado por **Joon Park y Cathy He**, y podrás encontrar todos los detalles en [su web](http://mystery.knightlab.com)\n",
    "\n",
    "Para realizar el ejercicio tienes dos opciones, o bien desde la propia web, donde encontrarás un intérprete de sentencias SQL interactivo. Si usas esta opción te recomiendo que vayas apuntando las queries y sus outputs. O la otra opción es [acudir a su GitHub](https://github.com/NUKnightLab/sql-mysteries), descargarte la base de datos y realizar las queries desde Jupyter. Probablemente la primera opción te sea más cómoda\n",
    "\n",
    "\n",
    "### Enunciado\n",
    "A crime has taken place and the detective needs your help. The detective gave you the crime scene report, but you somehow lost it. You vaguely remember that the crime was a **murder** that occurred sometime on **Jan.15, 2018** and that it took place in **SQL City**. Start by retrieving the corresponding crime scene report from the police department’s database.\n",
    "\n",
    "\n",
    "### Modelo de datos\n",
    "![imagen](../../imagenes/sql_game_schemma.png)\n",
    "\n",
    "¡Suerte Sherlock!"
   ]
  },
  {
   "cell_type": "code",
   "execution_count": 23,
   "metadata": {},
   "outputs": [],
   "source": [
    "import pandas as pd \n",
    "import sqlite3"
   ]
  },
  {
   "cell_type": "code",
   "execution_count": 24,
   "metadata": {},
   "outputs": [],
   "source": [
    "conecction = sqlite3.connect(\"sql-murder-mystery.db\")\n",
    "crsr = conecction.cursor()"
   ]
  },
  {
   "cell_type": "code",
   "execution_count": 25,
   "metadata": {},
   "outputs": [],
   "source": [
    "# Con esta función leemos los datos y lo pasamos a un DataFrame de Pandas\n",
    "def sql_query(query):\n",
    "\n",
    "    # Ejecuta la query\n",
    "    crsr.execute(query)\n",
    "\n",
    "    # Almacena los datos de la query \n",
    "    ans = crsr.fetchall()\n",
    "\n",
    "    # Obtenemos los nombres de las columnas de la tabla\n",
    "    names = [description[0] for description in crsr.description]\n",
    "\n",
    "    return pd.DataFrame(ans,columns=names)"
   ]
  },
  {
   "cell_type": "code",
   "execution_count": 26,
   "metadata": {
    "tags": []
   },
   "outputs": [
    {
     "output_type": "stream",
     "name": "stdout",
     "text": "crime_scene_report\ndrivers_license\nperson\nfacebook_event_checkin\ninterview\nget_fit_now_member\nget_fit_now_check_in\nincome\nsolution\n"
    }
   ],
   "source": [
    "res = crsr.execute(\"SELECT name FROM sqlite_master WHERE type='table'\")\n",
    "for name in res:\n",
    "    print(name[0])"
   ]
  },
  {
   "cell_type": "code",
   "execution_count": 27,
   "metadata": {},
   "outputs": [],
   "source": [
    "query = '''\n",
    "SELECT * \n",
    "FROM crime_scene_report\n",
    "WHERE date = 20180115 and type = 'murder' and city = 'SQL City'\n",
    "'''\n",
    "\n",
    "report = sql_query(query)"
   ]
  },
  {
   "cell_type": "code",
   "execution_count": 28,
   "metadata": {},
   "outputs": [
    {
     "output_type": "execute_result",
     "data": {
      "text/plain": "       date    type                                        description  \\\n0  20180115  murder  Security footage shows that there were 2 witne...   \n\n       city  \n0  SQL City  ",
      "text/html": "<div>\n<style scoped>\n    .dataframe tbody tr th:only-of-type {\n        vertical-align: middle;\n    }\n\n    .dataframe tbody tr th {\n        vertical-align: top;\n    }\n\n    .dataframe thead th {\n        text-align: right;\n    }\n</style>\n<table border=\"1\" class=\"dataframe\">\n  <thead>\n    <tr style=\"text-align: right;\">\n      <th></th>\n      <th>date</th>\n      <th>type</th>\n      <th>description</th>\n      <th>city</th>\n    </tr>\n  </thead>\n  <tbody>\n    <tr>\n      <td>0</td>\n      <td>20180115</td>\n      <td>murder</td>\n      <td>Security footage shows that there were 2 witne...</td>\n      <td>SQL City</td>\n    </tr>\n  </tbody>\n</table>\n</div>"
     },
     "metadata": {},
     "execution_count": 28
    }
   ],
   "source": [
    "report"
   ]
  },
  {
   "cell_type": "code",
   "execution_count": 38,
   "metadata": {},
   "outputs": [
    {
     "output_type": "execute_result",
     "data": {
      "text/plain": "    person_id                                         transcript\n0       56269  cupboards and book-shelves; here and there she...\n1       73091  or two, it was as much as she could do to hold...\n2       29596  Some of the jury wrote it down ‘important,’ an...\n3       38423            it ran away when it saw mine coming!’\\n\n4       78037              there was silence for some minutes.\\n\n5       11376  ‘you shouldn’t have put it in with the bread-k...\n6       23573               age, there was no more to be said.\\n\n7       72518  the last time she saw them, they were trying t...\n8       82809                                                 \\n\n9       91104  are; secondly, because they’re making such a n...\n10      49525                                                 \\n\n11      83030                                                 \\n\n12      28435  away from her as hard as it could go, and maki...\n13      23264                                                 \\n\n14      35366  about in the wood, ‘is to grow to my right siz...\n15      32037  ‘Off with their heads!’ and the procession mov...\n16      85846                   ever having seen such a thing.\\n\n17      34256                       more if you’d rather not.’\\n\n18      89704  finger VERY deeply with a knife, it usually bl...\n19      40276                                                 \\n\n20      58603  ‘Wake up, Alice dear!’ said her sister; ‘Why, ...\n21      57237  here directly, and get ready for your walk!” “...\n22      53716     Yet you finished the goose, with the bones ...\n23      14887  I heard a gunshot and then saw a man run out. ...\n24      16371  I saw the murder happen, and I recognized the ...\n25      67318  I was hired by a woman with a lot of money. I ...",
      "text/html": "<div>\n<style scoped>\n    .dataframe tbody tr th:only-of-type {\n        vertical-align: middle;\n    }\n\n    .dataframe tbody tr th {\n        vertical-align: top;\n    }\n\n    .dataframe thead th {\n        text-align: right;\n    }\n</style>\n<table border=\"1\" class=\"dataframe\">\n  <thead>\n    <tr style=\"text-align: right;\">\n      <th></th>\n      <th>person_id</th>\n      <th>transcript</th>\n    </tr>\n  </thead>\n  <tbody>\n    <tr>\n      <td>0</td>\n      <td>56269</td>\n      <td>cupboards and book-shelves; here and there she...</td>\n    </tr>\n    <tr>\n      <td>1</td>\n      <td>73091</td>\n      <td>or two, it was as much as she could do to hold...</td>\n    </tr>\n    <tr>\n      <td>2</td>\n      <td>29596</td>\n      <td>Some of the jury wrote it down ‘important,’ an...</td>\n    </tr>\n    <tr>\n      <td>3</td>\n      <td>38423</td>\n      <td>it ran away when it saw mine coming!’\\n</td>\n    </tr>\n    <tr>\n      <td>4</td>\n      <td>78037</td>\n      <td>there was silence for some minutes.\\n</td>\n    </tr>\n    <tr>\n      <td>5</td>\n      <td>11376</td>\n      <td>‘you shouldn’t have put it in with the bread-k...</td>\n    </tr>\n    <tr>\n      <td>6</td>\n      <td>23573</td>\n      <td>age, there was no more to be said.\\n</td>\n    </tr>\n    <tr>\n      <td>7</td>\n      <td>72518</td>\n      <td>the last time she saw them, they were trying t...</td>\n    </tr>\n    <tr>\n      <td>8</td>\n      <td>82809</td>\n      <td>\\n</td>\n    </tr>\n    <tr>\n      <td>9</td>\n      <td>91104</td>\n      <td>are; secondly, because they’re making such a n...</td>\n    </tr>\n    <tr>\n      <td>10</td>\n      <td>49525</td>\n      <td>\\n</td>\n    </tr>\n    <tr>\n      <td>11</td>\n      <td>83030</td>\n      <td>\\n</td>\n    </tr>\n    <tr>\n      <td>12</td>\n      <td>28435</td>\n      <td>away from her as hard as it could go, and maki...</td>\n    </tr>\n    <tr>\n      <td>13</td>\n      <td>23264</td>\n      <td>\\n</td>\n    </tr>\n    <tr>\n      <td>14</td>\n      <td>35366</td>\n      <td>about in the wood, ‘is to grow to my right siz...</td>\n    </tr>\n    <tr>\n      <td>15</td>\n      <td>32037</td>\n      <td>‘Off with their heads!’ and the procession mov...</td>\n    </tr>\n    <tr>\n      <td>16</td>\n      <td>85846</td>\n      <td>ever having seen such a thing.\\n</td>\n    </tr>\n    <tr>\n      <td>17</td>\n      <td>34256</td>\n      <td>more if you’d rather not.’\\n</td>\n    </tr>\n    <tr>\n      <td>18</td>\n      <td>89704</td>\n      <td>finger VERY deeply with a knife, it usually bl...</td>\n    </tr>\n    <tr>\n      <td>19</td>\n      <td>40276</td>\n      <td>\\n</td>\n    </tr>\n    <tr>\n      <td>20</td>\n      <td>58603</td>\n      <td>‘Wake up, Alice dear!’ said her sister; ‘Why, ...</td>\n    </tr>\n    <tr>\n      <td>21</td>\n      <td>57237</td>\n      <td>here directly, and get ready for your walk!” “...</td>\n    </tr>\n    <tr>\n      <td>22</td>\n      <td>53716</td>\n      <td>Yet you finished the goose, with the bones ...</td>\n    </tr>\n    <tr>\n      <td>23</td>\n      <td>14887</td>\n      <td>I heard a gunshot and then saw a man run out. ...</td>\n    </tr>\n    <tr>\n      <td>24</td>\n      <td>16371</td>\n      <td>I saw the murder happen, and I recognized the ...</td>\n    </tr>\n    <tr>\n      <td>25</td>\n      <td>67318</td>\n      <td>I was hired by a woman with a lot of money. I ...</td>\n    </tr>\n  </tbody>\n</table>\n</div>"
     },
     "metadata": {},
     "execution_count": 38
    }
   ],
   "source": [
    "query = '''\n",
    "SELECT f.person_id, i.transcript \n",
    "FROM facebook_event_checkin f INNER JOIN interview i \n",
    "ON f.person_id = i.person_id\n",
    "WHERE f.date = 20180115\n",
    "'''\n",
    "\n",
    "facebook = sql_query(query)\n",
    "facebook"
   ]
  },
  {
   "cell_type": "code",
   "execution_count": 37,
   "metadata": {},
   "outputs": [
    {
     "output_type": "execute_result",
     "data": {
      "text/plain": "      id            name  license_id  address_number address_street_name  \\\n0  16371  Annabel Miller      490173             103        Franklin Ave   \n\n         ssn  \n0  318771143  ",
      "text/html": "<div>\n<style scoped>\n    .dataframe tbody tr th:only-of-type {\n        vertical-align: middle;\n    }\n\n    .dataframe tbody tr th {\n        vertical-align: top;\n    }\n\n    .dataframe thead th {\n        text-align: right;\n    }\n</style>\n<table border=\"1\" class=\"dataframe\">\n  <thead>\n    <tr style=\"text-align: right;\">\n      <th></th>\n      <th>id</th>\n      <th>name</th>\n      <th>license_id</th>\n      <th>address_number</th>\n      <th>address_street_name</th>\n      <th>ssn</th>\n    </tr>\n  </thead>\n  <tbody>\n    <tr>\n      <td>0</td>\n      <td>16371</td>\n      <td>Annabel Miller</td>\n      <td>490173</td>\n      <td>103</td>\n      <td>Franklin Ave</td>\n      <td>318771143</td>\n    </tr>\n  </tbody>\n</table>\n</div>"
     },
     "metadata": {},
     "execution_count": 37
    }
   ],
   "source": [
    "query = '''\n",
    "SELECT *\n",
    "FROM person\n",
    "WHERE id = 16371\n",
    "'''\n",
    "\n",
    "witness = sql_query(query)\n",
    "witness"
   ]
  },
  {
   "cell_type": "code",
   "execution_count": 42,
   "metadata": {},
   "outputs": [
    {
     "output_type": "execute_result",
     "data": {
      "text/plain": "         ssn  MAX(annual_income)\n0  361660921              498500",
      "text/html": "<div>\n<style scoped>\n    .dataframe tbody tr th:only-of-type {\n        vertical-align: middle;\n    }\n\n    .dataframe tbody tr th {\n        vertical-align: top;\n    }\n\n    .dataframe thead th {\n        text-align: right;\n    }\n</style>\n<table border=\"1\" class=\"dataframe\">\n  <thead>\n    <tr style=\"text-align: right;\">\n      <th></th>\n      <th>ssn</th>\n      <th>MAX(annual_income)</th>\n    </tr>\n  </thead>\n  <tbody>\n    <tr>\n      <td>0</td>\n      <td>361660921</td>\n      <td>498500</td>\n    </tr>\n  </tbody>\n</table>\n</div>"
     },
     "metadata": {},
     "execution_count": 42
    }
   ],
   "source": [
    "query = '''\n",
    "SELECT ssn, MAX(annual_income)\n",
    "FROM income\n",
    "'''\n",
    "\n",
    "rich_woman = sql_query(query)\n",
    "rich_woman.ssn"
   ]
  },
  {
   "cell_type": "code",
   "execution_count": 44,
   "metadata": {},
   "outputs": [
    {
     "output_type": "execute_result",
     "data": {
      "text/plain": "0    Numbers Cranker\nName: name, dtype: object"
     },
     "metadata": {},
     "execution_count": 44
    }
   ],
   "source": [
    "query = '''\n",
    "SELECT *\n",
    "FROM person\n",
    "where ssn = 361660921\n",
    "'''\n",
    "name_rich = sql_query(query)\n",
    "name_rich.name\n"
   ]
  },
  {
   "cell_type": "code",
   "execution_count": 48,
   "metadata": {},
   "outputs": [
    {
     "output_type": "execute_result",
     "data": {
      "text/plain": "  membership_id  check_in_date  check_in_time  check_out_time\n0         D2KY6       20180115            746             836\n1         344VM       20180115           1087            1195\n2         3BRSC       20180115            354             825\n3         HM6U8       20180115            525             800",
      "text/html": "<div>\n<style scoped>\n    .dataframe tbody tr th:only-of-type {\n        vertical-align: middle;\n    }\n\n    .dataframe tbody tr th {\n        vertical-align: top;\n    }\n\n    .dataframe thead th {\n        text-align: right;\n    }\n</style>\n<table border=\"1\" class=\"dataframe\">\n  <thead>\n    <tr style=\"text-align: right;\">\n      <th></th>\n      <th>membership_id</th>\n      <th>check_in_date</th>\n      <th>check_in_time</th>\n      <th>check_out_time</th>\n    </tr>\n  </thead>\n  <tbody>\n    <tr>\n      <td>0</td>\n      <td>D2KY6</td>\n      <td>20180115</td>\n      <td>746</td>\n      <td>836</td>\n    </tr>\n    <tr>\n      <td>1</td>\n      <td>344VM</td>\n      <td>20180115</td>\n      <td>1087</td>\n      <td>1195</td>\n    </tr>\n    <tr>\n      <td>2</td>\n      <td>3BRSC</td>\n      <td>20180115</td>\n      <td>354</td>\n      <td>825</td>\n    </tr>\n    <tr>\n      <td>3</td>\n      <td>HM6U8</td>\n      <td>20180115</td>\n      <td>525</td>\n      <td>800</td>\n    </tr>\n  </tbody>\n</table>\n</div>"
     },
     "metadata": {},
     "execution_count": 48
    }
   ],
   "source": [
    "query = '''\n",
    "SELECT *\n",
    "FROM get_fit_now_check_in\n",
    "WHERE check_in_date = 20180115\n",
    "'''\n",
    "sql_query(query)"
   ]
  },
  {
   "cell_type": "code",
   "execution_count": 56,
   "metadata": {},
   "outputs": [
    {
     "output_type": "execute_result",
     "data": {
      "text/plain": "   person_id              name\n0      99602  Joline Hollering\n1      13466      Armando Huie\n2      19948      Taylor Skyes\n3      50106       Edgar Bamba",
      "text/html": "<div>\n<style scoped>\n    .dataframe tbody tr th:only-of-type {\n        vertical-align: middle;\n    }\n\n    .dataframe tbody tr th {\n        vertical-align: top;\n    }\n\n    .dataframe thead th {\n        text-align: right;\n    }\n</style>\n<table border=\"1\" class=\"dataframe\">\n  <thead>\n    <tr style=\"text-align: right;\">\n      <th></th>\n      <th>person_id</th>\n      <th>name</th>\n    </tr>\n  </thead>\n  <tbody>\n    <tr>\n      <td>0</td>\n      <td>99602</td>\n      <td>Joline Hollering</td>\n    </tr>\n    <tr>\n      <td>1</td>\n      <td>13466</td>\n      <td>Armando Huie</td>\n    </tr>\n    <tr>\n      <td>2</td>\n      <td>19948</td>\n      <td>Taylor Skyes</td>\n    </tr>\n    <tr>\n      <td>3</td>\n      <td>50106</td>\n      <td>Edgar Bamba</td>\n    </tr>\n  </tbody>\n</table>\n</div>"
     },
     "metadata": {},
     "execution_count": 56
    }
   ],
   "source": [
    "query = '''\n",
    "SELECT b.person_id, b.name\n",
    "FROM get_fit_now_check_in  a INNER JOIN get_fit_now_member b\n",
    "ON a.membership_id = b.id\n",
    "WHERE a.check_in_date = 20180115\n",
    "'''\n",
    "list_persons = sql_query(query)\n",
    "list_persons"
   ]
  },
  {
   "cell_type": "code",
   "execution_count": 58,
   "metadata": {},
   "outputs": [
    {
     "output_type": "execute_result",
     "data": {
      "text/plain": "0                                                   \\n\n1                    *    *    *    *    *    *    *\\n\n2       ‘You are old,’ said the youth, ‘and your ja...\nName: transcript, dtype: object"
     },
     "metadata": {},
     "execution_count": 58
    }
   ],
   "source": [
    "query = '''\n",
    "SELECT * \n",
    "FROM interview\n",
    "WHERE person_id in (99602,13466,19948,50106)\n",
    "'''\n",
    "sql_query(query).transcript"
   ]
  },
  {
   "cell_type": "code",
   "execution_count": null,
   "metadata": {},
   "outputs": [],
   "source": []
  }
 ],
 "metadata": {
  "kernelspec": {
   "display_name": "Python 3",
   "language": "python",
   "name": "python3"
  },
  "language_info": {
   "codemirror_mode": {
    "name": "ipython",
    "version": 3
   },
   "file_extension": ".py",
   "mimetype": "text/x-python",
   "name": "python",
   "nbconvert_exporter": "python",
   "pygments_lexer": "ipython3",
   "version": "3.7.6"
  }
 },
 "nbformat": 4,
 "nbformat_minor": 4
}