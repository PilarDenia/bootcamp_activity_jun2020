{
 "cells": [
  {
   "cell_type": "code",
   "execution_count": 12,
   "metadata": {},
   "outputs": [
    {
     "name": "stdin",
     "output_type": "stream",
     "text": [
      "Escoge una opcion: \n",
      "1. Busca estacion \n",
      "2. Calcula distancia \n",
      "3. Salir del programa  2\n",
      "Introduce el identificador de la primera estación  153\n",
      "Introduce el identificador de la segunda estación  138\n"
     ]
    },
    {
     "name": "stdout",
     "output_type": "stream",
     "text": [
      "Las estaciones están a una distancia de 1.86 km\n"
     ]
    },
    {
     "name": "stdin",
     "output_type": "stream",
     "text": [
      "Escoge una opcion: \n",
      "1. Busca estacion \n",
      "2. Calcula distancia \n",
      "3. Salir del programa  2\n",
      "Introduce el identificador de la primera estación  153\n",
      "Introduce el identificador de la segunda estación  10000\n"
     ]
    },
    {
     "name": "stdout",
     "output_type": "stream",
     "text": [
      "Alguna de las estaciones no está en la base de datos\n"
     ]
    },
    {
     "name": "stdin",
     "output_type": "stream",
     "text": [
      "Escoge una opcion: \n",
      "1. Busca estacion \n",
      "2. Calcula distancia \n",
      "3. Salir del programa  1\n",
      "Muy bien, introduce el nombre de la estación atocha\n"
     ]
    },
    {
     "name": "stdout",
     "output_type": "stream",
     "text": [
      "¡Estación encontrada! La estación es Atocha A \n",
      "\n",
      "¿Qué más deseas hacer?\n"
     ]
    },
    {
     "name": "stdin",
     "output_type": "stream",
     "text": [
      "Escoge una opcion: \n",
      "1. Busca estacion \n",
      "2. Calcula distancia \n",
      "3. Salir del programa  3\n"
     ]
    },
    {
     "name": "stdout",
     "output_type": "stream",
     "text": [
      "¡Hasta la próxima!\n",
      "\n"
     ]
    }
   ],
   "source": [
    "from clases import Estacion, ComunidadMadrid\n",
    "import pandas as pd\n",
    "from funciones import dist_estaciones\n",
    "\n",
    "df = pd.read_excel(\"2018_Julio_Bases_Bicimad_EMT.xlsx\")\n",
    "\n",
    "\n",
    "tot_est = []\n",
    "for index, row in df.iterrows():\n",
    "    estacion = Estacion(row[0], row[3], row[1], row[6], row[4], row[5])\n",
    "    tot_est.append(estacion)\n",
    "\n",
    "comunidad = ComunidadMadrid(tot_est)\n",
    "\n",
    "while True:\n",
    "    \n",
    "    resp_usu1 = input(\"Escoge una opcion: \\n1. Busca estacion \\n2. Calcula distancia \\n3. Salir del programa \")\n",
    "    \n",
    "    try:\n",
    "        resp_usu1 = int(resp_usu1)\n",
    "    except:\n",
    "        print(\"Respuesta no válida, Por favor, introduce 1, 2 o 3\\n\")\n",
    "        continue\n",
    "    \n",
    "    if resp_usu1 == 3:\n",
    "        print(\"¡Hasta la próxima!\\n\")\n",
    "        break\n",
    "        \n",
    "    elif resp_usu1 == 1:\n",
    "        resp_usu2 = input(\"Muy bien, introduce el nombre de la estación\")\n",
    "        busqueda = comunidad.busca_estacion(resp_usu2, \"name\")\n",
    "        \n",
    "        if busqueda == None:\n",
    "            print(\"Esta estación no está en la base de datos\")\n",
    "        else:\n",
    "            print(\"¡Estación encontrada! La estación es\", busqueda.name,\"\\n\\n¿Qué más deseas hacer?\")\n",
    "            \n",
    "    elif resp_usu1 == 2:\n",
    "        resp_usu3_1 = int(input(\"Introduce el identificador de la primera estación \"))\n",
    "        resp_usu3_2 = int(input(\"Introduce el identificador de la segunda estación \"))\n",
    "        \n",
    "        distancia = dist_estaciones(resp_usu3_1, resp_usu3_2, comunidad)\n",
    "        \n",
    "        if type(distancia) == str:\n",
    "            print(distancia)\n",
    "        else:\n",
    "            print(\"Las estaciones están a una distancia de\", round(distancia, 2), \"km\")\n",
    "        \n",
    "        \n",
    "        \n",
    "    "
   ]
  },
  {
   "cell_type": "code",
   "execution_count": 13,
   "metadata": {},
   "outputs": [
    {
     "data": {
      "text/html": [
       "<div>\n",
       "<style scoped>\n",
       "    .dataframe tbody tr th:only-of-type {\n",
       "        vertical-align: middle;\n",
       "    }\n",
       "\n",
       "    .dataframe tbody tr th {\n",
       "        vertical-align: top;\n",
       "    }\n",
       "\n",
       "    .dataframe thead th {\n",
       "        text-align: right;\n",
       "    }\n",
       "</style>\n",
       "<table border=\"1\" class=\"dataframe\">\n",
       "  <thead>\n",
       "    <tr style=\"text-align: right;\">\n",
       "      <th></th>\n",
       "      <th>name</th>\n",
       "      <th>total_bases</th>\n",
       "      <th>number</th>\n",
       "      <th>id</th>\n",
       "      <th>longitude</th>\n",
       "      <th>latitude</th>\n",
       "      <th>address</th>\n",
       "    </tr>\n",
       "  </thead>\n",
       "  <tbody>\n",
       "    <tr>\n",
       "      <th>0</th>\n",
       "      <td>Agustín de Betancourt</td>\n",
       "      <td>24</td>\n",
       "      <td>134</td>\n",
       "      <td>153</td>\n",
       "      <td>-3.695605</td>\n",
       "      <td>40.444030</td>\n",
       "      <td>Calle María de Guzmán nº 58</td>\n",
       "    </tr>\n",
       "    <tr>\n",
       "      <th>1</th>\n",
       "      <td>Alberto Alcocer</td>\n",
       "      <td>24</td>\n",
       "      <td>158</td>\n",
       "      <td>138</td>\n",
       "      <td>-3.684715</td>\n",
       "      <td>40.458532</td>\n",
       "      <td>Avenida de Alberto Alcocer nº 22</td>\n",
       "    </tr>\n",
       "    <tr>\n",
       "      <th>2</th>\n",
       "      <td>Alcalá</td>\n",
       "      <td>27</td>\n",
       "      <td>97</td>\n",
       "      <td>102</td>\n",
       "      <td>-3.680131</td>\n",
       "      <td>40.422691</td>\n",
       "      <td>Avenida de Menéndez Pelayo nº 3</td>\n",
       "    </tr>\n",
       "    <tr>\n",
       "      <th>3</th>\n",
       "      <td>Alcántara</td>\n",
       "      <td>24</td>\n",
       "      <td>99</td>\n",
       "      <td>104</td>\n",
       "      <td>-3.673871</td>\n",
       "      <td>40.426185</td>\n",
       "      <td>Calle Alcántara nº 2</td>\n",
       "    </tr>\n",
       "    <tr>\n",
       "      <th>4</th>\n",
       "      <td>Almadén</td>\n",
       "      <td>24</td>\n",
       "      <td>67</td>\n",
       "      <td>71</td>\n",
       "      <td>-3.693225</td>\n",
       "      <td>40.410847</td>\n",
       "      <td>Calle Almadén nº 28</td>\n",
       "    </tr>\n",
       "  </tbody>\n",
       "</table>\n",
       "</div>"
      ],
      "text/plain": [
       "                    name  total_bases number   id  longitude   latitude  \\\n",
       "0  Agustín de Betancourt           24    134  153  -3.695605  40.444030   \n",
       "1        Alberto Alcocer           24    158  138  -3.684715  40.458532   \n",
       "2                 Alcalá           27     97  102  -3.680131  40.422691   \n",
       "3              Alcántara           24     99  104  -3.673871  40.426185   \n",
       "4                Almadén           24     67   71  -3.693225  40.410847   \n",
       "\n",
       "                            address  \n",
       "0       Calle María de Guzmán nº 58  \n",
       "1  Avenida de Alberto Alcocer nº 22  \n",
       "2   Avenida de Menéndez Pelayo nº 3  \n",
       "3              Calle Alcántara nº 2  \n",
       "4               Calle Almadén nº 28  "
      ]
     },
     "execution_count": 13,
     "metadata": {},
     "output_type": "execute_result"
    }
   ],
   "source": [
    "df.head()"
   ]
  },
  {
   "cell_type": "code",
   "execution_count": 18,
   "metadata": {},
   "outputs": [],
   "source": [
    "tot_est = []\n",
    "for index, row in df.iterrows():\n",
    "    estacion = Estacion(row[0], row[3], row[1], row[6], row[4], row[5])\n",
    "    tot_est.append(estacion)"
   ]
  },
  {
   "cell_type": "code",
   "execution_count": 19,
   "metadata": {},
   "outputs": [
    {
     "data": {
      "text/plain": [
       "172"
      ]
     },
     "execution_count": 19,
     "metadata": {},
     "output_type": "execute_result"
    }
   ],
   "source": [
    "len(tot_est)"
   ]
  },
  {
   "cell_type": "code",
   "execution_count": 20,
   "metadata": {},
   "outputs": [
    {
     "data": {
      "text/plain": [
       "<clases.Estacion at 0x26062b4f488>"
      ]
     },
     "execution_count": 20,
     "metadata": {},
     "output_type": "execute_result"
    }
   ],
   "source": [
    "tot_est[0]"
   ]
  },
  {
   "cell_type": "code",
   "execution_count": 21,
   "metadata": {},
   "outputs": [
    {
     "data": {
      "text/plain": [
       "'Agustín de Betancourt'"
      ]
     },
     "execution_count": 21,
     "metadata": {},
     "output_type": "execute_result"
    }
   ],
   "source": [
    "tot_est[0].name"
   ]
  }
 ],
 "metadata": {
  "kernelspec": {
   "display_name": "Python 3",
   "language": "python",
   "name": "python3"
  },
  "language_info": {
   "codemirror_mode": {
    "name": "ipython",
    "version": 3
   },
   "file_extension": ".py",
   "mimetype": "text/x-python",
   "name": "python",
   "nbconvert_exporter": "python",
   "pygments_lexer": "ipython3",
   "version": "3.7.6"
  }
 },
 "nbformat": 4,
 "nbformat_minor": 4
}
