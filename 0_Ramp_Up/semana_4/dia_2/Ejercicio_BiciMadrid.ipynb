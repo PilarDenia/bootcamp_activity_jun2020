{
 "cells": [
  {
   "cell_type": "markdown",
   "metadata": {},
   "source": [
    "### clases.py\n",
    "En este script diseñarás tus clases, que luego importarás en otro script para crear tus objetos personalizados. Tienes que implementar dos clases:\n",
    "\n",
    "#### clase Estacion\n",
    "Con esta clase podrás crear tus objetos de tipo `Estación`, los cuales tendrán ciertas propiedades como su nombre o ubicación, y alguna que otra función útil.\n",
    "\n",
    "Necesitas crear un __init__ de este estilo:\n",
    "```Python\n",
    "def __init__(self, name, identificador, num_bicis, address, longitude, latitude)\n",
    "```\n",
    "**Rellena el resto del __init__**\n",
    "\n",
    "Y un método `distancia` que ya te doy hecho. Este método calcula la distancia entre la estación de ese objeto (que tiene asociadas una latitud y una longitud) con la latitud y longitud que introduzcamos. El output es en km.\n",
    "\n",
    "```Python\n",
    "def distancia(self, longitude, latitude):\n",
    "\n",
    "    lat1, lon1 = self.latitude, self.longitude\n",
    "    lat2, lon2 = latitude, longitude\n",
    "    radius = 6371  # km\n",
    "\n",
    "    dlat = math.radians(lat2 - lat1)\n",
    "    dlon = math.radians(lon2 - lon1)\n",
    "    a = (math.sin(dlat / 2) * math.sin(dlat / 2) +\n",
    "         math.cos(math.radians(lat1)) * math.cos(math.radians(lat2)) *\n",
    "         math.sin(dlon / 2) * math.sin(dlon / 2))\n",
    "    c = 2 * math.atan2(math.sqrt(a), math.sqrt(1 - a))\n",
    "    d = radius * c\n",
    "\n",
    "    return d   \n"
   ]
  },
  {
   "cell_type": "code",
   "execution_count": 9,
   "metadata": {},
   "outputs": [],
   "source": [
    "import math\n",
    "\n",
    "class Station:\n",
    "\n",
    "    \"\"\"\n",
    "    TODO\n",
    "    \"\"\"\n",
    "\n",
    "    def __init__(self, name, id, total_bases, address, longitude, latitude):\n",
    "\n",
    "        self.name = name\n",
    "        self.id = id\n",
    "        self.total_bases = total_bases\n",
    "        self.address = address\n",
    "        self.longitude = longitude \n",
    "        self.latitude = latitude\n",
    "        \n",
    "    def distance(self, longitude, latitude):\n",
    "\n",
    "        lat1, lon1 = self.latitude, self.longitude\n",
    "        lat2, lon2 = latitude, longitude\n",
    "        radius = 6371  # km\n",
    "\n",
    "        dlat = math.radians(lat2 - lat1)\n",
    "        dlon = math.radians(lon2 - lon1)\n",
    "        a = (math.sin(dlat / 2) * math.sin(dlat / 2) +\n",
    "            math.cos(math.radians(lat1)) * math.cos(math.radians(lat2)) *\n",
    "            math.sin(dlon / 2) * math.sin(dlon / 2))\n",
    "        c = 2 * math.atan2(math.sqrt(a), math.sqrt(1 - a))\n",
    "        d = radius * c\n",
    "        d = format(d,'.2f')\n",
    "        return str(d) + \" Kms\"\n"
   ]
  },
  {
   "cell_type": "code",
   "execution_count": 10,
   "metadata": {},
   "outputs": [
    {
     "output_type": "execute_result",
     "data": {
      "text/plain": "'67.71 Kms'"
     },
     "metadata": {},
     "execution_count": 10
    }
   ],
   "source": [
    "est_1 = Station(\"Palas de Rey\", 1, 10,\"Calle palas de rey 12\",-3.78,40.12)\n",
    "est_1.latitude\n",
    "\n",
    "est_1.distance(-3,40)"
   ]
  },
  {
   "cell_type": "code",
   "execution_count": 11,
   "metadata": {},
   "outputs": [
    {
     "output_type": "execute_result",
     "data": {
      "text/plain": "2"
     },
     "metadata": {},
     "execution_count": 11
    }
   ],
   "source": [
    "est_2 = Station(\"Fuente la Mora\", 2, 25, \"Rotonda FuenteMora\", -3.40, 40.57)\n",
    "est_2.id"
   ]
  },
  {
   "cell_type": "markdown",
   "metadata": {},
   "source": [
    "#### clase ComunidadMadrid\n",
    "Esta clase debe tener lo siguiente:\n",
    "* Un __init__ con un único parámetro de entrada, que serán las `estaciones`. Cuando crees un objeto de esta clase tendrás que introducir como argumento de entrada una lista cuyo contenido sean todo objetos de tipo `Estacion`.\n",
    "* Un método `get_ids(self)`, sin parámetros de entrada, que devuelva una lista con todos los identificadores de estación en formato `int`.\n",
    "* Otro método, `busca_estacion(self, estacion, tipo_busqueda)`, que busque el parámetro de entrada `estacion`, dentro de las estaciones del objeto ComunidadMadrid. El tipo de búsqueda puede ser por \"id\", en ese caso buscará entre los identificadores de estación, o puede ser por \"name\", en cuyo caso buscará si el parámetro de entrada `estacion` está contenido en el nombre de alguna de las estaciones. Si no encuentra la estación, devuelve `None`, y si la encuentra, devuelve el objeto estación completo.\n",
    "\n"
   ]
  },
  {
   "cell_type": "markdown",
   "metadata": {},
   "source": [
    "* Otro método, `busca_estacion(self, estacion, tipo_busqueda)`, que busque el parámetro de entrada `estacion`, dentro de las estaciones del objeto ComunidadMadrid. El tipo de búsqueda puede ser por \"id\", en ese caso buscará entre los identificadores de estación, o puede ser por \"name\", en cuyo caso buscará si el parámetro de entrada `estacion` está contenido en el nombre de alguna de las estaciones. Si no encuentra la estación, devuelve `None`, y si la encuentra, devuelve el objeto estación completo.* Otro método, `busca_estacion(self, estacion, tipo_busqueda)`, que busque el parámetro de entrada `estacion`, dentro de las estaciones del objeto ComunidadMadrid. El tipo de búsqueda puede ser por \"id\", en ese caso buscará entre los identificadores de estación, o puede ser por \"name\", en cuyo caso buscará si el parámetro de entrada `estacion` está contenido en el nombre de alguna de las estaciones. Si no encuentra la estación, devuelve `None`, y si la encuentra, devuelve el objeto estación completo."
   ]
  },
  {
   "cell_type": "code",
   "execution_count": 12,
   "metadata": {},
   "outputs": [],
   "source": [
    "class Community:\n",
    "\n",
    "     def __init__(self, stations):\n",
    "          self.stations = stations\n",
    "\n",
    "     def get_ids(self):\n",
    "          out = []\n",
    "          for station in self.stations:\n",
    "               out.append(station.id)\n",
    "          return out\n",
    "\n",
    "     def station_search(self, station, search_type):\n",
    "          out = None\n",
    "          for sttn in self.stations:\n",
    "               if search_type == \"name\":\n",
    "                    if station.lower() in sttn.name.lower():\n",
    "                         out = sttn\n",
    "               elif search_type == \"id\":\n",
    "                    if sttn.id == station:\n",
    "                         out = sttn\n",
    "          return out        "
   ]
  },
  {
   "cell_type": "code",
   "execution_count": 28,
   "metadata": {
    "tags": []
   },
   "outputs": [
    {
     "output_type": "stream",
     "name": "stdout",
     "text": "[1, 2]\n"
    }
   ],
   "source": [
    "madrid = Community([est_1,est_2])\n",
    "print(madrid.get_ids())"
   ]
  },
  {
   "cell_type": "code",
   "execution_count": 20,
   "metadata": {
    "tags": []
   },
   "outputs": [
    {
     "output_type": "execute_result",
     "data": {
      "text/plain": "1"
     },
     "metadata": {},
     "execution_count": 20
    }
   ],
   "source": [
    "madrid.station_search(\"palas\",\"name\").id"
   ]
  },
  {
   "cell_type": "code",
   "execution_count": 19,
   "metadata": {},
   "outputs": [
    {
     "output_type": "execute_result",
     "data": {
      "text/plain": "'Fuente la Mora'"
     },
     "metadata": {},
     "execution_count": 19
    }
   ],
   "source": [
    "madrid.station_search(2,\"id\").name"
   ]
  },
  {
   "cell_type": "markdown",
   "metadata": {},
   "source": [
    "### funciones.py\n",
    "Implementa una función que tenga las siguientes características:\n",
    "* Nombre: `dist_estaciones`\n",
    "* Input: (est1, est2, comunidad). Son dos objetos de tipo `Estacion`, y otro de tipo `ComunidadMadrid`.\n",
    "* Output: la distancia entre ambas estaciones.### funciones.py\n",
    "Implementa una función que tenga las siguientes características:\n",
    "* Nombre: `dist_estaciones`\n",
    "* Input: (est1, est2, comunidad). Son dos objetos de tipo `Estacion`, y otro de tipo `ComunidadMadrid`.\n",
    "* Output: la distancia entre ambas estaciones."
   ]
  },
  {
   "cell_type": "code",
   "execution_count": 33,
   "metadata": {},
   "outputs": [],
   "source": [
    "#FUNCTIONS\n",
    "\n",
    "def dist_stations(sttn1, sttn2, community):\n",
    "    \n",
    "    for sttn in community.stations:\n",
    "        if sttn == sttn1:\n",
    "            lat1, lon1 = sttn.latitude, sttn.longitude\n",
    "        elif sttn == sttn2:\n",
    "            lat2, lon2 = sttn.latitude, sttn.longitude\n",
    "\n",
    "    radius = 6371  # km\n",
    "\n",
    "    dlat = math.radians(lat2 - lat1)\n",
    "    dlon = math.radians(lon2 - lon1)\n",
    "    a = (math.sin(dlat / 2) * math.sin(dlat / 2) +\n",
    "        math.cos(math.radians(lat1)) * math.cos(math.radians(lat2)) *\n",
    "        math.sin(dlon / 2) * math.sin(dlon / 2))\n",
    "    c = 2 * math.atan2(math.sqrt(a), math.sqrt(1 - a))\n",
    "    d = radius * c\n",
    "    d = format(d,'.2f')\n",
    "    return str(d) + \" Kms\"\n"
   ]
  },
  {
   "cell_type": "code",
   "execution_count": 34,
   "metadata": {},
   "outputs": [
    {
     "output_type": "execute_result",
     "data": {
      "text/plain": "'59.51 Kms'"
     },
     "metadata": {},
     "execution_count": 34
    }
   ],
   "source": [
    "dist_stations(est_1, est_2, madrid)"
   ]
  },
  {
   "cell_type": "markdown",
   "metadata": {},
   "source": [
    "### main.py\n",
    "El script main tiene que ser un programa interactivo que vaya preguntando al usuario. Vamos paso a paso:\n",
    "* Importa tus clases y funciones al principio del script\n",
    "* Descomenta las líneas de código que hay tras el importado de datos, de manera que crees una lista con todas las estaciones, con sus datos.\n",
    "* Crea un objeto llamado `comunidad`, que sea de tipo `ComunidadMadrid`\n",
    "* Lo que viene a partir de ahora es un `while True:`. Que se ejecutará siempre, a no ser que en algún punto del `while` haya un `break`. Ahora vemos dónde ponerlo.\n",
    "* Al principio del `while` hay que preguntar al usuario qué desea hacer, mediante un menú sencillo:\n",
    "\n",
    "    Escoge una opcion: \n",
    "    1. Busca estacion (nombre)\n",
    "    2. Calcula distancia (entre ids)\n",
    "    3. Salir del programa\n",
    "    \n",
    "Son las tres opciones que tiene el usuario para introducir: 1,2,3\n",
    "\n",
    "* **Si introduce 3**: Pon un mensaje de despedida y sal del `while`. Aquí va el `break`!. Te recomiendo que empieces por aquí para que no se te quede el `while` en un bucle infinito. Asegúrate que el menú funciona bien y después implementa las funcionalidades de cada opción.\n",
    "\n",
    "* **Si introduce 1**: tienes que buscar la estación (por nombre) entre todas las estaciones del objeto `comunidad`. Si la encuentras, imprime por pantalla su nombre, preguntale al usuario \"¿Qué más deseas hacer?\", y que el programa vuelva al menú con las tres opciones. Si no la encuentra, ponlo también por pantalla con un print, y que el programa vuelva al menú.\n",
    "\n",
    "* **Si introduce 2**: hay que pedirle al usuario dos inputs, que serán dos enteros con los dos ids de estación. Con esos ids calcula la distancia entre ambas estaciones.\n",
    "\n",
    "* **En cualquier otro caso**: imprime por pantalla que la respuesta no es valida, y vuelve al menu inicial.### main.py\n",
    "El script main tiene que ser un programa interactivo que vaya preguntando al usuario. Vamos paso a paso:\n",
    "* Importa tus clases y funciones al principio del script\n",
    "* Descomenta las líneas de código que hay tras el importado de datos, de manera que crees una lista con todas las estaciones, con sus datos.\n",
    "* Crea un objeto llamado `comunidad`, que sea de tipo `ComunidadMadrid`\n",
    "* Lo que viene a partir de ahora es un `while True:`. Que se ejecutará siempre, a no ser que en algún punto del `while` haya un `break`. Ahora vemos dónde ponerlo.\n",
    "* Al principio del `while` hay que preguntar al usuario qué desea hacer, mediante un menú sencillo:\n",
    "\n",
    "    Escoge una opcion: \n",
    "    1. Busca estacion (nombre)\n",
    "    2. Calcula distancia (entre ids)\n",
    "    3. Salir del programa\n",
    "    \n",
    "Son las tres opciones que tiene el usuario para introducir: 1,2,3\n",
    "\n"
   ]
  },
  {
   "cell_type": "code",
   "execution_count": 52,
   "metadata": {},
   "outputs": [
    {
     "output_type": "execute_result",
     "data": {
      "text/plain": "'Agustín de Betancourt'"
     },
     "metadata": {},
     "execution_count": 52
    }
   ],
   "source": [
    "import pandas as pd\n",
    "\n",
    "df = pd.read_excel(\"2018_Julio_Bases_Bicimad_EMT.xlsx\")\n",
    "\n",
    "\n",
    "tot_est = []\n",
    "for index, row in df.iterrows():\n",
    "    estacion = Station(row[0], row[3], row[1], row[6], row[4], row[5])\n",
    "    tot_est.append(estacion)\n",
    "\n",
    "madrid = Community(tot_est)\n",
    "madrid.stations[0].name\n",
    "\n",
    "\n"
   ]
  },
  {
   "cell_type": "code",
   "execution_count": null,
   "metadata": {},
   "outputs": [],
   "source": [
    "while True:\n",
    "    "
   ]
  }
 ],
 "metadata": {
  "language_info": {
   "codemirror_mode": {
    "name": "ipython",
    "version": 3
   },
   "file_extension": ".py",
   "mimetype": "text/x-python",
   "name": "python",
   "nbconvert_exporter": "python",
   "pygments_lexer": "ipython3",
   "version": 3
  },
  "orig_nbformat": 2,
  "kernelspec": {
   "name": "python_defaultSpec_1594462396771",
   "display_name": "Python 3.7.4 64-bit ('base': conda)"
  }
 },
 "nbformat": 4,
 "nbformat_minor": 2
}