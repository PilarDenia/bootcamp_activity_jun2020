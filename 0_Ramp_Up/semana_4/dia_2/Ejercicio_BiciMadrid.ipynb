{
 "cells": [
  {
   "cell_type": "markdown",
   "metadata": {},
   "source": [
    "### clases.py\n",
    "En este script diseñarás tus clases, que luego importarás en otro script para crear tus objetos personalizados. Tienes que implementar dos clases:\n",
    "\n",
    "#### clase Estacion\n",
    "Con esta clase podrás crear tus objetos de tipo `Estación`, los cuales tendrán ciertas propiedades como su nombre o ubicación, y alguna que otra función útil.\n",
    "\n",
    "Necesitas crear un __init__ de este estilo:\n",
    "```Python\n",
    "def __init__(self, name, identificador, num_bicis, address, longitude, latitude)\n",
    "```\n",
    "**Rellena el resto del __init__**\n",
    "\n",
    "Y un método `distancia` que ya te doy hecho. Este método calcula la distancia entre la estación de ese objeto (que tiene asociadas una latitud y una longitud) con la latitud y longitud que introduzcamos. El output es en km.\n",
    "\n",
    "```Python\n",
    "def distancia(self, longitude, latitude):\n",
    "\n",
    "    lat1, lon1 = self.latitude, self.longitude\n",
    "    lat2, lon2 = latitude, longitude\n",
    "    radius = 6371  # km\n",
    "\n",
    "    dlat = math.radians(lat2 - lat1)\n",
    "    dlon = math.radians(lon2 - lon1)\n",
    "    a = (math.sin(dlat / 2) * math.sin(dlat / 2) +\n",
    "         math.cos(math.radians(lat1)) * math.cos(math.radians(lat2)) *\n",
    "         math.sin(dlon / 2) * math.sin(dlon / 2))\n",
    "    c = 2 * math.atan2(math.sqrt(a), math.sqrt(1 - a))\n",
    "    d = radius * c\n",
    "\n",
    "    return d   \n"
   ]
  },
  {
   "cell_type": "code",
   "execution_count": 27,
   "metadata": {},
   "outputs": [],
   "source": [
    "import math\n",
    "\n",
    "class Station:\n",
    "\n",
    "    \"\"\"\n",
    "    TODO\n",
    "    \"\"\"\n",
    "\n",
    "    def __init__(self, name, id, total_bases, address, longitude, latitude):\n",
    "\n",
    "        self.name = name\n",
    "        self.id = id\n",
    "        self.total_bases = total_bases\n",
    "        self.address = address\n",
    "        self.longitude = longitude \n",
    "        self.latitude = latitude\n",
    "        \n",
    "    def distance(self, longitude, latitude):\n",
    "\n",
    "        lat1, lon1 = self.latitude, self.longitude\n",
    "        lat2, lon2 = latitude, longitude\n",
    "        radius = 6371  # km\n",
    "\n",
    "        dlat = math.radians(lat2 - lat1)\n",
    "        dlon = math.radians(lon2 - lon1)\n",
    "        a = (math.sin(dlat / 2) * math.sin(dlat / 2) +\n",
    "            math.cos(math.radians(lat1)) * math.cos(math.radians(lat2)) *\n",
    "            math.sin(dlon / 2) * math.sin(dlon / 2))\n",
    "        c = 2 * math.atan2(math.sqrt(a), math.sqrt(1 - a))\n",
    "        d = radius * c\n",
    "        d = format(d,'.2f')\n",
    "        return str(d) + \" Kms\"\n"
   ]
  },
  {
   "cell_type": "code",
   "execution_count": 62,
   "metadata": {},
   "outputs": [
    {
     "output_type": "execute_result",
     "data": {
      "text/plain": "'67.71 Kms'"
     },
     "metadata": {},
     "execution_count": 62
    }
   ],
   "source": [
    "est_1 = Station(\"Palas de Rey\", 1, 10,\"Calle palas de rey 12\",-3.78,40.12)\n",
    "est_1.latitude\n",
    "\n",
    "est_1.distance(-3,40)"
   ]
  },
  {
   "cell_type": "code",
   "execution_count": 63,
   "metadata": {},
   "outputs": [
    {
     "output_type": "execute_result",
     "data": {
      "text/plain": "2"
     },
     "metadata": {},
     "execution_count": 63
    }
   ],
   "source": [
    "est_2 = Station(\"Fuente la Mora\", 2, 25, \"Rotonda FuenteMora\", -3.40, 40.57)\n",
    "est_2.id"
   ]
  },
  {
   "cell_type": "markdown",
   "metadata": {},
   "source": [
    "#### clase ComunidadMadrid\n",
    "Esta clase debe tener lo siguiente:\n",
    "* Un __init__ con un único parámetro de entrada, que serán las `estaciones`. Cuando crees un objeto de esta clase tendrás que introducir como argumento de entrada una lista cuyo contenido sean todo objetos de tipo `Estacion`.\n",
    "* Un método `get_ids(self)`, sin parámetros de entrada, que devuelva una lista con todos los identificadores de estación en formato `int`.\n",
    "* Otro método, `busca_estacion(self, estacion, tipo_busqueda)`, que busque el parámetro de entrada `estacion`, dentro de las estaciones del objeto ComunidadMadrid. El tipo de búsqueda puede ser por \"id\", en ese caso buscará entre los identificadores de estación, o puede ser por \"name\", en cuyo caso buscará si el parámetro de entrada `estacion` está contenido en el nombre de alguna de las estaciones. Si no encuentra la estación, devuelve `None`, y si la encuentra, devuelve el objeto estación completo.\n",
    "\n"
   ]
  },
  {
   "cell_type": "markdown",
   "metadata": {},
   "source": [
    "* Otro método, `busca_estacion(self, estacion, tipo_busqueda)`, que busque el parámetro de entrada `estacion`, dentro de las estaciones del objeto ComunidadMadrid. El tipo de búsqueda puede ser por \"id\", en ese caso buscará entre los identificadores de estación, o puede ser por \"name\", en cuyo caso buscará si el parámetro de entrada `estacion` está contenido en el nombre de alguna de las estaciones. Si no encuentra la estación, devuelve `None`, y si la encuentra, devuelve el objeto estación completo.* Otro método, `busca_estacion(self, estacion, tipo_busqueda)`, que busque el parámetro de entrada `estacion`, dentro de las estaciones del objeto ComunidadMadrid. El tipo de búsqueda puede ser por \"id\", en ese caso buscará entre los identificadores de estación, o puede ser por \"name\", en cuyo caso buscará si el parámetro de entrada `estacion` está contenido en el nombre de alguna de las estaciones. Si no encuentra la estación, devuelve `None`, y si la encuentra, devuelve el objeto estación completo."
   ]
  },
  {
   "cell_type": "code",
   "execution_count": 90,
   "metadata": {},
   "outputs": [],
   "source": [
    "class Community:\n",
    "\n",
    "     def __init__(self, stations):\n",
    "          self.stations = stations\n",
    "\n",
    "     def get_ids(self):\n",
    "          out = []\n",
    "          for station in self.stations:\n",
    "               out.append(station.id)\n",
    "          return out\n",
    "\n",
    "     def station_search(self, station, search_type):\n",
    "          out = None\n",
    "          for sttn in self.stations:\n",
    "               if search_type == \"name\":\n",
    "                    if station.lower() in sttn.name.lower():\n",
    "                         out = sttn\n",
    "               elif search_type == \"id\":\n",
    "                    if sttn.id == station:\n",
    "                         out = sttn\n",
    "          return out        "
   ]
  },
  {
   "cell_type": "code",
   "execution_count": 91,
   "metadata": {
    "tags": []
   },
   "outputs": [
    {
     "output_type": "stream",
     "name": "stdout",
     "text": "[1, 2]\n"
    }
   ],
   "source": [
    "madrid = Community([est_1,est_2])\n",
    "print(madrid.get_ids())"
   ]
  },
  {
   "cell_type": "code",
   "execution_count": 93,
   "metadata": {
    "tags": []
   },
   "outputs": [
    {
     "output_type": "execute_result",
     "data": {
      "text/plain": "'Palas de Rey'"
     },
     "metadata": {},
     "execution_count": 93
    }
   ],
   "source": [
    "madrid.station_search(\"palas\",\"name\").name"
   ]
  },
  {
   "cell_type": "code",
   "execution_count": null,
   "metadata": {},
   "outputs": [],
   "source": [
    "madrid"
   ]
  }
 ],
 "metadata": {
  "language_info": {
   "codemirror_mode": {
    "name": "ipython",
    "version": 3
   },
   "file_extension": ".py",
   "mimetype": "text/x-python",
   "name": "python",
   "nbconvert_exporter": "python",
   "pygments_lexer": "ipython3",
   "version": 3
  },
  "orig_nbformat": 2,
  "kernelspec": {
   "name": "python_defaultSpec_1594455482592",
   "display_name": "Python 3.7.4 64-bit ('base': conda)"
  }
 },
 "nbformat": 4,
 "nbformat_minor": 2
}