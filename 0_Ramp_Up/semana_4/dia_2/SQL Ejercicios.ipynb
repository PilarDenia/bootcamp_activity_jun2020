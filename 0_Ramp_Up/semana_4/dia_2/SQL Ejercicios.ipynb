{
 "cells": [
  {
   "cell_type": "markdown",
   "metadata": {},
   "source": [
    "![imagen](../../imagenes/ejercicios.png)\n",
    "\n",
    "# Ejercicio SQL\n",
    "Para este ejercicio usaremos una base de datos de Pokemon. **Asegúrante que tienes el CSV \"pokemon.csv\" en la misma carpeta donde está este Notebook**. Realiza los siguientes apartados:\n",
    "\n",
    "1. Obten una tabla con todos los campos\n",
    "2. Obten una tabla con los campos \"Name\", \"Type 1\", \"Type 2\"\n",
    "3. Obten la misma tabla que el apartado anterior, pero en este caso renombrando los campos al castellano.\n",
    "4. ¿Cuales son todos los \"Type 1\" diferentes?\n",
    "5. ¿Cuales son todos los \"Type 1\" y \"Type 2\" diferentes?\n",
    "6. ¿Cuáles son los pokemon de agua? \"Type 1\" = \"Water\"\n",
    "7. Obtén una tabla con los pokemon legendarios\n",
    "8. Obtén una tabla con los pokemon legendarios de fuego (\"Type 1\" = \"Fire\")\n",
    "9. Obtén una tabla con los pokemon cuyo nombre empieze por \"W\" y tenga una defensa mayor de 100 puntos\n",
    "10. Saca una tabla con los pokemon de la primera generación, que NO sean \"Type 1\" = \"Psychic\" y tengan una velocidad superior a 130\n",
    "11. ¿Cuál es el pokemon con el ataque más alto?\n",
    "12. ¿Cuál es la media de la defensa de todos los pokemon?\n",
    "13. ¿Cuál es la media de la defensa por generación?\n",
    "14. Calcula el máximo HP por \"Type 1\"\n",
    "\n",
    "**NOTA**: se recomienda añadir un `LIMIT 5` en la mayoría de apartados para evitar grandes outputs de las queries."
   ]
  },
  {
   "cell_type": "code",
   "execution_count": 2,
   "metadata": {},
   "outputs": [
    {
     "output_type": "execute_result",
     "data": {
      "text/plain": "   #                   Name Type 1  Type 2  Total  HP  Attack  Defense  \\\n0  1              Bulbasaur  Grass  Poison    318  45      49       49   \n1  2                Ivysaur  Grass  Poison    405  60      62       63   \n2  3               Venusaur  Grass  Poison    525  80      82       83   \n3  3  VenusaurMega Venusaur  Grass  Poison    625  80     100      123   \n4  4             Charmander   Fire     NaN    309  39      52       43   \n\n   Sp. Atk  Sp. Def  Speed  Generation  Legendary  \n0       65       65     45           1      False  \n1       80       80     60           1      False  \n2      100      100     80           1      False  \n3      122      120     80           1      False  \n4       60       50     65           1      False  ",
      "text/html": "<div>\n<style scoped>\n    .dataframe tbody tr th:only-of-type {\n        vertical-align: middle;\n    }\n\n    .dataframe tbody tr th {\n        vertical-align: top;\n    }\n\n    .dataframe thead th {\n        text-align: right;\n    }\n</style>\n<table border=\"1\" class=\"dataframe\">\n  <thead>\n    <tr style=\"text-align: right;\">\n      <th></th>\n      <th>#</th>\n      <th>Name</th>\n      <th>Type 1</th>\n      <th>Type 2</th>\n      <th>Total</th>\n      <th>HP</th>\n      <th>Attack</th>\n      <th>Defense</th>\n      <th>Sp. Atk</th>\n      <th>Sp. Def</th>\n      <th>Speed</th>\n      <th>Generation</th>\n      <th>Legendary</th>\n    </tr>\n  </thead>\n  <tbody>\n    <tr>\n      <td>0</td>\n      <td>1</td>\n      <td>Bulbasaur</td>\n      <td>Grass</td>\n      <td>Poison</td>\n      <td>318</td>\n      <td>45</td>\n      <td>49</td>\n      <td>49</td>\n      <td>65</td>\n      <td>65</td>\n      <td>45</td>\n      <td>1</td>\n      <td>False</td>\n    </tr>\n    <tr>\n      <td>1</td>\n      <td>2</td>\n      <td>Ivysaur</td>\n      <td>Grass</td>\n      <td>Poison</td>\n      <td>405</td>\n      <td>60</td>\n      <td>62</td>\n      <td>63</td>\n      <td>80</td>\n      <td>80</td>\n      <td>60</td>\n      <td>1</td>\n      <td>False</td>\n    </tr>\n    <tr>\n      <td>2</td>\n      <td>3</td>\n      <td>Venusaur</td>\n      <td>Grass</td>\n      <td>Poison</td>\n      <td>525</td>\n      <td>80</td>\n      <td>82</td>\n      <td>83</td>\n      <td>100</td>\n      <td>100</td>\n      <td>80</td>\n      <td>1</td>\n      <td>False</td>\n    </tr>\n    <tr>\n      <td>3</td>\n      <td>3</td>\n      <td>VenusaurMega Venusaur</td>\n      <td>Grass</td>\n      <td>Poison</td>\n      <td>625</td>\n      <td>80</td>\n      <td>100</td>\n      <td>123</td>\n      <td>122</td>\n      <td>120</td>\n      <td>80</td>\n      <td>1</td>\n      <td>False</td>\n    </tr>\n    <tr>\n      <td>4</td>\n      <td>4</td>\n      <td>Charmander</td>\n      <td>Fire</td>\n      <td>NaN</td>\n      <td>309</td>\n      <td>39</td>\n      <td>52</td>\n      <td>43</td>\n      <td>60</td>\n      <td>50</td>\n      <td>65</td>\n      <td>1</td>\n      <td>False</td>\n    </tr>\n  </tbody>\n</table>\n</div>"
     },
     "metadata": {},
     "execution_count": 2
    }
   ],
   "source": [
    "# Importamos paquetes\n",
    "import pandas as pd\n",
    "import sqlite3\n",
    "cnx = sqlite3.connect(':memory:')\n",
    "\n",
    "# Importamos datos de un CSV\n",
    "df = pd.read_csv('pokemon.csv')\n",
    "df.head()"
   ]
  },
  {
   "cell_type": "code",
   "execution_count": 3,
   "metadata": {},
   "outputs": [],
   "source": [
    "# Pasamos el DataFrame de Pandas a SQL\n",
    "df.to_sql('pokemon', con=cnx, if_exists='replace', index=False)\n",
    "\n",
    "# Definimos la función para hacer queries.\n",
    "def sql_query(query):\n",
    "    return pd.read_sql(query, cnx)"
   ]
  },
  {
   "cell_type": "code",
   "execution_count": 4,
   "metadata": {},
   "outputs": [],
   "source": [
    "crsr = cnx.cursor()"
   ]
  },
  {
   "cell_type": "code",
   "execution_count": 5,
   "metadata": {
    "tags": []
   },
   "outputs": [
    {
     "output_type": "stream",
     "name": "stdout",
     "text": "pokemon\n"
    }
   ],
   "source": [
    "res = crsr.execute(\"SELECT name FROM sqlite_master WHERE type='table'\")\n",
    "for name in res:\n",
    "    print(name[0])"
   ]
  },
  {
   "cell_type": "code",
   "execution_count": 6,
   "metadata": {},
   "outputs": [
    {
     "output_type": "execute_result",
     "data": {
      "text/plain": "       #                   Name   Type 1  Type 2  Total  HP  Attack  Defense  \\\n0      1              Bulbasaur    Grass  Poison    318  45      49       49   \n1      2                Ivysaur    Grass  Poison    405  60      62       63   \n2      3               Venusaur    Grass  Poison    525  80      82       83   \n3      3  VenusaurMega Venusaur    Grass  Poison    625  80     100      123   \n4      4             Charmander     Fire    None    309  39      52       43   \n..   ...                    ...      ...     ...    ...  ..     ...      ...   \n795  719                Diancie     Rock   Fairy    600  50     100      150   \n796  719    DiancieMega Diancie     Rock   Fairy    700  50     160      110   \n797  720    HoopaHoopa Confined  Psychic   Ghost    600  80     110       60   \n798  720     HoopaHoopa Unbound  Psychic    Dark    680  80     160       60   \n799  721              Volcanion     Fire   Water    600  80     110      120   \n\n     Sp. Atk  Sp. Def  Speed  Generation  Legendary  \n0         65       65     45           1          0  \n1         80       80     60           1          0  \n2        100      100     80           1          0  \n3        122      120     80           1          0  \n4         60       50     65           1          0  \n..       ...      ...    ...         ...        ...  \n795      100      150     50           6          1  \n796      160      110    110           6          1  \n797      150      130     70           6          1  \n798      170      130     80           6          1  \n799      130       90     70           6          1  \n\n[800 rows x 13 columns]",
      "text/html": "<div>\n<style scoped>\n    .dataframe tbody tr th:only-of-type {\n        vertical-align: middle;\n    }\n\n    .dataframe tbody tr th {\n        vertical-align: top;\n    }\n\n    .dataframe thead th {\n        text-align: right;\n    }\n</style>\n<table border=\"1\" class=\"dataframe\">\n  <thead>\n    <tr style=\"text-align: right;\">\n      <th></th>\n      <th>#</th>\n      <th>Name</th>\n      <th>Type 1</th>\n      <th>Type 2</th>\n      <th>Total</th>\n      <th>HP</th>\n      <th>Attack</th>\n      <th>Defense</th>\n      <th>Sp. Atk</th>\n      <th>Sp. Def</th>\n      <th>Speed</th>\n      <th>Generation</th>\n      <th>Legendary</th>\n    </tr>\n  </thead>\n  <tbody>\n    <tr>\n      <td>0</td>\n      <td>1</td>\n      <td>Bulbasaur</td>\n      <td>Grass</td>\n      <td>Poison</td>\n      <td>318</td>\n      <td>45</td>\n      <td>49</td>\n      <td>49</td>\n      <td>65</td>\n      <td>65</td>\n      <td>45</td>\n      <td>1</td>\n      <td>0</td>\n    </tr>\n    <tr>\n      <td>1</td>\n      <td>2</td>\n      <td>Ivysaur</td>\n      <td>Grass</td>\n      <td>Poison</td>\n      <td>405</td>\n      <td>60</td>\n      <td>62</td>\n      <td>63</td>\n      <td>80</td>\n      <td>80</td>\n      <td>60</td>\n      <td>1</td>\n      <td>0</td>\n    </tr>\n    <tr>\n      <td>2</td>\n      <td>3</td>\n      <td>Venusaur</td>\n      <td>Grass</td>\n      <td>Poison</td>\n      <td>525</td>\n      <td>80</td>\n      <td>82</td>\n      <td>83</td>\n      <td>100</td>\n      <td>100</td>\n      <td>80</td>\n      <td>1</td>\n      <td>0</td>\n    </tr>\n    <tr>\n      <td>3</td>\n      <td>3</td>\n      <td>VenusaurMega Venusaur</td>\n      <td>Grass</td>\n      <td>Poison</td>\n      <td>625</td>\n      <td>80</td>\n      <td>100</td>\n      <td>123</td>\n      <td>122</td>\n      <td>120</td>\n      <td>80</td>\n      <td>1</td>\n      <td>0</td>\n    </tr>\n    <tr>\n      <td>4</td>\n      <td>4</td>\n      <td>Charmander</td>\n      <td>Fire</td>\n      <td>None</td>\n      <td>309</td>\n      <td>39</td>\n      <td>52</td>\n      <td>43</td>\n      <td>60</td>\n      <td>50</td>\n      <td>65</td>\n      <td>1</td>\n      <td>0</td>\n    </tr>\n    <tr>\n      <td>...</td>\n      <td>...</td>\n      <td>...</td>\n      <td>...</td>\n      <td>...</td>\n      <td>...</td>\n      <td>...</td>\n      <td>...</td>\n      <td>...</td>\n      <td>...</td>\n      <td>...</td>\n      <td>...</td>\n      <td>...</td>\n      <td>...</td>\n    </tr>\n    <tr>\n      <td>795</td>\n      <td>719</td>\n      <td>Diancie</td>\n      <td>Rock</td>\n      <td>Fairy</td>\n      <td>600</td>\n      <td>50</td>\n      <td>100</td>\n      <td>150</td>\n      <td>100</td>\n      <td>150</td>\n      <td>50</td>\n      <td>6</td>\n      <td>1</td>\n    </tr>\n    <tr>\n      <td>796</td>\n      <td>719</td>\n      <td>DiancieMega Diancie</td>\n      <td>Rock</td>\n      <td>Fairy</td>\n      <td>700</td>\n      <td>50</td>\n      <td>160</td>\n      <td>110</td>\n      <td>160</td>\n      <td>110</td>\n      <td>110</td>\n      <td>6</td>\n      <td>1</td>\n    </tr>\n    <tr>\n      <td>797</td>\n      <td>720</td>\n      <td>HoopaHoopa Confined</td>\n      <td>Psychic</td>\n      <td>Ghost</td>\n      <td>600</td>\n      <td>80</td>\n      <td>110</td>\n      <td>60</td>\n      <td>150</td>\n      <td>130</td>\n      <td>70</td>\n      <td>6</td>\n      <td>1</td>\n    </tr>\n    <tr>\n      <td>798</td>\n      <td>720</td>\n      <td>HoopaHoopa Unbound</td>\n      <td>Psychic</td>\n      <td>Dark</td>\n      <td>680</td>\n      <td>80</td>\n      <td>160</td>\n      <td>60</td>\n      <td>170</td>\n      <td>130</td>\n      <td>80</td>\n      <td>6</td>\n      <td>1</td>\n    </tr>\n    <tr>\n      <td>799</td>\n      <td>721</td>\n      <td>Volcanion</td>\n      <td>Fire</td>\n      <td>Water</td>\n      <td>600</td>\n      <td>80</td>\n      <td>110</td>\n      <td>120</td>\n      <td>130</td>\n      <td>90</td>\n      <td>70</td>\n      <td>6</td>\n      <td>1</td>\n    </tr>\n  </tbody>\n</table>\n<p>800 rows × 13 columns</p>\n</div>"
     },
     "metadata": {},
     "execution_count": 6
    }
   ],
   "source": [
    "# 1. Obten una tabla con todos los campos\n",
    "query = '''\n",
    "SELECT *\n",
    "FROM pokemon\n",
    "\n",
    "'''\n",
    "sql_query(query)"
   ]
  },
  {
   "cell_type": "code",
   "execution_count": 7,
   "metadata": {},
   "outputs": [
    {
     "output_type": "execute_result",
     "data": {
      "text/plain": "                      Name   Type 1  Type 2\n0                Bulbasaur    Grass  Poison\n1                  Ivysaur    Grass  Poison\n2                 Venusaur    Grass  Poison\n3    VenusaurMega Venusaur    Grass  Poison\n4               Charmander     Fire    None\n..                     ...      ...     ...\n795                Diancie     Rock   Fairy\n796    DiancieMega Diancie     Rock   Fairy\n797    HoopaHoopa Confined  Psychic   Ghost\n798     HoopaHoopa Unbound  Psychic    Dark\n799              Volcanion     Fire   Water\n\n[800 rows x 3 columns]",
      "text/html": "<div>\n<style scoped>\n    .dataframe tbody tr th:only-of-type {\n        vertical-align: middle;\n    }\n\n    .dataframe tbody tr th {\n        vertical-align: top;\n    }\n\n    .dataframe thead th {\n        text-align: right;\n    }\n</style>\n<table border=\"1\" class=\"dataframe\">\n  <thead>\n    <tr style=\"text-align: right;\">\n      <th></th>\n      <th>Name</th>\n      <th>Type 1</th>\n      <th>Type 2</th>\n    </tr>\n  </thead>\n  <tbody>\n    <tr>\n      <td>0</td>\n      <td>Bulbasaur</td>\n      <td>Grass</td>\n      <td>Poison</td>\n    </tr>\n    <tr>\n      <td>1</td>\n      <td>Ivysaur</td>\n      <td>Grass</td>\n      <td>Poison</td>\n    </tr>\n    <tr>\n      <td>2</td>\n      <td>Venusaur</td>\n      <td>Grass</td>\n      <td>Poison</td>\n    </tr>\n    <tr>\n      <td>3</td>\n      <td>VenusaurMega Venusaur</td>\n      <td>Grass</td>\n      <td>Poison</td>\n    </tr>\n    <tr>\n      <td>4</td>\n      <td>Charmander</td>\n      <td>Fire</td>\n      <td>None</td>\n    </tr>\n    <tr>\n      <td>...</td>\n      <td>...</td>\n      <td>...</td>\n      <td>...</td>\n    </tr>\n    <tr>\n      <td>795</td>\n      <td>Diancie</td>\n      <td>Rock</td>\n      <td>Fairy</td>\n    </tr>\n    <tr>\n      <td>796</td>\n      <td>DiancieMega Diancie</td>\n      <td>Rock</td>\n      <td>Fairy</td>\n    </tr>\n    <tr>\n      <td>797</td>\n      <td>HoopaHoopa Confined</td>\n      <td>Psychic</td>\n      <td>Ghost</td>\n    </tr>\n    <tr>\n      <td>798</td>\n      <td>HoopaHoopa Unbound</td>\n      <td>Psychic</td>\n      <td>Dark</td>\n    </tr>\n    <tr>\n      <td>799</td>\n      <td>Volcanion</td>\n      <td>Fire</td>\n      <td>Water</td>\n    </tr>\n  </tbody>\n</table>\n<p>800 rows × 3 columns</p>\n</div>"
     },
     "metadata": {},
     "execution_count": 7
    }
   ],
   "source": [
    "# 2. Obten una tabla con los campos \"Name\", \"Type 1\", \"Type 2\"\n",
    "query = '''\n",
    "SELECT \"Name\", \"Type 1\", \"Type 2\"\n",
    "FROM pokemon\n",
    "'''\n",
    "sql_query(query)"
   ]
  },
  {
   "cell_type": "code",
   "execution_count": 8,
   "metadata": {},
   "outputs": [
    {
     "output_type": "execute_result",
     "data": {
      "text/plain": "                    Nombre   Tipo_1  Tipo_2\n0                Bulbasaur    Grass  Poison\n1                  Ivysaur    Grass  Poison\n2                 Venusaur    Grass  Poison\n3    VenusaurMega Venusaur    Grass  Poison\n4               Charmander     Fire    None\n..                     ...      ...     ...\n795                Diancie     Rock   Fairy\n796    DiancieMega Diancie     Rock   Fairy\n797    HoopaHoopa Confined  Psychic   Ghost\n798     HoopaHoopa Unbound  Psychic    Dark\n799              Volcanion     Fire   Water\n\n[800 rows x 3 columns]",
      "text/html": "<div>\n<style scoped>\n    .dataframe tbody tr th:only-of-type {\n        vertical-align: middle;\n    }\n\n    .dataframe tbody tr th {\n        vertical-align: top;\n    }\n\n    .dataframe thead th {\n        text-align: right;\n    }\n</style>\n<table border=\"1\" class=\"dataframe\">\n  <thead>\n    <tr style=\"text-align: right;\">\n      <th></th>\n      <th>Nombre</th>\n      <th>Tipo_1</th>\n      <th>Tipo_2</th>\n    </tr>\n  </thead>\n  <tbody>\n    <tr>\n      <td>0</td>\n      <td>Bulbasaur</td>\n      <td>Grass</td>\n      <td>Poison</td>\n    </tr>\n    <tr>\n      <td>1</td>\n      <td>Ivysaur</td>\n      <td>Grass</td>\n      <td>Poison</td>\n    </tr>\n    <tr>\n      <td>2</td>\n      <td>Venusaur</td>\n      <td>Grass</td>\n      <td>Poison</td>\n    </tr>\n    <tr>\n      <td>3</td>\n      <td>VenusaurMega Venusaur</td>\n      <td>Grass</td>\n      <td>Poison</td>\n    </tr>\n    <tr>\n      <td>4</td>\n      <td>Charmander</td>\n      <td>Fire</td>\n      <td>None</td>\n    </tr>\n    <tr>\n      <td>...</td>\n      <td>...</td>\n      <td>...</td>\n      <td>...</td>\n    </tr>\n    <tr>\n      <td>795</td>\n      <td>Diancie</td>\n      <td>Rock</td>\n      <td>Fairy</td>\n    </tr>\n    <tr>\n      <td>796</td>\n      <td>DiancieMega Diancie</td>\n      <td>Rock</td>\n      <td>Fairy</td>\n    </tr>\n    <tr>\n      <td>797</td>\n      <td>HoopaHoopa Confined</td>\n      <td>Psychic</td>\n      <td>Ghost</td>\n    </tr>\n    <tr>\n      <td>798</td>\n      <td>HoopaHoopa Unbound</td>\n      <td>Psychic</td>\n      <td>Dark</td>\n    </tr>\n    <tr>\n      <td>799</td>\n      <td>Volcanion</td>\n      <td>Fire</td>\n      <td>Water</td>\n    </tr>\n  </tbody>\n</table>\n<p>800 rows × 3 columns</p>\n</div>"
     },
     "metadata": {},
     "execution_count": 8
    }
   ],
   "source": [
    "# 3. Obten la misma tabla que el apartado anterior, pero en este caso renombrando los campos al castellano.\n",
    "query = '''\n",
    "SELECT \"Name\" as Nombre, \"Type 1\" as Tipo_1, \"Type 2\" as Tipo_2\n",
    "FROM pokemon\n",
    "'''\n",
    "sql_query(query)"
   ]
  },
  {
   "cell_type": "code",
   "execution_count": 9,
   "metadata": {},
   "outputs": [
    {
     "output_type": "execute_result",
     "data": {
      "text/plain": "      Tipo_1\n0      Grass\n1       Fire\n2      Water\n3        Bug\n4     Normal\n5     Poison\n6   Electric\n7     Ground\n8      Fairy\n9   Fighting\n10   Psychic\n11      Rock\n12     Ghost\n13       Ice\n14    Dragon\n15      Dark\n16     Steel\n17    Flying",
      "text/html": "<div>\n<style scoped>\n    .dataframe tbody tr th:only-of-type {\n        vertical-align: middle;\n    }\n\n    .dataframe tbody tr th {\n        vertical-align: top;\n    }\n\n    .dataframe thead th {\n        text-align: right;\n    }\n</style>\n<table border=\"1\" class=\"dataframe\">\n  <thead>\n    <tr style=\"text-align: right;\">\n      <th></th>\n      <th>Tipo_1</th>\n    </tr>\n  </thead>\n  <tbody>\n    <tr>\n      <td>0</td>\n      <td>Grass</td>\n    </tr>\n    <tr>\n      <td>1</td>\n      <td>Fire</td>\n    </tr>\n    <tr>\n      <td>2</td>\n      <td>Water</td>\n    </tr>\n    <tr>\n      <td>3</td>\n      <td>Bug</td>\n    </tr>\n    <tr>\n      <td>4</td>\n      <td>Normal</td>\n    </tr>\n    <tr>\n      <td>5</td>\n      <td>Poison</td>\n    </tr>\n    <tr>\n      <td>6</td>\n      <td>Electric</td>\n    </tr>\n    <tr>\n      <td>7</td>\n      <td>Ground</td>\n    </tr>\n    <tr>\n      <td>8</td>\n      <td>Fairy</td>\n    </tr>\n    <tr>\n      <td>9</td>\n      <td>Fighting</td>\n    </tr>\n    <tr>\n      <td>10</td>\n      <td>Psychic</td>\n    </tr>\n    <tr>\n      <td>11</td>\n      <td>Rock</td>\n    </tr>\n    <tr>\n      <td>12</td>\n      <td>Ghost</td>\n    </tr>\n    <tr>\n      <td>13</td>\n      <td>Ice</td>\n    </tr>\n    <tr>\n      <td>14</td>\n      <td>Dragon</td>\n    </tr>\n    <tr>\n      <td>15</td>\n      <td>Dark</td>\n    </tr>\n    <tr>\n      <td>16</td>\n      <td>Steel</td>\n    </tr>\n    <tr>\n      <td>17</td>\n      <td>Flying</td>\n    </tr>\n  </tbody>\n</table>\n</div>"
     },
     "metadata": {},
     "execution_count": 9
    }
   ],
   "source": [
    "# 4. ¿Cuales son todos los \"Type 1\" diferentes?\n",
    "query = '''\n",
    "SELECT DISTINCT \"Type 1\" as Tipo_1\n",
    "FROM pokemon\n",
    "'''\n",
    "sql_query(query)"
   ]
  },
  {
   "cell_type": "code",
   "execution_count": 10,
   "metadata": {},
   "outputs": [
    {
     "output_type": "execute_result",
     "data": {
      "text/plain": "      Tipo_1\n0       None\n1        Bug\n2       Dark\n3     Dragon\n4   Electric\n5      Fairy\n6   Fighting\n7       Fire\n8     Flying\n9      Ghost\n10     Grass\n11    Ground\n12       Ice\n13    Normal\n14    Poison\n15   Psychic\n16      Rock\n17     Steel\n18     Water",
      "text/html": "<div>\n<style scoped>\n    .dataframe tbody tr th:only-of-type {\n        vertical-align: middle;\n    }\n\n    .dataframe tbody tr th {\n        vertical-align: top;\n    }\n\n    .dataframe thead th {\n        text-align: right;\n    }\n</style>\n<table border=\"1\" class=\"dataframe\">\n  <thead>\n    <tr style=\"text-align: right;\">\n      <th></th>\n      <th>Tipo_1</th>\n    </tr>\n  </thead>\n  <tbody>\n    <tr>\n      <td>0</td>\n      <td>None</td>\n    </tr>\n    <tr>\n      <td>1</td>\n      <td>Bug</td>\n    </tr>\n    <tr>\n      <td>2</td>\n      <td>Dark</td>\n    </tr>\n    <tr>\n      <td>3</td>\n      <td>Dragon</td>\n    </tr>\n    <tr>\n      <td>4</td>\n      <td>Electric</td>\n    </tr>\n    <tr>\n      <td>5</td>\n      <td>Fairy</td>\n    </tr>\n    <tr>\n      <td>6</td>\n      <td>Fighting</td>\n    </tr>\n    <tr>\n      <td>7</td>\n      <td>Fire</td>\n    </tr>\n    <tr>\n      <td>8</td>\n      <td>Flying</td>\n    </tr>\n    <tr>\n      <td>9</td>\n      <td>Ghost</td>\n    </tr>\n    <tr>\n      <td>10</td>\n      <td>Grass</td>\n    </tr>\n    <tr>\n      <td>11</td>\n      <td>Ground</td>\n    </tr>\n    <tr>\n      <td>12</td>\n      <td>Ice</td>\n    </tr>\n    <tr>\n      <td>13</td>\n      <td>Normal</td>\n    </tr>\n    <tr>\n      <td>14</td>\n      <td>Poison</td>\n    </tr>\n    <tr>\n      <td>15</td>\n      <td>Psychic</td>\n    </tr>\n    <tr>\n      <td>16</td>\n      <td>Rock</td>\n    </tr>\n    <tr>\n      <td>17</td>\n      <td>Steel</td>\n    </tr>\n    <tr>\n      <td>18</td>\n      <td>Water</td>\n    </tr>\n  </tbody>\n</table>\n</div>"
     },
     "metadata": {},
     "execution_count": 10
    }
   ],
   "source": [
    "# 5. ¿Cuales son todos los \"Type 1\" y \"Type 2\" diferentes?\n",
    "query = '''\n",
    "SELECT DISTINCT \"Type 1\" as Tipo_1\n",
    "FROM pokemon\n",
    "UNION\n",
    "SELECT DISTINCT \"Type 2\" as Tipo_2\n",
    "FROM pokemon\n",
    "'''\n",
    "sql_query(query)"
   ]
  },
  {
   "cell_type": "code",
   "execution_count": 11,
   "metadata": {},
   "outputs": [
    {
     "output_type": "execute_result",
     "data": {
      "text/plain": "      Type 1  Type 2\n0      Grass  Poison\n1       Fire    None\n2       Fire  Flying\n3       Fire  Dragon\n4      Water    None\n..       ...     ...\n149    Ghost   Grass\n150   Flying  Dragon\n151  Psychic   Ghost\n152  Psychic    Dark\n153     Fire   Water\n\n[154 rows x 2 columns]",
      "text/html": "<div>\n<style scoped>\n    .dataframe tbody tr th:only-of-type {\n        vertical-align: middle;\n    }\n\n    .dataframe tbody tr th {\n        vertical-align: top;\n    }\n\n    .dataframe thead th {\n        text-align: right;\n    }\n</style>\n<table border=\"1\" class=\"dataframe\">\n  <thead>\n    <tr style=\"text-align: right;\">\n      <th></th>\n      <th>Type 1</th>\n      <th>Type 2</th>\n    </tr>\n  </thead>\n  <tbody>\n    <tr>\n      <td>0</td>\n      <td>Grass</td>\n      <td>Poison</td>\n    </tr>\n    <tr>\n      <td>1</td>\n      <td>Fire</td>\n      <td>None</td>\n    </tr>\n    <tr>\n      <td>2</td>\n      <td>Fire</td>\n      <td>Flying</td>\n    </tr>\n    <tr>\n      <td>3</td>\n      <td>Fire</td>\n      <td>Dragon</td>\n    </tr>\n    <tr>\n      <td>4</td>\n      <td>Water</td>\n      <td>None</td>\n    </tr>\n    <tr>\n      <td>...</td>\n      <td>...</td>\n      <td>...</td>\n    </tr>\n    <tr>\n      <td>149</td>\n      <td>Ghost</td>\n      <td>Grass</td>\n    </tr>\n    <tr>\n      <td>150</td>\n      <td>Flying</td>\n      <td>Dragon</td>\n    </tr>\n    <tr>\n      <td>151</td>\n      <td>Psychic</td>\n      <td>Ghost</td>\n    </tr>\n    <tr>\n      <td>152</td>\n      <td>Psychic</td>\n      <td>Dark</td>\n    </tr>\n    <tr>\n      <td>153</td>\n      <td>Fire</td>\n      <td>Water</td>\n    </tr>\n  </tbody>\n</table>\n<p>154 rows × 2 columns</p>\n</div>"
     },
     "metadata": {},
     "execution_count": 11
    }
   ],
   "source": [
    "query = '''\n",
    "SELECT  DISTINCT \"Type 1\", \"Type 2\"\n",
    "FROM pokemon\n",
    "'''\n",
    "sql_query(query)"
   ]
  },
  {
   "cell_type": "code",
   "execution_count": 12,
   "metadata": {},
   "outputs": [
    {
     "output_type": "execute_result",
     "data": {
      "text/plain": "                        Name\n0                   Squirtle\n1                  Wartortle\n2                  Blastoise\n3    BlastoiseMega Blastoise\n4                    Psyduck\n..                       ...\n107                  Froakie\n108                Frogadier\n109                 Greninja\n110                Clauncher\n111                Clawitzer\n\n[112 rows x 1 columns]",
      "text/html": "<div>\n<style scoped>\n    .dataframe tbody tr th:only-of-type {\n        vertical-align: middle;\n    }\n\n    .dataframe tbody tr th {\n        vertical-align: top;\n    }\n\n    .dataframe thead th {\n        text-align: right;\n    }\n</style>\n<table border=\"1\" class=\"dataframe\">\n  <thead>\n    <tr style=\"text-align: right;\">\n      <th></th>\n      <th>Name</th>\n    </tr>\n  </thead>\n  <tbody>\n    <tr>\n      <td>0</td>\n      <td>Squirtle</td>\n    </tr>\n    <tr>\n      <td>1</td>\n      <td>Wartortle</td>\n    </tr>\n    <tr>\n      <td>2</td>\n      <td>Blastoise</td>\n    </tr>\n    <tr>\n      <td>3</td>\n      <td>BlastoiseMega Blastoise</td>\n    </tr>\n    <tr>\n      <td>4</td>\n      <td>Psyduck</td>\n    </tr>\n    <tr>\n      <td>...</td>\n      <td>...</td>\n    </tr>\n    <tr>\n      <td>107</td>\n      <td>Froakie</td>\n    </tr>\n    <tr>\n      <td>108</td>\n      <td>Frogadier</td>\n    </tr>\n    <tr>\n      <td>109</td>\n      <td>Greninja</td>\n    </tr>\n    <tr>\n      <td>110</td>\n      <td>Clauncher</td>\n    </tr>\n    <tr>\n      <td>111</td>\n      <td>Clawitzer</td>\n    </tr>\n  </tbody>\n</table>\n<p>112 rows × 1 columns</p>\n</div>"
     },
     "metadata": {},
     "execution_count": 12
    }
   ],
   "source": [
    "# 6. ¿Cuáles son los pokemon de agua? \"Type 1\" = \"Water\"\n",
    "query = '''\n",
    "SELECT  Name\n",
    "FROM pokemon\n",
    "WHERE \"Type 1\" = \"Water\"\n",
    "'''\n",
    "sql_query(query)\n"
   ]
  },
  {
   "cell_type": "code",
   "execution_count": 13,
   "metadata": {},
   "outputs": [
    {
     "output_type": "execute_result",
     "data": {
      "text/plain": "      #                 Name    Type 1    Type 2  Total   HP  Attack  Defense  \\\n0   144             Articuno       Ice    Flying    580   90      85      100   \n1   145               Zapdos  Electric    Flying    580   90      90       85   \n2   146              Moltres      Fire    Flying    580   90     100       90   \n3   150               Mewtwo   Psychic      None    680  106     110       90   \n4   150  MewtwoMega Mewtwo X   Psychic  Fighting    780  106     190      100   \n..  ...                  ...       ...       ...    ...  ...     ...      ...   \n60  719              Diancie      Rock     Fairy    600   50     100      150   \n61  719  DiancieMega Diancie      Rock     Fairy    700   50     160      110   \n62  720  HoopaHoopa Confined   Psychic     Ghost    600   80     110       60   \n63  720   HoopaHoopa Unbound   Psychic      Dark    680   80     160       60   \n64  721            Volcanion      Fire     Water    600   80     110      120   \n\n    Sp. Atk  Sp. Def  Speed  Generation  Legendary  \n0        95      125     85           1          1  \n1       125       90    100           1          1  \n2       125       85     90           1          1  \n3       154       90    130           1          1  \n4       154      100    130           1          1  \n..      ...      ...    ...         ...        ...  \n60      100      150     50           6          1  \n61      160      110    110           6          1  \n62      150      130     70           6          1  \n63      170      130     80           6          1  \n64      130       90     70           6          1  \n\n[65 rows x 13 columns]",
      "text/html": "<div>\n<style scoped>\n    .dataframe tbody tr th:only-of-type {\n        vertical-align: middle;\n    }\n\n    .dataframe tbody tr th {\n        vertical-align: top;\n    }\n\n    .dataframe thead th {\n        text-align: right;\n    }\n</style>\n<table border=\"1\" class=\"dataframe\">\n  <thead>\n    <tr style=\"text-align: right;\">\n      <th></th>\n      <th>#</th>\n      <th>Name</th>\n      <th>Type 1</th>\n      <th>Type 2</th>\n      <th>Total</th>\n      <th>HP</th>\n      <th>Attack</th>\n      <th>Defense</th>\n      <th>Sp. Atk</th>\n      <th>Sp. Def</th>\n      <th>Speed</th>\n      <th>Generation</th>\n      <th>Legendary</th>\n    </tr>\n  </thead>\n  <tbody>\n    <tr>\n      <td>0</td>\n      <td>144</td>\n      <td>Articuno</td>\n      <td>Ice</td>\n      <td>Flying</td>\n      <td>580</td>\n      <td>90</td>\n      <td>85</td>\n      <td>100</td>\n      <td>95</td>\n      <td>125</td>\n      <td>85</td>\n      <td>1</td>\n      <td>1</td>\n    </tr>\n    <tr>\n      <td>1</td>\n      <td>145</td>\n      <td>Zapdos</td>\n      <td>Electric</td>\n      <td>Flying</td>\n      <td>580</td>\n      <td>90</td>\n      <td>90</td>\n      <td>85</td>\n      <td>125</td>\n      <td>90</td>\n      <td>100</td>\n      <td>1</td>\n      <td>1</td>\n    </tr>\n    <tr>\n      <td>2</td>\n      <td>146</td>\n      <td>Moltres</td>\n      <td>Fire</td>\n      <td>Flying</td>\n      <td>580</td>\n      <td>90</td>\n      <td>100</td>\n      <td>90</td>\n      <td>125</td>\n      <td>85</td>\n      <td>90</td>\n      <td>1</td>\n      <td>1</td>\n    </tr>\n    <tr>\n      <td>3</td>\n      <td>150</td>\n      <td>Mewtwo</td>\n      <td>Psychic</td>\n      <td>None</td>\n      <td>680</td>\n      <td>106</td>\n      <td>110</td>\n      <td>90</td>\n      <td>154</td>\n      <td>90</td>\n      <td>130</td>\n      <td>1</td>\n      <td>1</td>\n    </tr>\n    <tr>\n      <td>4</td>\n      <td>150</td>\n      <td>MewtwoMega Mewtwo X</td>\n      <td>Psychic</td>\n      <td>Fighting</td>\n      <td>780</td>\n      <td>106</td>\n      <td>190</td>\n      <td>100</td>\n      <td>154</td>\n      <td>100</td>\n      <td>130</td>\n      <td>1</td>\n      <td>1</td>\n    </tr>\n    <tr>\n      <td>...</td>\n      <td>...</td>\n      <td>...</td>\n      <td>...</td>\n      <td>...</td>\n      <td>...</td>\n      <td>...</td>\n      <td>...</td>\n      <td>...</td>\n      <td>...</td>\n      <td>...</td>\n      <td>...</td>\n      <td>...</td>\n      <td>...</td>\n    </tr>\n    <tr>\n      <td>60</td>\n      <td>719</td>\n      <td>Diancie</td>\n      <td>Rock</td>\n      <td>Fairy</td>\n      <td>600</td>\n      <td>50</td>\n      <td>100</td>\n      <td>150</td>\n      <td>100</td>\n      <td>150</td>\n      <td>50</td>\n      <td>6</td>\n      <td>1</td>\n    </tr>\n    <tr>\n      <td>61</td>\n      <td>719</td>\n      <td>DiancieMega Diancie</td>\n      <td>Rock</td>\n      <td>Fairy</td>\n      <td>700</td>\n      <td>50</td>\n      <td>160</td>\n      <td>110</td>\n      <td>160</td>\n      <td>110</td>\n      <td>110</td>\n      <td>6</td>\n      <td>1</td>\n    </tr>\n    <tr>\n      <td>62</td>\n      <td>720</td>\n      <td>HoopaHoopa Confined</td>\n      <td>Psychic</td>\n      <td>Ghost</td>\n      <td>600</td>\n      <td>80</td>\n      <td>110</td>\n      <td>60</td>\n      <td>150</td>\n      <td>130</td>\n      <td>70</td>\n      <td>6</td>\n      <td>1</td>\n    </tr>\n    <tr>\n      <td>63</td>\n      <td>720</td>\n      <td>HoopaHoopa Unbound</td>\n      <td>Psychic</td>\n      <td>Dark</td>\n      <td>680</td>\n      <td>80</td>\n      <td>160</td>\n      <td>60</td>\n      <td>170</td>\n      <td>130</td>\n      <td>80</td>\n      <td>6</td>\n      <td>1</td>\n    </tr>\n    <tr>\n      <td>64</td>\n      <td>721</td>\n      <td>Volcanion</td>\n      <td>Fire</td>\n      <td>Water</td>\n      <td>600</td>\n      <td>80</td>\n      <td>110</td>\n      <td>120</td>\n      <td>130</td>\n      <td>90</td>\n      <td>70</td>\n      <td>6</td>\n      <td>1</td>\n    </tr>\n  </tbody>\n</table>\n<p>65 rows × 13 columns</p>\n</div>"
     },
     "metadata": {},
     "execution_count": 13
    }
   ],
   "source": [
    "# 7. Obtén una tabla con los pokemon legendarios\n",
    "query = '''\n",
    "SELECT  *\n",
    "FROM pokemon\n",
    "WHERE Legendary = 1\n",
    "'''\n",
    "sql_query(query)\n"
   ]
  },
  {
   "cell_type": "code",
   "execution_count": 14,
   "metadata": {},
   "outputs": [
    {
     "output_type": "execute_result",
     "data": {
      "text/plain": "     #       Name Type 1  Type 2  Total   HP  Attack  Defense  Sp. Atk  \\\n0  146    Moltres   Fire  Flying    580   90     100       90      125   \n1  244      Entei   Fire    None    580  115     115       85       90   \n2  250      Ho-oh   Fire  Flying    680  106     130       90      110   \n3  485    Heatran   Fire   Steel    600   91      90      106      130   \n4  721  Volcanion   Fire   Water    600   80     110      120      130   \n\n   Sp. Def  Speed  Generation  Legendary  \n0       85     90           1          1  \n1       75    100           2          1  \n2      154     90           2          1  \n3      106     77           4          1  \n4       90     70           6          1  ",
      "text/html": "<div>\n<style scoped>\n    .dataframe tbody tr th:only-of-type {\n        vertical-align: middle;\n    }\n\n    .dataframe tbody tr th {\n        vertical-align: top;\n    }\n\n    .dataframe thead th {\n        text-align: right;\n    }\n</style>\n<table border=\"1\" class=\"dataframe\">\n  <thead>\n    <tr style=\"text-align: right;\">\n      <th></th>\n      <th>#</th>\n      <th>Name</th>\n      <th>Type 1</th>\n      <th>Type 2</th>\n      <th>Total</th>\n      <th>HP</th>\n      <th>Attack</th>\n      <th>Defense</th>\n      <th>Sp. Atk</th>\n      <th>Sp. Def</th>\n      <th>Speed</th>\n      <th>Generation</th>\n      <th>Legendary</th>\n    </tr>\n  </thead>\n  <tbody>\n    <tr>\n      <td>0</td>\n      <td>146</td>\n      <td>Moltres</td>\n      <td>Fire</td>\n      <td>Flying</td>\n      <td>580</td>\n      <td>90</td>\n      <td>100</td>\n      <td>90</td>\n      <td>125</td>\n      <td>85</td>\n      <td>90</td>\n      <td>1</td>\n      <td>1</td>\n    </tr>\n    <tr>\n      <td>1</td>\n      <td>244</td>\n      <td>Entei</td>\n      <td>Fire</td>\n      <td>None</td>\n      <td>580</td>\n      <td>115</td>\n      <td>115</td>\n      <td>85</td>\n      <td>90</td>\n      <td>75</td>\n      <td>100</td>\n      <td>2</td>\n      <td>1</td>\n    </tr>\n    <tr>\n      <td>2</td>\n      <td>250</td>\n      <td>Ho-oh</td>\n      <td>Fire</td>\n      <td>Flying</td>\n      <td>680</td>\n      <td>106</td>\n      <td>130</td>\n      <td>90</td>\n      <td>110</td>\n      <td>154</td>\n      <td>90</td>\n      <td>2</td>\n      <td>1</td>\n    </tr>\n    <tr>\n      <td>3</td>\n      <td>485</td>\n      <td>Heatran</td>\n      <td>Fire</td>\n      <td>Steel</td>\n      <td>600</td>\n      <td>91</td>\n      <td>90</td>\n      <td>106</td>\n      <td>130</td>\n      <td>106</td>\n      <td>77</td>\n      <td>4</td>\n      <td>1</td>\n    </tr>\n    <tr>\n      <td>4</td>\n      <td>721</td>\n      <td>Volcanion</td>\n      <td>Fire</td>\n      <td>Water</td>\n      <td>600</td>\n      <td>80</td>\n      <td>110</td>\n      <td>120</td>\n      <td>130</td>\n      <td>90</td>\n      <td>70</td>\n      <td>6</td>\n      <td>1</td>\n    </tr>\n  </tbody>\n</table>\n</div>"
     },
     "metadata": {},
     "execution_count": 14
    }
   ],
   "source": [
    "# 8. Obtén una tabla con los pokemon legendarios de fuego (\"Type 1\" = \"Fire\")\n",
    "query = '''\n",
    "SELECT  *\n",
    "FROM pokemon\n",
    "WHERE Legendary = 1 and \"Type 1\" = \"Fire\"\n",
    "'''\n",
    "sql_query(query)"
   ]
  },
  {
   "cell_type": "code",
   "execution_count": 15,
   "metadata": {},
   "outputs": [
    {
     "output_type": "execute_result",
     "data": {
      "text/plain": "      #                 Name   Type 1  Type 2  Total   HP  Attack  Defense  \\\n0     8            Wartortle    Water    None    405   59      63       80   \n1    13               Weedle      Bug  Poison    195   40      35       30   \n2    40           Wigglytuff   Normal   Fairy    435  140      70       45   \n3    70           Weepinbell    Grass  Poison    390   65      90       50   \n4   110              Weezing   Poison    None    490   65      90      120   \n5   194               Wooper    Water  Ground    210   55      45       45   \n6   202            Wobbuffet  Psychic    None    405  190      33       58   \n7   265              Wurmple      Bug    None    195   45      45       35   \n8   278              Wingull    Water  Flying    270   40      30       30   \n9   293              Whismur   Normal    None    240   64      51       23   \n10  320              Wailmer    Water    None    400  130      70       35   \n11  321              Wailord    Water    None    500  170      90       45   \n12  340             Whiscash    Water  Ground    468  110      78       73   \n13  360               Wynaut  Psychic    None    260   95      23       48   \n14  365              Walrein      Ice   Water    530  110      80       90   \n15  413  WormadamPlant Cloak      Bug   Grass    424   60      59       85   \n16  413  WormadamSandy Cloak      Bug  Ground    424   60      79      105   \n17  413  WormadamTrash Cloak      Bug   Steel    424   60      69       95   \n18  461              Weavile     Dark     Ice    510   70     120       65   \n19  505              Watchog   Normal    None    420   60      85       69   \n20  527               Woobat  Psychic  Flying    313   55      45       43   \n21  544           Whirlipede      Bug  Poison    360   40      55       99   \n22  547           Whimsicott    Grass   Fairy    480   60      67       85   \n\n    Sp. Atk  Sp. Def  Speed  Generation  Legendary  \n0        65       80     58           1          0  \n1        20       20     50           1          0  \n2        85       50     45           1          0  \n3        85       45     55           1          0  \n4        85       70     60           1          0  \n5        25       25     15           2          0  \n6        33       58     33           2          0  \n7        20       30     20           3          0  \n8        55       30     85           3          0  \n9        51       23     28           3          0  \n10       70       35     60           3          0  \n11       90       45     60           3          0  \n12       76       71     60           3          0  \n13       23       48     23           3          0  \n14       95       90     65           3          0  \n15       79      105     36           4          0  \n16       59       85     36           4          0  \n17       69       95     36           4          0  \n18       45       85    125           4          0  \n19       60       69     77           5          0  \n20       55       43     72           5          0  \n21       40       79     47           5          0  \n22       77       75    116           5          0  ",
      "text/html": "<div>\n<style scoped>\n    .dataframe tbody tr th:only-of-type {\n        vertical-align: middle;\n    }\n\n    .dataframe tbody tr th {\n        vertical-align: top;\n    }\n\n    .dataframe thead th {\n        text-align: right;\n    }\n</style>\n<table border=\"1\" class=\"dataframe\">\n  <thead>\n    <tr style=\"text-align: right;\">\n      <th></th>\n      <th>#</th>\n      <th>Name</th>\n      <th>Type 1</th>\n      <th>Type 2</th>\n      <th>Total</th>\n      <th>HP</th>\n      <th>Attack</th>\n      <th>Defense</th>\n      <th>Sp. Atk</th>\n      <th>Sp. Def</th>\n      <th>Speed</th>\n      <th>Generation</th>\n      <th>Legendary</th>\n    </tr>\n  </thead>\n  <tbody>\n    <tr>\n      <td>0</td>\n      <td>8</td>\n      <td>Wartortle</td>\n      <td>Water</td>\n      <td>None</td>\n      <td>405</td>\n      <td>59</td>\n      <td>63</td>\n      <td>80</td>\n      <td>65</td>\n      <td>80</td>\n      <td>58</td>\n      <td>1</td>\n      <td>0</td>\n    </tr>\n    <tr>\n      <td>1</td>\n      <td>13</td>\n      <td>Weedle</td>\n      <td>Bug</td>\n      <td>Poison</td>\n      <td>195</td>\n      <td>40</td>\n      <td>35</td>\n      <td>30</td>\n      <td>20</td>\n      <td>20</td>\n      <td>50</td>\n      <td>1</td>\n      <td>0</td>\n    </tr>\n    <tr>\n      <td>2</td>\n      <td>40</td>\n      <td>Wigglytuff</td>\n      <td>Normal</td>\n      <td>Fairy</td>\n      <td>435</td>\n      <td>140</td>\n      <td>70</td>\n      <td>45</td>\n      <td>85</td>\n      <td>50</td>\n      <td>45</td>\n      <td>1</td>\n      <td>0</td>\n    </tr>\n    <tr>\n      <td>3</td>\n      <td>70</td>\n      <td>Weepinbell</td>\n      <td>Grass</td>\n      <td>Poison</td>\n      <td>390</td>\n      <td>65</td>\n      <td>90</td>\n      <td>50</td>\n      <td>85</td>\n      <td>45</td>\n      <td>55</td>\n      <td>1</td>\n      <td>0</td>\n    </tr>\n    <tr>\n      <td>4</td>\n      <td>110</td>\n      <td>Weezing</td>\n      <td>Poison</td>\n      <td>None</td>\n      <td>490</td>\n      <td>65</td>\n      <td>90</td>\n      <td>120</td>\n      <td>85</td>\n      <td>70</td>\n      <td>60</td>\n      <td>1</td>\n      <td>0</td>\n    </tr>\n    <tr>\n      <td>5</td>\n      <td>194</td>\n      <td>Wooper</td>\n      <td>Water</td>\n      <td>Ground</td>\n      <td>210</td>\n      <td>55</td>\n      <td>45</td>\n      <td>45</td>\n      <td>25</td>\n      <td>25</td>\n      <td>15</td>\n      <td>2</td>\n      <td>0</td>\n    </tr>\n    <tr>\n      <td>6</td>\n      <td>202</td>\n      <td>Wobbuffet</td>\n      <td>Psychic</td>\n      <td>None</td>\n      <td>405</td>\n      <td>190</td>\n      <td>33</td>\n      <td>58</td>\n      <td>33</td>\n      <td>58</td>\n      <td>33</td>\n      <td>2</td>\n      <td>0</td>\n    </tr>\n    <tr>\n      <td>7</td>\n      <td>265</td>\n      <td>Wurmple</td>\n      <td>Bug</td>\n      <td>None</td>\n      <td>195</td>\n      <td>45</td>\n      <td>45</td>\n      <td>35</td>\n      <td>20</td>\n      <td>30</td>\n      <td>20</td>\n      <td>3</td>\n      <td>0</td>\n    </tr>\n    <tr>\n      <td>8</td>\n      <td>278</td>\n      <td>Wingull</td>\n      <td>Water</td>\n      <td>Flying</td>\n      <td>270</td>\n      <td>40</td>\n      <td>30</td>\n      <td>30</td>\n      <td>55</td>\n      <td>30</td>\n      <td>85</td>\n      <td>3</td>\n      <td>0</td>\n    </tr>\n    <tr>\n      <td>9</td>\n      <td>293</td>\n      <td>Whismur</td>\n      <td>Normal</td>\n      <td>None</td>\n      <td>240</td>\n      <td>64</td>\n      <td>51</td>\n      <td>23</td>\n      <td>51</td>\n      <td>23</td>\n      <td>28</td>\n      <td>3</td>\n      <td>0</td>\n    </tr>\n    <tr>\n      <td>10</td>\n      <td>320</td>\n      <td>Wailmer</td>\n      <td>Water</td>\n      <td>None</td>\n      <td>400</td>\n      <td>130</td>\n      <td>70</td>\n      <td>35</td>\n      <td>70</td>\n      <td>35</td>\n      <td>60</td>\n      <td>3</td>\n      <td>0</td>\n    </tr>\n    <tr>\n      <td>11</td>\n      <td>321</td>\n      <td>Wailord</td>\n      <td>Water</td>\n      <td>None</td>\n      <td>500</td>\n      <td>170</td>\n      <td>90</td>\n      <td>45</td>\n      <td>90</td>\n      <td>45</td>\n      <td>60</td>\n      <td>3</td>\n      <td>0</td>\n    </tr>\n    <tr>\n      <td>12</td>\n      <td>340</td>\n      <td>Whiscash</td>\n      <td>Water</td>\n      <td>Ground</td>\n      <td>468</td>\n      <td>110</td>\n      <td>78</td>\n      <td>73</td>\n      <td>76</td>\n      <td>71</td>\n      <td>60</td>\n      <td>3</td>\n      <td>0</td>\n    </tr>\n    <tr>\n      <td>13</td>\n      <td>360</td>\n      <td>Wynaut</td>\n      <td>Psychic</td>\n      <td>None</td>\n      <td>260</td>\n      <td>95</td>\n      <td>23</td>\n      <td>48</td>\n      <td>23</td>\n      <td>48</td>\n      <td>23</td>\n      <td>3</td>\n      <td>0</td>\n    </tr>\n    <tr>\n      <td>14</td>\n      <td>365</td>\n      <td>Walrein</td>\n      <td>Ice</td>\n      <td>Water</td>\n      <td>530</td>\n      <td>110</td>\n      <td>80</td>\n      <td>90</td>\n      <td>95</td>\n      <td>90</td>\n      <td>65</td>\n      <td>3</td>\n      <td>0</td>\n    </tr>\n    <tr>\n      <td>15</td>\n      <td>413</td>\n      <td>WormadamPlant Cloak</td>\n      <td>Bug</td>\n      <td>Grass</td>\n      <td>424</td>\n      <td>60</td>\n      <td>59</td>\n      <td>85</td>\n      <td>79</td>\n      <td>105</td>\n      <td>36</td>\n      <td>4</td>\n      <td>0</td>\n    </tr>\n    <tr>\n      <td>16</td>\n      <td>413</td>\n      <td>WormadamSandy Cloak</td>\n      <td>Bug</td>\n      <td>Ground</td>\n      <td>424</td>\n      <td>60</td>\n      <td>79</td>\n      <td>105</td>\n      <td>59</td>\n      <td>85</td>\n      <td>36</td>\n      <td>4</td>\n      <td>0</td>\n    </tr>\n    <tr>\n      <td>17</td>\n      <td>413</td>\n      <td>WormadamTrash Cloak</td>\n      <td>Bug</td>\n      <td>Steel</td>\n      <td>424</td>\n      <td>60</td>\n      <td>69</td>\n      <td>95</td>\n      <td>69</td>\n      <td>95</td>\n      <td>36</td>\n      <td>4</td>\n      <td>0</td>\n    </tr>\n    <tr>\n      <td>18</td>\n      <td>461</td>\n      <td>Weavile</td>\n      <td>Dark</td>\n      <td>Ice</td>\n      <td>510</td>\n      <td>70</td>\n      <td>120</td>\n      <td>65</td>\n      <td>45</td>\n      <td>85</td>\n      <td>125</td>\n      <td>4</td>\n      <td>0</td>\n    </tr>\n    <tr>\n      <td>19</td>\n      <td>505</td>\n      <td>Watchog</td>\n      <td>Normal</td>\n      <td>None</td>\n      <td>420</td>\n      <td>60</td>\n      <td>85</td>\n      <td>69</td>\n      <td>60</td>\n      <td>69</td>\n      <td>77</td>\n      <td>5</td>\n      <td>0</td>\n    </tr>\n    <tr>\n      <td>20</td>\n      <td>527</td>\n      <td>Woobat</td>\n      <td>Psychic</td>\n      <td>Flying</td>\n      <td>313</td>\n      <td>55</td>\n      <td>45</td>\n      <td>43</td>\n      <td>55</td>\n      <td>43</td>\n      <td>72</td>\n      <td>5</td>\n      <td>0</td>\n    </tr>\n    <tr>\n      <td>21</td>\n      <td>544</td>\n      <td>Whirlipede</td>\n      <td>Bug</td>\n      <td>Poison</td>\n      <td>360</td>\n      <td>40</td>\n      <td>55</td>\n      <td>99</td>\n      <td>40</td>\n      <td>79</td>\n      <td>47</td>\n      <td>5</td>\n      <td>0</td>\n    </tr>\n    <tr>\n      <td>22</td>\n      <td>547</td>\n      <td>Whimsicott</td>\n      <td>Grass</td>\n      <td>Fairy</td>\n      <td>480</td>\n      <td>60</td>\n      <td>67</td>\n      <td>85</td>\n      <td>77</td>\n      <td>75</td>\n      <td>116</td>\n      <td>5</td>\n      <td>0</td>\n    </tr>\n  </tbody>\n</table>\n</div>"
     },
     "metadata": {},
     "execution_count": 15
    }
   ],
   "source": [
    "# 9. Obtén una tabla con los pokemon cuyo nombre empieze por \"W\" y tenga una defensa mayor de 100 puntos\n",
    "query = '''\n",
    "SELECT  *\n",
    "FROM pokemon\n",
    "WHERE name LIKE \"W%\"\n",
    "'''\n",
    "sql_query(query)"
   ]
  },
  {
   "cell_type": "code",
   "execution_count": 16,
   "metadata": {},
   "outputs": [
    {
     "output_type": "execute_result",
     "data": {
      "text/plain": "     #                       Name    Type 1  Type 2  Total  HP  Attack  \\\n0   15      BeedrillMega Beedrill       Bug  Poison    495  65     150   \n1  101                  Electrode  Electric    None    480  60      50   \n2  142  AerodactylMega Aerodactyl      Rock  Flying    615  80     135   \n\n   Defense  Sp. Atk  Sp. Def  Speed  Generation  Legendary  \n0       40       15       80    145           1          0  \n1       70       80       80    140           1          0  \n2       85       70       95    150           1          0  ",
      "text/html": "<div>\n<style scoped>\n    .dataframe tbody tr th:only-of-type {\n        vertical-align: middle;\n    }\n\n    .dataframe tbody tr th {\n        vertical-align: top;\n    }\n\n    .dataframe thead th {\n        text-align: right;\n    }\n</style>\n<table border=\"1\" class=\"dataframe\">\n  <thead>\n    <tr style=\"text-align: right;\">\n      <th></th>\n      <th>#</th>\n      <th>Name</th>\n      <th>Type 1</th>\n      <th>Type 2</th>\n      <th>Total</th>\n      <th>HP</th>\n      <th>Attack</th>\n      <th>Defense</th>\n      <th>Sp. Atk</th>\n      <th>Sp. Def</th>\n      <th>Speed</th>\n      <th>Generation</th>\n      <th>Legendary</th>\n    </tr>\n  </thead>\n  <tbody>\n    <tr>\n      <td>0</td>\n      <td>15</td>\n      <td>BeedrillMega Beedrill</td>\n      <td>Bug</td>\n      <td>Poison</td>\n      <td>495</td>\n      <td>65</td>\n      <td>150</td>\n      <td>40</td>\n      <td>15</td>\n      <td>80</td>\n      <td>145</td>\n      <td>1</td>\n      <td>0</td>\n    </tr>\n    <tr>\n      <td>1</td>\n      <td>101</td>\n      <td>Electrode</td>\n      <td>Electric</td>\n      <td>None</td>\n      <td>480</td>\n      <td>60</td>\n      <td>50</td>\n      <td>70</td>\n      <td>80</td>\n      <td>80</td>\n      <td>140</td>\n      <td>1</td>\n      <td>0</td>\n    </tr>\n    <tr>\n      <td>2</td>\n      <td>142</td>\n      <td>AerodactylMega Aerodactyl</td>\n      <td>Rock</td>\n      <td>Flying</td>\n      <td>615</td>\n      <td>80</td>\n      <td>135</td>\n      <td>85</td>\n      <td>70</td>\n      <td>95</td>\n      <td>150</td>\n      <td>1</td>\n      <td>0</td>\n    </tr>\n  </tbody>\n</table>\n</div>"
     },
     "metadata": {},
     "execution_count": 16
    }
   ],
   "source": [
    "# 10. Saca una tabla con los pokemon de la primera generación, que NO sean \"Type 1\" = \"Psychic\" y tengan una velocidad superior a 130\n",
    "\n",
    "query = '''\n",
    "SELECT  *\n",
    "FROM pokemon\n",
    "WHERE Generation = 1 and \"Type 1\" <> \"Psychic\" and Speed > 130\n",
    "'''\n",
    "sql_query(query)"
   ]
  },
  {
   "cell_type": "code",
   "execution_count": 17,
   "metadata": {},
   "outputs": [
    {
     "output_type": "execute_result",
     "data": {
      "text/plain": "     #                 Name   Type 1    Type 2  Total   HP  Attack  Defense  \\\n0  150  MewtwoMega Mewtwo X  Psychic  Fighting    780  106     190      100   \n\n   Sp. Atk  Sp. Def  Speed  Generation  Legendary  \n0      154      100    130           1          1  ",
      "text/html": "<div>\n<style scoped>\n    .dataframe tbody tr th:only-of-type {\n        vertical-align: middle;\n    }\n\n    .dataframe tbody tr th {\n        vertical-align: top;\n    }\n\n    .dataframe thead th {\n        text-align: right;\n    }\n</style>\n<table border=\"1\" class=\"dataframe\">\n  <thead>\n    <tr style=\"text-align: right;\">\n      <th></th>\n      <th>#</th>\n      <th>Name</th>\n      <th>Type 1</th>\n      <th>Type 2</th>\n      <th>Total</th>\n      <th>HP</th>\n      <th>Attack</th>\n      <th>Defense</th>\n      <th>Sp. Atk</th>\n      <th>Sp. Def</th>\n      <th>Speed</th>\n      <th>Generation</th>\n      <th>Legendary</th>\n    </tr>\n  </thead>\n  <tbody>\n    <tr>\n      <td>0</td>\n      <td>150</td>\n      <td>MewtwoMega Mewtwo X</td>\n      <td>Psychic</td>\n      <td>Fighting</td>\n      <td>780</td>\n      <td>106</td>\n      <td>190</td>\n      <td>100</td>\n      <td>154</td>\n      <td>100</td>\n      <td>130</td>\n      <td>1</td>\n      <td>1</td>\n    </tr>\n  </tbody>\n</table>\n</div>"
     },
     "metadata": {},
     "execution_count": 17
    }
   ],
   "source": [
    "# 11. ¿Cuál es el pokemon con el ataque más alto?\n",
    "query = '''\n",
    "SELECT  *\n",
    "FROM pokemon\n",
    "ORDER BY Attack DESC\n",
    "LIMIT 1\n",
    "'''\n",
    "sql_query(query)"
   ]
  },
  {
   "cell_type": "code",
   "execution_count": 18,
   "metadata": {},
   "outputs": [
    {
     "output_type": "execute_result",
     "data": {
      "text/plain": "   AVG(Defense)\n0       73.8425",
      "text/html": "<div>\n<style scoped>\n    .dataframe tbody tr th:only-of-type {\n        vertical-align: middle;\n    }\n\n    .dataframe tbody tr th {\n        vertical-align: top;\n    }\n\n    .dataframe thead th {\n        text-align: right;\n    }\n</style>\n<table border=\"1\" class=\"dataframe\">\n  <thead>\n    <tr style=\"text-align: right;\">\n      <th></th>\n      <th>AVG(Defense)</th>\n    </tr>\n  </thead>\n  <tbody>\n    <tr>\n      <td>0</td>\n      <td>73.8425</td>\n    </tr>\n  </tbody>\n</table>\n</div>"
     },
     "metadata": {},
     "execution_count": 18
    }
   ],
   "source": [
    "# 12. ¿Cuál es la media de la defensa de todos los pokemon?\n",
    "query = '''\n",
    "SELECT  AVG(Defense)\n",
    "FROM pokemon\n",
    "'''\n",
    "sql_query(query)"
   ]
  },
  {
   "cell_type": "code",
   "execution_count": 19,
   "metadata": {},
   "outputs": [
    {
     "output_type": "execute_result",
     "data": {
      "text/plain": "   Generation  AVG(Defense)\n0           1     70.861446\n1           2     73.386792\n2           3     74.100000\n3           4     78.132231\n4           5     72.327273\n5           6     76.682927",
      "text/html": "<div>\n<style scoped>\n    .dataframe tbody tr th:only-of-type {\n        vertical-align: middle;\n    }\n\n    .dataframe tbody tr th {\n        vertical-align: top;\n    }\n\n    .dataframe thead th {\n        text-align: right;\n    }\n</style>\n<table border=\"1\" class=\"dataframe\">\n  <thead>\n    <tr style=\"text-align: right;\">\n      <th></th>\n      <th>Generation</th>\n      <th>AVG(Defense)</th>\n    </tr>\n  </thead>\n  <tbody>\n    <tr>\n      <td>0</td>\n      <td>1</td>\n      <td>70.861446</td>\n    </tr>\n    <tr>\n      <td>1</td>\n      <td>2</td>\n      <td>73.386792</td>\n    </tr>\n    <tr>\n      <td>2</td>\n      <td>3</td>\n      <td>74.100000</td>\n    </tr>\n    <tr>\n      <td>3</td>\n      <td>4</td>\n      <td>78.132231</td>\n    </tr>\n    <tr>\n      <td>4</td>\n      <td>5</td>\n      <td>72.327273</td>\n    </tr>\n    <tr>\n      <td>5</td>\n      <td>6</td>\n      <td>76.682927</td>\n    </tr>\n  </tbody>\n</table>\n</div>"
     },
     "metadata": {},
     "execution_count": 19
    }
   ],
   "source": [
    "# 13. ¿Cuál es la media de la defensa por generación?\n",
    "query = '''\n",
    "SELECT  Generation, AVG(Defense)\n",
    "FROM pokemon\n",
    "GROUP BY Generation\n",
    "'''\n",
    "sql_query(query)"
   ]
  },
  {
   "cell_type": "code",
   "execution_count": 20,
   "metadata": {},
   "outputs": [
    {
     "output_type": "execute_result",
     "data": {
      "text/plain": "      Type 1  MAX(HP)\n0        Bug       86\n1       Dark      126\n2     Dragon      125\n3   Electric       90\n4      Fairy      126\n5   Fighting      144\n6       Fire      115\n7     Flying       85\n8      Ghost      150\n9      Grass      123\n10    Ground      115\n11       Ice      110\n12    Normal      255\n13    Poison      105\n14   Psychic      190\n15      Rock      123\n16     Steel      100\n17     Water      170",
      "text/html": "<div>\n<style scoped>\n    .dataframe tbody tr th:only-of-type {\n        vertical-align: middle;\n    }\n\n    .dataframe tbody tr th {\n        vertical-align: top;\n    }\n\n    .dataframe thead th {\n        text-align: right;\n    }\n</style>\n<table border=\"1\" class=\"dataframe\">\n  <thead>\n    <tr style=\"text-align: right;\">\n      <th></th>\n      <th>Type 1</th>\n      <th>MAX(HP)</th>\n    </tr>\n  </thead>\n  <tbody>\n    <tr>\n      <td>0</td>\n      <td>Bug</td>\n      <td>86</td>\n    </tr>\n    <tr>\n      <td>1</td>\n      <td>Dark</td>\n      <td>126</td>\n    </tr>\n    <tr>\n      <td>2</td>\n      <td>Dragon</td>\n      <td>125</td>\n    </tr>\n    <tr>\n      <td>3</td>\n      <td>Electric</td>\n      <td>90</td>\n    </tr>\n    <tr>\n      <td>4</td>\n      <td>Fairy</td>\n      <td>126</td>\n    </tr>\n    <tr>\n      <td>5</td>\n      <td>Fighting</td>\n      <td>144</td>\n    </tr>\n    <tr>\n      <td>6</td>\n      <td>Fire</td>\n      <td>115</td>\n    </tr>\n    <tr>\n      <td>7</td>\n      <td>Flying</td>\n      <td>85</td>\n    </tr>\n    <tr>\n      <td>8</td>\n      <td>Ghost</td>\n      <td>150</td>\n    </tr>\n    <tr>\n      <td>9</td>\n      <td>Grass</td>\n      <td>123</td>\n    </tr>\n    <tr>\n      <td>10</td>\n      <td>Ground</td>\n      <td>115</td>\n    </tr>\n    <tr>\n      <td>11</td>\n      <td>Ice</td>\n      <td>110</td>\n    </tr>\n    <tr>\n      <td>12</td>\n      <td>Normal</td>\n      <td>255</td>\n    </tr>\n    <tr>\n      <td>13</td>\n      <td>Poison</td>\n      <td>105</td>\n    </tr>\n    <tr>\n      <td>14</td>\n      <td>Psychic</td>\n      <td>190</td>\n    </tr>\n    <tr>\n      <td>15</td>\n      <td>Rock</td>\n      <td>123</td>\n    </tr>\n    <tr>\n      <td>16</td>\n      <td>Steel</td>\n      <td>100</td>\n    </tr>\n    <tr>\n      <td>17</td>\n      <td>Water</td>\n      <td>170</td>\n    </tr>\n  </tbody>\n</table>\n</div>"
     },
     "metadata": {},
     "execution_count": 20
    }
   ],
   "source": [
    "# 13. Calcula el máximo HP por \"Type 1\"\n",
    "query = '''\n",
    "SELECT \"Type 1\", MAX(HP)\n",
    "FROM pokemon\n",
    "GROUP BY  \"Type 1\"\n",
    "'''\n",
    "sql_query(query)"
   ]
  }
 ],
 "metadata": {
  "kernelspec": {
   "display_name": "Python 3",
   "language": "python",
   "name": "python3"
  },
  "language_info": {
   "codemirror_mode": {
    "name": "ipython",
    "version": 3
   },
   "file_extension": ".py",
   "mimetype": "text/x-python",
   "name": "python",
   "nbconvert_exporter": "python",
   "pygments_lexer": "ipython3",
   "version": "3.7.6"
  }
 },
 "nbformat": 4,
 "nbformat_minor": 4
}