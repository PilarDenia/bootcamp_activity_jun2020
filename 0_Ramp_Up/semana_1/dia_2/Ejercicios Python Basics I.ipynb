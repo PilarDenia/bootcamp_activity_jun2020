{
 "cells": [
  {
   "cell_type": "markdown",
   "metadata": {},
   "source": [
    "![imagen](../../imagenes/ejercicios.png)"
   ]
  },
  {
   "cell_type": "markdown",
   "metadata": {},
   "source": [
    "# Ejercicios Python Basics I"
   ]
  },
  {
   "cell_type": "markdown",
   "metadata": {},
   "source": [
    "## Ejercicio 1\n",
    "Imprime por pantalla estas frases con el siguiente formato\n",
    "\n",
    "![imagen](../../imagenes/frase_Einstein.PNG)"
   ]
  },
  {
   "cell_type": "code",
   "execution_count": 41,
   "metadata": {},
   "outputs": [
    {
     "name": "stdout",
     "output_type": "stream",
     "text": [
      "¿Por qué esta magnífica tecnología científica, \n",
      "\tque ahorra trabajo y nos hace la vida más fácil, \n",
      "\t\tnos aporta tan poca felicidad? \n",
      "\t\t\tLa respuesta es esta, simplemente: porque aún no hemos aprendido a usarla con tino. \n",
      "\"Albert Einstein\"\n"
     ]
    }
   ],
   "source": [
    "print('¿Por qué esta magnífica tecnología científica, \\n'\n",
    "      '\\tque ahorra trabajo y nos hace la vida más fácil, \\n'\n",
    "      '\\t\\tnos aporta tan poca felicidad? \\n'\n",
    "      '\\t\\t\\tLa respuesta es esta, simplemente: porque aún no hemos aprendido a usarla con tino. \\n'\n",
    "      '\"Albert Einstein\"')"
   ]
  },
  {
   "cell_type": "markdown",
   "metadata": {},
   "source": [
    "## Ejercicio 2\n",
    "1. Escribe el nombre de tu calle en un variable\n",
    "2. Escribe el numero donde vives en otra\n",
    "3. Población en una tercera\n",
    "4. Codigo postal en la cuarta variable\n",
    "5. Crea una quinta variable que concatene todas ellas\n",
    "6. Imprimela por pantalla"
   ]
  },
  {
   "cell_type": "code",
   "execution_count": 19,
   "metadata": {},
   "outputs": [
    {
     "name": "stdout",
     "output_type": "stream",
     "text": [
      "La dirección es: Calle del Chorizo, número 10. Madrid, 28001.\n"
     ]
    }
   ],
   "source": [
    "calle     = \"Calle del Chorizo\"\n",
    "numero    = \"10\"\n",
    "poblacion = \"Madrid\"\n",
    "cp        = \"28001\"\n",
    "\n",
    "direccion = \"La dirección es: \" + calle + \", número \" + numero + \". \" + poblacion + \", \" + cp + \".\"\n",
    "\n",
    "print(direccion)"
   ]
  },
  {
   "cell_type": "markdown",
   "metadata": {},
   "source": [
    "## Ejercicio 3\n",
    "Replica el output del ejercicio dos, pero está vez sin usar una variable intermedia que concatene todas las demas. Realiza este ejercicio en una línea, con un  único `print`"
   ]
  },
  {
   "cell_type": "code",
   "execution_count": 23,
   "metadata": {},
   "outputs": [
    {
     "name": "stdout",
     "output_type": "stream",
     "text": [
      "La dirección es: Calle del Chorizo, número 10. Madrid, 28001.\n"
     ]
    }
   ],
   "source": [
    "print(f\"La dirección es: {calle}, número {numero}. {poblacion}, {cp}.\")"
   ]
  },
  {
   "cell_type": "markdown",
   "metadata": {},
   "source": [
    "## Ejercicio 4\n",
    "¿Qué variables están mal escritas y por qué? Realiza primero tu hipótesis y luego ejecuta las variables para comprobarlo. En ese orden :)\n",
    "\n",
    "\n",
    "1. mi_variable = \"Economía\"\n",
    "2. otra_var = \"Ejercicio\n",
    "3. True = \"Ejercicio\"\n",
    "4. mi variab1e = \"Alpha\"\n",
    "5. exec = True\n",
    "6. import = 40\n",
    "7. 81mi_variable = \"Agua\"\n",
    "8. mi_variable10 = 6"
   ]
  },
  {
   "cell_type": "markdown",
   "metadata": {},
   "source": [
    "1. ok\n",
    "2. Mal, el string no se ha cerrado\n",
    "3. Mal, una palabra reservada no puede ser nombre de variable\n",
    "4. Mal, hay un espacio en el nombre y se ha utilizado un 1 en vez de la letra l\n",
    "5. Mal, una palabra reservada no puede ser nombre de variable\n",
    "6. Mal, una palabra reservada no puede ser nombre de variable\n",
    "7. Mal, el nombre de una variable no puede comenzar con un número. El número, de haberlo, debe ir después del primer carácter del nombre.\n",
    "8. ok"
   ]
  },
  {
   "cell_type": "code",
   "execution_count": 25,
   "metadata": {},
   "outputs": [],
   "source": [
    "mi_variable = \"Economía\""
   ]
  },
  {
   "cell_type": "code",
   "execution_count": 27,
   "metadata": {},
   "outputs": [
    {
     "ename": "SyntaxError",
     "evalue": "EOL while scanning string literal (<ipython-input-27-0e2c550f24b6>, line 1)",
     "output_type": "error",
     "traceback": [
      "\u001b[1;36m  File \u001b[1;32m\"<ipython-input-27-0e2c550f24b6>\"\u001b[1;36m, line \u001b[1;32m1\u001b[0m\n\u001b[1;33m    otra_var = \"Ejercicio\u001b[0m\n\u001b[1;37m                         ^\u001b[0m\n\u001b[1;31mSyntaxError\u001b[0m\u001b[1;31m:\u001b[0m EOL while scanning string literal\n"
     ]
    }
   ],
   "source": [
    "otra_var = \"Ejercicio"
   ]
  },
  {
   "cell_type": "code",
   "execution_count": 28,
   "metadata": {},
   "outputs": [
    {
     "ename": "SyntaxError",
     "evalue": "can't assign to keyword (<ipython-input-28-584f15b0cc20>, line 1)",
     "output_type": "error",
     "traceback": [
      "\u001b[1;36m  File \u001b[1;32m\"<ipython-input-28-584f15b0cc20>\"\u001b[1;36m, line \u001b[1;32m1\u001b[0m\n\u001b[1;33m    True = \"Ejercicio\"\u001b[0m\n\u001b[1;37m                      ^\u001b[0m\n\u001b[1;31mSyntaxError\u001b[0m\u001b[1;31m:\u001b[0m can't assign to keyword\n"
     ]
    }
   ],
   "source": [
    "True = \"Ejercicio\""
   ]
  },
  {
   "cell_type": "code",
   "execution_count": 29,
   "metadata": {},
   "outputs": [
    {
     "ename": "SyntaxError",
     "evalue": "invalid syntax (<ipython-input-29-6f6db994b804>, line 1)",
     "output_type": "error",
     "traceback": [
      "\u001b[1;36m  File \u001b[1;32m\"<ipython-input-29-6f6db994b804>\"\u001b[1;36m, line \u001b[1;32m1\u001b[0m\n\u001b[1;33m    mi variab1e = \"Alpha\"\u001b[0m\n\u001b[1;37m              ^\u001b[0m\n\u001b[1;31mSyntaxError\u001b[0m\u001b[1;31m:\u001b[0m invalid syntax\n"
     ]
    }
   ],
   "source": [
    "mi variab1e = \"Alpha\""
   ]
  },
  {
   "cell_type": "code",
   "execution_count": 31,
   "metadata": {},
   "outputs": [],
   "source": [
    "exec = True"
   ]
  },
  {
   "cell_type": "code",
   "execution_count": 32,
   "metadata": {},
   "outputs": [
    {
     "ename": "SyntaxError",
     "evalue": "invalid syntax (<ipython-input-32-8b78a9e867ce>, line 1)",
     "output_type": "error",
     "traceback": [
      "\u001b[1;36m  File \u001b[1;32m\"<ipython-input-32-8b78a9e867ce>\"\u001b[1;36m, line \u001b[1;32m1\u001b[0m\n\u001b[1;33m    import = 40\u001b[0m\n\u001b[1;37m           ^\u001b[0m\n\u001b[1;31mSyntaxError\u001b[0m\u001b[1;31m:\u001b[0m invalid syntax\n"
     ]
    }
   ],
   "source": [
    "import = 40"
   ]
  },
  {
   "cell_type": "code",
   "execution_count": 33,
   "metadata": {},
   "outputs": [
    {
     "ename": "SyntaxError",
     "evalue": "invalid syntax (<ipython-input-33-49ad8abd9385>, line 1)",
     "output_type": "error",
     "traceback": [
      "\u001b[1;36m  File \u001b[1;32m\"<ipython-input-33-49ad8abd9385>\"\u001b[1;36m, line \u001b[1;32m1\u001b[0m\n\u001b[1;33m    81mi_variable = \"Agua\"\u001b[0m\n\u001b[1;37m                ^\u001b[0m\n\u001b[1;31mSyntaxError\u001b[0m\u001b[1;31m:\u001b[0m invalid syntax\n"
     ]
    }
   ],
   "source": [
    "81mi_variable = \"Agua\""
   ]
  },
  {
   "cell_type": "code",
   "execution_count": 34,
   "metadata": {},
   "outputs": [],
   "source": [
    "mi_variable10 = 6"
   ]
  },
  {
   "cell_type": "markdown",
   "metadata": {},
   "source": [
    "## Ejercicio 5\n",
    "Realiza un conversor de grados Celsius a Fahrenheit. El conversor tiene que recibir el input del usuario y devolver la conversión.\n",
    "\n",
    "La conversión de grados sigue la siguiente fórmula: F = (C × 9 / 5) + 32 "
   ]
  },
  {
   "cell_type": "code",
   "execution_count": 40,
   "metadata": {},
   "outputs": [
    {
     "name": "stdin",
     "output_type": "stream",
     "text": [
      "Introduzca una temperatura en grados Celsius: 76543\n"
     ]
    },
    {
     "name": "stdout",
     "output_type": "stream",
     "text": [
      "La misma temperatura en grados Fahrenheit es: 137809.4\n"
     ]
    }
   ],
   "source": [
    "celsius = input(\"Introduzca una temperatura en grados Celsius:\")\n",
    "\n",
    "fahrenheit = (float(celsius) * 9/5) + 32\n",
    "\n",
    "print(f\"La misma temperatura en grados Fahrenheit es: {fahrenheit}\")"
   ]
  },
  {
   "cell_type": "markdown",
   "metadata": {},
   "source": [
    "## Ejercicio 6\n",
    "Comenta en la medida de lo posible el Ejercicio 5. Será suficiente con poner al menos un comentario de línea, y otro multilínea"
   ]
  },
  {
   "cell_type": "code",
   "execution_count": 39,
   "metadata": {},
   "outputs": [
    {
     "name": "stdin",
     "output_type": "stream",
     "text": [
      "Introduzca una temperatura en grados Celsius: 654\n"
     ]
    },
    {
     "name": "stdout",
     "output_type": "stream",
     "text": [
      "La misma temperatura en grados Fahrenheit es: 1209.2\n"
     ]
    }
   ],
   "source": [
    "\"\"\"\n",
    "Conversión de grados Celsius a Fahrenheit\n",
    "con Python\n",
    "\n",
    "\"\"\"\n",
    "\n",
    "# Pedimos al usuario que introduzca grados celsius\n",
    "celsius = input(\"Introduzca una temperatura en grados Celsius:\")\n",
    "\n",
    "# No estamos comprobando si el string introducido por el usuario se puede convertir a a float\n",
    "# Tal comprobación, es una posible mejora a futuro\n",
    "fahrenheit = (float(celsius) * 9/5) + 32\n",
    "\n",
    "# Mostramos el resultado al usuario\n",
    "print(f\"La misma temperatura en grados Fahrenheit es: {fahrenheit}\")\n"
   ]
  }
 ],
 "metadata": {
  "kernelspec": {
   "display_name": "Python 3",
   "language": "python",
   "name": "python3"
  },
  "language_info": {
   "codemirror_mode": {
    "name": "ipython",
    "version": 3
   },
   "file_extension": ".py",
   "mimetype": "text/x-python",
   "name": "python",
   "nbconvert_exporter": "python",
   "pygments_lexer": "ipython3",
   "version": "3.7.4"
  }
 },
 "nbformat": 4,
 "nbformat_minor": 4
}
