{
 "cells": [
  {
   "cell_type": "markdown",
   "metadata": {},
   "source": [
    "# Aptitudes de un Data Scientist\n",
    "\n",
    "> **Lo más importante**\n",
    ">\n",
    "> + Matemáticas\n",
    "> + Programación\n",
    ">   + SQL\n",
    ">\n",
    ">  ![python logo](../../imagenes/python.png)\n",
    ">   + Python\n",
    ">\n",
    ">   Otro tema importante es el *Business Intelligence*\n",
    ">\n",
    ">   Si tienes dudas, puedes escribirme a: <daniel@thebridgeschool.es>\n",
    ">\n",
    ">   En esta página se parende mucho de machine learning: [**página con ML**](https://www.coursera.org/learn/machine-learning)"
   ]
  },
  {
   "cell_type": "code",
   "execution_count": null,
   "metadata": {},
   "outputs": [],
   "source": []
  }
 ],
 "metadata": {
  "kernelspec": {
   "display_name": "Python 3",
   "language": "python",
   "name": "python3"
  },
  "language_info": {
   "codemirror_mode": {
    "name": "ipython",
    "version": 3
   },
   "file_extension": ".py",
   "mimetype": "text/x-python",
   "name": "python",
   "nbconvert_exporter": "python",
   "pygments_lexer": "ipython3",
   "version": "3.7.4"
  }
 },
 "nbformat": 4,
 "nbformat_minor": 4
}
