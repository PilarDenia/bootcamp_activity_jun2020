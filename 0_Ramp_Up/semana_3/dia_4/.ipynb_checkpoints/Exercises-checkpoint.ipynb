{
 "cells": [
  {
   "cell_type": "markdown",
   "metadata": {},
   "source": [
    "## Bootcamp Data Science - The Brige. Febrero 2020. Precurso. "
   ]
  },
  {
   "cell_type": "markdown",
   "metadata": {},
   "source": [
    "## Repaso\n",
    "\n",
    "1. Variables y tipos:\n",
    "    - Creación de variables\n",
    "    - String\n",
    "    - Enteros\n",
    "    - Booleanos\n",
    "    - None (Ningún tipo)\n",
    "2. Operadores lógicos:\n",
    "    - Suma\n",
    "    - Resta\n",
    "    - División\n",
    "    - División absoluta\n",
    "    - Exponente\n",
    "    - Multiplicación\n",
    "    - And, or, not\n",
    "3. Listas, Tuplas y Set (Conjuntos):\n",
    "    - Acceso a dato por posiciones\n",
    "    - Tamaño de lista \n",
    "    - Listas dentro de listas\n",
    "    - Añadir datos a la listas\n",
    "    - Eliminar datos de listas\n",
    "4. Bucles:\n",
    "    - For\n",
    "    - range\n",
    "    - enumerate\n",
    "    - break\n",
    "    - while\n",
    "5. Funciones:\n",
    "    - Función con parámetros\n",
    "    - Funciones dentro de Funciones\n",
    "    - Funciones recursivas\n",
    "    - Return\n",
    "6. Input \n"
   ]
  },
  {
   "cell_type": "markdown",
   "metadata": {},
   "source": [
    "## Ejercicios:\n",
    "\n",
    "### Apartado 1:\n",
    "\n",
    "1. Crea una variable llamada 'numero_bridge' que tenga como valor 15. Tipo entero.\n",
    "2. Crea una variable llamada 'nombre_calle' que sea un string y sea 'Recoletos'\n",
    "3. Crea una variable llamada 'gusto_personal' que sea True si eres más de playa y False si eres más de montaña.\n",
    "4. Crea una variable llamada 'nada' de la siguiente forma: 'nada = None'. None no representa ningún valor. Ha de tenerse en cuenta que si se hace 'if (nada):', 'nada' actúa como un valor booleano False. Para más información, observar el primer ejemplo de abajo.\n",
    "5. Crea una variable que llamada 'lista_direccion' que sea una lista y que contenga 2 valores. El primer valor debe ser la variable 'numero_bridge' y el segundo valor de la lista debe ser la variable 'nombre_calle'\n",
    "6. Crea una variable llamada 'horas_sueno' que almacene, en forma de String, las horas que has dormido hoy. Ejemplo: horas_sueno = \"8\" \n",
    "6. Crea una lista llamada 'lista_informacion' que tenga cada una de las variables creadas anteriormente en el orden en el que se han expuesto en el ejercicio.\n",
    "\n",
    "IMPORTANTE: A partir de este momento y para todos estos ejercicios, solo se van a utilizar los datos almacenados en 'lista_informacion'. Debe contener 6 elementos. "
   ]
  },
  {
   "cell_type": "code",
   "execution_count": 99,
   "metadata": {},
   "outputs": [],
   "source": [
    "#Ejercicio 1.\n",
    "# Crea una variable llamada 'numero_bridge' que tenga como valor 15. Tipo entero.\n",
    "# Crea una variable llamada 'nombre_calle' que sea un string y sea 'Recoletos'\n",
    "# Crea una variable llamada 'gusto_personal' que sea True si eres más de playa y False si eres más de montaña.\n",
    "# Crea una variable llamada 'nada' de la siguiente forma: 'nada = None'. None no representa ningún valor. \n",
    "#    Ha de tenerse en cuenta que si se hace 'if (nada):', 'nada' actúa como un valor booleano False. \n",
    "#   Para más información, observar el primer ejemplo de abajo.\n",
    "\n",
    "numero_bridge = 15\n",
    "\n",
    "nombre_calle = \"Recoletos\"\n",
    "\n",
    "gusto_personal = False\n",
    "\n",
    "nada = None\n",
    "\n",
    "lista_direccion = [numero_bridge, nombre_calle]\n",
    "\n",
    "horas_suenyo = \"6\"\n",
    "\n"
   ]
  },
  {
   "cell_type": "code",
   "execution_count": 100,
   "metadata": {},
   "outputs": [],
   "source": [
    "lista_informacion = [numero_bridge, nombre_calle, gusto_personal, nada, lista_direccion, horas_suenyo]"
   ]
  },
  {
   "cell_type": "markdown",
   "metadata": {},
   "source": [
    "#### Borrar variables. Del\n",
    "Ejecuta esta celda de jupyter para borrar todas las variables que has tenido que crear antes. El contenido de 'lista_informacion' no cambiará. De esta forma, nos aseguraremos de que solo uses la información de 'lista_informacion'. "
   ]
  },
  {
   "cell_type": "code",
   "execution_count": 101,
   "metadata": {},
   "outputs": [],
   "source": [
    "del(numero_bridge, nombre_calle, gusto_personal, nada, lista_direccion, horas_suenyo)\n"
   ]
  },
  {
   "cell_type": "code",
   "execution_count": 102,
   "metadata": {},
   "outputs": [
    {
     "data": {
      "text/plain": [
       "[15, 'Recoletos', False, None, [15, 'Recoletos'], '6']"
      ]
     },
     "execution_count": 102,
     "metadata": {},
     "output_type": "execute_result"
    }
   ],
   "source": [
    "lista_informacion"
   ]
  },
  {
   "cell_type": "markdown",
   "metadata": {},
   "source": [
    "### Apartado 2\n",
    "\n",
    "### Ejercicios con 'lista_informacion'. Recuerda no usar las variables excepto 'lista_informacion'. Leer cada punto hasta el final antes de hacer la tarea. \n",
    "\n",
    "1. Mostrar por pantalla, sin uso de funciones ni bucles: \n",
    "    - La concatenación del número de The Bridge, dos puntos y el nombre de la calle. \n",
    "    - La suma del número de The Bridge y las horas que has dormido hoy. \n",
    "    - La concatenación del número de The Bridge, el nombre de la calle, tu gusto personal y las horas de sueño. Cada uno debe estar separado por lo siguiente: \" : \".\n",
    "    - Accediendo a la lista de la quinta posición de 'lista_informacion' muestra por pantalla la suma de lo siguiente (si la quinta posición de tu 'lista_informacion' no es una lista, pregunta a los profesores):\n",
    "        - La concatenación de los dos elementos. \n",
    "        - La multiplicación del tamaño de la lista de la quinta posición de 'lista_informacion' y el tamaño del número de caracteres que tiene el nombre de la calle.\n",
    "\n",
    "2. Dentro de funciones con el nombre que decidáis, con un argumento de entrada llamado 'lista' siendo este la 'lista_informacion' cuando se invoque a la función. Cuando sea 'recorre' se refiere a bucle 'for'. Cada punto representa una función y celda de Jupyter diferente:\n",
    "\n",
    "    - Mostrar por pantalla \"Me gusta la tranquilidad\" si te gusta más la montaña y \"Me gusta ver las carnes al aire libre\" si te gusta más la playa.\n",
    "    - Mostrar por pantalla \"Hoy estoy cansado\" si has dormido menos de 7 horas y \"Hoy me como el mundo\" si has dormido más de 7 horas. \n",
    "    - Recorrer 'lista' para mostrar todos los elementos que contiene. \n",
    "    - Recorrer 'lista' para mostrar todos los elementos que contiene concatenado con el string \"--> OK\"\n",
    "    - Recorrer 'lista' para mostrar todos los elementos que contiene excepto el primero\n",
    "    - Recorrer 'lista' para mostrar todos los elementos que contiene excepto el último. \n",
    "    - Recorrer 'lista' para mostrar todos los elementos que contiene excepto el número de la calle y las horas que has dormido.\n",
    "    - Recorrer 'lista' para mostrar todos los elementos que contiene excepto el primer elemento de la lista de la quinta posición. \n",
    "    - Recorrer 'lista' para mostrar todos los elementos que contiene excepto el que contiene la información sobre si os gusta la montaña o playa SI os gusta la montaña.\n",
    "    - Recorrer 'lista' para mostrar el último elemento.\n",
    "    - Crear una variable llamada 'zona' y darle el valor de None. Recorrer 'lista' y actualizar 'zona' a True si y solo si has dormido más de 7 horas, te gusta la playa y la suma de las horas que has dormido más el número de The Bridge es menor a 24. Para cualquier otro caso, 'zona' será False. Retornar el valor de 'zona'. Esta función se llamará 'funcion_zona'.\n",
    "    - Dentro de una función llamada 'funcion_comprobacion' que recibe solo un parámetro llamado 'valor_zona' que será el valor que devuelve la función 'funcion_zona' cuando sea invocado, mostrar el valor de 'valor_zona' si es True.\n",
    "\n",
    "\n",
    "3. Hacer un programa que pregunte si le gusta la montaña al usuario y, si es que no, llame a la función funcion_zona. \n",
    "\n",
    "4. Hacer una función que guarde en una variable el valor de 'nada' y lo devuelva por pantalla. Concatenar su valor con el número de the bridge y mostrarlo por pantalla. Ahora, mostrar por pantalla un booleano True si el tamaño de la palabra concatenada es 6. Sino, será False. La función debe retornar el valor True o False. El nombre de la función será 'f_s'.\n",
    "\n",
    "5. Crear una lista 'lista_aux' con 7 elementos (los que queráis). Crear una función 'funcion_usa_f_s' que reciba por parámetros dos argumento 'f_s' y 'lista'.  Si el valor de 'f_s' es True, entonces borrar el un elemento de 'lista'. Si 'lista' tiene algún elemento, entonces repetir el proceso hasta que no tenga elementos. La entrada 'lista' ha de ser 'lista_aux' y 'f_s' será la función 'f_s' del punto anterior.\n",
    "\n",
    "6. Crear una función 'numeros_pares' que tenga un parámetro de entrada 'arg1' (Entero). La función debe mostrar por pantalla y retornar una lista de números de tamaño 'arg1' siendo números pares.\n",
    "\n",
    "7. Crear una función que tenga una variable de entrada 'arg1' (que será la lista de números pares del apartado anterior) y que elimine elementos de la lista (uno a uno) si 'arg1' tiene un tamaño divisible entre 2 y, si no lo tiene, añada, solo una vez, el valor de la función 'f_s'."
   ]
  },
  {
   "cell_type": "code",
   "execution_count": 103,
   "metadata": {},
   "outputs": [
    {
     "data": {
      "text/plain": [
       "'15:Recoletos'"
      ]
     },
     "execution_count": 103,
     "metadata": {},
     "output_type": "execute_result"
    }
   ],
   "source": [
    "#Ejercicio. Apartado 2.1\n",
    "# Mostrar por pantalla, sin uso de funciones ni bucles: \n",
    "#La concatenación del número de The Bridge, dos puntos y el nombre de la calle. \n",
    "\n",
    "out = str(lista_informacion[0])+\":\"+ (lista_informacion[1])\n",
    "out"
   ]
  },
  {
   "cell_type": "code",
   "execution_count": 104,
   "metadata": {},
   "outputs": [
    {
     "data": {
      "text/plain": [
       "[15, 'Recoletos', False, None, [15, 'Recoletos'], '6']"
      ]
     },
     "execution_count": 104,
     "metadata": {},
     "output_type": "execute_result"
    }
   ],
   "source": [
    "lista_informacion"
   ]
  },
  {
   "cell_type": "code",
   "execution_count": 105,
   "metadata": {},
   "outputs": [
    {
     "data": {
      "text/plain": [
       "21"
      ]
     },
     "execution_count": 105,
     "metadata": {},
     "output_type": "execute_result"
    }
   ],
   "source": [
    "# - La suma del número de The Bridge y las horas que has dormido hoy. \n",
    "# - La concatenación del número de The Bridge, el nombre de la calle, tu gusto personal y las horas de sueño. \n",
    "#    Cada uno debe estar separado por lo siguiente: \" : \".\n",
    "\n",
    "lista_informacion[0] + int(lista_informacion[-1])\n"
   ]
  },
  {
   "cell_type": "code",
   "execution_count": 106,
   "metadata": {},
   "outputs": [
    {
     "data": {
      "text/plain": [
       "'15:Recoletos:False:6'"
      ]
     },
     "execution_count": 106,
     "metadata": {},
     "output_type": "execute_result"
    }
   ],
   "source": [
    "out =str(lista_informacion[0]) + \":\" + lista_informacion[1] + \":\" + str(lista_informacion[2]) + \":\" + lista_informacion[-1]\n",
    "out"
   ]
  },
  {
   "cell_type": "code",
   "execution_count": 107,
   "metadata": {},
   "outputs": [
    {
     "data": {
      "text/plain": [
       "'15 : Recoletos : False : 6'"
      ]
     },
     "execution_count": 107,
     "metadata": {},
     "output_type": "execute_result"
    }
   ],
   "source": [
    "#Otra solución\n",
    "provisional = [str(lista_informacion[0]),lista_informacion[1],str(lista_informacion[2]), lista_informacion[-1]]\n",
    "\" : \".join(provisional)"
   ]
  },
  {
   "cell_type": "code",
   "execution_count": 108,
   "metadata": {},
   "outputs": [
    {
     "data": {
      "text/plain": [
       "'15Recoletos'"
      ]
     },
     "execution_count": 108,
     "metadata": {},
     "output_type": "execute_result"
    }
   ],
   "source": [
    "# - Accediendo a la lista de la quinta posición de 'lista_informacion' muestra por pantalla la suma \n",
    "#    de lo siguiente (si la quinta posición de tu 'lista_informacion' no e lista_informacion[-1]s una lista, pregunta a los profesores):#\n",
    "#        - La concatenación de los dos elementos.# \n",
    "\n",
    "\n",
    "\n",
    "str(lista_informacion[4][0])+ lista_informacion[4][1]"
   ]
  },
  {
   "cell_type": "code",
   "execution_count": 109,
   "metadata": {},
   "outputs": [
    {
     "data": {
      "text/plain": [
       "18"
      ]
     },
     "execution_count": 109,
     "metadata": {},
     "output_type": "execute_result"
    }
   ],
   "source": [
    "#        - La multiplicación del tamaño de la lista de la quinta posición de 'lista_informacion' y\n",
    "#        el tamaño del número de caracteres que tiene el nombre de la calle.\n",
    "len(lista_informacion[4]) * len(lista_informacion[1])"
   ]
  },
  {
   "cell_type": "code",
   "execution_count": 110,
   "metadata": {},
   "outputs": [],
   "source": [
    "# Apartado 2.2.-Dentro de funciones con el nombre que decidáis, con un argumento de entrada llamado 'lista' \n",
    "#    siendo este la 'lista_informacion' cuando se invoque a la función. \n",
    "#    Cuando sea 'recorre' se refiere a bucle 'for'. Cada punto representa una función y celda de Jupyter diferente:\n",
    "\n",
    "#Mostrar por pantalla \"Me gusta la tranquilidad\" si te gusta más la montaña y\n",
    "#    \"Me gusta ver las carnes al aire libre\" si te gusta más la playa.\n",
    "\n",
    "def playa_montanya(lista):\n",
    "    for e in lista:\n",
    "        if type(e) == bool:\n",
    "            if e == True:\n",
    "                print(\"Me gusta ver las carnes al aire libre\")\n",
    "            else:\n",
    "                print(\"Me gusta la tranquilidad\")"
   ]
  },
  {
   "cell_type": "code",
   "execution_count": 111,
   "metadata": {},
   "outputs": [
    {
     "name": "stdout",
     "output_type": "stream",
     "text": [
      "Me gusta la tranquilidad\n"
     ]
    }
   ],
   "source": [
    "playa_montanya(lista_informacion)"
   ]
  },
  {
   "cell_type": "code",
   "execution_count": 112,
   "metadata": {},
   "outputs": [],
   "source": [
    "# Mostrar por pantalla \"Hoy estoy cansado\" si has dormido menos de 7 horas y \"Hoy me como el mundo\" \n",
    "#    si has dormido más de 7 horas.\n",
    "\n",
    "def suenyo(lista):\n",
    "    out = None\n",
    "    if(int(lista[-1]) < 7):\n",
    "        out = \"Estoy cansado\"\n",
    "    elif(int(lista[-1]) < 7):\n",
    "        out = \"Hoy me como el mundo\"\n",
    "    else:\n",
    "        out = \"He dormido bien\"\n",
    "    print(out)"
   ]
  },
  {
   "cell_type": "code",
   "execution_count": 113,
   "metadata": {},
   "outputs": [
    {
     "name": "stdout",
     "output_type": "stream",
     "text": [
      "Estoy cansado\n"
     ]
    }
   ],
   "source": [
    "suenyo(lista_informacion)"
   ]
  },
  {
   "cell_type": "code",
   "execution_count": 114,
   "metadata": {},
   "outputs": [
    {
     "data": {
      "text/plain": [
       "6"
      ]
     },
     "execution_count": 114,
     "metadata": {},
     "output_type": "execute_result"
    }
   ],
   "source": [
    "len(lista_informacion)"
   ]
  },
  {
   "cell_type": "code",
   "execution_count": 115,
   "metadata": {},
   "outputs": [
    {
     "name": "stdout",
     "output_type": "stream",
     "text": [
      "15--> OK\n",
      "Recoletos--> OK\n",
      "False--> OK\n",
      "None--> OK\n",
      "[15, 'Recoletos']--> OK\n",
      "6--> OK\n"
     ]
    }
   ],
   "source": [
    "# Recorrer 'lista' para mostrar todos los elementos que contiene.Recorrer 'lista' para mostrar todos los elementos\n",
    "#    que contiene concatenado con el string \"--> OK\"\n",
    "# Recorrer 'lista' para mostrar todos los elementos que contiene excepto el primero\n",
    "# Recorrer 'lista' para mostrar todos los elementos que contiene excepto el último.\n",
    "# Recorrer 'lista' para mostrar todos los elementos que contiene excepto el número de la calle  \n",
    "#    y las horas que has dormido.\n",
    "\n",
    "def muestra_lista(lista):\n",
    "    for e in lista:\n",
    "        print(str(e) + \"--> OK\")\n",
    "        \n",
    "muestra_lista(lista_informacion)"
   ]
  },
  {
   "cell_type": "code",
   "execution_count": 116,
   "metadata": {},
   "outputs": [
    {
     "name": "stdout",
     "output_type": "stream",
     "text": [
      "Recoletos\n",
      "False\n",
      "None\n",
      "[15, 'Recoletos']\n",
      "6\n"
     ]
    }
   ],
   "source": [
    "def sin_primer_elem(lista):\n",
    "    #lista_2 = lista[1:]\n",
    "    for e in lista[1:]:\n",
    "        print(e)\n",
    "        \n",
    "sin_primer_elem(lista_informacion)"
   ]
  },
  {
   "cell_type": "code",
   "execution_count": 117,
   "metadata": {},
   "outputs": [
    {
     "name": "stdout",
     "output_type": "stream",
     "text": [
      "15\n",
      "Recoletos\n",
      "False\n",
      "None\n",
      "[15, 'Recoletos']\n"
     ]
    }
   ],
   "source": [
    "def sin_ultimo_elem(lista):\n",
    "    for e in lista[:(len(lista)-1)]:\n",
    "        print(e)\n",
    "        \n",
    "sin_ultimo_elem(lista_informacion)"
   ]
  },
  {
   "cell_type": "code",
   "execution_count": 118,
   "metadata": {},
   "outputs": [
    {
     "name": "stdout",
     "output_type": "stream",
     "text": [
      "Recoletos\n",
      "False\n",
      "None\n",
      "Recoletos\n"
     ]
    }
   ],
   "source": [
    "def sin_num_calle_suenyo(lista):\n",
    "    for e in lista:\n",
    "        if e == lista[0] or e == lista[-1]:\n",
    "            continue\n",
    "        else:\n",
    "            if type(e) == list:\n",
    "                for i in e:\n",
    "                    if i == 15:\n",
    "                        continue\n",
    "                    else:\n",
    "                         print(i)\n",
    "            else:\n",
    "                print(e)\n",
    "            \n",
    "sin_num_calle_suenyo(lista_informacion)"
   ]
  },
  {
   "cell_type": "code",
   "execution_count": 119,
   "metadata": {},
   "outputs": [
    {
     "name": "stdout",
     "output_type": "stream",
     "text": [
      "15\n",
      "Recoletos\n",
      "False\n",
      "None\n",
      "Recoletos\n",
      "6\n"
     ]
    }
   ],
   "source": [
    "# Recorrer 'lista' para mostrar todos los elementos que contiene excepto el primer elemento \n",
    "#    de la lista de la quinta posición.\n",
    "\n",
    "def sin_primer_list_elem(lista):\n",
    "    \n",
    "     for e in lista:\n",
    "        if type(e) == list:\n",
    "                for i in e:\n",
    "                    if i == e[0]:\n",
    "                        continue\n",
    "                    else:\n",
    "                         print(i)\n",
    "        else:\n",
    "            print(e)\n",
    "            \n",
    "sin_primer_list_elem(lista_informacion)"
   ]
  },
  {
   "cell_type": "code",
   "execution_count": 120,
   "metadata": {},
   "outputs": [
    {
     "name": "stdout",
     "output_type": "stream",
     "text": [
      "15\n",
      "Recoletos\n",
      "None\n",
      "[15, 'Recoletos']\n",
      "6\n"
     ]
    }
   ],
   "source": [
    "# Recorrer 'lista' para mostrar todos los elementos que contiene excepto el que contiene la información \n",
    "#    sobre si os gusta la montaña o playa SI os gusta la montaña.\n",
    "\n",
    "def no_booleano(lista):\n",
    "    for e in lista:\n",
    "        if type(e) == bool:\n",
    "            continue\n",
    "        else:\n",
    "            print(e)\n",
    "\n",
    "no_booleano(lista_informacion)"
   ]
  },
  {
   "cell_type": "code",
   "execution_count": 121,
   "metadata": {},
   "outputs": [
    {
     "name": "stdout",
     "output_type": "stream",
     "text": [
      "6\n"
     ]
    }
   ],
   "source": [
    "# Recorrer 'lista' para mostrar el último elemento.\n",
    "\n",
    "def solo_ultimo(lista):\n",
    "    for e in lista:\n",
    "        if e == lista[-1]:\n",
    "            print(e)\n",
    "\n",
    "solo_ultimo(lista_informacion)"
   ]
  },
  {
   "cell_type": "code",
   "execution_count": 122,
   "metadata": {},
   "outputs": [
    {
     "data": {
      "text/plain": [
       "[15, 'Recoletos', False, None, [15, 'Recoletos'], '6']"
      ]
     },
     "execution_count": 122,
     "metadata": {},
     "output_type": "execute_result"
    }
   ],
   "source": [
    "lista_informacion"
   ]
  },
  {
   "cell_type": "code",
   "execution_count": 123,
   "metadata": {},
   "outputs": [
    {
     "data": {
      "text/plain": [
       "False"
      ]
     },
     "execution_count": 123,
     "metadata": {},
     "output_type": "execute_result"
    }
   ],
   "source": [
    "# Crear una variable llamada 'zona' y darle el valor de None. Recorrer 'lista' y\n",
    "#    actualizar 'zona' a True si y solo si has dormido más de 7 horas, te gusta la playa y\n",
    "#    la suma de las horas que has dormido más el número de The Bridge es menor a 24. \n",
    "#    Para cualquier otro caso, 'zona' será False. Retornar el valor de 'zona'. \n",
    "#    Esta función se llamará 'funcion_zona'.\n",
    "\n",
    "def fc_zona(lista):\n",
    "    zona = None\n",
    "    for e in lista:\n",
    "        if (int(lista_informacion[-1]) > 7) & (lista_informacion[2] == True) & ((lista_informacion[0] + int(lista_informacion[-1])) <24):\n",
    "                 zona = True\n",
    "        else:\n",
    "                 zona = False\n",
    "                 \n",
    "    return zona\n",
    "                 \n",
    "fc_zona(lista_informacion)"
   ]
  },
  {
   "cell_type": "code",
   "execution_count": 124,
   "metadata": {},
   "outputs": [],
   "source": [
    "#Dentro de una función llamada 'funcion_comprobacion' que recibe solo un parámetro llamado 'valor_zona'\n",
    "#    que será el valor que devuelve la función 'funcion_zona' cuando sea invocado, mostrar el valor de \n",
    "#    'valor_zona' si es True.\n",
    "\n",
    "def fc_comprobacion(valor_zona):\n",
    "    \n",
    "    if valor_zona == True:\n",
    "        return valor_zona\n",
    "    \n",
    "\n",
    "fc_comprobacion(fc_zona(lista_informacion))"
   ]
  },
  {
   "cell_type": "markdown",
   "metadata": {},
   "source": [
    "### Apartado 3\n",
    "\n",
    "Para este apartado se utilizará la lista 'lista_información. A esa lista, ha de añadirse UTILIZANDO el método 'append':\n",
    "\n",
    "- Un booleano que sea True si utilizas gafas. False para lo contrario. \n",
    "- Un entero que represente tu edad. \n",
    "- Un float que represente el dinero que te has gastado en tu última compra.\n",
    "- Un string que represente el nombre de uno de tus tí@s. Si no tienes, el nombre de uno de tus herman@s. Si no tienes, alguno de tus abuel@s. Si no tienes, el nombre de tu mejor amigo. Y, si no tienes, el nombre de tu psicólog@.\n",
    "- Una lista que tenga como tamaño 5. Cada una de las posiciones debe representar los números que más te gusten en el rango [[0-100]] dividido entre 10. Es decir, si eliges el 11, el número sería el 1.1. Si eliges el 100, sería el 10.  \n",
    "\n",
    "Por último, han de eliminarse las variables 'none' y 'lista_direccion' de dos formas:\n",
    "\n",
    "- 'nada' con el método 'remove' de una lista. \n",
    "- 'lista_direccion' con el método 'pop' con el que se puede eliminar el elemento de una lista a través de una posición. Para más información, hemos puesto un ejemplo más abajo.\n",
    "\n",
    "\n"
   ]
  },
  {
   "cell_type": "code",
   "execution_count": 125,
   "metadata": {},
   "outputs": [
    {
     "data": {
      "text/plain": [
       "[15, 'Recoletos', False, None, [15, 'Recoletos'], '6']"
      ]
     },
     "execution_count": 125,
     "metadata": {},
     "output_type": "execute_result"
    }
   ],
   "source": [
    "lista_informacion"
   ]
  },
  {
   "cell_type": "code",
   "execution_count": 126,
   "metadata": {},
   "outputs": [],
   "source": [
    "#Un booleano que sea True si utilizas gafas. False para lo contrario.\n",
    "\n",
    "lista_informacion.append(True)"
   ]
  },
  {
   "cell_type": "code",
   "execution_count": 127,
   "metadata": {},
   "outputs": [],
   "source": [
    "#Un entero que represente tu edad.\n",
    "lista_informacion.append(43)"
   ]
  },
  {
   "cell_type": "code",
   "execution_count": 128,
   "metadata": {},
   "outputs": [],
   "source": [
    "#Un float que represente el dinero que te has gastado en tu última compra.\n",
    "lista_informacion.append(7.95)"
   ]
  },
  {
   "cell_type": "code",
   "execution_count": 129,
   "metadata": {},
   "outputs": [],
   "source": [
    "# Un string que represente el nombre de uno de tus tí@s. Si no tienes, \n",
    "#el nombre de uno de tus herman@s. Si no tienes, alguno de tus abuel@s.\n",
    "#Si no tienes, el nombre de tu mejor amigo. Y, si no tienes, el nombre de tu psicólog@.\n",
    "\n",
    "lista_informacion.append(\"Paco\")"
   ]
  },
  {
   "cell_type": "code",
   "execution_count": 130,
   "metadata": {},
   "outputs": [
    {
     "data": {
      "text/plain": [
       "[15, 'Recoletos', False, None, [15, 'Recoletos'], '6', True, 43, 7.95, 'Paco']"
      ]
     },
     "execution_count": 130,
     "metadata": {},
     "output_type": "execute_result"
    }
   ],
   "source": [
    "lista_informacion"
   ]
  },
  {
   "cell_type": "code",
   "execution_count": 131,
   "metadata": {},
   "outputs": [],
   "source": [
    "#Una lista que tenga como tamaño 5. Cada una de las posiciones debe representar \n",
    "# los números que más te gusten en el rango [[0-100]] dividido entre 10. \n",
    "# Es decir, si eliges el 11, el número sería el 1.1. Si eliges el 100, sería el 10.\n",
    "\n",
    "num = [3/10,7/10,43/10]\n",
    "lista_informacion.append(num)"
   ]
  },
  {
   "cell_type": "code",
   "execution_count": 132,
   "metadata": {},
   "outputs": [],
   "source": [
    "#Por último, han de eliminarse las variables 'none' y 'lista_direccion' de dos formas:\n",
    "#'nada' con el método 'remove' de una lista.\n",
    "#'lista_direccion' con el método 'pop' con el que se puede eliminar \n",
    "#el elemento de una lista a través de una posición.\n",
    "\n",
    "lista_informacion.remove(None)"
   ]
  },
  {
   "cell_type": "code",
   "execution_count": 133,
   "metadata": {},
   "outputs": [
    {
     "data": {
      "text/plain": [
       "[15,\n",
       " 'Recoletos',\n",
       " False,\n",
       " [15, 'Recoletos'],\n",
       " '6',\n",
       " True,\n",
       " 43,\n",
       " 7.95,\n",
       " 'Paco',\n",
       " [0.3, 0.7, 4.3]]"
      ]
     },
     "execution_count": 133,
     "metadata": {},
     "output_type": "execute_result"
    }
   ],
   "source": [
    "lista_informacion"
   ]
  },
  {
   "cell_type": "code",
   "execution_count": 134,
   "metadata": {},
   "outputs": [
    {
     "data": {
      "text/plain": [
       "[15, 'Recoletos']"
      ]
     },
     "execution_count": 134,
     "metadata": {},
     "output_type": "execute_result"
    }
   ],
   "source": [
    "lista_informacion.pop(3)"
   ]
  },
  {
   "cell_type": "code",
   "execution_count": 135,
   "metadata": {},
   "outputs": [
    {
     "data": {
      "text/plain": [
       "[15, 'Recoletos', False, '6', True, 43, 7.95, 'Paco', [0.3, 0.7, 4.3]]"
      ]
     },
     "execution_count": 135,
     "metadata": {},
     "output_type": "execute_result"
    }
   ],
   "source": [
    "lista_informacion"
   ]
  },
  {
   "cell_type": "markdown",
   "metadata": {},
   "source": [
    "### Apartado 4. Creación de funciones con return preparatorio. \n",
    "\n",
    "A partir de ahora solo se utilizará la 'lista_informacion' actualizada. La 'lista_informacion' debe contener 9 posiciones. Si no contiene 9, pregunta a los profesores.\n",
    "\n",
    "Crear una nueva celda por cada apartado: \n",
    "\n",
    "- Función 'nb' que reciba por parámetro 'lista' y que retorne el número de The Bridge.\n",
    "- Función 'nc' que reciba por parámetro 'lista' y que retorne el nombre de la calle de The Bridge.\n",
    "- Función 'gp' que reciba por parámetro 'lista' y que retorne tu gusto personal.\n",
    "- Función 'hs' que reciba por parámetro 'lista' y que retorne las horas de sueño.\n",
    "- Función 'ul' que reciba por parámetro 'lista' y que retorne la última posicón de 'lista'.\n",
    "\n",
    "A partir de este momento, si se requiere utilizar uno de estos valores, se accederá a ellos a partir de las funciones anteriormente creadas, no directamente desde la lista."
   ]
  },
  {
   "cell_type": "code",
   "execution_count": 136,
   "metadata": {},
   "outputs": [
    {
     "data": {
      "text/plain": [
       "9"
      ]
     },
     "execution_count": 136,
     "metadata": {},
     "output_type": "execute_result"
    }
   ],
   "source": [
    "#Apartado 4. A partir de ahora solo se utilizará la 'lista_informacion' actualizada. \n",
    "# La 'lista_informacion' debe contener 9 posiciones. \n",
    "len(lista_informacion)"
   ]
  },
  {
   "cell_type": "code",
   "execution_count": null,
   "metadata": {},
   "outputs": [],
   "source": [
    "# Función 'nb' que reciba por parámetro 'lista' y que retorne el número de The Bridge.\n"
   ]
  },
  {
   "cell_type": "code",
   "execution_count": null,
   "metadata": {},
   "outputs": [],
   "source": [
    "Función 'nb' que reciba por parámetro 'lista' y que retorne el número de The Bridge.\n",
    "Función 'nc' que reciba por parámetro 'lista' y que retorne el nombre de la calle de The Bridge.\n",
    "Función 'gp' que reciba por parámetro 'lista' y que retorne tu gusto personal.\n",
    "Función 'hs' que reciba por parámetro 'lista' y que retorne las horas de sueño.\n",
    "Función 'ul' que reciba por parámetro 'lista' y que retorne la última posicón de 'lista'."
   ]
  },
  {
   "cell_type": "markdown",
   "metadata": {},
   "source": [
    "### Apartado 5. Break en bucles for.\n",
    "\n",
    "Crear una nueva celda por cada apartado: \n",
    "\n",
    "- Función 'string_mayor_5' que reciba por parámetro 'lista' ('lista_informacion'). Se debe recorrer 'lista' transformando cada elemento en string y, si el tamaño del string es mayor a 5, el bucle debe parar. La función ha de devolver el primer elemento con string mayor a 5.\n",
    "\n",
    "- Función 'lista_consecutivos' que recibe por parámetro 'limite'. Debe retornar una lista con números que empiece en el 0 y acabe en el número 'límite'. 'limite' será 18 cuando la función sea invocada. \n",
    "\n",
    "- Función 'posicion_15' que reciba un parámetro 'funcion_lista_consecutivos' y 'lista' y deberá devolver el elemento de la lista que devuelve la función 'lista_consecutivos' que represente la posicion 15. Es dentro de la función 'posicion_15' donde hay que llamar a 'funcion_lista_consecutivos' con el parámetro 'lista' como parámetro de entrada de 'lista_consecutivos'. El argumento 'límite' será 18 cuando 'lista_consecutivos' sea invocada.\n",
    "\n",
    "Ejemplo: \n",
    "x = posicion_15(funcion_lista_consecutivos=lista_consecutivos, lista=lista_informacion)"
   ]
  },
  {
   "cell_type": "code",
   "execution_count": null,
   "metadata": {},
   "outputs": [],
   "source": []
  },
  {
   "cell_type": "markdown",
   "metadata": {},
   "source": [
    "### Apartado 6. Bucle while.\n",
    "\n",
    "Crear una nueva celda por cada apartado: \n",
    "\n",
    "- Crear una función reciba por parámetro 'lista' que muestre todos los elementos que tiene usando un bucle while. Llamar a la función con 'lista_informacion'.\n",
    "- Realizar todos los apartados del apartado 2.2 cuyo enunciado aparece la palabra 'recorrer' excepto el que se utiliza la 'lista_direccion' borrada en el apartado 3. \n",
    "- Realizar el apartado 5 con bucle while en vez de bucle for. \n",
    "- Realizar una función que realice la función de fibonacci con un while.\n",
    "\n",
    "\n",
    "\n"
   ]
  },
  {
   "cell_type": "code",
   "execution_count": null,
   "metadata": {},
   "outputs": [],
   "source": []
  },
  {
   "cell_type": "markdown",
   "metadata": {},
   "source": [
    "### Apartado 7. Importación de módulos.\n",
    "\n",
    "Un módulo representa un fichero de extensión '.py' que contiene código python. Importando un módulo, podemos acceder a todas las variable, funciones y clases no privadas que contiene. \n",
    "\n",
    "En la propia carpeta del día de hoy, hay un fichero llamado 'nombre_modulo.py'. Vamos a importarlo y usar alguna de sus variables y funciones. "
   ]
  },
  {
   "cell_type": "code",
   "execution_count": null,
   "metadata": {},
   "outputs": [],
   "source": []
  },
  {
   "cell_type": "markdown",
   "metadata": {},
   "source": [
    "### Apartado 8: Ejercicios\n",
    "\n",
    "- Programa una calculadora que pregunte por pantalla dos números y dos operadores. Se debe realizar primero una operación y luego otra. Trata de definir el mayor número de funciones posibles. \n",
    "- Programa, definiendo funciones, el juego 'piedra, papel o tijera'. \n",
    "- Haz un programa que, a partir de las cadenas \"|\" y \"_\", muestre por pantalla un tablero de ajedrez 8x8. \n",
    "- Haz un programa utilizando 'while' que genere una baraja de cartas de 4 palos distintos. La baraja ha de tener 40 cartas. "
   ]
  },
  {
   "cell_type": "code",
   "execution_count": null,
   "metadata": {},
   "outputs": [],
   "source": []
  }
 ],
 "metadata": {
  "file_extension": ".py",
  "kernelspec": {
   "display_name": "Python 3",
   "language": "python",
   "name": "python3"
  },
  "language_info": {
   "codemirror_mode": {
    "name": "ipython",
    "version": 3
   },
   "file_extension": ".py",
   "mimetype": "text/x-python",
   "name": "python",
   "nbconvert_exporter": "python",
   "pygments_lexer": "ipython3",
   "version": "3.7.4"
  },
  "mimetype": "text/x-python",
  "name": "python",
  "npconvert_exporter": "python",
  "pygments_lexer": "ipython3",
  "version": 3
 },
 "nbformat": 4,
 "nbformat_minor": 4
}
