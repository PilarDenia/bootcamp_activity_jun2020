{
 "cells": [
  {
   "cell_type": "markdown",
   "metadata": {},
   "source": [
    "![imagen](../../imagenes/ejercicios.png)\n",
    "\n",
    "# Ejercicios Clases y Objetos"
   ]
  },
  {
   "cell_type": "code",
   "execution_count": 62,
   "metadata": {},
   "outputs": [],
   "source": [
    "%config IPCompleter.greedy=True"
   ]
  },
  {
   "cell_type": "markdown",
   "metadata": {},
   "source": [
    "## Ejercicio 1\n",
    "Somos una empresa que tiene varias tiendas de electrodomesticos, con ventas en todo el territorio nacional. Necesitamos un programa para manejar las tiendas, ver las ventas que han tenido, cuántos empleados hay, etc... Para ello vamos a modelizar la tienda en una clase, que tendrá las siguientes características:\n",
    "* Nombre clase: \"Tienda\"\n",
    "* Atributos comunes:\n",
    "    * Tipo: \"Electrodomésticos\"\n",
    "    * Abierta: True\n",
    "* Atributos propios de cada tienda:\n",
    "    * Nombre - String\n",
    "    * Dirección - String\n",
    "    * Número de empleados - int\n",
    "    * Ventas ultimos 3 meses - Lista de 3 numeros\n",
    "* Método para calcular las ventas de todos los meses, que devuelva un numero con todas las ventas.\n",
    "* Método que calcula la media de ventas de los ultimos meses, por empleado\n",
    "* Método que devuelve en un string el nombre de la tienda, junto con su dirección.\n",
    "* Método que saca las ventas del último mes.\n",
    "* Método para dar una proyección de las ventas en caso de haber invertido X dinero en marketing en esa tienda. Siendo X el parámetro de entrada. Si X es menor de 1000, las ventas de los ultimos 3 meses hubiesen sido de (1.2 x ventas), si es mayor o igual de 1000, las ventas hubiesen sido de (1.5 x venta). El método reescribe el atributo de ventas en los últimos 3 meses, y además devuelve las ventas con el aumento.\n",
    "\n",
    "Se pide:\n",
    "1. Implementar la clase \"Tienda\"\n",
    "2. Crear tres tiendas con datos inventados\n",
    "3. Comprueba en al menos una de ellas, todo lo implementado en la clase tienda (sus atributos, media de ventas, ventas/empleado...)\n",
    "3. Calcular las ventas del último mes de todas las tiendas. Para ello usa el bucle `for`\n",
    "4. Imprime por pantalla los nombres de las tiendas cuya dirección lleve el string \"Avenida\"\n",
    "5. Seguro que ya has hecho este apartado... Documenta la clase :)"
   ]
  },
  {
   "cell_type": "code",
   "execution_count": 64,
   "metadata": {},
   "outputs": [],
   "source": [
    "class Tienda:\n",
    "    \"\"\"\n",
    "    Clase njvvk   kwcdnlg ngl brj bjjrjdoc jmo\n",
    "    n voboix bi9docib v9o\n",
    "    vajrrboifjic bvmii\n",
    "    Atrubutos comunes:\n",
    "        Abierta: tipo booleano, True = Abierta y False = cerrada\n",
    "        Eletrodomésticos: Lista<Strings> de productos que se venden en las tiendas.\n",
    "    Atributos específicos, definidos en el contructor:\n",
    "        nombre\n",
    "        dirección\n",
    "        empleados\n",
    "        ventas_trim\n",
    "    Métodos:\n",
    "        __init__\n",
    "        venta_total_trim\n",
    "        venta_por_empleado\n",
    "        datos_tienda\n",
    "        ventas_ultimo_mes\n",
    "        proyeccion_ventas\n",
    "    \"\"\"\n",
    "    abierta = True\n",
    "    electrodomesticos = [\"Televisión\", \"Movil\", \"Portátiles\"]\n",
    "    \n",
    "    def __init__(self, nombre, direccion, empleados, ventas_trim):\n",
    "        \"\"\"\n",
    "        El método __init__ es el constructor de la clase 'Tienda'.\n",
    "        Con este método defines los datos expecífico de cada tienda:\n",
    "        Atributos especificos de cada tienda:\n",
    "            nombre: String indica el nombre comercial del punto de venta\n",
    "            dirección: ubicación de la tienda. Calle/Av./Plaza. con su nombre y número. CP\n",
    "            empleados: números de empleados por tienda\n",
    "            ventas_trim: Lista<int> tres elementos de las ventas mensuales del último trimestre.\n",
    "        \"\"\"\n",
    "        self.nombre = nombre\n",
    "        self.direccion = direccion\n",
    "        self.empleados = empleados\n",
    "        self.ventas_trim = ventas_trim\n",
    "        \n",
    "    def venta_total_trim(self):\n",
    "        \"\"\"\n",
    "        Método para calcular las ventas de todos los meses, que devuelva un numero con todas las ventas.\n",
    "        Inputs:\n",
    "        \n",
    "        Output:\n",
    "        \"\"\"\n",
    "        return sum(self.ventas_trim)\n",
    "    \n",
    "    def venta_por_empleado(self):\n",
    "        \"\"\"\n",
    "        Método que calcula la media de ventas de los ultimos meses, por empleado.\n",
    "        Inputs:\n",
    "        \n",
    "        Output:\n",
    "        \"\"\"\n",
    "        total = self.venta_total_trim()\n",
    "        \n",
    "        return total/self.empleados\n",
    "    \n",
    "    def datos_tienda(self):\n",
    "        \"\"\"\n",
    "        Método que devuelve en un string el nombre de la tienda, junto con su dirección.\n",
    "        Inputs:\n",
    "        \n",
    "        Output:\n",
    "        \"\"\"\n",
    "        return f\"Tienda: {self.nombre}, direccion {self.direccion}\"\n",
    "    \n",
    "    def ventas_ultimo_mes(self):\n",
    "        \"\"\"\n",
    "        Método que saca las ventas del último mes.\n",
    "        Inputs:\n",
    "        \n",
    "        Output:\n",
    "        \"\"\"\n",
    "        return self.ventas_trim[2]\n",
    "    \n",
    "    def proyeccion_ventas(self, ppto_marketing):\n",
    "        \"\"\"\n",
    "        Método para dar una proyección de las ventas en caso de haber invertido X dinero\n",
    "        en marketing en esa tienda. Siendo X el parámetro de entrada. Si X es menor de 1000,\n",
    "        las ventas de los ultimos 3 meses hubiesen sido de (1.2 x ventas), \n",
    "        si es mayor o igual de 1000, las ventas hubiesen sido de (1.5 x venta).\n",
    "        El método reescribe el atributo de ventas en los últimos 3 meses,\n",
    "        y además devuelve las ventas con el aumento.\n",
    "        \n",
    "        Inputs:\n",
    "        \n",
    "        Output:\n",
    "        \n",
    "        \n",
    "        \"\"\"\n",
    "        proyeccion = []\n",
    "        incremento = 1\n",
    "        if (ppto_marketing <1000):            \n",
    "            incremento = 1.2\n",
    "        elif (ppto_marketing >= 1000):\n",
    "            incremento = 1.5\n",
    "            \n",
    "        for trim in self.ventas_trim:\n",
    "            proyeccion.append(trim * incremento)\n",
    "            \n",
    "        return proyeccion\n",
    "        "
   ]
  },
  {
   "cell_type": "code",
   "execution_count": 54,
   "metadata": {},
   "outputs": [],
   "source": [
    "centro = Tienda(\"SomosSuper\", \"Calle Mayor, 23 \", 3, [23000,15000,12800])\n",
    "norte = Tienda(\"Arriba arriba\", \"Avenida Norte s/n\", 6, [34000,89000,56000])\n",
    "sur = Tienda(\"Somos Chips\", \"Calle Tecnologica 15\", 4, [12600,23780,19070])"
   ]
  },
  {
   "cell_type": "code",
   "execution_count": 12,
   "metadata": {},
   "outputs": [
    {
     "data": {
      "text/plain": [
       "[23000, 15000, 12800]"
      ]
     },
     "execution_count": 12,
     "metadata": {},
     "output_type": "execute_result"
    }
   ],
   "source": [
    "centro.abierta\n",
    "centro.electrodomesticos\n",
    "centro.nombre\n",
    "centro.direccion\n",
    "centro.empleados\n",
    "centro.ventas_trim"
   ]
  },
  {
   "cell_type": "code",
   "execution_count": 25,
   "metadata": {},
   "outputs": [
    {
     "data": {
      "text/plain": [
       "50800"
      ]
     },
     "execution_count": 25,
     "metadata": {},
     "output_type": "execute_result"
    }
   ],
   "source": [
    "centro.venta_total_trim()"
   ]
  },
  {
   "cell_type": "code",
   "execution_count": 27,
   "metadata": {},
   "outputs": [
    {
     "data": {
      "text/plain": [
       "16933.333333333332"
      ]
     },
     "execution_count": 27,
     "metadata": {},
     "output_type": "execute_result"
    }
   ],
   "source": [
    "centro.venta_por_empleado()"
   ]
  },
  {
   "cell_type": "code",
   "execution_count": 29,
   "metadata": {},
   "outputs": [
    {
     "data": {
      "text/plain": [
       "'Tienda: SomosSuper, direccion Calle Mayor, 23 '"
      ]
     },
     "execution_count": 29,
     "metadata": {},
     "output_type": "execute_result"
    }
   ],
   "source": [
    "centro.datos_tienda()"
   ]
  },
  {
   "cell_type": "code",
   "execution_count": 31,
   "metadata": {},
   "outputs": [
    {
     "data": {
      "text/plain": [
       "12800"
      ]
     },
     "execution_count": 31,
     "metadata": {},
     "output_type": "execute_result"
    }
   ],
   "source": [
    "centro.ventas_ultimo_mes()"
   ]
  },
  {
   "cell_type": "code",
   "execution_count": 38,
   "metadata": {},
   "outputs": [
    {
     "data": {
      "text/plain": [
       "[34500.0, 22500.0, 19200.0]"
      ]
     },
     "execution_count": 38,
     "metadata": {},
     "output_type": "execute_result"
    }
   ],
   "source": [
    "centro.proyeccion_ventas(1680)"
   ]
  },
  {
   "cell_type": "code",
   "execution_count": 57,
   "metadata": {},
   "outputs": [
    {
     "name": "stdout",
     "output_type": "stream",
     "text": [
      "Las ventas totales del grupo son 285250 euros.\n"
     ]
    }
   ],
   "source": [
    "grupo = [centro, norte, sur]\n",
    "\n",
    "total_grupo = 0\n",
    "for tienda in grupo:\n",
    "    total_grupo += tienda.venta_total_trim()\n",
    "\n",
    "print(f\"Las ventas totales del grupo son {total_grupo} euros.\")"
   ]
  },
  {
   "cell_type": "code",
   "execution_count": 46,
   "metadata": {},
   "outputs": [
    {
     "data": {
      "text/plain": [
       "285250"
      ]
     },
     "execution_count": 46,
     "metadata": {},
     "output_type": "execute_result"
    }
   ],
   "source": [
    "sum([t.venta_total_trim() for t in grupo])"
   ]
  },
  {
   "cell_type": "code",
   "execution_count": 59,
   "metadata": {},
   "outputs": [
    {
     "data": {
      "text/plain": [
       "['Arriba arriba']"
      ]
     },
     "execution_count": 59,
     "metadata": {},
     "output_type": "execute_result"
    }
   ],
   "source": [
    "#Imprime por pantalla los nombres de las tiendas cuya dirección lleve el string \"Avenida\"\n",
    "\n",
    "[t.nombre for t in grupo if \"Avenida\" in t.direccion]\n"
   ]
  },
  {
   "cell_type": "code",
   "execution_count": 61,
   "metadata": {},
   "outputs": [
    {
     "name": "stdout",
     "output_type": "stream",
     "text": [
      "Arriba arriba\n"
     ]
    }
   ],
   "source": [
    "for t in grupo:\n",
    "    if \"Avenida\" in t.direccion:\n",
    "        print(t.nombre)"
   ]
  },
  {
   "cell_type": "code",
   "execution_count": 65,
   "metadata": {},
   "outputs": [
    {
     "name": "stdout",
     "output_type": "stream",
     "text": [
      "\n",
      "    Clase njvvk   kwcdnlg ngl brj bjjrjdoc jmo\n",
      "    n voboix bi9docib v9o\n",
      "    vajrrboifjic bvmii\n",
      "    Atrubutos comunes:\n",
      "        Abierta: tipo booleano, True = Abierta y False = cerrada\n",
      "        Eletrodomésticos: Lista<Strings> de productos que se venden en las tiendas.\n",
      "    Atributos específicos, definidos en el contructor:\n",
      "        nombre\n",
      "        dirección\n",
      "        empleados\n",
      "        ventas_trim\n",
      "    Métodos:\n",
      "        __init__\n",
      "        venta_total_trim\n",
      "        venta_por_empleado\n",
      "        datos_tienda\n",
      "        ventas_ultimo_mes\n",
      "        proyeccion_ventas\n",
      "    \n"
     ]
    }
   ],
   "source": [
    "print(Tienda.__doc__)"
   ]
  },
  {
   "cell_type": "markdown",
   "metadata": {},
   "source": [
    "## Ejercicio 2\n",
    "En este ejercicio vamos a implementar una clase *Perro* en Python. La clase tiene las siguientes características:\n",
    "* Cosas que sabemos seguro que tiene un perro\n",
    "    * Tiene 4 patas\n",
    "    * 2 orejas\n",
    "    * 2 ojos\n",
    "    * Una velocidad de 0. Por defecto, el perro está parado\n",
    "* Cuando se inicialice:\n",
    "    * El perro será de una determinada raza\n",
    "    * Por defecto tendrá pelo \"Marrón\", a no ser que se diga lo contrario.\n",
    "    * Por defecto no tendrá dueño, a no ser que se diga lo contrario.\n",
    "    \n",
    "* Dispondrá también de un método llamado andar, que tiene un argumento de entrada (aumento_velocidad). Este valor se le sumará a la velocidad que ya llevaba el perro.\n",
    "* Necesita otro método (parar), donde pondremos la velocidad a 0.\n",
    "* Otro método llamado \"ladrar\", que tendrá un argumento de entrada, y la salida será el siguiente string: \"GUAU!\" + el argumento de entrada.\n",
    "\n",
    "\n",
    "Se pide:\n",
    "* Implementa la clase *Perro*\n",
    "* Crea un objeto de tipo *Perro*, sin dueño\n",
    "* Comprueba que están bien todos sus atributos\n",
    "* Prueba que ande, y comprueba su velocidad\n",
    "* Páralo\n",
    "* Documenta la clase *Perro*"
   ]
  },
  {
   "cell_type": "code",
   "execution_count": 88,
   "metadata": {},
   "outputs": [],
   "source": [
    "#En este ejercicio vamos a implementar una clase Perro en Python. La clase tiene las siguientes características:\n",
    "\"\"\"\n",
    "Cosas que sabemos seguro que tiene un perro\n",
    "Tiene 4 patas\n",
    "2 orejas\n",
    "2 ojos \n",
    "Una velocidad de 0. Por defecto, el perro está parado \"\"\"\n",
    "\n",
    "class Perro:\n",
    "    \"\"\"\n",
    "    Cosas que sabemos seguro que tiene un perro\n",
    "    Tiene 4 patas\n",
    "    2 orejas\n",
    "    2 ojos \n",
    "    Una velocidad de 0. Por defecto, el perro está parado\n",
    "    \"\"\"\n",
    "    patas = 4\n",
    "    orejas = 2\n",
    "    ojos = 2\n",
    "    velocidad = 0\n",
    "    \n",
    "    def __init__(self, raza, color_pelo = \"marrón\", duenyo = \"\"):\n",
    "        \"\"\"\n",
    "        Constructor del la clase 'Perro'\n",
    "        Atributos específicos:\n",
    "            raza: String, indicando la raza del perro.\n",
    "            color_pelo: String, indica el color de perro. Por defecto registrará color 'marrón'.\n",
    "            duenyo: String, c nngb o . Por defecto el atributo será vacío.\n",
    "        \"\"\"\n",
    "        self.raza = raza\n",
    "        self.color_pelo = color_pelo\n",
    "        self.duenyo = duenyo\n",
    "\n",
    "    def andar(self,velocidad):\n",
    "        \"\"\"\n",
    "        TODO\n",
    "        \"\"\"\n",
    "        self.velocidad = self.velocidad +  velocidad\n",
    "\n",
    "    def parar(self):\n",
    "        \"\"\"\n",
    "        TODO\n",
    "        \"\"\"\n",
    "        self.velocidad = 0\n",
    "\n",
    "    def ladrar(self, argumento):\n",
    "        \"\"\"\n",
    "        TODO\n",
    "        \"\"\"\n",
    "        return(\"GUAU!\" + str(argumento))\n"
   ]
  },
  {
   "cell_type": "code",
   "execution_count": 75,
   "metadata": {},
   "outputs": [],
   "source": [
    "#Implementa la clase Perro\n",
    "\n",
    "lasie = Perro(\"MuyChula\", \"marrón y blanco\")"
   ]
  },
  {
   "cell_type": "markdown",
   "metadata": {},
   "source": [
    "Comprueba que están bien todos sus atributos\n"
   ]
  },
  {
   "cell_type": "code",
   "execution_count": 80,
   "metadata": {},
   "outputs": [
    {
     "data": {
      "text/plain": [
       "(4, 2, 2)"
      ]
     },
     "execution_count": 80,
     "metadata": {},
     "output_type": "execute_result"
    }
   ],
   "source": [
    "lasie.patas, lasie.orejas, lasie.ojos"
   ]
  },
  {
   "cell_type": "code",
   "execution_count": 82,
   "metadata": {},
   "outputs": [
    {
     "data": {
      "text/plain": [
       "('MuyChula', 'marrón y blanco', '')"
      ]
     },
     "execution_count": 82,
     "metadata": {},
     "output_type": "execute_result"
    }
   ],
   "source": [
    "lasie.raza, lasie.color_pelo, lasie.duenyo"
   ]
  },
  {
   "cell_type": "markdown",
   "metadata": {},
   "source": [
    "Prueba que ande, y comprueba su velocidad\n",
    "Páralo\n",
    "Documenta la clase Perro"
   ]
  },
  {
   "cell_type": "code",
   "execution_count": 89,
   "metadata": {},
   "outputs": [
    {
     "ename": "AttributeError",
     "evalue": "'Perro' object has no attribute 'andar'",
     "output_type": "error",
     "traceback": [
      "\u001b[1;31m---------------------------------------------------------------------------\u001b[0m",
      "\u001b[1;31mAttributeError\u001b[0m                            Traceback (most recent call last)",
      "\u001b[1;32m<ipython-input-89-eb023237059b>\u001b[0m in \u001b[0;36m<module>\u001b[1;34m\u001b[0m\n\u001b[1;32m----> 1\u001b[1;33m \u001b[0mlasie\u001b[0m\u001b[1;33m.\u001b[0m\u001b[0mandar\u001b[0m\u001b[1;33m(\u001b[0m\u001b[1;36m15\u001b[0m\u001b[1;33m)\u001b[0m\u001b[1;33m\u001b[0m\u001b[1;33m\u001b[0m\u001b[0m\n\u001b[0m",
      "\u001b[1;31mAttributeError\u001b[0m: 'Perro' object has no attribute 'andar'"
     ]
    }
   ],
   "source": [
    "lasie.andar(15)"
   ]
  },
  {
   "cell_type": "code",
   "execution_count": null,
   "metadata": {},
   "outputs": [],
   "source": []
  }
 ],
 "metadata": {
  "kernelspec": {
   "display_name": "Python 3",
   "language": "python",
   "name": "python3"
  },
  "language_info": {
   "codemirror_mode": {
    "name": "ipython",
    "version": 3
   },
   "file_extension": ".py",
   "mimetype": "text/x-python",
   "name": "python",
   "nbconvert_exporter": "python",
   "pygments_lexer": "ipython3",
   "version": "3.7.4"
  }
 },
 "nbformat": 4,
 "nbformat_minor": 4
}
