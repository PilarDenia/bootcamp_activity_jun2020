{
 "cells": [
  {
   "cell_type": "markdown",
   "metadata": {},
   "source": [
    "![imagen](../../imagenes/ejercicios.png)"
   ]
  },
  {
   "cell_type": "markdown",
   "metadata": {},
   "source": [
    "# Ejercicios funciones\n",
    "## Ejercicio 1\n",
    "Escribe una función que convierta números del 1 al 7, en nombres de los dias de la semana. La función constará de un único argumento numérico y una salida de tipo string"
   ]
  },
  {
   "cell_type": "code",
   "execution_count": 1,
   "metadata": {},
   "outputs": [
    {
     "name": "stdin",
     "output_type": "stream",
     "text": [
      "Introduzca un número de día de la semana 5\n"
     ]
    },
    {
     "data": {
      "text/plain": [
       "'Viernes'"
      ]
     },
     "execution_count": 1,
     "metadata": {},
     "output_type": "execute_result"
    }
   ],
   "source": [
    "def day_of_week():\n",
    "    \n",
    "    day_num = int(input(\"Introduzca un número de día de la semana\"))\n",
    "    if day_num == 1:\n",
    "        day = \"Lunes\"\n",
    "    elif day_num == 2:\n",
    "        day = \"Martes\"\n",
    "    elif day_num == 3:\n",
    "        day = \"Miercoles\"\n",
    "    elif day_num == 4:\n",
    "        day = \"Jueves\"\n",
    "    elif day_num == 5:\n",
    "        day = \"Viernes\"\n",
    "    elif day_num == 6:\n",
    "        day = \"Sabado\"\n",
    "    elif day_num == 7:\n",
    "        day = \"Domingo\"\n",
    "    else:\n",
    "        print(\"Erro al introducir el número, vuelva a intentarlo\")\n",
    "        day_of_week()\n",
    "    \n",
    "    return day\n",
    "\n",
    "day_of_week()"
   ]
  },
  {
   "cell_type": "code",
   "execution_count": 2,
   "metadata": {},
   "outputs": [
    {
     "name": "stdin",
     "output_type": "stream",
     "text": [
      "Introduzca un número de día de la semana 5\n"
     ]
    },
    {
     "data": {
      "text/plain": [
       "'Viernes'"
      ]
     },
     "execution_count": 2,
     "metadata": {},
     "output_type": "execute_result"
    }
   ],
   "source": [
    "def day_of_week():\n",
    "    \n",
    "    day_num = int(input(\"Introduzca un número de día de la semana\"))\n",
    "    if day_num == 1:\n",
    "        return \"Lunes\"\n",
    "    elif day_num == 2:\n",
    "        return \"Martes\"\n",
    "    elif day_num == 3:\n",
    "        return \"Miercoles\"\n",
    "    elif day_num == 4:\n",
    "        return \"Jueves\"\n",
    "    elif day_num == 5:\n",
    "        return \"Viernes\"\n",
    "    elif day_num == 6:\n",
    "        return \"Sabado\"\n",
    "    elif day_num == 7:\n",
    "        return \"Domingo\"\n",
    "    else:\n",
    "        print(\"Erro al introducir el número, vuelva a intentarlo\")\n",
    "        print(day_of_week())\n",
    "\n",
    "day_of_week()"
   ]
  },
  {
   "cell_type": "markdown",
   "metadata": {},
   "source": [
    "## Ejercicio 2\n",
    "En el ejercicio 8 de bucles, creábamos una pirámide invertida, cuyo número de pisos venía determinado por un input del usuario. Crear una función que replique el comportamiento de la pirámide, y utiliza un único parámetro de entrada de la función para determinar el número de filas de la pirámide, es decir, elimina la sentencia input."
   ]
  },
  {
   "cell_type": "code",
   "execution_count": 3,
   "metadata": {},
   "outputs": [
    {
     "name": "stdout",
     "output_type": "stream",
     "text": [
      "\n",
      "*\n",
      "**\n",
      "***\n",
      "****\n",
      "None\n"
     ]
    }
   ],
   "source": [
    "def piramide(filas):\n",
    "   \n",
    "    for i in range(filas):\n",
    "        str = \"\"\n",
    "        for j in range(i):\n",
    "            str = str + \"*\"\n",
    "        print(str)\n",
    "       \n",
    "print(piramide(5))"
   ]
  },
  {
   "cell_type": "code",
   "execution_count": 4,
   "metadata": {},
   "outputs": [
    {
     "name": "stdout",
     "output_type": "stream",
     "text": [
      "     \n",
      "    \n",
      "   \n",
      "  \n",
      " \n",
      "None\n"
     ]
    }
   ],
   "source": [
    "def piramide_inv(filas):\n",
    "\n",
    "    for i in range(filas):  \n",
    "        out = \"\"\n",
    "        for j in range(filas-i):\n",
    "            #out = out + \" \" + str(j + 1)\n",
    "            out = out + \" \" + \"\"\n",
    "        print(out)\n",
    "print(piramide_inv(5))"
   ]
  },
  {
   "cell_type": "markdown",
   "metadata": {},
   "source": [
    "## Ejercicio 3\n",
    "Escibe una función que compare dos números. La función tiene dos argumentos y hay tres salidas posibles: que sean iguales, que el primero se  mayor que el segundo, o que el segundo sea mayor que el primero"
   ]
  },
  {
   "cell_type": "code",
   "execution_count": 5,
   "metadata": {},
   "outputs": [
    {
     "data": {
      "text/plain": [
       "'El 5 es mayor que -5'"
      ]
     },
     "execution_count": 5,
     "metadata": {},
     "output_type": "execute_result"
    }
   ],
   "source": [
    "def compara_dos_num(num1, num2):\n",
    "    out = \"\"\n",
    "    if (num1 == num2):\n",
    "        out = \"Números iguales\"\n",
    "    elif (num1 > num2):\n",
    "        out = f\"El {num1} es mayor que {num2}\"\n",
    "    else:\n",
    "        out = f\"El {num2} es mayor que {num1}\"\n",
    "    return out\n",
    "\n",
    "\n",
    "compara_dos_num(5,-5)       "
   ]
  },
  {
   "cell_type": "markdown",
   "metadata": {},
   "source": [
    "## Ejercicio 4\n",
    "Escribe una función que sea un contador de letras. En el primer argumento tienes que introducir un texto, y el segundo que sea la letra a contar. La función tiene que devolver un entero con el número de veces que aparece esa letra, tanto mayuscula, como minúscula"
   ]
  },
  {
   "cell_type": "code",
   "execution_count": 6,
   "metadata": {},
   "outputs": [],
   "source": [
    "def contar_letras(texto, caracter):\n",
    "    texto = texto.lower()\n",
    "    return (texto.count(caracter.lower()))"
   ]
  },
  {
   "cell_type": "code",
   "execution_count": 7,
   "metadata": {},
   "outputs": [
    {
     "data": {
      "text/plain": [
       "14"
      ]
     },
     "execution_count": 7,
     "metadata": {},
     "output_type": "execute_result"
    }
   ],
   "source": [
    "parrafo = \"Fragmento de un escrito con unidad temática, que queda diferenciado del resto de fragmentos por un punto y aparte y generalmente también por llevar letra mayúscula inicial y un espacio en blanco en el margen izquierdo de alineación del texto principal de la primera línea.\"\n",
    "letra = \"l\"\n",
    "\n",
    "contar_letras(texto = parrafo, caracter = letra)"
   ]
  },
  {
   "cell_type": "code",
   "execution_count": 8,
   "metadata": {},
   "outputs": [],
   "source": [
    "#Solución Laura\n",
    "\n"
   ]
  },
  {
   "cell_type": "markdown",
   "metadata": {},
   "source": [
    "## Ejercicio 5\n",
    "Escribe una función que tenga un único argumento, un string. La salida de la función tiene que ser un diccionario con el conteo de todas las letras de ese string."
   ]
  },
  {
   "cell_type": "code",
   "execution_count": 9,
   "metadata": {},
   "outputs": [
    {
     "name": "stdout",
     "output_type": "stream",
     "text": [
      "{'f': 3, 'r': 16, 'a': 24, 'g': 4, 'm': 8, 'e': 32, 'n': 21, 't': 13, 'o': 13, ' ': 44, 'd': 12, 'u': 9, 's': 5, 'c': 10, 'i': 17, 'á': 1, ',': 1, 'q': 3, 'l': 14, 'p': 8, 'y': 4, 'b': 2, 'é': 1, 'v': 1, 'ú': 1, 'z': 1, 'ó': 1, 'x': 1, 'í': 1, '.': 1}\n"
     ]
    }
   ],
   "source": [
    "def crea_dict(texto):\n",
    "    d = {}\n",
    "    texto = texto.lower()\n",
    "    for i in texto:\n",
    "            d[i] = texto.count(i)\n",
    "    return d\n",
    "\n",
    "print(crea_dict(texto = parrafo))    "
   ]
  },
  {
   "cell_type": "markdown",
   "metadata": {},
   "source": [
    "## Ejercicio 6\n",
    "Escribir una función que añada o elimine elementos en una lista. La función necesita los siguientes argumentos:\n",
    "* lista: la lista donde se añadira o eliminarán los elementos\n",
    "* comando: \"add\" o \"remove\"\n",
    "* elemento: Por defecto es None."
   ]
  },
  {
   "cell_type": "code",
   "execution_count": 18,
   "metadata": {},
   "outputs": [],
   "source": [
    "def manipular_lista(*args, lista, elemento = None):\n",
    "    if args[0] == \"add\":\n",
    "        lista.append(elemento)\n",
    "    elif args[0] == \"remove\":\n",
    "        lista.remove(elemento)\n",
    "   \n",
    "    return lista"
   ]
  },
  {
   "cell_type": "code",
   "execution_count": 20,
   "metadata": {},
   "outputs": [
    {
     "data": {
      "text/plain": [
       "[1, 4, 8, 'pepe', True, 100]"
      ]
     },
     "execution_count": 20,
     "metadata": {},
     "output_type": "execute_result"
    }
   ],
   "source": [
    "ls = [1,4,8,\"pepe\",True]\n",
    "manipular_lista(\"add\",lista = ls, elemento = 100)"
   ]
  },
  {
   "cell_type": "code",
   "execution_count": 21,
   "metadata": {},
   "outputs": [
    {
     "data": {
      "text/plain": [
       "[1, 8, 'pepe', True, 100]"
      ]
     },
     "execution_count": 21,
     "metadata": {},
     "output_type": "execute_result"
    }
   ],
   "source": [
    "manipular_lista(\"remove\",lista = ls, elemento = 4)"
   ]
  },
  {
   "cell_type": "code",
   "execution_count": 47,
   "metadata": {},
   "outputs": [],
   "source": [
    "def lista_progam(lista,comando,elemento = None):\n",
    "    if comando == \"add\" and elemento != None:\n",
    "        lista.append(elemento)\n",
    "    elif comando == \"add\" and elemento == None:\n",
    "        lista.append(9999)\n",
    "        print(\"Añadido el 9999, porque no se introdujo valor en argumento 'elemento'\")\n",
    "    elif comando == \"remove\" and elemento != None:\n",
    "        try:\n",
    "            lista.remove(elemento)\n",
    "        except:\n",
    "            print(\"El elemento no existe en la lista\")\n",
    "    elif comando == \"remove\" and elemento == None:\n",
    "        print(\"No has introducido el elemento\")\n",
    "    else:\n",
    "        print(\"Error\")\n",
    "        \n",
    "    return lista"
   ]
  },
  {
   "cell_type": "code",
   "execution_count": 38,
   "metadata": {},
   "outputs": [
    {
     "data": {
      "text/plain": [
       "[1, 2, 3, 9]"
      ]
     },
     "execution_count": 38,
     "metadata": {},
     "output_type": "execute_result"
    }
   ],
   "source": [
    "lista_progam(lista = [1,2,3],comando =\"add\",elemento = 9)"
   ]
  },
  {
   "cell_type": "code",
   "execution_count": 39,
   "metadata": {},
   "outputs": [
    {
     "name": "stdout",
     "output_type": "stream",
     "text": [
      "Añadido el 9999, porque no se introdujo valor en argumento 'elemento'\n"
     ]
    },
    {
     "data": {
      "text/plain": [
       "[1, 2, 3, 9999]"
      ]
     },
     "execution_count": 39,
     "metadata": {},
     "output_type": "execute_result"
    }
   ],
   "source": [
    "lista_progam(lista = [1,2,3],comando =\"add\")"
   ]
  },
  {
   "cell_type": "code",
   "execution_count": 40,
   "metadata": {},
   "outputs": [
    {
     "name": "stdout",
     "output_type": "stream",
     "text": [
      "No has introducido el elemento\n"
     ]
    },
    {
     "data": {
      "text/plain": [
       "[1, 2, 3]"
      ]
     },
     "execution_count": 40,
     "metadata": {},
     "output_type": "execute_result"
    }
   ],
   "source": [
    "lista_progam(lista = [1,2,3],comando =\"remove\")"
   ]
  },
  {
   "cell_type": "code",
   "execution_count": 50,
   "metadata": {},
   "outputs": [
    {
     "data": {
      "text/plain": [
       "[1, 3]"
      ]
     },
     "execution_count": 50,
     "metadata": {},
     "output_type": "execute_result"
    }
   ],
   "source": [
    "lista_progam(lista = [1,2,3],comando =\"remove\",elemento = 2)"
   ]
  },
  {
   "cell_type": "code",
   "execution_count": 51,
   "metadata": {},
   "outputs": [
    {
     "name": "stdout",
     "output_type": "stream",
     "text": [
      "El elemento no existe en la lista\n"
     ]
    },
    {
     "data": {
      "text/plain": [
       "[1, 2, 3]"
      ]
     },
     "execution_count": 51,
     "metadata": {},
     "output_type": "execute_result"
    }
   ],
   "source": [
    "lista_progam(lista = [1,2,3],comando =\"remove\",elemento = 10)"
   ]
  },
  {
   "cell_type": "code",
   "execution_count": 49,
   "metadata": {},
   "outputs": [
    {
     "name": "stdout",
     "output_type": "stream",
     "text": [
      "Error\n"
     ]
    },
    {
     "data": {
      "text/plain": [
       "[1, 2, 3]"
      ]
     },
     "execution_count": 49,
     "metadata": {},
     "output_type": "execute_result"
    }
   ],
   "source": [
    "lista_progam(lista = [1,2,3],comando =\"addd\",elemento = 10)"
   ]
  },
  {
   "cell_type": "markdown",
   "metadata": {},
   "source": [
    "## Ejercicio 7\n",
    "Crea una función que reciba un número arbitrario de palabras, y devuelva una frase completa, separando las palabras con espacios."
   ]
  },
  {
   "cell_type": "code",
   "execution_count": 52,
   "metadata": {},
   "outputs": [],
   "source": [
    "def crea_frase(*args):\n",
    "    out = \"\"\n",
    "    for i in args:\n",
    "        out = out + i + \" \"\n",
    "    return out"
   ]
  },
  {
   "cell_type": "code",
   "execution_count": 54,
   "metadata": {},
   "outputs": [
    {
     "data": {
      "text/plain": [
       "'el color rojo es el que mas gusta '"
      ]
     },
     "execution_count": 54,
     "metadata": {},
     "output_type": "execute_result"
    }
   ],
   "source": [
    "crea_frase(\"el\",\"color\",\"rojo\", \"es\", \"el\", \"que\", \"mas\", \"gusta\")"
   ]
  },
  {
   "cell_type": "code",
   "execution_count": null,
   "metadata": {},
   "outputs": [],
   "source": [
    "def junta_palabras(*args):\n",
    "    "
   ]
  },
  {
   "cell_type": "markdown",
   "metadata": {},
   "source": [
    "## Ejercicio 8\n",
    "Escribe un programa que calcule la [serie de Fibonacci](https://es.wikipedia.org/wiki/Sucesi%C3%B3n_de_Fibonacci)"
   ]
  },
  {
   "cell_type": "code",
   "execution_count": 58,
   "metadata": {},
   "outputs": [
    {
     "name": "stdout",
     "output_type": "stream",
     "text": [
      "34\n"
     ]
    }
   ],
   "source": [
    "def fibonacci(n):\n",
    "    if n ==1:\n",
    "        return 0\n",
    "    if n == 2:\n",
    "        return 1\n",
    "    else:\n",
    "        return (fibonacci(n-2) + fibonacci(n-1))\n",
    "    \n",
    "print(fibonacci(10)) # Nos devuelve el resultado de fibonacci en la posición 'n', \n",
    "                    #si lo incluimos en lista[]al acenariamostodos"
   ]
  },
  {
   "cell_type": "code",
   "execution_count": 57,
   "metadata": {},
   "outputs": [],
   "source": [
    "#Solución Laura con 'while'\n",
    "def fibonacci(stop):\n",
    "    serie = [0, 1]\n",
    "    while serie[-1] < stop:\n",
    "        serie.append(serie[-1] + serie[-2])\n",
    "    return serie"
   ]
  },
  {
   "cell_type": "code",
   "execution_count": null,
   "metadata": {},
   "outputs": [],
   "source": []
  },
  {
   "cell_type": "markdown",
   "metadata": {},
   "source": [
    "## Ejercicio 9\n",
    "Define en una única celda las siguientes funciones:\n",
    "* Función que calcule el área de un cuadrado\n",
    "* Función que calcule el area de un triángulo\n",
    "* Función que calcule el área de un círculo\n",
    "\n",
    "En otra celda, calcular el area de:\n",
    "* Dos círculos de radio 10 + un triángulo de base 3 y altura 7\n",
    "* Un cuadrado de lado = 10 + 3 círculos (uno de radio = 4 y los otros dos de radio = 6) + 5 triángulos de base = 2 + altura = 4"
   ]
  },
  {
   "cell_type": "code",
   "execution_count": 62,
   "metadata": {},
   "outputs": [],
   "source": [
    "import math as mt"
   ]
  },
  {
   "cell_type": "code",
   "execution_count": 64,
   "metadata": {},
   "outputs": [],
   "source": [
    "\n",
    "def cuadrado (lado):\n",
    "    return lado*lado\n",
    "\n",
    "def triangulo(base,altura):\n",
    "    return (base * altura)\n",
    "\n",
    "def circulo(radio):\n",
    "    return mt.pi * radio"
   ]
  },
  {
   "cell_type": "code",
   "execution_count": 65,
   "metadata": {},
   "outputs": [
    {
     "data": {
      "text/plain": [
       "9.42477796076938"
      ]
     },
     "execution_count": 65,
     "metadata": {},
     "output_type": "execute_result"
    }
   ],
   "source": [
    "circulo(3)"
   ]
  },
  {
   "cell_type": "code",
   "execution_count": null,
   "metadata": {},
   "outputs": [],
   "source": []
  },
  {
   "cell_type": "code",
   "execution_count": null,
   "metadata": {},
   "outputs": [],
   "source": []
  }
 ],
 "metadata": {
  "kernelspec": {
   "display_name": "Python 3",
   "language": "python",
   "name": "python3"
  },
  "language_info": {
   "codemirror_mode": {
    "name": "ipython",
    "version": 3
   },
   "file_extension": ".py",
   "mimetype": "text/x-python",
   "name": "python",
   "nbconvert_exporter": "python",
   "pygments_lexer": "ipython3",
   "version": "3.7.4"
  }
 },
 "nbformat": 4,
 "nbformat_minor": 4
}
